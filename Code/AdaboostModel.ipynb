{
 "cells": [
  {
   "cell_type": "code",
   "execution_count": 178,
   "metadata": {},
   "outputs": [],
   "source": [
    "import pandas as pd\n",
    "import numpy as np\n",
    "from sklearn.ensemble import AdaBoostClassifier\n",
    "from sklearn.metrics import accuracy_score, confusion_matrix, classification_report, recall_score, precision_score\n",
    "from sklearn.metrics import precision_recall_curve\n",
    "from sklearn.preprocessing import LabelEncoder\n",
    "\n",
    "import matplotlib.pyplot as plt"
   ]
  },
  {
   "cell_type": "code",
   "execution_count": 47,
   "metadata": {},
   "outputs": [],
   "source": [
    "column_names=[\n",
    "    'age', 'class', 'ind_code_det', 'occ_code_det', 'education', 'wage_hr', 'enroll_edu', 'marital',\n",
    "    'ind_code_maj', 'occ_code_maj', 'race', 'hisp_origin', 'sex', 'lab_union', 'reason_unemp',\n",
    "    'emp_status', 'cap_gain', 'cap_loss', 'dividend', 'tax_filer_stat', 'prev_res_area', 'prev_res_state',\n",
    "    'fam_state', 'fam_state_sum', 'inst_weight', 'migr_change_msa', 'migr_change_reg', 'migr_move_msa', 'lived_1yr',\n",
    "    'migr_sunbelt', 'num_ppl_worked', 'fam_members_u18', 'birth_dad', 'birth_mom', 'birth_self', 'citizenship',\n",
    "    'employed_status', 'veteran_admin', 'veteran_benefit', 'weeks_worked', 'year', 'income']\n",
    "\n",
    "predictors = [\n",
    "    'age', 'class', 'ind_code_det', 'occ_code_det', 'education', 'wage_hr', 'enroll_edu', 'marital',\n",
    "    'ind_code_maj', 'occ_code_maj', 'race', 'hisp_origin', 'sex', 'lab_union', 'reason_unemp',\n",
    "    'emp_status', 'cap_gain', 'cap_loss', 'dividend', 'tax_filer_stat', 'prev_res_area', 'prev_res_state',\n",
    "    'fam_state', 'fam_state_sum', 'inst_weight', 'migr_change_msa', 'migr_change_reg', 'migr_move_msa', 'lived_1yr',\n",
    "    'migr_sunbelt', 'num_ppl_worked', 'fam_members_u18', 'birth_dad', 'birth_mom', 'birth_self', 'citizenship',\n",
    "    'employed_status', 'veteran_admin', 'veteran_benefit', 'weeks_worked', 'year']\n",
    "\n",
    "categorical_predictors = [\n",
    "    'class', 'ind_code_det', 'occ_code_det', 'education', 'enroll_edu', 'marital',\n",
    "    'ind_code_maj', 'occ_code_maj', 'race', 'hisp_origin', 'sex', 'lab_union', 'reason_unemp',\n",
    "    'emp_status', 'tax_filer_stat', 'prev_res_area', 'prev_res_state',\n",
    "    'fam_state', 'fam_state_sum', 'migr_change_msa', 'migr_change_reg', 'migr_move_msa', 'lived_1yr',\n",
    "    'migr_sunbelt', 'fam_members_u18', 'birth_dad', 'birth_mom', 'birth_self', 'citizenship',\n",
    "    'employed_status', 'veteran_admin', 'veteran_benefit', 'year']\n",
    "\n",
    "def clean_data(data):\n",
    "    data.columns=column_names\n",
    "\n",
    "    le = LabelEncoder()\n",
    "    for pred in categorical_predictors:\n",
    "        data[pred] = le.fit_transform(data[pred])\n",
    "    \n",
    "    data['>50K'] = data['income'].apply(lambda x: 1 if '+' in x else 0)\n",
    "\n",
    "    return data\n"
   ]
  },
  {
   "cell_type": "code",
   "execution_count": 176,
   "metadata": {},
   "outputs": [],
   "source": [
    "def get_metrics(y_test, y_pred):\n",
    "    print(\"confusion_matrix:\")\n",
    "    # print(confusion_matrix(y_test, y_pred))\n",
    "\n",
    "    # Plot confusion matrix, showing the values in each cell\n",
    "    cm = confusion_matrix(y_test, y_pred)\n",
    "    plt.matshow(cm, cmap=plt.cm.Blues)\n",
    "    # Show the values\n",
    "    for x in range(cm.shape[0]):\n",
    "        for y in range(cm.shape[1]):\n",
    "            plt.text(x, y, str(cm[x,y]), va='center', ha='center')\n",
    "\n",
    "    # Set axes\n",
    "    plt.xlabel(\"Predicted label\")\n",
    "    plt.ylabel(\"True label\")\n",
    "\n",
    "    print(f\"Accuracy: {accuracy_score(y_test, y_pred) * 100}%\")\n",
    "    print(f\"Recall: {recall_score(y_test, y_pred) * 100}%\")\n",
    "    print(f\"Precision: {precision_score(y_test, y_pred) * 100}%\")\n",
    "    "
   ]
  },
  {
   "cell_type": "code",
   "execution_count": 154,
   "metadata": {},
   "outputs": [],
   "source": [
    "def find_threshold(y_pred, y_true):\n",
    "    p, r, thresholds = precision_recall_curve(y_true, y_pred)\n",
    "\n",
    "    f1 = 2 * (p[:-1] * r[:-1]) / (p[:-1] + r[:-1])\n",
    "\n",
    "    # Plot the model precision-recall curve\n",
    "\n",
    "    df = pd.DataFrame({'Precision': p[:-1], 'Recall': r[:-1], 'Threshold': thresholds})\n",
    "\n",
    "    # df.set_index('Threshold', inplace=True)\n",
    "\n",
    "    # df[\"Accuracy\"] = df.apply(lambda row: accuracy_score(y_true, y_pred >= row.name), axis=1)\n",
    "\n",
    "    # USe f1 to find thresh\n",
    "    threshold = df.iloc[f1.argmax()]['Threshold']\n",
    "\n",
    "    df.plot(x=\"Threshold\", y=[\"Precision\", \"Recall\"], figsize=(10, 5), grid=True)\n",
    "    # Add a vertical line at the threshold that maximizes F1 score\n",
    "    plt.vlines(threshold, 0, 1, linestyle='--')\n",
    "\n",
    "    return threshold\n"
   ]
  },
  {
   "cell_type": "code",
   "execution_count": 115,
   "metadata": {},
   "outputs": [
    {
     "data": {
      "text/html": [
       "<div>\n",
       "<style scoped>\n",
       "    .dataframe tbody tr th:only-of-type {\n",
       "        vertical-align: middle;\n",
       "    }\n",
       "\n",
       "    .dataframe tbody tr th {\n",
       "        vertical-align: top;\n",
       "    }\n",
       "\n",
       "    .dataframe thead th {\n",
       "        text-align: right;\n",
       "    }\n",
       "</style>\n",
       "<table border=\"1\" class=\"dataframe\">\n",
       "  <thead>\n",
       "    <tr style=\"text-align: right;\">\n",
       "      <th></th>\n",
       "      <th>age</th>\n",
       "      <th>class</th>\n",
       "      <th>ind_code_det</th>\n",
       "      <th>occ_code_det</th>\n",
       "      <th>education</th>\n",
       "      <th>wage_hr</th>\n",
       "      <th>enroll_edu</th>\n",
       "      <th>marital</th>\n",
       "      <th>ind_code_maj</th>\n",
       "      <th>occ_code_maj</th>\n",
       "      <th>...</th>\n",
       "      <th>birth_mom</th>\n",
       "      <th>birth_self</th>\n",
       "      <th>citizenship</th>\n",
       "      <th>employed_status</th>\n",
       "      <th>veteran_admin</th>\n",
       "      <th>veteran_benefit</th>\n",
       "      <th>weeks_worked</th>\n",
       "      <th>year</th>\n",
       "      <th>income</th>\n",
       "      <th>&gt;50K</th>\n",
       "    </tr>\n",
       "  </thead>\n",
       "  <tbody>\n",
       "    <tr>\n",
       "      <th>0</th>\n",
       "      <td>73</td>\n",
       "      <td>3</td>\n",
       "      <td>0</td>\n",
       "      <td>0</td>\n",
       "      <td>12</td>\n",
       "      <td>0</td>\n",
       "      <td>2</td>\n",
       "      <td>6</td>\n",
       "      <td>14</td>\n",
       "      <td>6</td>\n",
       "      <td>...</td>\n",
       "      <td>40</td>\n",
       "      <td>40</td>\n",
       "      <td>4</td>\n",
       "      <td>0</td>\n",
       "      <td>1</td>\n",
       "      <td>2</td>\n",
       "      <td>0</td>\n",
       "      <td>1</td>\n",
       "      <td>- 50000.</td>\n",
       "      <td>0</td>\n",
       "    </tr>\n",
       "    <tr>\n",
       "      <th>1</th>\n",
       "      <td>58</td>\n",
       "      <td>6</td>\n",
       "      <td>4</td>\n",
       "      <td>34</td>\n",
       "      <td>16</td>\n",
       "      <td>0</td>\n",
       "      <td>2</td>\n",
       "      <td>0</td>\n",
       "      <td>4</td>\n",
       "      <td>8</td>\n",
       "      <td>...</td>\n",
       "      <td>40</td>\n",
       "      <td>40</td>\n",
       "      <td>4</td>\n",
       "      <td>0</td>\n",
       "      <td>1</td>\n",
       "      <td>2</td>\n",
       "      <td>52</td>\n",
       "      <td>0</td>\n",
       "      <td>- 50000.</td>\n",
       "      <td>0</td>\n",
       "    </tr>\n",
       "  </tbody>\n",
       "</table>\n",
       "<p>2 rows × 43 columns</p>\n",
       "</div>"
      ],
      "text/plain": [
       "   age  class  ind_code_det  occ_code_det  education  wage_hr  enroll_edu  \\\n",
       "0   73      3             0             0         12        0           2   \n",
       "1   58      6             4            34         16        0           2   \n",
       "\n",
       "   marital  ind_code_maj  occ_code_maj  ...  birth_mom  birth_self  \\\n",
       "0        6            14             6  ...         40          40   \n",
       "1        0             4             8  ...         40          40   \n",
       "\n",
       "   citizenship  employed_status  veteran_admin  veteran_benefit  weeks_worked  \\\n",
       "0            4                0              1                2             0   \n",
       "1            4                0              1                2            52   \n",
       "\n",
       "   year     income  >50K  \n",
       "0     1   - 50000.     0  \n",
       "1     0   - 50000.     0  \n",
       "\n",
       "[2 rows x 43 columns]"
      ]
     },
     "execution_count": 115,
     "metadata": {},
     "output_type": "execute_result"
    }
   ],
   "source": [
    "data = pd.read_csv('../census-income.data',header=None)\n",
    "\n",
    "data = clean_data(data)\n",
    "\n",
    "data.head(2)"
   ]
  },
  {
   "cell_type": "code",
   "execution_count": 116,
   "metadata": {},
   "outputs": [],
   "source": [
    "X = data[predictors]\n",
    "y = data['>50K']"
   ]
  },
  {
   "cell_type": "code",
   "execution_count": 117,
   "metadata": {},
   "outputs": [],
   "source": [
    "#import and prepare test data\n",
    "test = pd.read_csv('../census-income.test',header=None)\n",
    "test.columns=column_names\n",
    "le = LabelEncoder()\n",
    "for pred in categorical_predictors:\n",
    "    test[pred] = le.fit_transform(test[pred])\n",
    "test['>50K'] = test['income'].apply(lambda x: 1 if '+' in x else 0)"
   ]
  },
  {
   "cell_type": "code",
   "execution_count": 118,
   "metadata": {},
   "outputs": [],
   "source": [
    "X_test = test[predictors]\n",
    "y_test = test['>50K']"
   ]
  },
  {
   "cell_type": "code",
   "execution_count": 81,
   "metadata": {},
   "outputs": [
    {
     "data": {
      "text/html": [
       "<style>#sk-container-id-7 {color: black;background-color: white;}#sk-container-id-7 pre{padding: 0;}#sk-container-id-7 div.sk-toggleable {background-color: white;}#sk-container-id-7 label.sk-toggleable__label {cursor: pointer;display: block;width: 100%;margin-bottom: 0;padding: 0.3em;box-sizing: border-box;text-align: center;}#sk-container-id-7 label.sk-toggleable__label-arrow:before {content: \"▸\";float: left;margin-right: 0.25em;color: #696969;}#sk-container-id-7 label.sk-toggleable__label-arrow:hover:before {color: black;}#sk-container-id-7 div.sk-estimator:hover label.sk-toggleable__label-arrow:before {color: black;}#sk-container-id-7 div.sk-toggleable__content {max-height: 0;max-width: 0;overflow: hidden;text-align: left;background-color: #f0f8ff;}#sk-container-id-7 div.sk-toggleable__content pre {margin: 0.2em;color: black;border-radius: 0.25em;background-color: #f0f8ff;}#sk-container-id-7 input.sk-toggleable__control:checked~div.sk-toggleable__content {max-height: 200px;max-width: 100%;overflow: auto;}#sk-container-id-7 input.sk-toggleable__control:checked~label.sk-toggleable__label-arrow:before {content: \"▾\";}#sk-container-id-7 div.sk-estimator input.sk-toggleable__control:checked~label.sk-toggleable__label {background-color: #d4ebff;}#sk-container-id-7 div.sk-label input.sk-toggleable__control:checked~label.sk-toggleable__label {background-color: #d4ebff;}#sk-container-id-7 input.sk-hidden--visually {border: 0;clip: rect(1px 1px 1px 1px);clip: rect(1px, 1px, 1px, 1px);height: 1px;margin: -1px;overflow: hidden;padding: 0;position: absolute;width: 1px;}#sk-container-id-7 div.sk-estimator {font-family: monospace;background-color: #f0f8ff;border: 1px dotted black;border-radius: 0.25em;box-sizing: border-box;margin-bottom: 0.5em;}#sk-container-id-7 div.sk-estimator:hover {background-color: #d4ebff;}#sk-container-id-7 div.sk-parallel-item::after {content: \"\";width: 100%;border-bottom: 1px solid gray;flex-grow: 1;}#sk-container-id-7 div.sk-label:hover label.sk-toggleable__label {background-color: #d4ebff;}#sk-container-id-7 div.sk-serial::before {content: \"\";position: absolute;border-left: 1px solid gray;box-sizing: border-box;top: 0;bottom: 0;left: 50%;z-index: 0;}#sk-container-id-7 div.sk-serial {display: flex;flex-direction: column;align-items: center;background-color: white;padding-right: 0.2em;padding-left: 0.2em;position: relative;}#sk-container-id-7 div.sk-item {position: relative;z-index: 1;}#sk-container-id-7 div.sk-parallel {display: flex;align-items: stretch;justify-content: center;background-color: white;position: relative;}#sk-container-id-7 div.sk-item::before, #sk-container-id-7 div.sk-parallel-item::before {content: \"\";position: absolute;border-left: 1px solid gray;box-sizing: border-box;top: 0;bottom: 0;left: 50%;z-index: -1;}#sk-container-id-7 div.sk-parallel-item {display: flex;flex-direction: column;z-index: 1;position: relative;background-color: white;}#sk-container-id-7 div.sk-parallel-item:first-child::after {align-self: flex-end;width: 50%;}#sk-container-id-7 div.sk-parallel-item:last-child::after {align-self: flex-start;width: 50%;}#sk-container-id-7 div.sk-parallel-item:only-child::after {width: 0;}#sk-container-id-7 div.sk-dashed-wrapped {border: 1px dashed gray;margin: 0 0.4em 0.5em 0.4em;box-sizing: border-box;padding-bottom: 0.4em;background-color: white;}#sk-container-id-7 div.sk-label label {font-family: monospace;font-weight: bold;display: inline-block;line-height: 1.2em;}#sk-container-id-7 div.sk-label-container {text-align: center;}#sk-container-id-7 div.sk-container {/* jupyter's `normalize.less` sets `[hidden] { display: none; }` but bootstrap.min.css set `[hidden] { display: none !important; }` so we also need the `!important` here to be able to override the default hidden behavior on the sphinx rendered scikit-learn.org. See: https://github.com/scikit-learn/scikit-learn/issues/21755 */display: inline-block !important;position: relative;}#sk-container-id-7 div.sk-text-repr-fallback {display: none;}</style><div id=\"sk-container-id-7\" class=\"sk-top-container\"><div class=\"sk-text-repr-fallback\"><pre>AdaBoostClassifier(learning_rate=1, n_estimators=500, random_state=0)</pre><b>In a Jupyter environment, please rerun this cell to show the HTML representation or trust the notebook. <br />On GitHub, the HTML representation is unable to render, please try loading this page with nbviewer.org.</b></div><div class=\"sk-container\" hidden><div class=\"sk-item\"><div class=\"sk-estimator sk-toggleable\"><input class=\"sk-toggleable__control sk-hidden--visually\" id=\"sk-estimator-id-7\" type=\"checkbox\" checked><label for=\"sk-estimator-id-7\" class=\"sk-toggleable__label sk-toggleable__label-arrow\">AdaBoostClassifier</label><div class=\"sk-toggleable__content\"><pre>AdaBoostClassifier(learning_rate=1, n_estimators=500, random_state=0)</pre></div></div></div></div></div>"
      ],
      "text/plain": [
       "AdaBoostClassifier(learning_rate=1, n_estimators=500, random_state=0)"
      ]
     },
     "execution_count": 81,
     "metadata": {},
     "output_type": "execute_result"
    }
   ],
   "source": [
    "# Create a basic AdaBoost classifier to see what can be done without tuning\n",
    "clf = AdaBoostClassifier(n_estimators=500, learning_rate=1, random_state=0)\n",
    "clf.fit(X, y)\n"
   ]
  },
  {
   "cell_type": "code",
   "execution_count": 82,
   "metadata": {},
   "outputs": [],
   "source": [
    "y_pred_proba_train = clf.predict_proba(X)[:, 1]"
   ]
  },
  {
   "cell_type": "code",
   "execution_count": 157,
   "metadata": {},
   "outputs": [
    {
     "data": {
      "text/plain": [
       "0.49956268705873547"
      ]
     },
     "execution_count": 157,
     "metadata": {},
     "output_type": "execute_result"
    },
    {
     "data": {
      "image/png": "[encoded data removed]",
      "text/plain": [
       "<Figure size 1000x500 with 1 Axes>"
      ]
     },
     "metadata": {},
     "output_type": "display_data"
    }
   ],
   "source": [
    "threshold = find_threshold(y_pred_proba_train, y)\n",
    "threshold"
   ]
  },
  {
   "cell_type": "code",
   "execution_count": 181,
   "metadata": {},
   "outputs": [
    {
     "name": "stdout",
     "output_type": "stream",
     "text": [
      "confusion_matrix:\n",
      "Accuracy: 91.28926845893226%\n",
      "Recall: 81.65211768509538%\n",
      "Precision: 40.06822148183405%\n"
     ]
    },
    {
     "data": {
      "image/png": "[encoded data removed]",
      "text/plain": [
       "<Figure size 480x480 with 1 Axes>"
      ]
     },
     "metadata": {},
     "output_type": "display_data"
    }
   ],
   "source": [
    "y_pred_proba_test = clf.predict_proba(X_test)[:, 1]\n",
    "threshold = 0.499\n",
    "y_pred = (y_pred_proba_test > threshold).astype(int)\n",
    "\n",
    "get_metrics(y_test, y_pred)"
   ]
  },
  {
   "cell_type": "code",
   "execution_count": 87,
   "metadata": {},
   "outputs": [
    {
     "name": "stdout",
     "output_type": "stream",
     "text": [
      "Fitting 2 folds for each of 50 candidates, totalling 100 fits\n",
      "[CV] END estimator=DecisionTreeClassifier(max_depth=1), learning_rate=0.75, n_estimators=261; total time=  52.9s\n",
      "[CV] END estimator=DecisionTreeClassifier(max_depth=1), learning_rate=0.75, n_estimators=261; total time=  53.0s\n",
      "[CV] END estimator=DecisionTreeClassifier(max_depth=1), learning_rate=0.1, n_estimators=1000; total time= 3.5min\n",
      "[CV] END estimator=DecisionTreeClassifier(max_depth=1), learning_rate=0.1, n_estimators=1000; total time= 3.5min\n",
      "[CV] END estimator=DecisionTreeClassifier(max_depth=5), learning_rate=0.5, n_estimators=366; total time= 4.6min\n",
      "[CV] END estimator=DecisionTreeClassifier(max_depth=5), learning_rate=0.5, n_estimators=366; total time= 4.6min\n",
      "[CV] END estimator=DecisionTreeClassifier(max_depth=2), learning_rate=0.1, n_estimators=894; total time= 5.1min\n",
      "[CV] END estimator=DecisionTreeClassifier(max_depth=2), learning_rate=0.1, n_estimators=894; total time= 5.1min\n",
      "[CV] END estimator=DecisionTreeClassifier(max_depth=1), learning_rate=0.1, n_estimators=577; total time= 1.9min\n",
      "[CV] END estimator=DecisionTreeClassifier(max_depth=1), learning_rate=0.1, n_estimators=577; total time= 1.9min\n",
      "[CV] END estimator=DecisionTreeClassifier(max_depth=1), learning_rate=0.25, n_estimators=472; total time= 1.6min\n",
      "[CV] END estimator=DecisionTreeClassifier(max_depth=1), learning_rate=0.25, n_estimators=472; total time= 1.6min\n",
      "[CV] END estimator=DecisionTreeClassifier(max_depth=2), learning_rate=1, n_estimators=366; total time= 2.0min\n",
      "[CV] END estimator=DecisionTreeClassifier(max_depth=2), learning_rate=1, n_estimators=366; total time= 2.0min\n",
      "[CV] END estimator=DecisionTreeClassifier(max_depth=5), learning_rate=0.25, n_estimators=577; total time= 7.1min\n",
      "[CV] END estimator=DecisionTreeClassifier(max_depth=5), learning_rate=0.25, n_estimators=577; total time= 7.1min\n",
      "[CV] END estimator=DecisionTreeClassifier(max_depth=2), learning_rate=0.5, n_estimators=366; total time= 2.0min\n",
      "[CV] END estimator=DecisionTreeClassifier(max_depth=2), learning_rate=0.5, n_estimators=366; total time= 2.0min\n",
      "[CV] END estimator=DecisionTreeClassifier(max_depth=2), learning_rate=0.01, n_estimators=894; total time= 4.9min\n",
      "[CV] END estimator=DecisionTreeClassifier(max_depth=2), learning_rate=0.01, n_estimators=894; total time= 5.2min\n",
      "[CV] END estimator=DecisionTreeClassifier(max_depth=2), learning_rate=1, n_estimators=894; total time= 5.5min\n",
      "[CV] END estimator=DecisionTreeClassifier(max_depth=2), learning_rate=1, n_estimators=894; total time= 5.5min\n",
      "[CV] END estimator=DecisionTreeClassifier(max_depth=1), learning_rate=0.75, n_estimators=577; total time= 2.0min\n",
      "[CV] END estimator=DecisionTreeClassifier(max_depth=1), learning_rate=0.75, n_estimators=577; total time= 2.0min\n",
      "[CV] END estimator=DecisionTreeClassifier(max_depth=5), learning_rate=0.25, n_estimators=261; total time= 3.9min\n",
      "[CV] END estimator=DecisionTreeClassifier(max_depth=5), learning_rate=0.25, n_estimators=261; total time= 3.6min\n",
      "[CV] END estimator=DecisionTreeClassifier(max_depth=1), learning_rate=1, n_estimators=155; total time=  31.8s\n",
      "[CV] END estimator=DecisionTreeClassifier(max_depth=1), learning_rate=1, n_estimators=155; total time=  31.6s\n",
      "[CV] END estimator=DecisionTreeClassifier(max_depth=2), learning_rate=0.01, n_estimators=1000; total time= 6.3min\n",
      "[CV] END estimator=DecisionTreeClassifier(max_depth=2), learning_rate=0.01, n_estimators=1000; total time= 6.3min\n",
      "[CV] END estimator=DecisionTreeClassifier(max_depth=1), learning_rate=0.1, n_estimators=683; total time= 2.3min\n",
      "[CV] END estimator=DecisionTreeClassifier(max_depth=1), learning_rate=0.1, n_estimators=683; total time= 2.3min\n",
      "[CV] END estimator=DecisionTreeClassifier(max_depth=1), learning_rate=1, n_estimators=683; total time= 2.5min\n",
      "[CV] END estimator=DecisionTreeClassifier(max_depth=1), learning_rate=1, n_estimators=683; total time= 2.5min\n",
      "[CV] END estimator=DecisionTreeClassifier(max_depth=2), learning_rate=0.5, n_estimators=683; total time= 4.0min\n",
      "[CV] END estimator=DecisionTreeClassifier(max_depth=2), learning_rate=0.5, n_estimators=683; total time= 4.0min\n",
      "[CV] END estimator=DecisionTreeClassifier(max_depth=5), learning_rate=0.01, n_estimators=50; total time=  39.7s\n",
      "[CV] END estimator=DecisionTreeClassifier(max_depth=5), learning_rate=0.01, n_estimators=50; total time=  40.2s\n",
      "[CV] END estimator=DecisionTreeClassifier(max_depth=5), learning_rate=0.5, n_estimators=1000; total time=13.7min\n",
      "[CV] END estimator=DecisionTreeClassifier(max_depth=5), learning_rate=0.5, n_estimators=1000; total time=13.8min\n",
      "[CV] END estimator=DecisionTreeClassifier(max_depth=1), learning_rate=0.5, n_estimators=50; total time=  10.6s\n",
      "[CV] END estimator=DecisionTreeClassifier(max_depth=1), learning_rate=0.5, n_estimators=50; total time=  10.6s\n",
      "[CV] END estimator=DecisionTreeClassifier(max_depth=5), learning_rate=0.01, n_estimators=577; total time= 7.7min\n",
      "[CV] END estimator=DecisionTreeClassifier(max_depth=5), learning_rate=0.01, n_estimators=577; total time= 7.8min\n",
      "[CV] END estimator=DecisionTreeClassifier(max_depth=2), learning_rate=0.5, n_estimators=788; total time= 4.8min\n",
      "[CV] END estimator=DecisionTreeClassifier(max_depth=2), learning_rate=0.5, n_estimators=788; total time= 4.9min\n",
      "[CV] END estimator=DecisionTreeClassifier(max_depth=2), learning_rate=0.01, n_estimators=50; total time=  17.5s\n",
      "[CV] END estimator=DecisionTreeClassifier(max_depth=2), learning_rate=0.01, n_estimators=50; total time=  17.5s\n",
      "[CV] END estimator=DecisionTreeClassifier(max_depth=5), learning_rate=0.25, n_estimators=366; total time= 5.0min\n",
      "[CV] END estimator=DecisionTreeClassifier(max_depth=1), learning_rate=0.01, n_estimators=1000; total time= 3.5min\n",
      "[CV] END estimator=DecisionTreeClassifier(max_depth=5), learning_rate=0.25, n_estimators=366; total time= 4.9min\n",
      "[CV] END estimator=DecisionTreeClassifier(max_depth=1), learning_rate=0.01, n_estimators=1000; total time= 3.5min\n",
      "[CV] END estimator=DecisionTreeClassifier(max_depth=5), learning_rate=1, n_estimators=261; total time= 3.4min\n",
      "[CV] END estimator=DecisionTreeClassifier(max_depth=5), learning_rate=1, n_estimators=261; total time= 3.4min\n",
      "[CV] END estimator=DecisionTreeClassifier(max_depth=1), learning_rate=0.1, n_estimators=894; total time= 3.1min\n",
      "[CV] END estimator=DecisionTreeClassifier(max_depth=1), learning_rate=0.1, n_estimators=894; total time= 3.1min\n",
      "[CV] END estimator=DecisionTreeClassifier(max_depth=1), learning_rate=1, n_estimators=577; total time= 2.0min\n",
      "[CV] END estimator=DecisionTreeClassifier(max_depth=1), learning_rate=1, n_estimators=577; total time= 2.1min\n",
      "[CV] END estimator=DecisionTreeClassifier(max_depth=5), learning_rate=0.25, n_estimators=50; total time=  38.0s\n",
      "[CV] END estimator=DecisionTreeClassifier(max_depth=5), learning_rate=0.25, n_estimators=50; total time=  37.0s\n",
      "[CV] END estimator=DecisionTreeClassifier(max_depth=5), learning_rate=1, n_estimators=366; total time= 4.7min\n",
      "[CV] END estimator=DecisionTreeClassifier(max_depth=5), learning_rate=1, n_estimators=366; total time= 4.7min\n",
      "[CV] END estimator=DecisionTreeClassifier(max_depth=2), learning_rate=0.75, n_estimators=1000; total time= 5.7min\n",
      "[CV] END estimator=DecisionTreeClassifier(max_depth=2), learning_rate=0.75, n_estimators=1000; total time= 5.8min\n",
      "[CV] END estimator=DecisionTreeClassifier(max_depth=2), learning_rate=0.01, n_estimators=683; total time= 4.2min\n",
      "[CV] END estimator=DecisionTreeClassifier(max_depth=2), learning_rate=0.01, n_estimators=683; total time= 4.2min\n",
      "[CV] END estimator=DecisionTreeClassifier(max_depth=1), learning_rate=0.25, n_estimators=1000; total time= 3.5min\n",
      "[CV] END estimator=DecisionTreeClassifier(max_depth=1), learning_rate=0.25, n_estimators=1000; total time= 3.5min\n",
      "[CV] END estimator=DecisionTreeClassifier(max_depth=5), learning_rate=0.25, n_estimators=894; total time=11.2min\n",
      "[CV] END estimator=DecisionTreeClassifier(max_depth=5), learning_rate=0.25, n_estimators=894; total time=11.2min\n",
      "[CV] END estimator=DecisionTreeClassifier(max_depth=5), learning_rate=0.01, n_estimators=683; total time= 8.3min\n",
      "[CV] END estimator=DecisionTreeClassifier(max_depth=2), learning_rate=0.01, n_estimators=577; total time= 2.8min\n",
      "[CV] END estimator=DecisionTreeClassifier(max_depth=5), learning_rate=0.01, n_estimators=683; total time= 8.2min\n",
      "[CV] END estimator=DecisionTreeClassifier(max_depth=2), learning_rate=0.01, n_estimators=577; total time= 2.8min\n",
      "[CV] END estimator=DecisionTreeClassifier(max_depth=2), learning_rate=1, n_estimators=788; total time= 3.8min\n",
      "[CV] END estimator=DecisionTreeClassifier(max_depth=1), learning_rate=0.5, n_estimators=155; total time=  28.1s\n",
      "[CV] END estimator=DecisionTreeClassifier(max_depth=2), learning_rate=1, n_estimators=788; total time= 3.8min\n",
      "[CV] END estimator=DecisionTreeClassifier(max_depth=1), learning_rate=0.5, n_estimators=155; total time=  28.3s\n",
      "[CV] END estimator=DecisionTreeClassifier(max_depth=1), learning_rate=0.75, n_estimators=155; total time=  27.2s\n",
      "[CV] END estimator=DecisionTreeClassifier(max_depth=1), learning_rate=0.75, n_estimators=155; total time=  27.4s\n",
      "[CV] END estimator=DecisionTreeClassifier(max_depth=1), learning_rate=0.1, n_estimators=261; total time=  46.4s\n",
      "[CV] END estimator=DecisionTreeClassifier(max_depth=1), learning_rate=0.1, n_estimators=261; total time=  47.0s\n",
      "[CV] END estimator=DecisionTreeClassifier(max_depth=2), learning_rate=0.75, n_estimators=50; total time=  14.7s\n",
      "[CV] END estimator=DecisionTreeClassifier(max_depth=2), learning_rate=0.75, n_estimators=50; total time=  14.6s\n",
      "[CV] END estimator=DecisionTreeClassifier(max_depth=5), learning_rate=0.75, n_estimators=155; total time= 1.6min\n",
      "[CV] END estimator=DecisionTreeClassifier(max_depth=5), learning_rate=0.75, n_estimators=155; total time= 1.6min\n",
      "[CV] END estimator=DecisionTreeClassifier(max_depth=2), learning_rate=0.01, n_estimators=788; total time= 3.8min\n",
      "[CV] END estimator=DecisionTreeClassifier(max_depth=2), learning_rate=0.5, n_estimators=50; total time=  15.0s\n",
      "[CV] END estimator=DecisionTreeClassifier(max_depth=2), learning_rate=0.01, n_estimators=788; total time= 3.8min\n",
      "[CV] END estimator=DecisionTreeClassifier(max_depth=2), learning_rate=0.5, n_estimators=50; total time=  15.1s\n",
      "[CV] END estimator=DecisionTreeClassifier(max_depth=5), learning_rate=0.1, n_estimators=261; total time= 2.9min\n",
      "[CV] END estimator=DecisionTreeClassifier(max_depth=5), learning_rate=0.1, n_estimators=261; total time= 2.9min\n",
      "[CV] END estimator=DecisionTreeClassifier(max_depth=1), learning_rate=0.5, n_estimators=894; total time= 2.9min\n",
      "[CV] END estimator=DecisionTreeClassifier(max_depth=1), learning_rate=0.5, n_estimators=894; total time= 2.9min\n",
      "[CV] END estimator=DecisionTreeClassifier(max_depth=5), learning_rate=0.01, n_estimators=472; total time= 5.4min\n",
      "[CV] END estimator=DecisionTreeClassifier(max_depth=5), learning_rate=0.01, n_estimators=472; total time= 5.4min\n",
      "[CV] END estimator=DecisionTreeClassifier(max_depth=2), learning_rate=1, n_estimators=577; total time= 2.6min\n",
      "[CV] END estimator=DecisionTreeClassifier(max_depth=2), learning_rate=1, n_estimators=577; total time= 2.6min\n",
      "[CV] END estimator=DecisionTreeClassifier(max_depth=5), learning_rate=0.75, n_estimators=1000; total time= 7.7min\n",
      "[CV] END estimator=DecisionTreeClassifier(max_depth=5), learning_rate=0.75, n_estimators=1000; total time= 7.6min\n"
     ]
    },
    {
     "data": {
      "text/plain": [
       "{'n_estimators': 366,\n",
       " 'learning_rate': 0.5,\n",
       " 'estimator': DecisionTreeClassifier(max_depth=2)}"
      ]
     },
     "execution_count": 87,
     "metadata": {},
     "output_type": "execute_result"
    }
   ],
   "source": [
    "# Tune hyperparameters for AdaBoost using random grid search\n",
    "from sklearn.model_selection import RandomizedSearchCV\n",
    "from sklearn.tree import DecisionTreeClassifier\n",
    "\n",
    "# Number of trees in random forest\n",
    "n_estimators = [int(x) for x in np.linspace(start = 50, stop = 1000, num = 10)]\n",
    "\n",
    "# Learning rate\n",
    "learning_rate = [0.01, 0.1, 0.25, 0.5, 0.75, 1]\n",
    "\n",
    "base_estimators = [DecisionTreeClassifier(max_depth=1), DecisionTreeClassifier(max_depth=2), DecisionTreeClassifier(max_depth=5)]\n",
    "\n",
    "# Create the random grid\n",
    "random_grid = {'n_estimators': n_estimators,\n",
    "                'learning_rate': learning_rate,\n",
    "                'estimator': base_estimators}\n",
    "\n",
    "# Use the random grid to search for best hyperparameters\n",
    "# First create the base model to tune\n",
    "clf_tuned = AdaBoostClassifier()\n",
    "\n",
    "# Random search of parameters\n",
    "\n",
    "\n",
    "clf_random = RandomizedSearchCV(estimator = clf_tuned, \n",
    "                                param_distributions = random_grid, \n",
    "                                n_iter = 50, \n",
    "                                cv = 2, \n",
    "                                verbose=2, \n",
    "                                random_state=42, \n",
    "                                n_jobs = -1)\n",
    "\n",
    "# Fit the random search model\n",
    "clf_random.fit(X, y)\n",
    "\n",
    "clf_random.best_params_"
   ]
  },
  {
   "cell_type": "code",
   "execution_count": 88,
   "metadata": {},
   "outputs": [
    {
     "data": {
      "text/plain": [
       "{'n_estimators': 366,\n",
       " 'learning_rate': 0.5,\n",
       " 'estimator': DecisionTreeClassifier(max_depth=2)}"
      ]
     },
     "execution_count": 88,
     "metadata": {},
     "output_type": "execute_result"
    }
   ],
   "source": [
    "clf_random.best_params_"
   ]
  },
  {
   "cell_type": "code",
   "execution_count": 105,
   "metadata": {},
   "outputs": [
    {
     "data": {
      "text/html": [
       "<style>#sk-container-id-11 {color: black;background-color: white;}#sk-container-id-11 pre{padding: 0;}#sk-container-id-11 div.sk-toggleable {background-color: white;}#sk-container-id-11 label.sk-toggleable__label {cursor: pointer;display: block;width: 100%;margin-bottom: 0;padding: 0.3em;box-sizing: border-box;text-align: center;}#sk-container-id-11 label.sk-toggleable__label-arrow:before {content: \"▸\";float: left;margin-right: 0.25em;color: #696969;}#sk-container-id-11 label.sk-toggleable__label-arrow:hover:before {color: black;}#sk-container-id-11 div.sk-estimator:hover label.sk-toggleable__label-arrow:before {color: black;}#sk-container-id-11 div.sk-toggleable__content {max-height: 0;max-width: 0;overflow: hidden;text-align: left;background-color: #f0f8ff;}#sk-container-id-11 div.sk-toggleable__content pre {margin: 0.2em;color: black;border-radius: 0.25em;background-color: #f0f8ff;}#sk-container-id-11 input.sk-toggleable__control:checked~div.sk-toggleable__content {max-height: 200px;max-width: 100%;overflow: auto;}#sk-container-id-11 input.sk-toggleable__control:checked~label.sk-toggleable__label-arrow:before {content: \"▾\";}#sk-container-id-11 div.sk-estimator input.sk-toggleable__control:checked~label.sk-toggleable__label {background-color: #d4ebff;}#sk-container-id-11 div.sk-label input.sk-toggleable__control:checked~label.sk-toggleable__label {background-color: #d4ebff;}#sk-container-id-11 input.sk-hidden--visually {border: 0;clip: rect(1px 1px 1px 1px);clip: rect(1px, 1px, 1px, 1px);height: 1px;margin: -1px;overflow: hidden;padding: 0;position: absolute;width: 1px;}#sk-container-id-11 div.sk-estimator {font-family: monospace;background-color: #f0f8ff;border: 1px dotted black;border-radius: 0.25em;box-sizing: border-box;margin-bottom: 0.5em;}#sk-container-id-11 div.sk-estimator:hover {background-color: #d4ebff;}#sk-container-id-11 div.sk-parallel-item::after {content: \"\";width: 100%;border-bottom: 1px solid gray;flex-grow: 1;}#sk-container-id-11 div.sk-label:hover label.sk-toggleable__label {background-color: #d4ebff;}#sk-container-id-11 div.sk-serial::before {content: \"\";position: absolute;border-left: 1px solid gray;box-sizing: border-box;top: 0;bottom: 0;left: 50%;z-index: 0;}#sk-container-id-11 div.sk-serial {display: flex;flex-direction: column;align-items: center;background-color: white;padding-right: 0.2em;padding-left: 0.2em;position: relative;}#sk-container-id-11 div.sk-item {position: relative;z-index: 1;}#sk-container-id-11 div.sk-parallel {display: flex;align-items: stretch;justify-content: center;background-color: white;position: relative;}#sk-container-id-11 div.sk-item::before, #sk-container-id-11 div.sk-parallel-item::before {content: \"\";position: absolute;border-left: 1px solid gray;box-sizing: border-box;top: 0;bottom: 0;left: 50%;z-index: -1;}#sk-container-id-11 div.sk-parallel-item {display: flex;flex-direction: column;z-index: 1;position: relative;background-color: white;}#sk-container-id-11 div.sk-parallel-item:first-child::after {align-self: flex-end;width: 50%;}#sk-container-id-11 div.sk-parallel-item:last-child::after {align-self: flex-start;width: 50%;}#sk-container-id-11 div.sk-parallel-item:only-child::after {width: 0;}#sk-container-id-11 div.sk-dashed-wrapped {border: 1px dashed gray;margin: 0 0.4em 0.5em 0.4em;box-sizing: border-box;padding-bottom: 0.4em;background-color: white;}#sk-container-id-11 div.sk-label label {font-family: monospace;font-weight: bold;display: inline-block;line-height: 1.2em;}#sk-container-id-11 div.sk-label-container {text-align: center;}#sk-container-id-11 div.sk-container {/* jupyter's `normalize.less` sets `[hidden] { display: none; }` but bootstrap.min.css set `[hidden] { display: none !important; }` so we also need the `!important` here to be able to override the default hidden behavior on the sphinx rendered scikit-learn.org. See: https://github.com/scikit-learn/scikit-learn/issues/21755 */display: inline-block !important;position: relative;}#sk-container-id-11 div.sk-text-repr-fallback {display: none;}</style><div id=\"sk-container-id-11\" class=\"sk-top-container\"><div class=\"sk-text-repr-fallback\"><pre>AdaBoostClassifier(estimator=DecisionTreeClassifier(max_depth=5),\n",
       "                   learning_rate=1, n_estimators=515)</pre><b>In a Jupyter environment, please rerun this cell to show the HTML representation or trust the notebook. <br />On GitHub, the HTML representation is unable to render, please try loading this page with nbviewer.org.</b></div><div class=\"sk-container\" hidden><div class=\"sk-item sk-dashed-wrapped\"><div class=\"sk-label-container\"><div class=\"sk-label sk-toggleable\"><input class=\"sk-toggleable__control sk-hidden--visually\" id=\"sk-estimator-id-17\" type=\"checkbox\" ><label for=\"sk-estimator-id-17\" class=\"sk-toggleable__label sk-toggleable__label-arrow\">AdaBoostClassifier</label><div class=\"sk-toggleable__content\"><pre>AdaBoostClassifier(estimator=DecisionTreeClassifier(max_depth=5),\n",
       "                   learning_rate=1, n_estimators=515)</pre></div></div></div><div class=\"sk-parallel\"><div class=\"sk-parallel-item\"><div class=\"sk-item\"><div class=\"sk-label-container\"><div class=\"sk-label sk-toggleable\"><input class=\"sk-toggleable__control sk-hidden--visually\" id=\"sk-estimator-id-18\" type=\"checkbox\" ><label for=\"sk-estimator-id-18\" class=\"sk-toggleable__label sk-toggleable__label-arrow\">estimator: DecisionTreeClassifier</label><div class=\"sk-toggleable__content\"><pre>DecisionTreeClassifier(max_depth=5)</pre></div></div></div><div class=\"sk-serial\"><div class=\"sk-item\"><div class=\"sk-estimator sk-toggleable\"><input class=\"sk-toggleable__control sk-hidden--visually\" id=\"sk-estimator-id-19\" type=\"checkbox\" ><label for=\"sk-estimator-id-19\" class=\"sk-toggleable__label sk-toggleable__label-arrow\">DecisionTreeClassifier</label><div class=\"sk-toggleable__content\"><pre>DecisionTreeClassifier(max_depth=5)</pre></div></div></div></div></div></div></div></div></div></div>"
      ],
      "text/plain": [
       "AdaBoostClassifier(estimator=DecisionTreeClassifier(max_depth=5),\n",
       "                   learning_rate=1, n_estimators=515)"
      ]
     },
     "execution_count": 105,
     "metadata": {},
     "output_type": "execute_result"
    }
   ],
   "source": [
    "tuned_clf2 = AdaBoostClassifier(n_estimators=515, learning_rate=1, estimator=DecisionTreeClassifier(max_depth=5))\n",
    "\n",
    "tuned_clf2.fit(X, y)"
   ]
  },
  {
   "cell_type": "code",
   "execution_count": 140,
   "metadata": {},
   "outputs": [
    {
     "data": {
      "text/plain": [
       "0.49748743718592964"
      ]
     },
     "execution_count": 140,
     "metadata": {},
     "output_type": "execute_result"
    },
    {
     "data": {
      "image/png": "[encoded data removed]",
      "text/plain": [
       "<Figure size 1000x500 with 1 Axes>"
      ]
     },
     "metadata": {},
     "output_type": "display_data"
    }
   ],
   "source": [
    "tuned_clf2_proba_train = tuned_clf2.predict_proba(X)[:, 1]\n",
    "\n",
    "threshold_2 = find_threshold(tuned_clf2_proba_train, y)\n",
    "\n",
    "tuned_clf2_proba_test = tuned_clf2.predict_proba(X_test)[:, 1]\n",
    "tuned_clf2_pred = (tuned_clf2_proba_test > threshold_2).astype(int)\n",
    "\n",
    "threshold_2"
   ]
  },
  {
   "cell_type": "code",
   "execution_count": 141,
   "metadata": {},
   "outputs": [
    {
     "name": "stdout",
     "output_type": "stream",
     "text": [
      "confusion_matrix:\n",
      "[[87810  5766]\n",
      " [ 2484  3702]]\n",
      "Accuracy: 91.73031815721417%\n",
      "Recall: 59.84481086323957%\n"
     ]
    }
   ],
   "source": [
    "get_metrics(y_test, tuned_clf2_pred)"
   ]
  },
  {
   "cell_type": "code",
   "execution_count": null,
   "metadata": {},
   "outputs": [],
   "source": []
  }
 ],
 "metadata": {
  "kernelspec": {
   "display_name": "Python 3",
   "language": "python",
   "name": "python3"
  },
  "language_info": {
   "codemirror_mode": {
    "name": "ipython",
    "version": 3
   },
   "file_extension": ".py",
   "mimetype": "text/x-python",
   "name": "python",
   "nbconvert_exporter": "python",
   "pygments_lexer": "ipython3",
   "version": "3.10.9"
  },
  "orig_nbformat": 4
 },
 "nbformat": 4,
 "nbformat_minor": 2
}
