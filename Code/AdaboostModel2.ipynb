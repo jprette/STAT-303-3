{
 "cells": [
  {
   "cell_type": "code",
   "execution_count": 2,
   "metadata": {},
   "outputs": [],
   "source": [
    "import pandas as pd\n",
    "import numpy as np\n",
    "from sklearn.ensemble import AdaBoostClassifier\n",
    "from sklearn.metrics import accuracy_score, confusion_matrix, classification_report, recall_score, precision_score\n",
    "from sklearn.metrics import precision_recall_curve\n",
    "from sklearn.preprocessing import LabelEncoder\n",
    "\n",
    "import matplotlib.pyplot as plt"
   ]
  },
  {
   "cell_type": "code",
   "execution_count": 3,
   "metadata": {},
   "outputs": [],
   "source": [
    "column_names=[\n",
    "    'age', 'class', 'ind_code_det', 'occ_code_det', 'education', 'wage_hr', 'enroll_edu', 'marital',\n",
    "    'ind_code_maj', 'occ_code_maj', 'race', 'hisp_origin', 'sex', 'lab_union', 'reason_unemp',\n",
    "    'emp_status', 'cap_gain', 'cap_loss', 'dividend', 'tax_filer_stat', 'prev_res_area', 'prev_res_state',\n",
    "    'fam_state', 'fam_state_sum', 'inst_weight', 'migr_change_msa', 'migr_change_reg', 'migr_move_msa', 'lived_1yr',\n",
    "    'migr_sunbelt', 'num_ppl_worked', 'fam_members_u18', 'birth_dad', 'birth_mom', 'birth_self', 'citizenship',\n",
    "    'employed_status', 'veteran_admin', 'veteran_benefit', 'weeks_worked', 'year', 'income']\n",
    "\n",
    "predictors = [\n",
    "    'age', 'class', 'ind_code_det', 'occ_code_det', 'education', 'wage_hr', 'enroll_edu', 'marital',\n",
    "    'ind_code_maj', 'occ_code_maj', 'race', 'hisp_origin', 'sex', 'lab_union', 'reason_unemp',\n",
    "    'emp_status', 'cap_gain', 'cap_loss', 'dividend', 'tax_filer_stat', 'prev_res_area', 'prev_res_state',\n",
    "    'fam_state', 'fam_state_sum', 'inst_weight', 'migr_change_msa', 'migr_change_reg', 'migr_move_msa', 'lived_1yr',\n",
    "    'migr_sunbelt', 'num_ppl_worked', 'fam_members_u18', 'birth_dad', 'birth_mom', 'birth_self', 'citizenship',\n",
    "    'employed_status', 'veteran_admin', 'veteran_benefit', 'weeks_worked', 'year']\n",
    "\n",
    "categorical_predictors = [\n",
    "    'class', 'ind_code_det', 'occ_code_det', 'education', 'enroll_edu', 'marital',\n",
    "    'ind_code_maj', 'occ_code_maj', 'race', 'hisp_origin', 'sex', 'lab_union', 'reason_unemp',\n",
    "    'emp_status', 'tax_filer_stat', 'prev_res_area', 'prev_res_state',\n",
    "    'fam_state', 'fam_state_sum', 'migr_change_msa', 'migr_change_reg', 'migr_move_msa', 'lived_1yr',\n",
    "    'migr_sunbelt', 'fam_members_u18', 'birth_dad', 'birth_mom', 'birth_self', 'citizenship',\n",
    "    'employed_status', 'veteran_admin', 'veteran_benefit', 'year']\n"
   ]
  },
  {
   "cell_type": "code",
   "execution_count": 4,
   "metadata": {},
   "outputs": [],
   "source": [
    "def get_metrics(y_test, y_pred):\n",
    "    print(\"confusion_matrix:\")\n",
    "    # print(confusion_matrix(y_test, y_pred))\n",
    "\n",
    "    # Plot confusion matrix, showing the values in each cell\n",
    "    cm = confusion_matrix(y_test, y_pred)\n",
    "    plt.matshow(cm, cmap=plt.cm.Blues)\n",
    "    # Show the values\n",
    "    for x in range(cm.shape[0]):\n",
    "        for y in range(cm.shape[1]):\n",
    "            plt.text(x, y, str(cm[x,y]), va='center', ha='center')\n",
    "\n",
    "    # Set axes\n",
    "    plt.xlabel(\"Predicted label\")\n",
    "    plt.ylabel(\"True label\")\n",
    "\n",
    "    print(f\"Accuracy: {accuracy_score(y_test, y_pred) * 100}%\")\n",
    "    print(f\"Recall: {recall_score(y_test, y_pred) * 100}%\")\n",
    "    print(f\"Precision: {precision_score(y_test, y_pred) * 100}%\")\n",
    "    "
   ]
  },
  {
   "cell_type": "code",
   "execution_count": 5,
   "metadata": {},
   "outputs": [],
   "source": [
    "def find_threshold(y_pred, y_true):\n",
    "    p, r, thresholds = precision_recall_curve(y_true, y_pred)\n",
    "\n",
    "    f1 = 2 * (p[:-1] * r[:-1]) / (p[:-1] + r[:-1])\n",
    "\n",
    "    # Plot the model precision-recall curve\n",
    "\n",
    "    df = pd.DataFrame({'Precision': p[:-1], 'Recall': r[:-1], 'Threshold': thresholds})\n",
    "\n",
    "    # df.set_index('Threshold', inplace=True)\n",
    "\n",
    "    # df[\"Accuracy\"] = df.apply(lambda row: accuracy_score(y_true, y_pred >= row.name), axis=1)\n",
    "\n",
    "    # USe f1 to find thresh\n",
    "    threshold = df.iloc[f1.argmax()]['Threshold']\n",
    "\n",
    "    df.plot(x=\"Threshold\", y=[\"Precision\", \"Recall\"], figsize=(10, 5), grid=True)\n",
    "    # Add a vertical line at the threshold that maximizes F1 score\n",
    "    plt.vlines(threshold, 0, 1, linestyle='--')\n",
    "\n",
    "    return threshold\n"
   ]
  },
  {
   "cell_type": "code",
   "execution_count": 6,
   "metadata": {},
   "outputs": [],
   "source": [
    "train_data = pd.read_csv('../census-income.data',header=None)\n",
    "\n",
    "test_data = pd.read_csv('../census-income.test',header=None)\n",
    "\n",
    "# Add a column for 'test'\n",
    "test_data['test'] = 1\n",
    "train_data['test'] = 0\n",
    "\n",
    "# Concatenate the dataframes\n",
    "\n",
    "data = pd.concat([train_data, test_data])\n",
    "\n",
    "data.dropna(inplace=True)\n",
    "\n",
    "data.columns=column_names + ['test']\n",
    "\n",
    "data['>50K'] = data['income'].apply(lambda x: 1 if '+' in x else 0)\n",
    "\n",
    "# Use get dummies to convert categorical variables to binary\n",
    "\n",
    "data = pd.get_dummies(data, columns=categorical_predictors)\n",
    "\n",
    "# Update the predictors list\n",
    "all_cols = set(data.columns)\n",
    "\n",
    "non_predictors = set(column_names) - set(predictors)\n",
    "\n",
    "predictors = list(all_cols - non_predictors - set(['test', 'income', '>50K'])) \n",
    "\n",
    "# Split the data back into train and test\n",
    "train_data = data.loc[data['test'] == 0]\n",
    "test_data = data.loc[data['test'] == 1]\n",
    "\n",
    "# Drop the test column\n",
    "train_data = train_data.drop('test', axis=1)\n",
    "test_data = test_data.drop('test', axis=1)\n",
    "\n",
    "# Split the data into X and y\n",
    "X_train = train_data[predictors]\n",
    "y_train = train_data['>50K']\n",
    "\n",
    "X_test = test_data[predictors]\n",
    "y_test = test_data['>50K']"
   ]
  },
  {
   "cell_type": "code",
   "execution_count": 7,
   "metadata": {},
   "outputs": [
    {
     "data": {
      "text/plain": [
       "0    93576\n",
       "1     6186\n",
       "Name: >50K, dtype: int64"
      ]
     },
     "execution_count": 7,
     "metadata": {},
     "output_type": "execute_result"
    }
   ],
   "source": [
    "y_test.value_counts()"
   ]
  },
  {
   "cell_type": "code",
   "execution_count": 8,
   "metadata": {},
   "outputs": [
    {
     "data": {
      "text/html": [
       "<style>#sk-container-id-1 {color: black;background-color: white;}#sk-container-id-1 pre{padding: 0;}#sk-container-id-1 div.sk-toggleable {background-color: white;}#sk-container-id-1 label.sk-toggleable__label {cursor: pointer;display: block;width: 100%;margin-bottom: 0;padding: 0.3em;box-sizing: border-box;text-align: center;}#sk-container-id-1 label.sk-toggleable__label-arrow:before {content: \"▸\";float: left;margin-right: 0.25em;color: #696969;}#sk-container-id-1 label.sk-toggleable__label-arrow:hover:before {color: black;}#sk-container-id-1 div.sk-estimator:hover label.sk-toggleable__label-arrow:before {color: black;}#sk-container-id-1 div.sk-toggleable__content {max-height: 0;max-width: 0;overflow: hidden;text-align: left;background-color: #f0f8ff;}#sk-container-id-1 div.sk-toggleable__content pre {margin: 0.2em;color: black;border-radius: 0.25em;background-color: #f0f8ff;}#sk-container-id-1 input.sk-toggleable__control:checked~div.sk-toggleable__content {max-height: 200px;max-width: 100%;overflow: auto;}#sk-container-id-1 input.sk-toggleable__control:checked~label.sk-toggleable__label-arrow:before {content: \"▾\";}#sk-container-id-1 div.sk-estimator input.sk-toggleable__control:checked~label.sk-toggleable__label {background-color: #d4ebff;}#sk-container-id-1 div.sk-label input.sk-toggleable__control:checked~label.sk-toggleable__label {background-color: #d4ebff;}#sk-container-id-1 input.sk-hidden--visually {border: 0;clip: rect(1px 1px 1px 1px);clip: rect(1px, 1px, 1px, 1px);height: 1px;margin: -1px;overflow: hidden;padding: 0;position: absolute;width: 1px;}#sk-container-id-1 div.sk-estimator {font-family: monospace;background-color: #f0f8ff;border: 1px dotted black;border-radius: 0.25em;box-sizing: border-box;margin-bottom: 0.5em;}#sk-container-id-1 div.sk-estimator:hover {background-color: #d4ebff;}#sk-container-id-1 div.sk-parallel-item::after {content: \"\";width: 100%;border-bottom: 1px solid gray;flex-grow: 1;}#sk-container-id-1 div.sk-label:hover label.sk-toggleable__label {background-color: #d4ebff;}#sk-container-id-1 div.sk-serial::before {content: \"\";position: absolute;border-left: 1px solid gray;box-sizing: border-box;top: 0;bottom: 0;left: 50%;z-index: 0;}#sk-container-id-1 div.sk-serial {display: flex;flex-direction: column;align-items: center;background-color: white;padding-right: 0.2em;padding-left: 0.2em;position: relative;}#sk-container-id-1 div.sk-item {position: relative;z-index: 1;}#sk-container-id-1 div.sk-parallel {display: flex;align-items: stretch;justify-content: center;background-color: white;position: relative;}#sk-container-id-1 div.sk-item::before, #sk-container-id-1 div.sk-parallel-item::before {content: \"\";position: absolute;border-left: 1px solid gray;box-sizing: border-box;top: 0;bottom: 0;left: 50%;z-index: -1;}#sk-container-id-1 div.sk-parallel-item {display: flex;flex-direction: column;z-index: 1;position: relative;background-color: white;}#sk-container-id-1 div.sk-parallel-item:first-child::after {align-self: flex-end;width: 50%;}#sk-container-id-1 div.sk-parallel-item:last-child::after {align-self: flex-start;width: 50%;}#sk-container-id-1 div.sk-parallel-item:only-child::after {width: 0;}#sk-container-id-1 div.sk-dashed-wrapped {border: 1px dashed gray;margin: 0 0.4em 0.5em 0.4em;box-sizing: border-box;padding-bottom: 0.4em;background-color: white;}#sk-container-id-1 div.sk-label label {font-family: monospace;font-weight: bold;display: inline-block;line-height: 1.2em;}#sk-container-id-1 div.sk-label-container {text-align: center;}#sk-container-id-1 div.sk-container {/* jupyter's `normalize.less` sets `[hidden] { display: none; }` but bootstrap.min.css set `[hidden] { display: none !important; }` so we also need the `!important` here to be able to override the default hidden behavior on the sphinx rendered scikit-learn.org. See: https://github.com/scikit-learn/scikit-learn/issues/21755 */display: inline-block !important;position: relative;}#sk-container-id-1 div.sk-text-repr-fallback {display: none;}</style><div id=\"sk-container-id-1\" class=\"sk-top-container\"><div class=\"sk-text-repr-fallback\"><pre>AdaBoostClassifier(learning_rate=0.6, n_estimators=250, random_state=0)</pre><b>In a Jupyter environment, please rerun this cell to show the HTML representation or trust the notebook. <br />On GitHub, the HTML representation is unable to render, please try loading this page with nbviewer.org.</b></div><div class=\"sk-container\" hidden><div class=\"sk-item\"><div class=\"sk-estimator sk-toggleable\"><input class=\"sk-toggleable__control sk-hidden--visually\" id=\"sk-estimator-id-1\" type=\"checkbox\" checked><label for=\"sk-estimator-id-1\" class=\"sk-toggleable__label sk-toggleable__label-arrow\">AdaBoostClassifier</label><div class=\"sk-toggleable__content\"><pre>AdaBoostClassifier(learning_rate=0.6, n_estimators=250, random_state=0)</pre></div></div></div></div></div>"
      ],
      "text/plain": [
       "AdaBoostClassifier(learning_rate=0.6, n_estimators=250, random_state=0)"
      ]
     },
     "execution_count": 8,
     "metadata": {},
     "output_type": "execute_result"
    }
   ],
   "source": [
    "# Train an ADABoost model\n",
    "ada = AdaBoostClassifier(n_estimators=250, random_state=0, learning_rate=0.6)\n",
    "\n",
    "ada.fit(X_train, y_train)"
   ]
  },
  {
   "cell_type": "code",
   "execution_count": 9,
   "metadata": {},
   "outputs": [
    {
     "data": {
      "text/plain": [
       "0.4984446951803176"
      ]
     },
     "execution_count": 9,
     "metadata": {},
     "output_type": "execute_result"
    },
    {
     "data": {
      "image/png": "[encoded data removed]",
      "text/plain": [
       "<Figure size 1000x500 with 1 Axes>"
      ]
     },
     "metadata": {},
     "output_type": "display_data"
    }
   ],
   "source": [
    "y_pred_probs_train = ada.predict_proba(X_train)[:, 1]\n",
    "\n",
    "threshold = find_threshold(y_pred_probs_train, y_train)\n",
    "threshold"
   ]
  },
  {
   "cell_type": "code",
   "execution_count": 10,
   "metadata": {},
   "outputs": [],
   "source": [
    "y_pred_probs = ada.predict_proba(X_test)[:, 1]\n"
   ]
  },
  {
   "cell_type": "code",
   "execution_count": 18,
   "metadata": {},
   "outputs": [
    {
     "name": "stdout",
     "output_type": "stream",
     "text": [
      "confusion_matrix:\n",
      "Accuracy: 90.5605340710892%\n",
      "Recall: 82.57355318461042%\n",
      "Precision: 37.986167918494836%\n"
     ]
    },
    {
     "data": {
      "image/png": "[encoded data removed]",
      "text/plain": [
       "<Figure size 480x480 with 1 Axes>"
      ]
     },
     "metadata": {},
     "output_type": "display_data"
    }
   ],
   "source": [
    "# Find the resulting predictions\n",
    "thresh = 0.4965\n",
    "y_pred = y_pred_probs >= thresh\n",
    "y_pred = y_pred.astype(int)\n",
    "\n",
    "get_metrics(y_test, y_pred)"
   ]
  },
  {
   "cell_type": "code",
   "execution_count": 12,
   "metadata": {},
   "outputs": [
    {
     "data": {
      "text/html": [
       "<div>\n",
       "<style scoped>\n",
       "    .dataframe tbody tr th:only-of-type {\n",
       "        vertical-align: middle;\n",
       "    }\n",
       "\n",
       "    .dataframe tbody tr th {\n",
       "        vertical-align: top;\n",
       "    }\n",
       "\n",
       "    .dataframe thead th {\n",
       "        text-align: right;\n",
       "    }\n",
       "</style>\n",
       "<table border=\"1\" class=\"dataframe\">\n",
       "  <thead>\n",
       "    <tr style=\"text-align: right;\">\n",
       "      <th></th>\n",
       "      <th>Importance</th>\n",
       "      <th>error</th>\n",
       "    </tr>\n",
       "    <tr>\n",
       "      <th>Feature</th>\n",
       "      <th></th>\n",
       "      <th></th>\n",
       "    </tr>\n",
       "  </thead>\n",
       "  <tbody>\n",
       "    <tr>\n",
       "      <th>cap_gain</th>\n",
       "      <td>0.136</td>\n",
       "      <td>cap_gain</td>\n",
       "    </tr>\n",
       "    <tr>\n",
       "      <th>weeks_worked</th>\n",
       "      <td>0.064</td>\n",
       "      <td>weeks_worked</td>\n",
       "    </tr>\n",
       "    <tr>\n",
       "      <th>cap_loss</th>\n",
       "      <td>0.060</td>\n",
       "      <td>cap_loss</td>\n",
       "    </tr>\n",
       "    <tr>\n",
       "      <th>age</th>\n",
       "      <td>0.060</td>\n",
       "      <td>age</td>\n",
       "    </tr>\n",
       "    <tr>\n",
       "      <th>dividend</th>\n",
       "      <td>0.052</td>\n",
       "      <td>dividend</td>\n",
       "    </tr>\n",
       "    <tr>\n",
       "      <th>wage_hr</th>\n",
       "      <td>0.036</td>\n",
       "      <td>wage_hr</td>\n",
       "    </tr>\n",
       "    <tr>\n",
       "      <th>num_ppl_worked</th>\n",
       "      <td>0.016</td>\n",
       "      <td>num_ppl_worked</td>\n",
       "    </tr>\n",
       "    <tr>\n",
       "      <th>education_ Masters degree(MA MS MEng MEd MSW MBA)</th>\n",
       "      <td>0.016</td>\n",
       "      <td>education_ Masters degree(MA MS MEng MEd MSW MBA)</td>\n",
       "    </tr>\n",
       "    <tr>\n",
       "      <th>tax_filer_stat_ Nonfiler</th>\n",
       "      <td>0.012</td>\n",
       "      <td>tax_filer_stat_ Nonfiler</td>\n",
       "    </tr>\n",
       "    <tr>\n",
       "      <th>inst_weight</th>\n",
       "      <td>0.012</td>\n",
       "      <td>inst_weight</td>\n",
       "    </tr>\n",
       "    <tr>\n",
       "      <th>education_ Doctorate degree(PhD EdD)</th>\n",
       "      <td>0.012</td>\n",
       "      <td>education_ Doctorate degree(PhD EdD)</td>\n",
       "    </tr>\n",
       "    <tr>\n",
       "      <th>sex_ Male</th>\n",
       "      <td>0.012</td>\n",
       "      <td>sex_ Male</td>\n",
       "    </tr>\n",
       "    <tr>\n",
       "      <th>education_ Prof school degree (MD DDS DVM LLB JD)</th>\n",
       "      <td>0.008</td>\n",
       "      <td>education_ Prof school degree (MD DDS DVM LLB JD)</td>\n",
       "    </tr>\n",
       "    <tr>\n",
       "      <th>occ_code_maj_ Sales</th>\n",
       "      <td>0.008</td>\n",
       "      <td>occ_code_maj_ Sales</td>\n",
       "    </tr>\n",
       "    <tr>\n",
       "      <th>occ_code_maj_ Adm support including clerical</th>\n",
       "      <td>0.008</td>\n",
       "      <td>occ_code_maj_ Adm support including clerical</td>\n",
       "    </tr>\n",
       "    <tr>\n",
       "      <th>education_ 9th grade</th>\n",
       "      <td>0.008</td>\n",
       "      <td>education_ 9th grade</td>\n",
       "    </tr>\n",
       "    <tr>\n",
       "      <th>veteran_admin_ No</th>\n",
       "      <td>0.008</td>\n",
       "      <td>veteran_admin_ No</td>\n",
       "    </tr>\n",
       "    <tr>\n",
       "      <th>education_ High school graduate</th>\n",
       "      <td>0.008</td>\n",
       "      <td>education_ High school graduate</td>\n",
       "    </tr>\n",
       "    <tr>\n",
       "      <th>education_ 11th grade</th>\n",
       "      <td>0.008</td>\n",
       "      <td>education_ 11th grade</td>\n",
       "    </tr>\n",
       "    <tr>\n",
       "      <th>education_ 5th or 6th grade</th>\n",
       "      <td>0.008</td>\n",
       "      <td>education_ 5th or 6th grade</td>\n",
       "    </tr>\n",
       "  </tbody>\n",
       "</table>\n",
       "</div>"
      ],
      "text/plain": [
       "                                                   Importance  \\\n",
       "Feature                                                         \n",
       "cap_gain                                                0.136   \n",
       "weeks_worked                                            0.064   \n",
       "cap_loss                                                0.060   \n",
       "age                                                     0.060   \n",
       "dividend                                                0.052   \n",
       "wage_hr                                                 0.036   \n",
       "num_ppl_worked                                          0.016   \n",
       "education_ Masters degree(MA MS MEng MEd MSW MBA)       0.016   \n",
       "tax_filer_stat_ Nonfiler                                0.012   \n",
       "inst_weight                                             0.012   \n",
       "education_ Doctorate degree(PhD EdD)                    0.012   \n",
       "sex_ Male                                               0.012   \n",
       "education_ Prof school degree (MD DDS DVM LLB JD)       0.008   \n",
       "occ_code_maj_ Sales                                     0.008   \n",
       "occ_code_maj_ Adm support including clerical            0.008   \n",
       "education_ 9th grade                                    0.008   \n",
       "veteran_admin_ No                                       0.008   \n",
       "education_ High school graduate                         0.008   \n",
       "education_ 11th grade                                   0.008   \n",
       "education_ 5th or 6th grade                             0.008   \n",
       "\n",
       "                                                                                               error  \n",
       "Feature                                                                                               \n",
       "cap_gain                                                                                    cap_gain  \n",
       "weeks_worked                                                                            weeks_worked  \n",
       "cap_loss                                                                                    cap_loss  \n",
       "age                                                                                              age  \n",
       "dividend                                                                                    dividend  \n",
       "wage_hr                                                                                      wage_hr  \n",
       "num_ppl_worked                                                                        num_ppl_worked  \n",
       "education_ Masters degree(MA MS MEng MEd MSW MBA)  education_ Masters degree(MA MS MEng MEd MSW MBA)  \n",
       "tax_filer_stat_ Nonfiler                                                    tax_filer_stat_ Nonfiler  \n",
       "inst_weight                                                                              inst_weight  \n",
       "education_ Doctorate degree(PhD EdD)                            education_ Doctorate degree(PhD EdD)  \n",
       "sex_ Male                                                                                  sex_ Male  \n",
       "education_ Prof school degree (MD DDS DVM LLB JD)  education_ Prof school degree (MD DDS DVM LLB JD)  \n",
       "occ_code_maj_ Sales                                                              occ_code_maj_ Sales  \n",
       "occ_code_maj_ Adm support including clerical            occ_code_maj_ Adm support including clerical  \n",
       "education_ 9th grade                                                            education_ 9th grade  \n",
       "veteran_admin_ No                                                                  veteran_admin_ No  \n",
       "education_ High school graduate                                      education_ High school graduate  \n",
       "education_ 11th grade                                                          education_ 11th grade  \n",
       "education_ 5th or 6th grade                                              education_ 5th or 6th grade  "
      ]
     },
     "execution_count": 12,
     "metadata": {},
     "output_type": "execute_result"
    }
   ],
   "source": [
    "importance_df = pd.DataFrame({'Feature': X_train.columns, 'Importance': ada.feature_importances_, 'error': ada.feature_names_in_})\n",
    "importance_df.sort_values('Importance', ascending=False, inplace=True)\n",
    "importance_df.set_index('Feature', inplace=True)\n",
    "importance_df.head(20)"
   ]
  },
  {
   "cell_type": "code",
   "execution_count": 13,
   "metadata": {},
   "outputs": [
    {
     "data": {
      "text/plain": [
       "0.4984446951803176"
      ]
     },
     "execution_count": 13,
     "metadata": {},
     "output_type": "execute_result"
    }
   ],
   "source": [
    "threshold"
   ]
  },
  {
   "cell_type": "code",
   "execution_count": 22,
   "metadata": {},
   "outputs": [
    {
     "data": {
      "text/plain": [
       "347245892.4700001"
      ]
     },
     "execution_count": 22,
     "metadata": {},
     "output_type": "execute_result"
    }
   ],
   "source": [
    "# train_data['inst_weight'].value_counts()\n",
    "# Multiply the columns\n",
    "val_count_df = pd.DataFrame({'val_count': train_data['inst_weight'].value_counts(), 'inst_weight': train_data['inst_weight'].value_counts().index})\n",
    "\n",
    "val_count_df['num_people'] = val_count_df['val_count'] * val_count_df['inst_weight']\n",
    "\n",
    "val_count_df['num_people'].sum()"
   ]
  },
  {
   "cell_type": "code",
   "execution_count": null,
   "metadata": {},
   "outputs": [],
   "source": []
  },
  {
   "cell_type": "code",
   "execution_count": null,
   "metadata": {},
   "outputs": [],
   "source": []
  }
 ],
 "metadata": {
  "kernelspec": {
   "display_name": "Python 3",
   "language": "python",
   "name": "python3"
  },
  "language_info": {
   "codemirror_mode": {
    "name": "ipython",
    "version": 3
   },
   "file_extension": ".py",
   "mimetype": "text/x-python",
   "name": "python",
   "nbconvert_exporter": "python",
   "pygments_lexer": "ipython3",
   "version": "3.10.9"
  },
  "orig_nbformat": 4
 },
 "nbformat": 4,
 "nbformat_minor": 2
}
