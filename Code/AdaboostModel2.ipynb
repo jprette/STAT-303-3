{
 "cells": [
  {
   "cell_type": "code",
   "execution_count": 2,
   "metadata": {},
   "outputs": [],
   "source": [
    "import pandas as pd\n",
    "import numpy as np\n",
    "from sklearn.ensemble import AdaBoostClassifier\n",
    "from sklearn.metrics import accuracy_score, confusion_matrix, classification_report, recall_score, precision_score\n",
    "from sklearn.metrics import precision_recall_curve\n",
    "from sklearn.preprocessing import LabelEncoder\n",
    "\n",
    "import matplotlib.pyplot as plt"
   ]
  },
  {
   "cell_type": "code",
   "execution_count": 8,
   "metadata": {},
   "outputs": [],
   "source": [
    "column_names=[\n",
    "    'age', 'class', 'ind_code_det', 'occ_code_det', 'education', 'wage_hr', 'enroll_edu', 'marital',\n",
    "    'ind_code_maj', 'occ_code_maj', 'race', 'hisp_origin', 'sex', 'lab_union', 'reason_unemp',\n",
    "    'emp_status', 'cap_gain', 'cap_loss', 'dividend', 'tax_filer_stat', 'prev_res_area', 'prev_res_state',\n",
    "    'fam_state', 'fam_state_sum', 'inst_weight', 'migr_change_msa', 'migr_change_reg', 'migr_move_msa', 'lived_1yr',\n",
    "    'migr_sunbelt', 'num_ppl_worked', 'fam_members_u18', 'birth_dad', 'birth_mom', 'birth_self', 'citizenship',\n",
    "    'employed_status', 'veteran_admin', 'veteran_benefit', 'weeks_worked', 'year', 'income']\n",
    "\n",
    "predictors = [\n",
    "    'age', 'class', 'ind_code_det', 'occ_code_det', 'education', 'wage_hr', 'enroll_edu', 'marital',\n",
    "    'ind_code_maj', 'occ_code_maj', 'race', 'hisp_origin', 'sex', 'lab_union', 'reason_unemp',\n",
    "    'emp_status', 'cap_gain', 'cap_loss', 'dividend', 'tax_filer_stat', 'prev_res_area', 'prev_res_state',\n",
    "    'fam_state', 'fam_state_sum', 'inst_weight', 'migr_change_msa', 'migr_change_reg', 'migr_move_msa', 'lived_1yr',\n",
    "    'migr_sunbelt', 'num_ppl_worked', 'fam_members_u18', 'birth_dad', 'birth_mom', 'birth_self', 'citizenship',\n",
    "    'employed_status', 'veteran_admin', 'veteran_benefit', 'weeks_worked', 'year']\n",
    "\n",
    "categorical_predictors = [\n",
    "    'class', 'ind_code_det', 'occ_code_det', 'education', 'enroll_edu', 'marital',\n",
    "    'ind_code_maj', 'occ_code_maj', 'race', 'hisp_origin', 'sex', 'lab_union', 'reason_unemp',\n",
    "    'emp_status', 'tax_filer_stat', 'prev_res_area', 'prev_res_state',\n",
    "    'fam_state', 'fam_state_sum', 'migr_change_msa', 'migr_change_reg', 'migr_move_msa', 'lived_1yr',\n",
    "    'migr_sunbelt', 'fam_members_u18', 'birth_dad', 'birth_mom', 'birth_self', 'citizenship',\n",
    "    'employed_status', 'veteran_admin', 'veteran_benefit', 'year']\n"
   ]
  },
  {
   "cell_type": "code",
   "execution_count": 4,
   "metadata": {},
   "outputs": [],
   "source": [
    "def get_metrics(y_test, y_pred):\n",
    "    print(\"confusion_matrix:\")\n",
    "    # print(confusion_matrix(y_test, y_pred))\n",
    "\n",
    "    # Plot confusion matrix, showing the values in each cell\n",
    "    cm = confusion_matrix(y_test, y_pred)\n",
    "    plt.matshow(cm, cmap=plt.cm.Blues)\n",
    "    # Show the values\n",
    "    for x in range(cm.shape[0]):\n",
    "        for y in range(cm.shape[1]):\n",
    "            plt.text(x, y, str(cm[x,y]), va='center', ha='center')\n",
    "\n",
    "    # Set axes\n",
    "    plt.xlabel(\"Predicted label\")\n",
    "    plt.ylabel(\"True label\")\n",
    "\n",
    "    print(f\"Accuracy: {accuracy_score(y_test, y_pred) * 100}%\")\n",
    "    print(f\"Recall: {recall_score(y_test, y_pred) * 100}%\")\n",
    "    print(f\"Precision: {precision_score(y_test, y_pred) * 100}%\")\n",
    "    "
   ]
  },
  {
   "cell_type": "code",
   "execution_count": 5,
   "metadata": {},
   "outputs": [],
   "source": [
    "def find_threshold(y_pred, y_true):\n",
    "    p, r, thresholds = precision_recall_curve(y_true, y_pred)\n",
    "\n",
    "    f1 = 2 * (p[:-1] * r[:-1]) / (p[:-1] + r[:-1])\n",
    "\n",
    "    # Plot the model precision-recall curve\n",
    "\n",
    "    df = pd.DataFrame({'Precision': p[:-1], 'Recall': r[:-1], 'Threshold': thresholds})\n",
    "\n",
    "    # df.set_index('Threshold', inplace=True)\n",
    "\n",
    "    # df[\"Accuracy\"] = df.apply(lambda row: accuracy_score(y_true, y_pred >= row.name), axis=1)\n",
    "\n",
    "    # USe f1 to find thresh\n",
    "    threshold = df.iloc[f1.argmax()]['Threshold']\n",
    "\n",
    "    df.plot(x=\"Threshold\", y=[\"Precision\", \"Recall\"], figsize=(10, 5), grid=True)\n",
    "    # Add a vertical line at the threshold that maximizes F1 score\n",
    "    plt.vlines(threshold, 0, 1, linestyle='--')\n",
    "\n",
    "    return threshold\n"
   ]
  },
  {
   "cell_type": "code",
   "execution_count": 51,
   "metadata": {},
   "outputs": [],
   "source": [
    "train_data = pd.read_csv('../census-income.data',header=None)\n",
    "\n",
    "test_data = pd.read_csv('../census-income.test',header=None)\n",
    "\n",
    "# Add a column for 'test'\n",
    "test_data['test'] = 1\n",
    "train_data['test'] = 0\n",
    "\n",
    "# Concatenate the dataframes\n",
    "\n",
    "data = pd.concat([train_data, test_data])\n",
    "\n",
    "data.dropna(inplace=True)\n",
    "\n",
    "data.columns=column_names + ['test']\n",
    "\n",
    "data['>50K'] = data['income'].apply(lambda x: 1 if '+' in x else 0)\n",
    "\n",
    "# Use get dummies to convert categorical variables to binary\n",
    "\n",
    "data = pd.get_dummies(data, columns=categorical_predictors)\n",
    "\n",
    "# Update the predictors list\n",
    "all_cols = set(data.columns)\n",
    "\n",
    "non_predictors = set(column_names) - set(predictors)\n",
    "\n",
    "predictors = list(all_cols - non_predictors - set(['test', 'income', '>50K'])) \n",
    "\n",
    "# Split the data back into train and test\n",
    "train_data = data.loc[data['test'] == 0]\n",
    "test_data = data.loc[data['test'] == 1]\n",
    "\n",
    "# Drop the test column\n",
    "train_data = train_data.drop('test', axis=1)\n",
    "test_data = test_data.drop('test', axis=1)\n",
    "\n",
    "# Split the data into X and y\n",
    "X_train = train_data[predictors]\n",
    "y_train = train_data['>50K']\n",
    "\n",
    "X_test = test_data[predictors]\n",
    "y_test = test_data['>50K']"
   ]
  },
  {
   "cell_type": "code",
   "execution_count": 52,
   "metadata": {},
   "outputs": [
    {
     "data": {
      "text/plain": [
       "0    93576\n",
       "1     6186\n",
       "Name: >50K, dtype: int64"
      ]
     },
     "execution_count": 52,
     "metadata": {},
     "output_type": "execute_result"
    }
   ],
   "source": [
    "y_test.value_counts()"
   ]
  },
  {
   "cell_type": "code",
   "execution_count": 73,
   "metadata": {},
   "outputs": [
    {
     "data": {
      "text/html": [
       "<style>#sk-container-id-9 {color: black;background-color: white;}#sk-container-id-9 pre{padding: 0;}#sk-container-id-9 div.sk-toggleable {background-color: white;}#sk-container-id-9 label.sk-toggleable__label {cursor: pointer;display: block;width: 100%;margin-bottom: 0;padding: 0.3em;box-sizing: border-box;text-align: center;}#sk-container-id-9 label.sk-toggleable__label-arrow:before {content: \"▸\";float: left;margin-right: 0.25em;color: #696969;}#sk-container-id-9 label.sk-toggleable__label-arrow:hover:before {color: black;}#sk-container-id-9 div.sk-estimator:hover label.sk-toggleable__label-arrow:before {color: black;}#sk-container-id-9 div.sk-toggleable__content {max-height: 0;max-width: 0;overflow: hidden;text-align: left;background-color: #f0f8ff;}#sk-container-id-9 div.sk-toggleable__content pre {margin: 0.2em;color: black;border-radius: 0.25em;background-color: #f0f8ff;}#sk-container-id-9 input.sk-toggleable__control:checked~div.sk-toggleable__content {max-height: 200px;max-width: 100%;overflow: auto;}#sk-container-id-9 input.sk-toggleable__control:checked~label.sk-toggleable__label-arrow:before {content: \"▾\";}#sk-container-id-9 div.sk-estimator input.sk-toggleable__control:checked~label.sk-toggleable__label {background-color: #d4ebff;}#sk-container-id-9 div.sk-label input.sk-toggleable__control:checked~label.sk-toggleable__label {background-color: #d4ebff;}#sk-container-id-9 input.sk-hidden--visually {border: 0;clip: rect(1px 1px 1px 1px);clip: rect(1px, 1px, 1px, 1px);height: 1px;margin: -1px;overflow: hidden;padding: 0;position: absolute;width: 1px;}#sk-container-id-9 div.sk-estimator {font-family: monospace;background-color: #f0f8ff;border: 1px dotted black;border-radius: 0.25em;box-sizing: border-box;margin-bottom: 0.5em;}#sk-container-id-9 div.sk-estimator:hover {background-color: #d4ebff;}#sk-container-id-9 div.sk-parallel-item::after {content: \"\";width: 100%;border-bottom: 1px solid gray;flex-grow: 1;}#sk-container-id-9 div.sk-label:hover label.sk-toggleable__label {background-color: #d4ebff;}#sk-container-id-9 div.sk-serial::before {content: \"\";position: absolute;border-left: 1px solid gray;box-sizing: border-box;top: 0;bottom: 0;left: 50%;z-index: 0;}#sk-container-id-9 div.sk-serial {display: flex;flex-direction: column;align-items: center;background-color: white;padding-right: 0.2em;padding-left: 0.2em;position: relative;}#sk-container-id-9 div.sk-item {position: relative;z-index: 1;}#sk-container-id-9 div.sk-parallel {display: flex;align-items: stretch;justify-content: center;background-color: white;position: relative;}#sk-container-id-9 div.sk-item::before, #sk-container-id-9 div.sk-parallel-item::before {content: \"\";position: absolute;border-left: 1px solid gray;box-sizing: border-box;top: 0;bottom: 0;left: 50%;z-index: -1;}#sk-container-id-9 div.sk-parallel-item {display: flex;flex-direction: column;z-index: 1;position: relative;background-color: white;}#sk-container-id-9 div.sk-parallel-item:first-child::after {align-self: flex-end;width: 50%;}#sk-container-id-9 div.sk-parallel-item:last-child::after {align-self: flex-start;width: 50%;}#sk-container-id-9 div.sk-parallel-item:only-child::after {width: 0;}#sk-container-id-9 div.sk-dashed-wrapped {border: 1px dashed gray;margin: 0 0.4em 0.5em 0.4em;box-sizing: border-box;padding-bottom: 0.4em;background-color: white;}#sk-container-id-9 div.sk-label label {font-family: monospace;font-weight: bold;display: inline-block;line-height: 1.2em;}#sk-container-id-9 div.sk-label-container {text-align: center;}#sk-container-id-9 div.sk-container {/* jupyter's `normalize.less` sets `[hidden] { display: none; }` but bootstrap.min.css set `[hidden] { display: none !important; }` so we also need the `!important` here to be able to override the default hidden behavior on the sphinx rendered scikit-learn.org. See: https://github.com/scikit-learn/scikit-learn/issues/21755 */display: inline-block !important;position: relative;}#sk-container-id-9 div.sk-text-repr-fallback {display: none;}</style><div id=\"sk-container-id-9\" class=\"sk-top-container\"><div class=\"sk-text-repr-fallback\"><pre>AdaBoostClassifier(n_estimators=250, random_state=0)</pre><b>In a Jupyter environment, please rerun this cell to show the HTML representation or trust the notebook. <br />On GitHub, the HTML representation is unable to render, please try loading this page with nbviewer.org.</b></div><div class=\"sk-container\" hidden><div class=\"sk-item\"><div class=\"sk-estimator sk-toggleable\"><input class=\"sk-toggleable__control sk-hidden--visually\" id=\"sk-estimator-id-9\" type=\"checkbox\" checked><label for=\"sk-estimator-id-9\" class=\"sk-toggleable__label sk-toggleable__label-arrow\">AdaBoostClassifier</label><div class=\"sk-toggleable__content\"><pre>AdaBoostClassifier(n_estimators=250, random_state=0)</pre></div></div></div></div></div>"
      ],
      "text/plain": [
       "AdaBoostClassifier(n_estimators=250, random_state=0)"
      ]
     },
     "execution_count": 73,
     "metadata": {},
     "output_type": "execute_result"
    }
   ],
   "source": [
    "# Train an ADABoost model\n",
    "ada = AdaBoostClassifier(n_estimators=250, random_state=0)\n",
    "\n",
    "ada.fit(X_train, y_train)"
   ]
  },
  {
   "cell_type": "code",
   "execution_count": 74,
   "metadata": {},
   "outputs": [
    {
     "data": {
      "text/plain": [
       "0.49923120198558524"
      ]
     },
     "execution_count": 74,
     "metadata": {},
     "output_type": "execute_result"
    },
    {
     "data": {
      "image/png": "[encoded data removed]",
      "text/plain": [
       "<Figure size 1000x500 with 1 Axes>"
      ]
     },
     "metadata": {},
     "output_type": "display_data"
    }
   ],
   "source": [
    "y_pred_probs_train = ada.predict_proba(X_train)[:, 1]\n",
    "\n",
    "threshold = find_threshold(y_pred_probs_train, y_train)\n",
    "threshold"
   ]
  },
  {
   "cell_type": "code",
   "execution_count": 82,
   "metadata": {},
   "outputs": [],
   "source": [
    "y_pred_probs = ada.predict_proba(X_test)[:, 1]\n"
   ]
  },
  {
   "cell_type": "code",
   "execution_count": 79,
   "metadata": {},
   "outputs": [
    {
     "name": "stdout",
     "output_type": "stream",
     "text": [
      "confusion_matrix:\n",
      "Accuracy: 91.16998456326057%\n",
      "Recall: 81.74911089557064%\n",
      "Precision: 39.703226819502234%\n"
     ]
    },
    {
     "data": {
      "image/png": "[encoded data removed]",
      "text/plain": [
       "<Figure size 480x480 with 1 Axes>"
      ]
     },
     "metadata": {},
     "output_type": "display_data"
    }
   ],
   "source": [
    "# Find the resulting predictions\n",
    "thresh = 0.498\n",
    "y_pred = y_pred_probs >= thresh\n",
    "y_pred = y_pred.astype(int)\n",
    "\n",
    "get_metrics(y_test, y_pred)"
   ]
  },
  {
   "cell_type": "code",
   "execution_count": 86,
   "metadata": {},
   "outputs": [
    {
     "data": {
      "text/html": [
       "<div>\n",
       "<style scoped>\n",
       "    .dataframe tbody tr th:only-of-type {\n",
       "        vertical-align: middle;\n",
       "    }\n",
       "\n",
       "    .dataframe tbody tr th {\n",
       "        vertical-align: top;\n",
       "    }\n",
       "\n",
       "    .dataframe thead th {\n",
       "        text-align: right;\n",
       "    }\n",
       "</style>\n",
       "<table border=\"1\" class=\"dataframe\">\n",
       "  <thead>\n",
       "    <tr style=\"text-align: right;\">\n",
       "      <th></th>\n",
       "      <th>Importance</th>\n",
       "      <th>error</th>\n",
       "    </tr>\n",
       "    <tr>\n",
       "      <th>Feature</th>\n",
       "      <th></th>\n",
       "      <th></th>\n",
       "    </tr>\n",
       "  </thead>\n",
       "  <tbody>\n",
       "    <tr>\n",
       "      <th>cap_gain</th>\n",
       "      <td>0.136</td>\n",
       "      <td>cap_gain</td>\n",
       "    </tr>\n",
       "    <tr>\n",
       "      <th>cap_loss</th>\n",
       "      <td>0.108</td>\n",
       "      <td>cap_loss</td>\n",
       "    </tr>\n",
       "    <tr>\n",
       "      <th>dividend</th>\n",
       "      <td>0.052</td>\n",
       "      <td>dividend</td>\n",
       "    </tr>\n",
       "    <tr>\n",
       "      <th>age</th>\n",
       "      <td>0.052</td>\n",
       "      <td>age</td>\n",
       "    </tr>\n",
       "    <tr>\n",
       "      <th>weeks_worked</th>\n",
       "      <td>0.048</td>\n",
       "      <td>weeks_worked</td>\n",
       "    </tr>\n",
       "    <tr>\n",
       "      <th>inst_weight</th>\n",
       "      <td>0.028</td>\n",
       "      <td>inst_weight</td>\n",
       "    </tr>\n",
       "    <tr>\n",
       "      <th>wage_hr</th>\n",
       "      <td>0.024</td>\n",
       "      <td>wage_hr</td>\n",
       "    </tr>\n",
       "    <tr>\n",
       "      <th>education_ Prof school degree (MD DDS DVM LLB JD)</th>\n",
       "      <td>0.008</td>\n",
       "      <td>education_ Prof school degree (MD DDS DVM LLB JD)</td>\n",
       "    </tr>\n",
       "    <tr>\n",
       "      <th>education_ Masters degree(MA MS MEng MEd MSW MBA)</th>\n",
       "      <td>0.008</td>\n",
       "      <td>education_ Masters degree(MA MS MEng MEd MSW MBA)</td>\n",
       "    </tr>\n",
       "    <tr>\n",
       "      <th>occ_code_det_7</th>\n",
       "      <td>0.008</td>\n",
       "      <td>occ_code_det_7</td>\n",
       "    </tr>\n",
       "    <tr>\n",
       "      <th>occ_code_det_18</th>\n",
       "      <td>0.008</td>\n",
       "      <td>occ_code_det_18</td>\n",
       "    </tr>\n",
       "    <tr>\n",
       "      <th>num_ppl_worked</th>\n",
       "      <td>0.008</td>\n",
       "      <td>num_ppl_worked</td>\n",
       "    </tr>\n",
       "    <tr>\n",
       "      <th>education_ Bachelors degree(BA AB BS)</th>\n",
       "      <td>0.008</td>\n",
       "      <td>education_ Bachelors degree(BA AB BS)</td>\n",
       "    </tr>\n",
       "    <tr>\n",
       "      <th>occ_code_det_17</th>\n",
       "      <td>0.008</td>\n",
       "      <td>occ_code_det_17</td>\n",
       "    </tr>\n",
       "    <tr>\n",
       "      <th>occ_code_maj_ Adm support including clerical</th>\n",
       "      <td>0.008</td>\n",
       "      <td>occ_code_maj_ Adm support including clerical</td>\n",
       "    </tr>\n",
       "    <tr>\n",
       "      <th>hisp_origin_ Mexican (Mexicano)</th>\n",
       "      <td>0.008</td>\n",
       "      <td>hisp_origin_ Mexican (Mexicano)</td>\n",
       "    </tr>\n",
       "    <tr>\n",
       "      <th>birth_self_ Columbia</th>\n",
       "      <td>0.004</td>\n",
       "      <td>birth_self_ Columbia</td>\n",
       "    </tr>\n",
       "    <tr>\n",
       "      <th>occ_code_det_31</th>\n",
       "      <td>0.004</td>\n",
       "      <td>occ_code_det_31</td>\n",
       "    </tr>\n",
       "    <tr>\n",
       "      <th>migr_change_msa_ MSA to nonMSA</th>\n",
       "      <td>0.004</td>\n",
       "      <td>migr_change_msa_ MSA to nonMSA</td>\n",
       "    </tr>\n",
       "    <tr>\n",
       "      <th>class_ Not in universe</th>\n",
       "      <td>0.004</td>\n",
       "      <td>class_ Not in universe</td>\n",
       "    </tr>\n",
       "  </tbody>\n",
       "</table>\n",
       "</div>"
      ],
      "text/plain": [
       "                                                   Importance  \\\n",
       "Feature                                                         \n",
       "cap_gain                                                0.136   \n",
       "cap_loss                                                0.108   \n",
       "dividend                                                0.052   \n",
       "age                                                     0.052   \n",
       "weeks_worked                                            0.048   \n",
       "inst_weight                                             0.028   \n",
       "wage_hr                                                 0.024   \n",
       "education_ Prof school degree (MD DDS DVM LLB JD)       0.008   \n",
       "education_ Masters degree(MA MS MEng MEd MSW MBA)       0.008   \n",
       "occ_code_det_7                                          0.008   \n",
       "occ_code_det_18                                         0.008   \n",
       "num_ppl_worked                                          0.008   \n",
       "education_ Bachelors degree(BA AB BS)                   0.008   \n",
       "occ_code_det_17                                         0.008   \n",
       "occ_code_maj_ Adm support including clerical            0.008   \n",
       "hisp_origin_ Mexican (Mexicano)                         0.008   \n",
       "birth_self_ Columbia                                    0.004   \n",
       "occ_code_det_31                                         0.004   \n",
       "migr_change_msa_ MSA to nonMSA                          0.004   \n",
       "class_ Not in universe                                  0.004   \n",
       "\n",
       "                                                                                               error  \n",
       "Feature                                                                                               \n",
       "cap_gain                                                                                    cap_gain  \n",
       "cap_loss                                                                                    cap_loss  \n",
       "dividend                                                                                    dividend  \n",
       "age                                                                                              age  \n",
       "weeks_worked                                                                            weeks_worked  \n",
       "inst_weight                                                                              inst_weight  \n",
       "wage_hr                                                                                      wage_hr  \n",
       "education_ Prof school degree (MD DDS DVM LLB JD)  education_ Prof school degree (MD DDS DVM LLB JD)  \n",
       "education_ Masters degree(MA MS MEng MEd MSW MBA)  education_ Masters degree(MA MS MEng MEd MSW MBA)  \n",
       "occ_code_det_7                                                                        occ_code_det_7  \n",
       "occ_code_det_18                                                                      occ_code_det_18  \n",
       "num_ppl_worked                                                                        num_ppl_worked  \n",
       "education_ Bachelors degree(BA AB BS)                          education_ Bachelors degree(BA AB BS)  \n",
       "occ_code_det_17                                                                      occ_code_det_17  \n",
       "occ_code_maj_ Adm support including clerical            occ_code_maj_ Adm support including clerical  \n",
       "hisp_origin_ Mexican (Mexicano)                                      hisp_origin_ Mexican (Mexicano)  \n",
       "birth_self_ Columbia                                                            birth_self_ Columbia  \n",
       "occ_code_det_31                                                                      occ_code_det_31  \n",
       "migr_change_msa_ MSA to nonMSA                                        migr_change_msa_ MSA to nonMSA  \n",
       "class_ Not in universe                                                        class_ Not in universe  "
      ]
     },
     "execution_count": 86,
     "metadata": {},
     "output_type": "execute_result"
    }
   ],
   "source": [
    "importance_df = pd.DataFrame({'Feature': X_train.columns, 'Importance': ada.feature_importances_, 'error': ada.feature_names_in_})\n",
    "importance_df.sort_values('Importance', ascending=False, inplace=True)\n",
    "importance_df.set_index('Feature', inplace=True)\n",
    "importance_df.head(20)"
   ]
  },
  {
   "cell_type": "code",
   "execution_count": 62,
   "metadata": {},
   "outputs": [
    {
     "data": {
      "text/plain": [
       "0.49761774875574016"
      ]
     },
     "execution_count": 62,
     "metadata": {},
     "output_type": "execute_result"
    }
   ],
   "source": [
    "threshold"
   ]
  },
  {
   "cell_type": "code",
   "execution_count": 80,
   "metadata": {},
   "outputs": [
    {
     "data": {
      "text/plain": [
       "count    199523.000000\n",
       "mean       1740.380269\n",
       "std         993.768156\n",
       "min          37.870000\n",
       "25%        1061.615000\n",
       "50%        1618.310000\n",
       "75%        2188.610000\n",
       "max       18656.300000\n",
       "Name: inst_weight, dtype: float64"
      ]
     },
     "execution_count": 80,
     "metadata": {},
     "output_type": "execute_result"
    }
   ],
   "source": [
    "train_data['inst_weight'].describe()"
   ]
  },
  {
   "cell_type": "code",
   "execution_count": 83,
   "metadata": {},
   "outputs": [
    {
     "data": {
      "text/plain": [
       "array([0.05591837, 0.23773382, 0.35334404, 0.36179085, 0.36450586,\n",
       "       0.42372606, 0.44275619, 0.46327017, 0.47118521, 0.4682595 ,\n",
       "       0.41646509, 0.44468941, 0.47500371, 0.47301074, 0.4838415 ,\n",
       "       0.45200944, 0.47687059, 0.48621889, 0.45161088, 0.45595167,\n",
       "       0.47200075, 0.4833579 , 0.48174572, 0.49453445, 0.48931163,\n",
       "       0.4704276 , 0.48822468, 0.47317636, 0.48955443, 0.49135916,\n",
       "       0.49043393, 0.49244289, 0.49422255, 0.48494942, 0.48866685,\n",
       "       0.47240093, 0.49288463, 0.49010723, 0.47341087, 0.4786852 ,\n",
       "       0.49272254, 0.48609848, 0.48952219, 0.49231382, 0.49476048,\n",
       "       0.49523654, 0.49629526, 0.49110108, 0.49375861, 0.49032827,\n",
       "       0.47824409, 0.48901645, 0.48789998, 0.49227849, 0.49832456,\n",
       "       0.48867135, 0.49605219, 0.49216963, 0.48576137, 0.48966164,\n",
       "       0.49474793, 0.49595124, 0.49772925, 0.49401645, 0.4946295 ,\n",
       "       0.492372  , 0.49558306, 0.4837238 , 0.49699713, 0.49847229,\n",
       "       0.49541806, 0.49312352, 0.49464058, 0.49586643, 0.49626848,\n",
       "       0.49695987, 0.48593925, 0.48376161, 0.48517023, 0.48868442,\n",
       "       0.49377365, 0.49715187, 0.49874015, 0.49686358, 0.49854443,\n",
       "       0.49417235, 0.48977748, 0.4910047 , 0.49274281, 0.49363793,\n",
       "       0.49509777, 0.49412299, 0.49423778, 0.4968216 , 0.49113612,\n",
       "       0.49521222, 0.49118029, 0.49623509, 0.48748988, 0.49457656,\n",
       "       0.49232072, 0.48714386, 0.49782294, 0.49182026, 0.49518919,\n",
       "       0.49757365, 0.49690896, 0.49235885, 0.49820298, 0.49724167,\n",
       "       0.49371306, 0.49932119, 0.49900216, 0.49736471, 0.49504026,\n",
       "       0.49021476, 0.49274678, 0.49196666, 0.49922525, 0.49720576,\n",
       "       0.4994518 , 0.49796784, 0.49816703, 0.49461153, 0.49266378,\n",
       "       0.49405315, 0.49414791, 0.49916647, 0.49903069, 0.49784788,\n",
       "       0.49560875, 0.49609935, 0.49823176, 0.49926129, 0.49950983,\n",
       "       0.48998271, 0.49177702, 0.49042982, 0.49114746, 0.48827534,\n",
       "       0.49095298, 0.4986653 , 0.49902487, 0.49766742, 0.49265235,\n",
       "       0.49040444, 0.49948019, 0.49897073, 0.49437313, 0.49276815,\n",
       "       0.49865023, 0.49877165, 0.4992018 , 0.49845976, 0.4990687 ,\n",
       "       0.4992636 , 0.49578514, 0.49876031, 0.49967036, 0.49921428,\n",
       "       0.49618569, 0.49703121, 0.49736212, 0.49737641, 0.49967465,\n",
       "       0.49819098, 0.49820767, 0.49897052, 0.49872235, 0.49950623,\n",
       "       0.49920532, 0.49964103, 0.4988335 , 0.49810799, 0.49663442,\n",
       "       0.49807481, 0.49905173, 0.49741677, 0.49552791, 0.49487619,\n",
       "       0.49812315, 0.49422986, 0.4916913 , 0.49912471, 0.49888502,\n",
       "       0.49883951, 0.49663275, 0.49283808, 0.49760718, 0.49842993,\n",
       "       0.4971627 , 0.49933134, 0.49765014, 0.49598671, 0.49594978,\n",
       "       0.49893786, 0.49898019, 0.49651941, 0.49702159, 0.49711373,\n",
       "       0.49713038, 0.49721908, 0.4977257 , 0.49783968, 0.49375176,\n",
       "       0.49412549, 0.49437865, 0.499097  , 0.49963471, 0.4981789 ,\n",
       "       0.49954192, 0.49915808, 0.49787739, 0.49766022, 0.49666511,\n",
       "       0.49529648, 0.4961636 , 0.49622301, 0.49970144, 0.49967143,\n",
       "       0.49981971, 0.49939207, 0.49945497, 0.49916164, 0.49982061,\n",
       "       0.49925212, 0.49898836, 0.49970949, 0.4981703 , 0.49657814,\n",
       "       0.49983119, 0.49952243, 0.49950107, 0.49925261, 0.49718103,\n",
       "       0.4961864 , 0.49651159, 0.49652367, 0.49679686, 0.49680709,\n",
       "       0.49703971, 0.49704847, 0.49954839, 0.4995191 , 0.49906792,\n",
       "       0.49960788, 0.49976193, 0.49963154, 0.49958676, 0.49957809])"
      ]
     },
     "execution_count": 83,
     "metadata": {},
     "output_type": "execute_result"
    }
   ],
   "source": []
  },
  {
   "cell_type": "code",
   "execution_count": null,
   "metadata": {},
   "outputs": [],
   "source": []
  }
 ],
 "metadata": {
  "kernelspec": {
   "display_name": "Python 3",
   "language": "python",
   "name": "python3"
  },
  "language_info": {
   "codemirror_mode": {
    "name": "ipython",
    "version": 3
   },
   "file_extension": ".py",
   "mimetype": "text/x-python",
   "name": "python",
   "nbconvert_exporter": "python",
   "pygments_lexer": "ipython3",
   "version": "3.10.9"
  },
  "orig_nbformat": 4
 },
 "nbformat": 4,
 "nbformat_minor": 2
}
