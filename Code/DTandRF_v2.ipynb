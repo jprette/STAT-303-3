{
  "cells": [
    {
      "cell_type": "code",
      "execution_count": 38,
      "metadata": {
        "id": "m6vJYHOyrwpA"
      },
      "outputs": [],
      "source": [
        "import pandas as pd\n",
        "import numpy as np\n",
        "import seaborn as sns\n",
        "import matplotlib.pyplot as plt\n",
        "from sklearn.metrics import mean_squared_error\n",
        "from sklearn.model_selection import cross_val_score,train_test_split, cross_val_predict\n",
        "from sklearn.metrics import roc_curve, precision_recall_curve, auc, make_scorer, recall_score, accuracy_score, precision_score, confusion_matrix\n",
        "from sklearn.model_selection import StratifiedKFold, KFold\n",
        "from sklearn.tree import DecisionTreeClassifier\n",
        "from sklearn.model_selection import GridSearchCV, RandomizedSearchCV\n",
        "from sklearn.preprocessing import LabelEncoder, OneHotEncoder"
      ]
    },
    {
      "cell_type": "code",
      "execution_count": 18,
      "metadata": {
        "colab": {
          "base_uri": "https://localhost:8080/",
          "height": 292
        },
        "id": "5mAJm3C9rwpB",
        "outputId": "60f9f1f6-6909-4833-9267-139775153e02"
      },
      "outputs": [
        {
          "data": {
            "text/html": [
              "<div>\n",
              "<style scoped>\n",
              "    .dataframe tbody tr th:only-of-type {\n",
              "        vertical-align: middle;\n",
              "    }\n",
              "\n",
              "    .dataframe tbody tr th {\n",
              "        vertical-align: top;\n",
              "    }\n",
              "\n",
              "    .dataframe thead th {\n",
              "        text-align: right;\n",
              "    }\n",
              "</style>\n",
              "<table border=\"1\" class=\"dataframe\">\n",
              "  <thead>\n",
              "    <tr style=\"text-align: right;\">\n",
              "      <th></th>\n",
              "      <th>age</th>\n",
              "      <th>class</th>\n",
              "      <th>ind_code_det</th>\n",
              "      <th>occ_code_det</th>\n",
              "      <th>education</th>\n",
              "      <th>wage_hr</th>\n",
              "      <th>enroll_edu</th>\n",
              "      <th>marital</th>\n",
              "      <th>ind_code_maj</th>\n",
              "      <th>occ_code_maj</th>\n",
              "      <th>...</th>\n",
              "      <th>birth_dad</th>\n",
              "      <th>birth_mom</th>\n",
              "      <th>birth_self</th>\n",
              "      <th>citizenship</th>\n",
              "      <th>employed_status</th>\n",
              "      <th>veteran_admin</th>\n",
              "      <th>veteran_benefit</th>\n",
              "      <th>weeks_worked</th>\n",
              "      <th>year</th>\n",
              "      <th>income</th>\n",
              "    </tr>\n",
              "  </thead>\n",
              "  <tbody>\n",
              "    <tr>\n",
              "      <th>0</th>\n",
              "      <td>73</td>\n",
              "      <td>Not in universe</td>\n",
              "      <td>0</td>\n",
              "      <td>0</td>\n",
              "      <td>High school graduate</td>\n",
              "      <td>0</td>\n",
              "      <td>Not in universe</td>\n",
              "      <td>Widowed</td>\n",
              "      <td>Not in universe or children</td>\n",
              "      <td>Not in universe</td>\n",
              "      <td>...</td>\n",
              "      <td>United-States</td>\n",
              "      <td>United-States</td>\n",
              "      <td>United-States</td>\n",
              "      <td>Native- Born in the United States</td>\n",
              "      <td>0</td>\n",
              "      <td>Not in universe</td>\n",
              "      <td>2</td>\n",
              "      <td>0</td>\n",
              "      <td>95</td>\n",
              "      <td>- 50000.</td>\n",
              "    </tr>\n",
              "    <tr>\n",
              "      <th>1</th>\n",
              "      <td>58</td>\n",
              "      <td>Self-employed-not incorporated</td>\n",
              "      <td>4</td>\n",
              "      <td>34</td>\n",
              "      <td>Some college but no degree</td>\n",
              "      <td>0</td>\n",
              "      <td>Not in universe</td>\n",
              "      <td>Divorced</td>\n",
              "      <td>Construction</td>\n",
              "      <td>Precision production craft &amp; repair</td>\n",
              "      <td>...</td>\n",
              "      <td>United-States</td>\n",
              "      <td>United-States</td>\n",
              "      <td>United-States</td>\n",
              "      <td>Native- Born in the United States</td>\n",
              "      <td>0</td>\n",
              "      <td>Not in universe</td>\n",
              "      <td>2</td>\n",
              "      <td>52</td>\n",
              "      <td>94</td>\n",
              "      <td>- 50000.</td>\n",
              "    </tr>\n",
              "  </tbody>\n",
              "</table>\n",
              "<p>2 rows × 38 columns</p>\n",
              "</div>"
            ],
            "text/plain": [
              "   age                            class  ind_code_det  occ_code_det  \\\n",
              "0   73                  Not in universe             0             0   \n",
              "1   58   Self-employed-not incorporated             4            34   \n",
              "\n",
              "                     education  wage_hr        enroll_edu    marital  \\\n",
              "0         High school graduate        0   Not in universe    Widowed   \n",
              "1   Some college but no degree        0   Not in universe   Divorced   \n",
              "\n",
              "                   ind_code_maj                          occ_code_maj  ...  \\\n",
              "0   Not in universe or children                       Not in universe  ...   \n",
              "1                  Construction   Precision production craft & repair  ...   \n",
              "\n",
              "        birth_dad       birth_mom      birth_self  \\\n",
              "0   United-States   United-States   United-States   \n",
              "1   United-States   United-States   United-States   \n",
              "\n",
              "                          citizenship employed_status     veteran_admin  \\\n",
              "0   Native- Born in the United States               0   Not in universe   \n",
              "1   Native- Born in the United States               0   Not in universe   \n",
              "\n",
              "   veteran_benefit  weeks_worked  year     income  \n",
              "0                2             0    95   - 50000.  \n",
              "1                2            52    94   - 50000.  \n",
              "\n",
              "[2 rows x 38 columns]"
            ]
          },
          "execution_count": 18,
          "metadata": {},
          "output_type": "execute_result"
        }
      ],
      "source": [
        "column_names=[\n",
        "    'age', 'class', 'ind_code_det', 'occ_code_det', 'education', 'wage_hr', 'enroll_edu', 'marital',\n",
        "    'ind_code_maj', 'occ_code_maj', 'race', 'hisp_origin', 'sex', 'lab_union', 'reason_unemp',\n",
        "    'emp_status', 'cap_gain', 'cap_loss', 'dividend', 'tax_filer_stat', 'prev_res_area', 'prev_res_state',\n",
        "    'fam_state', 'fam_state_sum', 'inst_weight', 'migr_change_msa', 'migr_change_reg', 'migr_move_msa', 'lived_1yr',\n",
        "    'migr_sunbelt', 'num_ppl_worked', 'fam_members_u18', 'birth_dad', 'birth_mom', 'birth_self', 'citizenship',\n",
        "    'employed_status', 'veteran_admin', 'veteran_benefit', 'weeks_worked', 'year', 'income']\n",
        "\n",
        "train = pd.read_csv('census-income.data',header=None)\n",
        "train.columns=column_names\n",
        "test = pd.read_csv('census-income.test',header=None)\n",
        "test.columns=column_names\n",
        "\n",
        "train.drop(['migr_change_msa','migr_change_reg','migr_move_msa','migr_sunbelt'],axis = 1,inplace=True)\n",
        "train.dropna(inplace=True)\n",
        "test.drop(['migr_change_msa','migr_change_reg','migr_move_msa','migr_sunbelt'],axis = 1,inplace=True)\n",
        "test.dropna(inplace=True)\n",
        "\n",
        "train.head(2)"
      ]
    },
    {
      "cell_type": "code",
      "execution_count": 19,
      "metadata": {
        "id": "7CTIaKynrwpC"
      },
      "outputs": [],
      "source": [
        "predictors = [\n",
        "    'age', 'class', 'ind_code_det', 'occ_code_det', 'education', 'wage_hr', 'enroll_edu', 'marital',\n",
        "    'ind_code_maj', 'occ_code_maj', 'race', 'hisp_origin', 'sex', 'lab_union', 'reason_unemp',\n",
        "    'emp_status', 'cap_gain', 'cap_loss', 'dividend', 'tax_filer_stat', 'prev_res_area', 'prev_res_state',\n",
        "    'fam_state', 'fam_state_sum', 'inst_weight', 'lived_1yr',\n",
        "    'num_ppl_worked', 'fam_members_u18', 'birth_dad', 'birth_mom', 'birth_self', 'citizenship',\n",
        "    'employed_status', 'veteran_admin', 'veteran_benefit', 'weeks_worked', 'year']"
      ]
    },
    {
      "cell_type": "code",
      "execution_count": 20,
      "metadata": {
        "id": "391iMxrirwpC"
      },
      "outputs": [],
      "source": [
        "categorical_predictors = [\n",
        "    'class', 'ind_code_det', 'occ_code_det', 'education', 'enroll_edu', 'marital',\n",
        "    'ind_code_maj', 'occ_code_maj', 'race', 'hisp_origin', 'sex', 'lab_union', 'reason_unemp',\n",
        "    'emp_status', 'tax_filer_stat', 'prev_res_area', 'prev_res_state',\n",
        "    'fam_state', 'fam_state_sum',  'lived_1yr', 'fam_members_u18', 'birth_dad', \n",
        "    'birth_mom', 'birth_self', 'citizenship',\n",
        "    'employed_status', 'veteran_admin', 'veteran_benefit', 'year']"
      ]
    },
    {
      "cell_type": "code",
      "execution_count": 21,
      "metadata": {},
      "outputs": [],
      "source": [
        "train['>50K'] = train['income'].apply(lambda x: 1 if x == ' 50000+.' else 0)\n",
        "test['>50K'] = test['income'].apply(lambda x: 1 if x == ' 50000+.' else 0)"
      ]
    },
    {
      "cell_type": "code",
      "execution_count": 23,
      "metadata": {},
      "outputs": [
        {
          "name": "stdout",
          "output_type": "stream",
          "text": [
            "Counter({0: 187141, 1: 12382}) Counter({0: 93576, 1: 6186})\n"
          ]
        }
      ],
      "source": [
        "# See imbalanced dataset \n",
        "from collections import Counter\n",
        "train_distr = Counter(train['>50K'])\n",
        "test_distr = Counter(test['>50K'])\n",
        "print(train_distr, test_distr)"
      ]
    },
    {
      "cell_type": "code",
      "execution_count": 24,
      "metadata": {},
      "outputs": [
        {
          "name": "stdout",
          "output_type": "stream",
          "text": [
            "Counter({0: 14971, 1: 12382}) Counter({0: 7486, 1: 6186})\n"
          ]
        }
      ],
      "source": [
        "# balance data\n",
        "from sklearn.utils import resample\n",
        "train_0 = train[train['>50K'] == 0]\n",
        "train_1 = train[train['>50K'] == 1]\n",
        "sampled_train_0 = resample(train_0, n_samples=int(0.08 * len(train_0)), random_state=1)\n",
        "train = pd.concat([sampled_train_0, train_1])\n",
        "\n",
        "test_0 = test[test['>50K'] == 0]\n",
        "test_1 = test[test['>50K'] == 1]\n",
        "sampled_test_0 = resample(test_0, n_samples=int(0.08 * len(test_0)), random_state=1)\n",
        "test = pd.concat([sampled_test_0, test_1])\n",
        "\n",
        "train_distr = Counter(train['>50K'])\n",
        "test_distr = Counter(test['>50K'])\n",
        "print(train_distr, test_distr)"
      ]
    },
    {
      "cell_type": "code",
      "execution_count": 27,
      "metadata": {
        "colab": {
          "base_uri": "https://localhost:8080/",
          "height": 292
        },
        "id": "RLgpSN2HuKIE",
        "outputId": "386f60fb-ed23-4ae8-fd5c-a3f6a3169375"
      },
      "outputs": [
        {
          "data": {
            "text/html": [
              "<div>\n",
              "<style scoped>\n",
              "    .dataframe tbody tr th:only-of-type {\n",
              "        vertical-align: middle;\n",
              "    }\n",
              "\n",
              "    .dataframe tbody tr th {\n",
              "        vertical-align: top;\n",
              "    }\n",
              "\n",
              "    .dataframe thead th {\n",
              "        text-align: right;\n",
              "    }\n",
              "</style>\n",
              "<table border=\"1\" class=\"dataframe\">\n",
              "  <thead>\n",
              "    <tr style=\"text-align: right;\">\n",
              "      <th></th>\n",
              "      <th>age</th>\n",
              "      <th>class</th>\n",
              "      <th>ind_code_det</th>\n",
              "      <th>occ_code_det</th>\n",
              "      <th>education</th>\n",
              "      <th>wage_hr</th>\n",
              "      <th>enroll_edu</th>\n",
              "      <th>marital</th>\n",
              "      <th>ind_code_maj</th>\n",
              "      <th>occ_code_maj</th>\n",
              "      <th>...</th>\n",
              "      <th>fam_members_u18</th>\n",
              "      <th>birth_dad</th>\n",
              "      <th>birth_mom</th>\n",
              "      <th>birth_self</th>\n",
              "      <th>citizenship</th>\n",
              "      <th>employed_status</th>\n",
              "      <th>veteran_admin</th>\n",
              "      <th>veteran_benefit</th>\n",
              "      <th>weeks_worked</th>\n",
              "      <th>year</th>\n",
              "    </tr>\n",
              "  </thead>\n",
              "  <tbody>\n",
              "    <tr>\n",
              "      <th>136487</th>\n",
              "      <td>9</td>\n",
              "      <td>Not in universe</td>\n",
              "      <td>0</td>\n",
              "      <td>0</td>\n",
              "      <td>Children</td>\n",
              "      <td>0</td>\n",
              "      <td>Not in universe</td>\n",
              "      <td>Never married</td>\n",
              "      <td>Not in universe or children</td>\n",
              "      <td>Not in universe</td>\n",
              "      <td>...</td>\n",
              "      <td>Both parents present</td>\n",
              "      <td>United-States</td>\n",
              "      <td>United-States</td>\n",
              "      <td>United-States</td>\n",
              "      <td>Native- Born in the United States</td>\n",
              "      <td>0</td>\n",
              "      <td>Not in universe</td>\n",
              "      <td>0</td>\n",
              "      <td>0</td>\n",
              "      <td>94</td>\n",
              "    </tr>\n",
              "    <tr>\n",
              "      <th>5507</th>\n",
              "      <td>22</td>\n",
              "      <td>Private</td>\n",
              "      <td>33</td>\n",
              "      <td>41</td>\n",
              "      <td>Some college but no degree</td>\n",
              "      <td>0</td>\n",
              "      <td>Not in universe</td>\n",
              "      <td>Never married</td>\n",
              "      <td>Retail trade</td>\n",
              "      <td>Handlers equip cleaners etc</td>\n",
              "      <td>...</td>\n",
              "      <td>Not in universe</td>\n",
              "      <td>United-States</td>\n",
              "      <td>United-States</td>\n",
              "      <td>United-States</td>\n",
              "      <td>Native- Born in the United States</td>\n",
              "      <td>0</td>\n",
              "      <td>Not in universe</td>\n",
              "      <td>2</td>\n",
              "      <td>0</td>\n",
              "      <td>94</td>\n",
              "    </tr>\n",
              "  </tbody>\n",
              "</table>\n",
              "<p>2 rows × 37 columns</p>\n",
              "</div>"
            ],
            "text/plain": [
              "        age             class  ind_code_det  occ_code_det  \\\n",
              "136487    9   Not in universe             0             0   \n",
              "5507     22           Private            33            41   \n",
              "\n",
              "                          education  wage_hr        enroll_edu  \\\n",
              "136487                     Children        0   Not in universe   \n",
              "5507     Some college but no degree        0   Not in universe   \n",
              "\n",
              "               marital                  ind_code_maj  \\\n",
              "136487   Never married   Not in universe or children   \n",
              "5507     Never married                  Retail trade   \n",
              "\n",
              "                         occ_code_maj  ...        fam_members_u18  \\\n",
              "136487                Not in universe  ...   Both parents present   \n",
              "5507     Handlers equip cleaners etc   ...        Not in universe   \n",
              "\n",
              "             birth_dad       birth_mom      birth_self  \\\n",
              "136487   United-States   United-States   United-States   \n",
              "5507     United-States   United-States   United-States   \n",
              "\n",
              "                               citizenship employed_status     veteran_admin  \\\n",
              "136487   Native- Born in the United States               0   Not in universe   \n",
              "5507     Native- Born in the United States               0   Not in universe   \n",
              "\n",
              "        veteran_benefit  weeks_worked year  \n",
              "136487                0             0   94  \n",
              "5507                  2             0   94  \n",
              "\n",
              "[2 rows x 37 columns]"
            ]
          },
          "execution_count": 27,
          "metadata": {},
          "output_type": "execute_result"
        }
      ],
      "source": [
        "X_train = train[predictors]\n",
        "y_train = train['>50K']\n",
        "X_test = test[predictors]\n",
        "y_test = test['>50K']\n",
        "X_train.head(2)"
      ]
    },
    {
      "cell_type": "code",
      "execution_count": 28,
      "metadata": {},
      "outputs": [],
      "source": [
        "# one-hot encoding \n",
        "combined_X = pd.concat([X_train, X_test], axis=0)\n",
        "X_encoded = pd.get_dummies(combined_X, columns=categorical_predictors, dtype=int)\n",
        "X_train_encoded = X_encoded.iloc[:len(X_train)]\n",
        "X_test_encoded = X_encoded.iloc[len(X_train):]"
      ]
    },
    {
      "attachments": {},
      "cell_type": "markdown",
      "metadata": {
        "id": "wzMHVoJ1bok6"
      },
      "source": [
        "# Feature Engineering"
      ]
    },
    {
      "cell_type": "code",
      "execution_count": 29,
      "metadata": {
        "colab": {
          "base_uri": "https://localhost:8080/"
        },
        "id": "1axhQj7iGluE",
        "outputId": "00869b90-373c-45d7-8a63-e421441b94bc"
      },
      "outputs": [
        {
          "data": {
            "text/plain": [
              "189"
            ]
          },
          "execution_count": 29,
          "metadata": {},
          "output_type": "execute_result"
        }
      ],
      "source": [
        "#Removing quasi-constant features\n",
        "from sklearn.feature_selection import VarianceThreshold\n",
        "sel = VarianceThreshold(threshold=0.01)  # 0.1 indicates 99% of observations approximately\n",
        "sel.fit(X_train_encoded)  # fit finds the features with low variance\n",
        "sum(sel.get_support())"
      ]
    },
    {
      "cell_type": "code",
      "execution_count": 30,
      "metadata": {
        "colab": {
          "base_uri": "https://localhost:8080/"
        },
        "id": "r6uKi7pJRLy5",
        "outputId": "6dfe3151-0d28-4ca7-e06c-ad79c4f0a907"
      },
      "outputs": [
        {
          "data": {
            "text/plain": [
              "Index(['age', 'wage_hr', 'cap_gain', 'cap_loss', 'dividend', 'inst_weight',\n",
              "       'num_ppl_worked', 'weeks_worked', 'class_ Federal government',\n",
              "       'class_ Local government',\n",
              "       ...\n",
              "       'employed_status_0', 'employed_status_1', 'employed_status_2',\n",
              "       'veteran_admin_ No', 'veteran_admin_ Not in universe',\n",
              "       'veteran_benefit_0', 'veteran_benefit_1', 'veteran_benefit_2',\n",
              "       'year_94', 'year_95'],\n",
              "      dtype='object', length=189)"
            ]
          },
          "execution_count": 30,
          "metadata": {},
          "output_type": "execute_result"
        }
      ],
      "source": [
        "sel_idx = X_train_encoded.columns[sel.get_support()]\n",
        "sel_idx"
      ]
    },
    {
      "cell_type": "code",
      "execution_count": 31,
      "metadata": {
        "id": "kd6u0el0Hg6Y"
      },
      "outputs": [
        {
          "name": "stdout",
          "output_type": "stream",
          "text": [
            "284\n"
          ]
        },
        {
          "data": {
            "text/plain": [
              "['class_ Never worked',\n",
              " 'class_ Without pay',\n",
              " 'ind_code_det_1',\n",
              " 'ind_code_det_3',\n",
              " 'ind_code_det_5',\n",
              " 'ind_code_det_6',\n",
              " 'ind_code_det_7',\n",
              " 'ind_code_det_8',\n",
              " 'ind_code_det_9',\n",
              " 'ind_code_det_10',\n",
              " 'ind_code_det_13',\n",
              " 'ind_code_det_14',\n",
              " 'ind_code_det_15',\n",
              " 'ind_code_det_16',\n",
              " 'ind_code_det_17',\n",
              " 'ind_code_det_18',\n",
              " 'ind_code_det_19',\n",
              " 'ind_code_det_20',\n",
              " 'ind_code_det_21',\n",
              " 'ind_code_det_22',\n",
              " 'ind_code_det_23',\n",
              " 'ind_code_det_26',\n",
              " 'ind_code_det_27',\n",
              " 'ind_code_det_28',\n",
              " 'ind_code_det_36',\n",
              " 'ind_code_det_38',\n",
              " 'ind_code_det_40',\n",
              " 'ind_code_det_46',\n",
              " 'ind_code_det_48',\n",
              " 'ind_code_det_49',\n",
              " 'ind_code_det_51',\n",
              " 'occ_code_det_1',\n",
              " 'occ_code_det_6',\n",
              " 'occ_code_det_9',\n",
              " 'occ_code_det_13',\n",
              " 'occ_code_det_14',\n",
              " 'occ_code_det_15',\n",
              " 'occ_code_det_20',\n",
              " 'occ_code_det_21',\n",
              " 'occ_code_det_22',\n",
              " 'occ_code_det_24',\n",
              " 'occ_code_det_25',\n",
              " 'occ_code_det_27',\n",
              " 'occ_code_det_30',\n",
              " 'occ_code_det_32',\n",
              " 'occ_code_det_39',\n",
              " 'occ_code_det_40',\n",
              " 'occ_code_det_41',\n",
              " 'occ_code_det_42',\n",
              " 'occ_code_det_43',\n",
              " 'occ_code_det_44',\n",
              " 'occ_code_det_45',\n",
              " 'occ_code_det_46',\n",
              " 'education_ 12th grade no diploma',\n",
              " 'education_ 1st 2nd 3rd or 4th grade',\n",
              " 'education_ Less than 1st grade',\n",
              " 'marital_ Married-A F spouse present',\n",
              " 'marital_ Married-spouse absent',\n",
              " 'ind_code_maj_ Armed Forces',\n",
              " 'ind_code_maj_ Entertainment',\n",
              " 'ind_code_maj_ Forestry and fisheries',\n",
              " 'ind_code_maj_ Mining',\n",
              " 'ind_code_maj_ Private household services',\n",
              " 'occ_code_maj_ Armed Forces',\n",
              " 'occ_code_maj_ Private household services',\n",
              " 'race_ Amer Indian Aleut or Eskimo',\n",
              " 'hisp_origin_ Chicano',\n",
              " 'hisp_origin_ Cuban',\n",
              " 'hisp_origin_ Do not know',\n",
              " 'hisp_origin_ NA',\n",
              " 'hisp_origin_ Other Spanish',\n",
              " 'reason_unemp_ Job leaver',\n",
              " 'reason_unemp_ Job loser - on layoff',\n",
              " 'reason_unemp_ New entrant',\n",
              " 'reason_unemp_ Other job loser',\n",
              " 'reason_unemp_ Re-entrant',\n",
              " 'emp_status_ PT for econ reasons usually FT',\n",
              " 'emp_status_ PT for econ reasons usually PT',\n",
              " 'emp_status_ Unemployed full-time',\n",
              " 'emp_status_ Unemployed part- time',\n",
              " 'prev_res_area_ Abroad',\n",
              " 'prev_res_state_ ?',\n",
              " 'prev_res_state_ Abroad',\n",
              " 'prev_res_state_ Alabama',\n",
              " 'prev_res_state_ Alaska',\n",
              " 'prev_res_state_ Arizona',\n",
              " 'prev_res_state_ Arkansas',\n",
              " 'prev_res_state_ California',\n",
              " 'prev_res_state_ Colorado',\n",
              " 'prev_res_state_ Connecticut',\n",
              " 'prev_res_state_ Delaware',\n",
              " 'prev_res_state_ District of Columbia',\n",
              " 'prev_res_state_ Florida',\n",
              " 'prev_res_state_ Georgia',\n",
              " 'prev_res_state_ Idaho',\n",
              " 'prev_res_state_ Illinois',\n",
              " 'prev_res_state_ Indiana',\n",
              " 'prev_res_state_ Iowa',\n",
              " 'prev_res_state_ Kansas',\n",
              " 'prev_res_state_ Kentucky',\n",
              " 'prev_res_state_ Louisiana',\n",
              " 'prev_res_state_ Maine',\n",
              " 'prev_res_state_ Maryland',\n",
              " 'prev_res_state_ Massachusetts',\n",
              " 'prev_res_state_ Michigan',\n",
              " 'prev_res_state_ Minnesota',\n",
              " 'prev_res_state_ Mississippi',\n",
              " 'prev_res_state_ Missouri',\n",
              " 'prev_res_state_ Montana',\n",
              " 'prev_res_state_ Nebraska',\n",
              " 'prev_res_state_ Nevada',\n",
              " 'prev_res_state_ New Hampshire',\n",
              " 'prev_res_state_ New Jersey',\n",
              " 'prev_res_state_ New Mexico',\n",
              " 'prev_res_state_ New York',\n",
              " 'prev_res_state_ North Carolina',\n",
              " 'prev_res_state_ North Dakota',\n",
              " 'prev_res_state_ Ohio',\n",
              " 'prev_res_state_ Oklahoma',\n",
              " 'prev_res_state_ Oregon',\n",
              " 'prev_res_state_ Pennsylvania',\n",
              " 'prev_res_state_ South Carolina',\n",
              " 'prev_res_state_ South Dakota',\n",
              " 'prev_res_state_ Tennessee',\n",
              " 'prev_res_state_ Texas',\n",
              " 'prev_res_state_ Utah',\n",
              " 'prev_res_state_ Vermont',\n",
              " 'prev_res_state_ Virginia',\n",
              " 'prev_res_state_ West Virginia',\n",
              " 'prev_res_state_ Wisconsin',\n",
              " 'prev_res_state_ Wyoming',\n",
              " 'fam_state_ Child 18+ ever marr Not in a subfamily',\n",
              " 'fam_state_ Child 18+ ever marr RP of subfamily',\n",
              " 'fam_state_ Child 18+ never marr RP of subfamily',\n",
              " 'fam_state_ Child 18+ spouse of subfamily RP',\n",
              " 'fam_state_ Child <18 ever marr not in subfamily',\n",
              " 'fam_state_ Child <18 never marr RP of subfamily',\n",
              " 'fam_state_ Child under 18 of RP of unrel subfamily',\n",
              " 'fam_state_ Grandchild 18+ ever marr RP of subfamily',\n",
              " 'fam_state_ Grandchild 18+ ever marr not in subfamily',\n",
              " 'fam_state_ Grandchild 18+ never marr RP of subfamily',\n",
              " 'fam_state_ Grandchild 18+ never marr not in subfamily',\n",
              " 'fam_state_ Grandchild <18 ever marr not in subfamily',\n",
              " 'fam_state_ Grandchild <18 never marr child of subfamily RP',\n",
              " 'fam_state_ Grandchild <18 never marr not in subfamily',\n",
              " 'fam_state_ In group quarters',\n",
              " 'fam_state_ Other Rel 18+ ever marr RP of subfamily',\n",
              " 'fam_state_ Other Rel 18+ ever marr not in subfamily',\n",
              " 'fam_state_ Other Rel 18+ never marr RP of subfamily',\n",
              " 'fam_state_ Other Rel 18+ never marr not in subfamily',\n",
              " 'fam_state_ Other Rel 18+ spouse of subfamily RP',\n",
              " 'fam_state_ Other Rel <18 ever marr RP of subfamily',\n",
              " 'fam_state_ Other Rel <18 ever marr not in subfamily',\n",
              " 'fam_state_ Other Rel <18 never marr child of subfamily RP',\n",
              " 'fam_state_ Other Rel <18 never marr not in subfamily',\n",
              " 'fam_state_ Other Rel <18 spouse of subfamily RP',\n",
              " 'fam_state_ RP of unrelated subfamily',\n",
              " 'fam_state_ Spouse of RP of unrelated subfamily',\n",
              " 'fam_state_sum_ Child under 18 ever married',\n",
              " 'fam_state_sum_ Group Quarters- Secondary individual',\n",
              " 'fam_members_u18_ Father only present',\n",
              " 'fam_members_u18_ Neither parent present',\n",
              " 'birth_dad_ Cambodia',\n",
              " 'birth_dad_ Canada',\n",
              " 'birth_dad_ China',\n",
              " 'birth_dad_ Columbia',\n",
              " 'birth_dad_ Cuba',\n",
              " 'birth_dad_ Dominican-Republic',\n",
              " 'birth_dad_ Ecuador',\n",
              " 'birth_dad_ El-Salvador',\n",
              " 'birth_dad_ England',\n",
              " 'birth_dad_ France',\n",
              " 'birth_dad_ Germany',\n",
              " 'birth_dad_ Greece',\n",
              " 'birth_dad_ Guatemala',\n",
              " 'birth_dad_ Haiti',\n",
              " 'birth_dad_ Holand-Netherlands',\n",
              " 'birth_dad_ Honduras',\n",
              " 'birth_dad_ Hong Kong',\n",
              " 'birth_dad_ Hungary',\n",
              " 'birth_dad_ India',\n",
              " 'birth_dad_ Iran',\n",
              " 'birth_dad_ Ireland',\n",
              " 'birth_dad_ Jamaica',\n",
              " 'birth_dad_ Japan',\n",
              " 'birth_dad_ Laos',\n",
              " 'birth_dad_ Nicaragua',\n",
              " 'birth_dad_ Outlying-U S (Guam USVI etc)',\n",
              " 'birth_dad_ Panama',\n",
              " 'birth_dad_ Peru',\n",
              " 'birth_dad_ Philippines',\n",
              " 'birth_dad_ Poland',\n",
              " 'birth_dad_ Portugal',\n",
              " 'birth_dad_ Puerto-Rico',\n",
              " 'birth_dad_ Scotland',\n",
              " 'birth_dad_ South Korea',\n",
              " 'birth_dad_ Taiwan',\n",
              " 'birth_dad_ Thailand',\n",
              " 'birth_dad_ Trinadad&Tobago',\n",
              " 'birth_dad_ Vietnam',\n",
              " 'birth_dad_ Yugoslavia',\n",
              " 'birth_mom_ Cambodia',\n",
              " 'birth_mom_ Canada',\n",
              " 'birth_mom_ China',\n",
              " 'birth_mom_ Columbia',\n",
              " 'birth_mom_ Cuba',\n",
              " 'birth_mom_ Dominican-Republic',\n",
              " 'birth_mom_ Ecuador',\n",
              " 'birth_mom_ El-Salvador',\n",
              " 'birth_mom_ England',\n",
              " 'birth_mom_ France',\n",
              " 'birth_mom_ Germany',\n",
              " 'birth_mom_ Greece',\n",
              " 'birth_mom_ Guatemala',\n",
              " 'birth_mom_ Haiti',\n",
              " 'birth_mom_ Holand-Netherlands',\n",
              " 'birth_mom_ Honduras',\n",
              " 'birth_mom_ Hong Kong',\n",
              " 'birth_mom_ Hungary',\n",
              " 'birth_mom_ India',\n",
              " 'birth_mom_ Iran',\n",
              " 'birth_mom_ Ireland',\n",
              " 'birth_mom_ Italy',\n",
              " 'birth_mom_ Jamaica',\n",
              " 'birth_mom_ Japan',\n",
              " 'birth_mom_ Laos',\n",
              " 'birth_mom_ Nicaragua',\n",
              " 'birth_mom_ Outlying-U S (Guam USVI etc)',\n",
              " 'birth_mom_ Panama',\n",
              " 'birth_mom_ Peru',\n",
              " 'birth_mom_ Philippines',\n",
              " 'birth_mom_ Poland',\n",
              " 'birth_mom_ Portugal',\n",
              " 'birth_mom_ Puerto-Rico',\n",
              " 'birth_mom_ Scotland',\n",
              " 'birth_mom_ South Korea',\n",
              " 'birth_mom_ Taiwan',\n",
              " 'birth_mom_ Thailand',\n",
              " 'birth_mom_ Trinadad&Tobago',\n",
              " 'birth_mom_ Vietnam',\n",
              " 'birth_mom_ Yugoslavia',\n",
              " 'birth_self_ Cambodia',\n",
              " 'birth_self_ Canada',\n",
              " 'birth_self_ China',\n",
              " 'birth_self_ Columbia',\n",
              " 'birth_self_ Cuba',\n",
              " 'birth_self_ Dominican-Republic',\n",
              " 'birth_self_ Ecuador',\n",
              " 'birth_self_ El-Salvador',\n",
              " 'birth_self_ England',\n",
              " 'birth_self_ France',\n",
              " 'birth_self_ Germany',\n",
              " 'birth_self_ Greece',\n",
              " 'birth_self_ Guatemala',\n",
              " 'birth_self_ Haiti',\n",
              " 'birth_self_ Holand-Netherlands',\n",
              " 'birth_self_ Honduras',\n",
              " 'birth_self_ Hong Kong',\n",
              " 'birth_self_ Hungary',\n",
              " 'birth_self_ India',\n",
              " 'birth_self_ Iran',\n",
              " 'birth_self_ Ireland',\n",
              " 'birth_self_ Italy',\n",
              " 'birth_self_ Jamaica',\n",
              " 'birth_self_ Japan',\n",
              " 'birth_self_ Laos',\n",
              " 'birth_self_ Nicaragua',\n",
              " 'birth_self_ Outlying-U S (Guam USVI etc)',\n",
              " 'birth_self_ Panama',\n",
              " 'birth_self_ Peru',\n",
              " 'birth_self_ Philippines',\n",
              " 'birth_self_ Poland',\n",
              " 'birth_self_ Portugal',\n",
              " 'birth_self_ Puerto-Rico',\n",
              " 'birth_self_ Scotland',\n",
              " 'birth_self_ South Korea',\n",
              " 'birth_self_ Taiwan',\n",
              " 'birth_self_ Thailand',\n",
              " 'birth_self_ Trinadad&Tobago',\n",
              " 'birth_self_ Vietnam',\n",
              " 'birth_self_ Yugoslavia',\n",
              " 'citizenship_ Native- Born abroad of American Parent(s)',\n",
              " 'citizenship_ Native- Born in Puerto Rico or U S Outlying',\n",
              " 'veteran_admin_ Yes']"
            ]
          },
          "execution_count": 31,
          "metadata": {},
          "output_type": "execute_result"
        }
      ],
      "source": [
        "# finally we can print the quasi-constant features\n",
        "print(\n",
        "    len([\n",
        "        x for x in X_train_encoded.columns\n",
        "        if x not in X_train_encoded.columns[sel.get_support()]\n",
        "    ]))\n",
        "\n",
        "[x for x in X_train_encoded.columns if x not in X_train_encoded.columns[sel.get_support()]]"
      ]
    },
    {
      "cell_type": "code",
      "execution_count": 32,
      "metadata": {
        "colab": {
          "base_uri": "https://localhost:8080/"
        },
        "id": "whg9mu2zH2N6",
        "outputId": "d5b61f3f-17ff-43e3-a40b-8285eea85fdb"
      },
      "outputs": [
        {
          "data": {
            "text/plain": [
              "((27353, 189), (13672, 189))"
            ]
          },
          "execution_count": 32,
          "metadata": {},
          "output_type": "execute_result"
        }
      ],
      "source": [
        "# we can then remove the features from training and test set\n",
        "X_train_encoded = sel.transform(X_train_encoded)\n",
        "X_test_encoded = sel.transform(X_test_encoded)\n",
        "# check the shape of training and test set\n",
        "X_train_encoded.shape, X_test_encoded.shape"
      ]
    },
    {
      "cell_type": "code",
      "execution_count": 33,
      "metadata": {
        "colab": {
          "base_uri": "https://localhost:8080/",
          "height": 275
        },
        "id": "F1rkk9TlRmoC",
        "outputId": "81ea65ab-711e-491f-dbcf-d08a47adc992"
      },
      "outputs": [
        {
          "data": {
            "text/html": [
              "<div>\n",
              "<style scoped>\n",
              "    .dataframe tbody tr th:only-of-type {\n",
              "        vertical-align: middle;\n",
              "    }\n",
              "\n",
              "    .dataframe tbody tr th {\n",
              "        vertical-align: top;\n",
              "    }\n",
              "\n",
              "    .dataframe thead th {\n",
              "        text-align: right;\n",
              "    }\n",
              "</style>\n",
              "<table border=\"1\" class=\"dataframe\">\n",
              "  <thead>\n",
              "    <tr style=\"text-align: right;\">\n",
              "      <th></th>\n",
              "      <th>age</th>\n",
              "      <th>wage_hr</th>\n",
              "      <th>cap_gain</th>\n",
              "      <th>cap_loss</th>\n",
              "      <th>dividend</th>\n",
              "      <th>inst_weight</th>\n",
              "      <th>num_ppl_worked</th>\n",
              "      <th>weeks_worked</th>\n",
              "      <th>class_ Federal government</th>\n",
              "      <th>class_ Local government</th>\n",
              "      <th>...</th>\n",
              "      <th>employed_status_0</th>\n",
              "      <th>employed_status_1</th>\n",
              "      <th>employed_status_2</th>\n",
              "      <th>veteran_admin_ No</th>\n",
              "      <th>veteran_admin_ Not in universe</th>\n",
              "      <th>veteran_benefit_0</th>\n",
              "      <th>veteran_benefit_1</th>\n",
              "      <th>veteran_benefit_2</th>\n",
              "      <th>year_94</th>\n",
              "      <th>year_95</th>\n",
              "    </tr>\n",
              "  </thead>\n",
              "  <tbody>\n",
              "    <tr>\n",
              "      <th>0</th>\n",
              "      <td>9.0</td>\n",
              "      <td>0.0</td>\n",
              "      <td>0.0</td>\n",
              "      <td>0.0</td>\n",
              "      <td>0.0</td>\n",
              "      <td>2990.22</td>\n",
              "      <td>0.0</td>\n",
              "      <td>0.0</td>\n",
              "      <td>0.0</td>\n",
              "      <td>0.0</td>\n",
              "      <td>...</td>\n",
              "      <td>1.0</td>\n",
              "      <td>0.0</td>\n",
              "      <td>0.0</td>\n",
              "      <td>0.0</td>\n",
              "      <td>1.0</td>\n",
              "      <td>1.0</td>\n",
              "      <td>0.0</td>\n",
              "      <td>0.0</td>\n",
              "      <td>1.0</td>\n",
              "      <td>0.0</td>\n",
              "    </tr>\n",
              "    <tr>\n",
              "      <th>1</th>\n",
              "      <td>22.0</td>\n",
              "      <td>0.0</td>\n",
              "      <td>0.0</td>\n",
              "      <td>0.0</td>\n",
              "      <td>0.0</td>\n",
              "      <td>4277.58</td>\n",
              "      <td>0.0</td>\n",
              "      <td>0.0</td>\n",
              "      <td>0.0</td>\n",
              "      <td>0.0</td>\n",
              "      <td>...</td>\n",
              "      <td>1.0</td>\n",
              "      <td>0.0</td>\n",
              "      <td>0.0</td>\n",
              "      <td>0.0</td>\n",
              "      <td>1.0</td>\n",
              "      <td>0.0</td>\n",
              "      <td>0.0</td>\n",
              "      <td>1.0</td>\n",
              "      <td>1.0</td>\n",
              "      <td>0.0</td>\n",
              "    </tr>\n",
              "  </tbody>\n",
              "</table>\n",
              "<p>2 rows × 189 columns</p>\n",
              "</div>"
            ],
            "text/plain": [
              "    age  wage_hr  cap_gain  cap_loss  dividend  inst_weight  num_ppl_worked  \\\n",
              "0   9.0      0.0       0.0       0.0       0.0      2990.22             0.0   \n",
              "1  22.0      0.0       0.0       0.0       0.0      4277.58             0.0   \n",
              "\n",
              "   weeks_worked  class_ Federal government  class_ Local government  ...  \\\n",
              "0           0.0                        0.0                      0.0  ...   \n",
              "1           0.0                        0.0                      0.0  ...   \n",
              "\n",
              "   employed_status_0  employed_status_1  employed_status_2  veteran_admin_ No  \\\n",
              "0                1.0                0.0                0.0                0.0   \n",
              "1                1.0                0.0                0.0                0.0   \n",
              "\n",
              "   veteran_admin_ Not in universe  veteran_benefit_0  veteran_benefit_1  \\\n",
              "0                             1.0                1.0                0.0   \n",
              "1                             1.0                0.0                0.0   \n",
              "\n",
              "   veteran_benefit_2  year_94  year_95  \n",
              "0                0.0      1.0      0.0  \n",
              "1                1.0      1.0      0.0  \n",
              "\n",
              "[2 rows x 189 columns]"
            ]
          },
          "execution_count": 33,
          "metadata": {},
          "output_type": "execute_result"
        }
      ],
      "source": [
        "X_train_encoded = pd.DataFrame(X_train_encoded, columns=sel_idx)\n",
        "X_test_encoded = pd.DataFrame(X_test_encoded, columns=sel_idx)\n",
        "X_train_encoded.head(2)"
      ]
    },
    {
      "attachments": {},
      "cell_type": "markdown",
      "metadata": {
        "id": "9IkfEtFHcj35"
      },
      "source": [
        "# Decision Tree"
      ]
    },
    {
      "cell_type": "code",
      "execution_count": 70,
      "metadata": {
        "colab": {
          "base_uri": "https://localhost:8080/"
        },
        "id": "qnPsD6sZBFJe",
        "outputId": "f02b1d39-2df1-4bfb-ac3d-0f8ff5982069"
      },
      "outputs": [
        {
          "name": "stdout",
          "output_type": "stream",
          "text": [
            "3336\n",
            "47\n"
          ]
        }
      ],
      "source": [
        "#Defining the object to build a regression tree\n",
        "dt_model1 = DecisionTreeClassifier(random_state=1) \n",
        "#Fitting the regression tree to the data\n",
        "dt_model1.fit(X_train_encoded, y_train)\n",
        "print(dt_model1.get_n_leaves())\n",
        "print(dt_model1.get_depth())"
      ]
    },
    {
      "cell_type": "code",
      "execution_count": 71,
      "metadata": {
        "colab": {
          "base_uri": "https://localhost:8080/",
          "height": 592
        },
        "id": "HUnUXGDdFHxX",
        "outputId": "cb910db9-cd1a-4a36-e077-35e0b0505211"
      },
      "outputs": [
        {
          "name": "stdout",
          "output_type": "stream",
          "text": [
            "Accuracy:  100.0\n",
            "ROC-AUC:  1.0\n",
            "Precision:  1.0\n",
            "Recall:  1.0\n"
          ]
        },
        {
          "data": {
            "image/png": "[encoded data removed]",
            "text/plain": [
              "<Figure size 640x480 with 2 Axes>"
            ]
          },
          "metadata": {},
          "output_type": "display_data"
        }
      ],
      "source": [
        "# Performance metrics computation \n",
        "#train\n",
        "#Computing the accuracy\n",
        "y_pred = dt_model1.predict(X_train_encoded)\n",
        "print(\"Accuracy: \",accuracy_score(y_pred, y_train)*100)  \n",
        "\n",
        "#Computing the ROC-AUC\n",
        "y_pred_prob = dt_model1.predict_proba(X_train_encoded)[:,1]\n",
        "fpr, tpr, auc_thresholds = roc_curve(y_train, y_pred_prob)\n",
        "print(\"ROC-AUC: \",auc(fpr, tpr))# AUC of ROC\n",
        "\n",
        "#Computing the precision and recall\n",
        "print(\"Precision: \", precision_score(y_train, y_pred))\n",
        "print(\"Recall: \", recall_score(y_train, y_pred))\n",
        "\n",
        "#Confusion matrix\n",
        "cm = pd.DataFrame(confusion_matrix(y_train, y_pred), columns=['Predicted 0', 'Predicted 1'], \n",
        "            index = ['Actual 0', 'Actual 1'])\n",
        "sns.heatmap(cm, annot=True, cmap='Blues', fmt='g');"
      ]
    },
    {
      "cell_type": "code",
      "execution_count": 68,
      "metadata": {
        "colab": {
          "base_uri": "https://localhost:8080/",
          "height": 592
        },
        "id": "BR3uX0zRc_yp",
        "outputId": "2dd8b73a-b642-4cc1-86c1-f347b5a69d09"
      },
      "outputs": [
        {
          "name": "stdout",
          "output_type": "stream",
          "text": [
            "Accuracy:  81.81685196021064\n",
            "ROC-AUC:  0.8167481767237198\n",
            "Precision:  0.797427652733119\n",
            "Recall:  0.8018105399288716\n"
          ]
        },
        {
          "data": {
            "image/png": "[encoded data removed]",
            "text/plain": [
              "<Figure size 640x480 with 2 Axes>"
            ]
          },
          "metadata": {},
          "output_type": "display_data"
        }
      ],
      "source": [
        "#test\n",
        "#Computing the accuracy\n",
        "y_pred = dt_model1.predict(X_test_encoded)\n",
        "print(\"Accuracy: \",accuracy_score(y_pred, y_test)*100)  \n",
        "\n",
        "#Computing the ROC-AUC\n",
        "y_pred_prob = dt_model1.predict_proba(X_test_encoded)[:,1]\n",
        "fpr, tpr, auc_thresholds = roc_curve(y_test, y_pred_prob)\n",
        "print(\"ROC-AUC: \",auc(fpr, tpr))# AUC of ROC\n",
        "\n",
        "#Computing the precision and recall\n",
        "print(\"Precision: \", precision_score(y_test, y_pred))\n",
        "print(\"Recall: \", recall_score(y_test, y_pred))\n",
        "\n",
        "#Confusion matrix\n",
        "cm = pd.DataFrame(confusion_matrix(y_test, y_pred), columns=['Predicted 0', 'Predicted 1'], \n",
        "            index = ['Actual 0', 'Actual 1'])\n",
        "sns.heatmap(cm, annot=True, cmap='Blues', fmt='g');"
      ]
    },
    {
      "cell_type": "code",
      "execution_count": 132,
      "metadata": {
        "colab": {
          "base_uri": "https://localhost:8080/"
        },
        "id": "L_oExh2E7iX3",
        "outputId": "9a6980d7-359b-4b12-c9c6-f7a41c78ef0a"
      },
      "outputs": [
        {
          "name": "stdout",
          "output_type": "stream",
          "text": [
            "Fitting 30 folds for each of 10 candidates, totalling 300 fits\n"
          ]
        }
      ],
      "source": [
        "# Course Grid Search\n",
        "param_grid = {    \n",
        "    'max_depth': range(5,51,5),\n",
        "    'max_leaf_nodes': range(5,3400,100),\n",
        "    'max_features': range(10, 180, 10)\n",
        "}\n",
        "\n",
        "#Grid search to optimize parameter values\n",
        "skf = StratifiedKFold(n_splits=30)#The folds are made by preserving the percentage of samples for each class.\n",
        "\n",
        "#Minimizing FNR is equivalent to maximizing recall\n",
        "grid_search = RandomizedSearchCV(DecisionTreeClassifier(random_state=1), param_grid, scoring=['precision','recall'], \n",
        "                           refit=\"recall\", cv=skf, n_jobs=-1, verbose = True)\n",
        "grid_search.fit(X_train_encoded, y_train)\n",
        "\n",
        "# make the predictions\n",
        "y_pred = grid_search.predict(X_test_encoded)\n"
      ]
    },
    {
      "cell_type": "code",
      "execution_count": 133,
      "metadata": {
        "colab": {
          "base_uri": "https://localhost:8080/"
        },
        "id": "h8__UwxA8Wok",
        "outputId": "c1ba78e0-7734-45f2-94cd-aba9bb7307b6"
      },
      "outputs": [
        {
          "name": "stdout",
          "output_type": "stream",
          "text": [
            "Train accuracy : 0.929\n",
            "Test accuracy : 0.853\n",
            "Train accuracy : 0.929\n",
            "Test accuracy : 0.853\n",
            "Best accuracy Through Grid Search : 0.838\n",
            "Train recall : 0.924\n",
            "Test recall : 0.842\n",
            "Best params for recall\n",
            "{'max_leaf_nodes': 905, 'max_features': 170, 'max_depth': 40}\n"
          ]
        }
      ],
      "source": [
        "print('Train accuracy : %.3f'%grid_search.best_estimator_.score(X_train_encoded, y_train))\n",
        "print('Test accuracy : %.3f'%grid_search.best_estimator_.score(X_test_encoded, y_test))\n",
        "print('Train accuracy : %.3f'%grid_search.best_estimator_.score(X_train_encoded, y_train))\n",
        "print('Test accuracy : %.3f'%grid_search.best_estimator_.score(X_test_encoded, y_test))\n",
        "print('Best accuracy Through Grid Search : %.3f'%grid_search.best_score_)\n",
        "\n",
        "y_train_pred = grid_search.best_estimator_.predict(X_train_encoded)\n",
        "train_recall = recall_score(y_train, y_train_pred)\n",
        "print('Train recall : %.3f' % train_recall)\n",
        "y_test_pred = grid_search.best_estimator_.predict(X_test_encoded)\n",
        "test_recall = recall_score(y_test, y_test_pred)\n",
        "print('Test recall : %.3f' % test_recall)\n",
        "\n",
        "print('Best params for recall')\n",
        "print(grid_search.best_params_)"
      ]
    },
    {
      "cell_type": "code",
      "execution_count": 134,
      "metadata": {
        "colab": {
          "base_uri": "https://localhost:8080/",
          "height": 309
        },
        "id": "aZ5A9hBgWgSj",
        "outputId": "7ae38cb7-1b12-4520-e3b3-266adae380db"
      },
      "outputs": [
        {
          "data": {
            "text/html": [
              "<div>\n",
              "<style scoped>\n",
              "    .dataframe tbody tr th:only-of-type {\n",
              "        vertical-align: middle;\n",
              "    }\n",
              "\n",
              "    .dataframe tbody tr th {\n",
              "        vertical-align: top;\n",
              "    }\n",
              "\n",
              "    .dataframe thead th {\n",
              "        text-align: right;\n",
              "    }\n",
              "</style>\n",
              "<table border=\"1\" class=\"dataframe\">\n",
              "  <thead>\n",
              "    <tr style=\"text-align: right;\">\n",
              "      <th></th>\n",
              "      <th>mean_fit_time</th>\n",
              "      <th>std_fit_time</th>\n",
              "      <th>mean_score_time</th>\n",
              "      <th>std_score_time</th>\n",
              "      <th>param_max_leaf_nodes</th>\n",
              "      <th>param_max_features</th>\n",
              "      <th>param_max_depth</th>\n",
              "      <th>params</th>\n",
              "      <th>split0_test_precision</th>\n",
              "      <th>split1_test_precision</th>\n",
              "      <th>...</th>\n",
              "      <th>split23_test_recall</th>\n",
              "      <th>split24_test_recall</th>\n",
              "      <th>split25_test_recall</th>\n",
              "      <th>split26_test_recall</th>\n",
              "      <th>split27_test_recall</th>\n",
              "      <th>split28_test_recall</th>\n",
              "      <th>split29_test_recall</th>\n",
              "      <th>mean_test_recall</th>\n",
              "      <th>std_test_recall</th>\n",
              "      <th>rank_test_recall</th>\n",
              "    </tr>\n",
              "  </thead>\n",
              "  <tbody>\n",
              "    <tr>\n",
              "      <th>0</th>\n",
              "      <td>0.561082</td>\n",
              "      <td>0.096483</td>\n",
              "      <td>0.008646</td>\n",
              "      <td>0.006951</td>\n",
              "      <td>805</td>\n",
              "      <td>140</td>\n",
              "      <td>30</td>\n",
              "      <td>{'max_leaf_nodes': 805, 'max_features': 140, '...</td>\n",
              "      <td>0.831683</td>\n",
              "      <td>0.835681</td>\n",
              "      <td>...</td>\n",
              "      <td>0.839806</td>\n",
              "      <td>0.834951</td>\n",
              "      <td>0.866505</td>\n",
              "      <td>0.815534</td>\n",
              "      <td>0.786408</td>\n",
              "      <td>0.822816</td>\n",
              "      <td>0.834951</td>\n",
              "      <td>0.834271</td>\n",
              "      <td>0.021055</td>\n",
              "      <td>3</td>\n",
              "    </tr>\n",
              "    <tr>\n",
              "      <th>1</th>\n",
              "      <td>0.300917</td>\n",
              "      <td>0.022990</td>\n",
              "      <td>0.004236</td>\n",
              "      <td>0.002587</td>\n",
              "      <td>2205</td>\n",
              "      <td>70</td>\n",
              "      <td>50</td>\n",
              "      <td>{'max_leaf_nodes': 2205, 'max_features': 70, '...</td>\n",
              "      <td>0.818841</td>\n",
              "      <td>0.813364</td>\n",
              "      <td>...</td>\n",
              "      <td>0.827670</td>\n",
              "      <td>0.798544</td>\n",
              "      <td>0.847087</td>\n",
              "      <td>0.822816</td>\n",
              "      <td>0.803398</td>\n",
              "      <td>0.788835</td>\n",
              "      <td>0.791262</td>\n",
              "      <td>0.820137</td>\n",
              "      <td>0.022448</td>\n",
              "      <td>6</td>\n",
              "    </tr>\n",
              "  </tbody>\n",
              "</table>\n",
              "<p>2 rows × 74 columns</p>\n",
              "</div>"
            ],
            "text/plain": [
              "   mean_fit_time  std_fit_time  mean_score_time  std_score_time  \\\n",
              "0       0.561082      0.096483         0.008646        0.006951   \n",
              "1       0.300917      0.022990         0.004236        0.002587   \n",
              "\n",
              "  param_max_leaf_nodes param_max_features param_max_depth  \\\n",
              "0                  805                140              30   \n",
              "1                 2205                 70              50   \n",
              "\n",
              "                                              params  split0_test_precision  \\\n",
              "0  {'max_leaf_nodes': 805, 'max_features': 140, '...               0.831683   \n",
              "1  {'max_leaf_nodes': 2205, 'max_features': 70, '...               0.818841   \n",
              "\n",
              "   split1_test_precision  ...  split23_test_recall  split24_test_recall  \\\n",
              "0               0.835681  ...             0.839806             0.834951   \n",
              "1               0.813364  ...             0.827670             0.798544   \n",
              "\n",
              "   split25_test_recall  split26_test_recall  split27_test_recall  \\\n",
              "0             0.866505             0.815534             0.786408   \n",
              "1             0.847087             0.822816             0.803398   \n",
              "\n",
              "   split28_test_recall  split29_test_recall  mean_test_recall  \\\n",
              "0             0.822816             0.834951          0.834271   \n",
              "1             0.788835             0.791262          0.820137   \n",
              "\n",
              "   std_test_recall  rank_test_recall  \n",
              "0         0.021055                 3  \n",
              "1         0.022448                 6  \n",
              "\n",
              "[2 rows x 74 columns]"
            ]
          },
          "execution_count": 134,
          "metadata": {},
          "output_type": "execute_result"
        }
      ],
      "source": [
        "cv_results = pd.DataFrame(grid_search.cv_results_)\n",
        "cv_results.head(2)"
      ]
    },
    {
      "cell_type": "code",
      "execution_count": 135,
      "metadata": {
        "colab": {
          "base_uri": "https://localhost:8080/",
          "height": 415
        },
        "id": "vy3QxfkcWy4Q",
        "outputId": "a025b584-1acf-42ec-d353-31dbf5b73ce8"
      },
      "outputs": [
        {
          "data": {
            "image/png": "[encoded data removed]",
            "text/plain": [
              "<Figure size 1400x500 with 3 Axes>"
            ]
          },
          "metadata": {},
          "output_type": "display_data"
        }
      ],
      "source": [
        "fig, axes = plt.subplots(1,3,figsize=(14,5))\n",
        "plt.subplots_adjust(wspace=0.2)\n",
        "axes[0].plot(cv_results.param_max_depth, cv_results.mean_test_recall, 'o')\n",
        "axes[0].set_xlabel('Depth')\n",
        "axes[0].set_ylabel('K-fold Recall')\n",
        "axes[1].plot(cv_results.param_max_features, cv_results.mean_test_recall, 'o')\n",
        "axes[1].set_xlabel('Features')\n",
        "axes[1].set_ylabel('K-fold Recall');\n",
        "axes[2].plot(cv_results.param_max_leaf_nodes, cv_results.mean_test_recall, 'o')\n",
        "axes[2].set_xlabel('Leaves')\n",
        "axes[2].set_ylabel('K-fold Recall');"
      ]
    },
    {
      "cell_type": "code",
      "execution_count": 136,
      "metadata": {
        "colab": {
          "base_uri": "https://localhost:8080/",
          "height": 135
        },
        "id": "5LoiRpu6MLzx",
        "outputId": "29772a01-90c3-4bd0-fb54-147427a68f90"
      },
      "outputs": [
        {
          "name": "stdout",
          "output_type": "stream",
          "text": [
            "Fitting 20 folds for each of 10 candidates, totalling 200 fits\n"
          ]
        },
        {
          "data": {
            "text/html": [
              "<style>#sk-container-id-6 {color: black;background-color: white;}#sk-container-id-6 pre{padding: 0;}#sk-container-id-6 div.sk-toggleable {background-color: white;}#sk-container-id-6 label.sk-toggleable__label {cursor: pointer;display: block;width: 100%;margin-bottom: 0;padding: 0.3em;box-sizing: border-box;text-align: center;}#sk-container-id-6 label.sk-toggleable__label-arrow:before {content: \"▸\";float: left;margin-right: 0.25em;color: #696969;}#sk-container-id-6 label.sk-toggleable__label-arrow:hover:before {color: black;}#sk-container-id-6 div.sk-estimator:hover label.sk-toggleable__label-arrow:before {color: black;}#sk-container-id-6 div.sk-toggleable__content {max-height: 0;max-width: 0;overflow: hidden;text-align: left;background-color: #f0f8ff;}#sk-container-id-6 div.sk-toggleable__content pre {margin: 0.2em;color: black;border-radius: 0.25em;background-color: #f0f8ff;}#sk-container-id-6 input.sk-toggleable__control:checked~div.sk-toggleable__content {max-height: 200px;max-width: 100%;overflow: auto;}#sk-container-id-6 input.sk-toggleable__control:checked~label.sk-toggleable__label-arrow:before {content: \"▾\";}#sk-container-id-6 div.sk-estimator input.sk-toggleable__control:checked~label.sk-toggleable__label {background-color: #d4ebff;}#sk-container-id-6 div.sk-label input.sk-toggleable__control:checked~label.sk-toggleable__label {background-color: #d4ebff;}#sk-container-id-6 input.sk-hidden--visually {border: 0;clip: rect(1px 1px 1px 1px);clip: rect(1px, 1px, 1px, 1px);height: 1px;margin: -1px;overflow: hidden;padding: 0;position: absolute;width: 1px;}#sk-container-id-6 div.sk-estimator {font-family: monospace;background-color: #f0f8ff;border: 1px dotted black;border-radius: 0.25em;box-sizing: border-box;margin-bottom: 0.5em;}#sk-container-id-6 div.sk-estimator:hover {background-color: #d4ebff;}#sk-container-id-6 div.sk-parallel-item::after {content: \"\";width: 100%;border-bottom: 1px solid gray;flex-grow: 1;}#sk-container-id-6 div.sk-label:hover label.sk-toggleable__label {background-color: #d4ebff;}#sk-container-id-6 div.sk-serial::before {content: \"\";position: absolute;border-left: 1px solid gray;box-sizing: border-box;top: 0;bottom: 0;left: 50%;z-index: 0;}#sk-container-id-6 div.sk-serial {display: flex;flex-direction: column;align-items: center;background-color: white;padding-right: 0.2em;padding-left: 0.2em;position: relative;}#sk-container-id-6 div.sk-item {position: relative;z-index: 1;}#sk-container-id-6 div.sk-parallel {display: flex;align-items: stretch;justify-content: center;background-color: white;position: relative;}#sk-container-id-6 div.sk-item::before, #sk-container-id-6 div.sk-parallel-item::before {content: \"\";position: absolute;border-left: 1px solid gray;box-sizing: border-box;top: 0;bottom: 0;left: 50%;z-index: -1;}#sk-container-id-6 div.sk-parallel-item {display: flex;flex-direction: column;z-index: 1;position: relative;background-color: white;}#sk-container-id-6 div.sk-parallel-item:first-child::after {align-self: flex-end;width: 50%;}#sk-container-id-6 div.sk-parallel-item:last-child::after {align-self: flex-start;width: 50%;}#sk-container-id-6 div.sk-parallel-item:only-child::after {width: 0;}#sk-container-id-6 div.sk-dashed-wrapped {border: 1px dashed gray;margin: 0 0.4em 0.5em 0.4em;box-sizing: border-box;padding-bottom: 0.4em;background-color: white;}#sk-container-id-6 div.sk-label label {font-family: monospace;font-weight: bold;display: inline-block;line-height: 1.2em;}#sk-container-id-6 div.sk-label-container {text-align: center;}#sk-container-id-6 div.sk-container {/* jupyter's `normalize.less` sets `[hidden] { display: none; }` but bootstrap.min.css set `[hidden] { display: none !important; }` so we also need the `!important` here to be able to override the default hidden behavior on the sphinx rendered scikit-learn.org. See: https://github.com/scikit-learn/scikit-learn/issues/21755 */display: inline-block !important;position: relative;}#sk-container-id-6 div.sk-text-repr-fallback {display: none;}</style><div id=\"sk-container-id-6\" class=\"sk-top-container\"><div class=\"sk-text-repr-fallback\"><pre>RandomizedSearchCV(cv=StratifiedKFold(n_splits=20, random_state=None, shuffle=False),\n",
              "                   estimator=DecisionTreeClassifier(random_state=1), n_jobs=-1,\n",
              "                   param_distributions={&#x27;max_depth&#x27;: range(38, 45, 2),\n",
              "                                        &#x27;max_features&#x27;: range(165, 175, 2),\n",
              "                                        &#x27;max_leaf_nodes&#x27;: range(900, 910, 2)},\n",
              "                   refit=&#x27;recall&#x27;, scoring=[&#x27;precision&#x27;, &#x27;recall&#x27;],\n",
              "                   verbose=True)</pre><b>In a Jupyter environment, please rerun this cell to show the HTML representation or trust the notebook. <br />On GitHub, the HTML representation is unable to render, please try loading this page with nbviewer.org.</b></div><div class=\"sk-container\" hidden><div class=\"sk-item sk-dashed-wrapped\"><div class=\"sk-label-container\"><div class=\"sk-label sk-toggleable\"><input class=\"sk-toggleable__control sk-hidden--visually\" id=\"sk-estimator-id-14\" type=\"checkbox\" ><label for=\"sk-estimator-id-14\" class=\"sk-toggleable__label sk-toggleable__label-arrow\">RandomizedSearchCV</label><div class=\"sk-toggleable__content\"><pre>RandomizedSearchCV(cv=StratifiedKFold(n_splits=20, random_state=None, shuffle=False),\n",
              "                   estimator=DecisionTreeClassifier(random_state=1), n_jobs=-1,\n",
              "                   param_distributions={&#x27;max_depth&#x27;: range(38, 45, 2),\n",
              "                                        &#x27;max_features&#x27;: range(165, 175, 2),\n",
              "                                        &#x27;max_leaf_nodes&#x27;: range(900, 910, 2)},\n",
              "                   refit=&#x27;recall&#x27;, scoring=[&#x27;precision&#x27;, &#x27;recall&#x27;],\n",
              "                   verbose=True)</pre></div></div></div><div class=\"sk-parallel\"><div class=\"sk-parallel-item\"><div class=\"sk-item\"><div class=\"sk-label-container\"><div class=\"sk-label sk-toggleable\"><input class=\"sk-toggleable__control sk-hidden--visually\" id=\"sk-estimator-id-15\" type=\"checkbox\" ><label for=\"sk-estimator-id-15\" class=\"sk-toggleable__label sk-toggleable__label-arrow\">estimator: DecisionTreeClassifier</label><div class=\"sk-toggleable__content\"><pre>DecisionTreeClassifier(random_state=1)</pre></div></div></div><div class=\"sk-serial\"><div class=\"sk-item\"><div class=\"sk-estimator sk-toggleable\"><input class=\"sk-toggleable__control sk-hidden--visually\" id=\"sk-estimator-id-16\" type=\"checkbox\" ><label for=\"sk-estimator-id-16\" class=\"sk-toggleable__label sk-toggleable__label-arrow\">DecisionTreeClassifier</label><div class=\"sk-toggleable__content\"><pre>DecisionTreeClassifier(random_state=1)</pre></div></div></div></div></div></div></div></div></div></div>"
            ],
            "text/plain": [
              "RandomizedSearchCV(cv=StratifiedKFold(n_splits=20, random_state=None, shuffle=False),\n",
              "                   estimator=DecisionTreeClassifier(random_state=1), n_jobs=-1,\n",
              "                   param_distributions={'max_depth': range(38, 45, 2),\n",
              "                                        'max_features': range(165, 175, 2),\n",
              "                                        'max_leaf_nodes': range(900, 910, 2)},\n",
              "                   refit='recall', scoring=['precision', 'recall'],\n",
              "                   verbose=True)"
            ]
          },
          "execution_count": 136,
          "metadata": {},
          "output_type": "execute_result"
        }
      ],
      "source": [
        "#Finer Grid \n",
        "# From Course Grid {'max_leaf_nodes': 905, 'max_features': 170, 'max_depth': 40}\n",
        "param_grid = {    \n",
        "    'max_depth': range(38, 45,2),\n",
        "    'max_leaf_nodes': range(900,910,2),\n",
        "    'max_features': range(165, 175, 2)\n",
        "}\n",
        "\n",
        "#Grid search to optimize parameter values\n",
        "import time as time\n",
        "start_time = time.time()\n",
        "skf = StratifiedKFold(n_splits=20)#The folds are made by preserving the percentage of samples for each class.\n",
        "\n",
        "#Minimizing FNR is equivalent to maximizing recall\n",
        "grid_search = RandomizedSearchCV(DecisionTreeClassifier(random_state=1), param_grid, scoring=['precision','recall'], \n",
        "                           refit=\"recall\", cv=skf, n_jobs=-1, verbose = True)\n",
        "grid_search.fit(X_train_encoded, y_train)"
      ]
    },
    {
      "cell_type": "code",
      "execution_count": 137,
      "metadata": {
        "colab": {
          "base_uri": "https://localhost:8080/"
        },
        "id": "MNklRJwLapXj",
        "outputId": "64c16046-d7e2-47db-9f70-302223f7d710"
      },
      "outputs": [
        {
          "name": "stdout",
          "output_type": "stream",
          "text": [
            "{'max_leaf_nodes': 900, 'max_features': 167, 'max_depth': 44}\n"
          ]
        }
      ],
      "source": [
        "print(grid_search.best_params_)"
      ]
    },
    {
      "cell_type": "code",
      "execution_count": 139,
      "metadata": {
        "colab": {
          "base_uri": "https://localhost:8080/",
          "height": 501
        },
        "id": "Ymra1P5SaWWf",
        "outputId": "6128f059-a1ff-4ee2-fa7c-adda74320612"
      },
      "outputs": [
        {
          "name": "stdout",
          "output_type": "stream",
          "text": [
            "Accuracy:  85.30573434757169\n",
            "ROC-AUC:  0.8729105732791954\n",
            "Precision:  0.831665872637764\n",
            "Recall:  0.8465890720982865\n"
          ]
        },
        {
          "data": {
            "image/png": "[encoded data removed]",
            "text/plain": [
              "<Figure size 640x480 with 2 Axes>"
            ]
          },
          "metadata": {},
          "output_type": "display_data"
        }
      ],
      "source": [
        "dt_final = grid_search.best_estimator_\n",
        "\n",
        "# Performance metrics computation \n",
        "#Computing the accuracy\n",
        "y_pred = dt_final.predict(X_test_encoded)\n",
        "print(\"Accuracy: \",accuracy_score(y_pred, y_test)*100)  \n",
        "\n",
        "#Computing the ROC-AUC\n",
        "y_pred_prob = dt_final.predict_proba(X_test_encoded)[:,1]\n",
        "fpr, tpr, auc_thresholds = roc_curve(y_test, y_pred_prob)\n",
        "print(\"ROC-AUC: \",auc(fpr, tpr))# AUC of ROC\n",
        "\n",
        "#Computing the precision and recall\n",
        "print(\"Precision: \", precision_score(y_test, y_pred))\n",
        "print(\"Recall: \", recall_score(y_test, y_pred))\n",
        "\n",
        "#Confusion matrix\n",
        "cm = pd.DataFrame(confusion_matrix(y_test, y_pred), columns=['Predicted 0', 'Predicted 1'], \n",
        "            index = ['Actual 0', 'Actual 1'])\n",
        "sns.heatmap(cm, annot=True, cmap='Blues', fmt='g');"
      ]
    },
    {
      "cell_type": "code",
      "execution_count": 140,
      "metadata": {
        "colab": {
          "base_uri": "https://localhost:8080/",
          "height": 410
        },
        "id": "1TD2XkCQT5NB",
        "outputId": "516f4bf6-46bf-4e1f-82fe-72796ebfcf3b"
      },
      "outputs": [
        {
          "data": {
            "image/png": "[encoded data removed]",
            "text/plain": [
              "<Figure size 400x400 with 1 Axes>"
            ]
          },
          "metadata": {},
          "output_type": "display_data"
        }
      ],
      "source": [
        "#threshold tuning \n",
        "cross_val_ypred = cross_val_predict(dt_final, X_train_encoded, \n",
        "                                              y_train, cv = 5, method = 'predict_proba')\n",
        "\n",
        "p, r, thresholds = precision_recall_curve(y_train, cross_val_ypred[:,1])\n",
        "def plot_precision_recall_vs_threshold(precisions, recalls, thresholds):\n",
        "    plt.figure(figsize=(4, 4))\n",
        "    plt.title(\"Precision and Recall Scores as a function of the decision threshold\")\n",
        "    plt.plot(thresholds, precisions[:-1], \"b--\", label=\"Precision\")\n",
        "    plt.plot(thresholds, recalls[:-1], \"g-\", label=\"Recall\")\n",
        "    plt.plot(thresholds, precisions[:-1], \"o\", color = 'blue')\n",
        "    plt.plot(thresholds, recalls[:-1], \"o\", color = 'green')\n",
        "    plt.ylabel(\"Score\")\n",
        "    plt.xlabel(\"Decision Threshold\")\n",
        "    plt.legend(loc='best')\n",
        "    plt.legend()\n",
        "plot_precision_recall_vs_threshold(p, r, thresholds)"
      ]
    },
    {
      "cell_type": "code",
      "execution_count": 141,
      "metadata": {
        "colab": {
          "base_uri": "https://localhost:8080/",
          "height": 501
        },
        "id": "W_I49VZ6eT4h",
        "outputId": "cf9c8df0-de7f-4db8-8a62-389b3958963d"
      },
      "outputs": [
        {
          "name": "stdout",
          "output_type": "stream",
          "text": [
            "Accuracy:  92.73571454685043\n",
            "ROC-AUC:  0.9710631692278037\n",
            "Precision:  0.9128604337119708\n",
            "Recall:  0.9281214666451301\n"
          ]
        },
        {
          "data": {
            "image/png": "[encoded data removed]",
            "text/plain": [
              "<Figure size 640x480 with 2 Axes>"
            ]
          },
          "metadata": {},
          "output_type": "display_data"
        }
      ],
      "source": [
        "#threshold tuning \n",
        "#train\n",
        "# Performance metrics computation for the optimum decision threshold probability\n",
        "desired_threshold = 0.5\n",
        "\n",
        "y_pred_prob = dt_final.predict_proba(X_train_encoded)[:,1] \n",
        "\n",
        "# Classifying observations in the positive class (y = 1) if the predicted probability is greater\n",
        "# than the desired decision threshold probability\n",
        "y_pred = y_pred_prob > desired_threshold\n",
        "y_pred = y_pred.astype(int)\n",
        "\n",
        "#Computing the accuracy\n",
        "print(\"Accuracy: \",accuracy_score(y_pred, y_train)*100)  \n",
        "\n",
        "#Computing the ROC-AUC\n",
        "fpr, tpr, auc_thresholds = roc_curve(y_train, y_pred_prob)\n",
        "print(\"ROC-AUC: \",auc(fpr, tpr))# AUC of ROC\n",
        "\n",
        "#Computing the precision and recall\n",
        "print(\"Precision: \", precision_score(y_train, y_pred))\n",
        "print(\"Recall: \", recall_score(y_train, y_pred))\n",
        "\n",
        "#Confusion matrix\n",
        "cm = pd.DataFrame(confusion_matrix(y_train, y_pred), \n",
        "                  columns=['Predicted 0', 'Predicted 1'], index = ['Actual 0', 'Actual 1'])\n",
        "sns.heatmap(cm, annot=True, cmap='Blues', fmt='g');"
      ]
    },
    {
      "cell_type": "code",
      "execution_count": 149,
      "metadata": {
        "colab": {
          "base_uri": "https://localhost:8080/",
          "height": 501
        },
        "id": "L1nu2ydIbcUQ",
        "outputId": "8c9b56d1-ccd7-4559-ab81-8d2e9c02c398"
      },
      "outputs": [
        {
          "name": "stdout",
          "output_type": "stream",
          "text": [
            "Accuracy:  85.30573434757169\n",
            "ROC-AUC:  0.8729105732791954\n",
            "Precision:  0.831665872637764\n",
            "Recall:  0.8465890720982865\n"
          ]
        },
        {
          "data": {
            "image/png": "[encoded data removed]",
            "text/plain": [
              "<Figure size 640x480 with 2 Axes>"
            ]
          },
          "metadata": {},
          "output_type": "display_data"
        }
      ],
      "source": [
        "#threshold tuning \n",
        "#test\n",
        "# Performance metrics computation for the optimum decision threshold probability\n",
        "desired_threshold = 0.5\n",
        "\n",
        "y_pred_prob = dt_final.predict_proba(X_test_encoded)[:,1] \n",
        "\n",
        "# Classifying observations in the positive class (y = 1) if the predicted probability is greater\n",
        "# than the desired decision threshold probability\n",
        "y_pred = y_pred_prob > desired_threshold\n",
        "y_pred = y_pred.astype(int)\n",
        "\n",
        "#Computing the accuracy\n",
        "print(\"Accuracy: \",accuracy_score(y_pred, y_test)*100)  \n",
        "\n",
        "#Computing the ROC-AUC\n",
        "fpr, tpr, auc_thresholds = roc_curve(y_test, y_pred_prob)\n",
        "print(\"ROC-AUC: \",auc(fpr, tpr))# AUC of ROC\n",
        "\n",
        "#Computing the precision and recall\n",
        "print(\"Precision: \", precision_score(y_test, y_pred))\n",
        "print(\"Recall: \", recall_score(y_test, y_pred))\n",
        "\n",
        "#Confusion matrix\n",
        "cm = pd.DataFrame(confusion_matrix(y_test, y_pred), \n",
        "                  columns=['Predicted 0', 'Predicted 1'], index = ['Actual 0', 'Actual 1'])\n",
        "sns.heatmap(cm, annot=True, cmap='Blues', fmt='g');"
      ]
    },
    {
      "attachments": {},
      "cell_type": "markdown",
      "metadata": {
        "id": "LJunor91besX"
      },
      "source": [
        "# Decision Tree with Cost Complexity Tuning"
      ]
    },
    {
      "cell_type": "code",
      "execution_count": 150,
      "metadata": {
        "id": "-1E3rKvWFigE"
      },
      "outputs": [],
      "source": [
        "# decision tree cost complexity pruning \n",
        "ccp_model = DecisionTreeClassifier(random_state = 1)#model without any restrictions\n",
        "path= ccp_model.cost_complexity_pruning_path(X_train_encoded, y_train)# Compute the pruning path during Minimal Cost-Complexity Pruning."
      ]
    },
    {
      "cell_type": "code",
      "execution_count": 151,
      "metadata": {
        "colab": {
          "base_uri": "https://localhost:8080/"
        },
        "id": "3osYN7NYFugl",
        "outputId": "42c55d0e-8cfb-4a37-c677-37573e8437d2"
      },
      "outputs": [
        {
          "data": {
            "text/plain": [
              "1465"
            ]
          },
          "execution_count": 151,
          "metadata": {},
          "output_type": "execute_result"
        }
      ],
      "source": [
        "alphas=path['ccp_alphas']\n",
        "len(alphas)"
      ]
    },
    {
      "cell_type": "code",
      "execution_count": 152,
      "metadata": {
        "colab": {
          "base_uri": "https://localhost:8080/"
        },
        "id": "GTzymCmgF2B1",
        "outputId": "ed07a99e-71a1-4785-8ab2-5e532f2f6006"
      },
      "outputs": [
        {
          "name": "stdout",
          "output_type": "stream",
          "text": [
            "Fitting 30 folds for each of 10 candidates, totalling 300 fits\n",
            "Best params for recall\n",
            "{'ccp_alpha': 0.00012957283640572484}\n"
          ]
        }
      ],
      "source": [
        "#Grid search to optimize parameter values\n",
        "skf = StratifiedKFold(n_splits=30)\n",
        "grid_search = RandomizedSearchCV(DecisionTreeClassifier(random_state = 1), param_distributions = {'ccp_alpha':alphas}, \n",
        "                                                  scoring=['precision','recall','accuracy'], \n",
        "                                                  refit=\"recall\", cv=skf, n_jobs=-1, verbose = True)\n",
        "grid_search.fit(X_train_encoded, y_train)\n",
        "\n",
        "# make the predictions\n",
        "y_pred = grid_search.predict(X_test_encoded)\n",
        "print('Best params for recall')\n",
        "print(grid_search.best_params_)"
      ]
    },
    {
      "cell_type": "code",
      "execution_count": 153,
      "metadata": {
        "colab": {
          "base_uri": "https://localhost:8080/",
          "height": 75
        },
        "id": "XdsnMmBY7kic",
        "outputId": "11dd8d3d-a7ca-4403-8408-4e5568ce0673"
      },
      "outputs": [
        {
          "data": {
            "text/html": [
              "<style>#sk-container-id-7 {color: black;background-color: white;}#sk-container-id-7 pre{padding: 0;}#sk-container-id-7 div.sk-toggleable {background-color: white;}#sk-container-id-7 label.sk-toggleable__label {cursor: pointer;display: block;width: 100%;margin-bottom: 0;padding: 0.3em;box-sizing: border-box;text-align: center;}#sk-container-id-7 label.sk-toggleable__label-arrow:before {content: \"▸\";float: left;margin-right: 0.25em;color: #696969;}#sk-container-id-7 label.sk-toggleable__label-arrow:hover:before {color: black;}#sk-container-id-7 div.sk-estimator:hover label.sk-toggleable__label-arrow:before {color: black;}#sk-container-id-7 div.sk-toggleable__content {max-height: 0;max-width: 0;overflow: hidden;text-align: left;background-color: #f0f8ff;}#sk-container-id-7 div.sk-toggleable__content pre {margin: 0.2em;color: black;border-radius: 0.25em;background-color: #f0f8ff;}#sk-container-id-7 input.sk-toggleable__control:checked~div.sk-toggleable__content {max-height: 200px;max-width: 100%;overflow: auto;}#sk-container-id-7 input.sk-toggleable__control:checked~label.sk-toggleable__label-arrow:before {content: \"▾\";}#sk-container-id-7 div.sk-estimator input.sk-toggleable__control:checked~label.sk-toggleable__label {background-color: #d4ebff;}#sk-container-id-7 div.sk-label input.sk-toggleable__control:checked~label.sk-toggleable__label {background-color: #d4ebff;}#sk-container-id-7 input.sk-hidden--visually {border: 0;clip: rect(1px 1px 1px 1px);clip: rect(1px, 1px, 1px, 1px);height: 1px;margin: -1px;overflow: hidden;padding: 0;position: absolute;width: 1px;}#sk-container-id-7 div.sk-estimator {font-family: monospace;background-color: #f0f8ff;border: 1px dotted black;border-radius: 0.25em;box-sizing: border-box;margin-bottom: 0.5em;}#sk-container-id-7 div.sk-estimator:hover {background-color: #d4ebff;}#sk-container-id-7 div.sk-parallel-item::after {content: \"\";width: 100%;border-bottom: 1px solid gray;flex-grow: 1;}#sk-container-id-7 div.sk-label:hover label.sk-toggleable__label {background-color: #d4ebff;}#sk-container-id-7 div.sk-serial::before {content: \"\";position: absolute;border-left: 1px solid gray;box-sizing: border-box;top: 0;bottom: 0;left: 50%;z-index: 0;}#sk-container-id-7 div.sk-serial {display: flex;flex-direction: column;align-items: center;background-color: white;padding-right: 0.2em;padding-left: 0.2em;position: relative;}#sk-container-id-7 div.sk-item {position: relative;z-index: 1;}#sk-container-id-7 div.sk-parallel {display: flex;align-items: stretch;justify-content: center;background-color: white;position: relative;}#sk-container-id-7 div.sk-item::before, #sk-container-id-7 div.sk-parallel-item::before {content: \"\";position: absolute;border-left: 1px solid gray;box-sizing: border-box;top: 0;bottom: 0;left: 50%;z-index: -1;}#sk-container-id-7 div.sk-parallel-item {display: flex;flex-direction: column;z-index: 1;position: relative;background-color: white;}#sk-container-id-7 div.sk-parallel-item:first-child::after {align-self: flex-end;width: 50%;}#sk-container-id-7 div.sk-parallel-item:last-child::after {align-self: flex-start;width: 50%;}#sk-container-id-7 div.sk-parallel-item:only-child::after {width: 0;}#sk-container-id-7 div.sk-dashed-wrapped {border: 1px dashed gray;margin: 0 0.4em 0.5em 0.4em;box-sizing: border-box;padding-bottom: 0.4em;background-color: white;}#sk-container-id-7 div.sk-label label {font-family: monospace;font-weight: bold;display: inline-block;line-height: 1.2em;}#sk-container-id-7 div.sk-label-container {text-align: center;}#sk-container-id-7 div.sk-container {/* jupyter's `normalize.less` sets `[hidden] { display: none; }` but bootstrap.min.css set `[hidden] { display: none !important; }` so we also need the `!important` here to be able to override the default hidden behavior on the sphinx rendered scikit-learn.org. See: https://github.com/scikit-learn/scikit-learn/issues/21755 */display: inline-block !important;position: relative;}#sk-container-id-7 div.sk-text-repr-fallback {display: none;}</style><div id=\"sk-container-id-7\" class=\"sk-top-container\"><div class=\"sk-text-repr-fallback\"><pre>DecisionTreeClassifier(ccp_alpha=0.00012957283640572484, random_state=1)</pre><b>In a Jupyter environment, please rerun this cell to show the HTML representation or trust the notebook. <br />On GitHub, the HTML representation is unable to render, please try loading this page with nbviewer.org.</b></div><div class=\"sk-container\" hidden><div class=\"sk-item\"><div class=\"sk-estimator sk-toggleable\"><input class=\"sk-toggleable__control sk-hidden--visually\" id=\"sk-estimator-id-17\" type=\"checkbox\" checked><label for=\"sk-estimator-id-17\" class=\"sk-toggleable__label sk-toggleable__label-arrow\">DecisionTreeClassifier</label><div class=\"sk-toggleable__content\"><pre>DecisionTreeClassifier(ccp_alpha=0.00012957283640572484, random_state=1)</pre></div></div></div></div></div>"
            ],
            "text/plain": [
              "DecisionTreeClassifier(ccp_alpha=0.00012957283640572484, random_state=1)"
            ]
          },
          "execution_count": 153,
          "metadata": {},
          "output_type": "execute_result"
        }
      ],
      "source": [
        "# Model with the optimal value of 'ccp_alpha'\n",
        "ccp_model = DecisionTreeClassifier(ccp_alpha=0.00012957283640572484,random_state=1)\n",
        "ccp_model.fit(X_train_encoded, y_train)"
      ]
    },
    {
      "cell_type": "code",
      "execution_count": 154,
      "metadata": {
        "colab": {
          "base_uri": "https://localhost:8080/",
          "height": 506
        },
        "id": "7Fg5c6x278qB",
        "outputId": "46ce9590-ce38-450d-d480-da405ec03bf1"
      },
      "outputs": [
        {
          "name": "stdout",
          "output_type": "stream",
          "text": [
            "Accuracy:  86.21269748390871\n",
            "ROC-AUC:  0.9277740477126437\n",
            "Precision:  0.8419462553665129\n",
            "Recall:  0.8559650824442289\n"
          ]
        },
        {
          "data": {
            "image/png": "[encoded data removed]",
            "text/plain": [
              "<Figure size 640x480 with 2 Axes>"
            ]
          },
          "metadata": {},
          "output_type": "display_data"
        }
      ],
      "source": [
        "# Performance metrics computation \n",
        "#Computing the accuracy\n",
        "y_pred = ccp_model.predict(X_test_encoded)\n",
        "print(\"Accuracy: \",accuracy_score(y_pred, y_test)*100)  \n",
        "\n",
        "#Computing the ROC-AUC\n",
        "y_pred_prob = ccp_model.predict_proba(X_test_encoded)[:,1]\n",
        "fpr, tpr, auc_thresholds = roc_curve(y_test, y_pred_prob)\n",
        "print(\"ROC-AUC: \",auc(fpr, tpr))# AUC of ROC\n",
        "\n",
        "#Computing the precision and recall\n",
        "print(\"Precision: \", precision_score(y_test, y_pred))\n",
        "print(\"Recall: \", recall_score(y_test, y_pred))\n",
        "\n",
        "#Confusion matrix\n",
        "cm = pd.DataFrame(confusion_matrix(y_test, y_pred), columns=['Predicted 0', 'Predicted 1'], \n",
        "            index = ['Actual 0', 'Actual 1'])\n",
        "sns.heatmap(cm, annot=True, cmap='Blues', fmt='g');"
      ]
    },
    {
      "cell_type": "code",
      "execution_count": 155,
      "metadata": {
        "colab": {
          "base_uri": "https://localhost:8080/",
          "height": 410
        },
        "id": "Id8yS9u69fJt",
        "outputId": "12745b26-62ef-41c6-b934-2635a29f3880"
      },
      "outputs": [
        {
          "data": {
            "image/png": "[encoded data removed]",
            "text/plain": [
              "<Figure size 400x400 with 1 Axes>"
            ]
          },
          "metadata": {},
          "output_type": "display_data"
        }
      ],
      "source": [
        "#threshold tuning \n",
        "cross_val_ypred = cross_val_predict(ccp_model, X_train_encoded, \n",
        "                                              y_train, cv = 5, method = 'predict_proba')\n",
        "\n",
        "p, r, thresholds = precision_recall_curve(y_train, cross_val_ypred[:,1])\n",
        "def plot_precision_recall_vs_threshold(precisions, recalls, thresholds):\n",
        "    plt.figure(figsize=(4, 4))\n",
        "    plt.title(\"Precision and Recall Scores as a function of the decision threshold\")\n",
        "    plt.plot(thresholds, precisions[:-1], \"b--\", label=\"Precision\")\n",
        "    plt.plot(thresholds, recalls[:-1], \"g-\", label=\"Recall\")\n",
        "    plt.plot(thresholds, precisions[:-1], \"o\", color = 'blue')\n",
        "    plt.plot(thresholds, recalls[:-1], \"o\", color = 'green')\n",
        "    plt.ylabel(\"Score\")\n",
        "    plt.xlabel(\"Decision Threshold\")\n",
        "    plt.legend(loc='best')\n",
        "    plt.legend()\n",
        "plot_precision_recall_vs_threshold(p, r, thresholds)"
      ]
    },
    {
      "cell_type": "code",
      "execution_count": 160,
      "metadata": {
        "colab": {
          "base_uri": "https://localhost:8080/",
          "height": 501
        },
        "id": "ekICUD9Eimrj",
        "outputId": "701945cb-90b7-48e4-d0bb-e33eac0a616a"
      },
      "outputs": [
        {
          "name": "stdout",
          "output_type": "stream",
          "text": [
            "Accuracy:  88.31572405220633\n",
            "ROC-AUC:  0.9459728155206566\n",
            "Precision:  0.8697472226694574\n",
            "Recall:  0.8725569374899047\n"
          ]
        },
        {
          "data": {
            "image/png": "[encoded data removed]",
            "text/plain": [
              "<Figure size 640x480 with 2 Axes>"
            ]
          },
          "metadata": {},
          "output_type": "display_data"
        }
      ],
      "source": [
        "# Performance metrics computation for the optimum decision threshold probability\n",
        "desired_threshold = 0.55\n",
        "\n",
        "y_pred_prob = ccp_model.predict_proba(X_train_encoded)[:,1] \n",
        "\n",
        "# Classifying observations in the positive class (y = 1) if the predicted probability is greater\n",
        "# than the desired decision threshold probability\n",
        "y_pred = y_pred_prob > desired_threshold\n",
        "y_pred = y_pred.astype(int)\n",
        "\n",
        "#Computing the accuracy\n",
        "print(\"Accuracy: \",accuracy_score(y_pred, y_train)*100)  \n",
        "\n",
        "#Computing the ROC-AUC\n",
        "fpr, tpr, auc_thresholds = roc_curve(y_train, y_pred_prob)\n",
        "print(\"ROC-AUC: \",auc(fpr, tpr))# AUC of ROC\n",
        "\n",
        "#Computing the precision and recall\n",
        "print(\"Precision: \", precision_score(y_train, y_pred))\n",
        "print(\"Recall: \", recall_score(y_train, y_pred))\n",
        "\n",
        "#Confusion matrix\n",
        "cm = pd.DataFrame(confusion_matrix(y_train, y_pred), \n",
        "                  columns=['Predicted 0', 'Predicted 1'], index = ['Actual 0', 'Actual 1'])\n",
        "sns.heatmap(cm, annot=True, cmap='Blues', fmt='g');"
      ]
    },
    {
      "cell_type": "code",
      "execution_count": 164,
      "metadata": {
        "colab": {
          "base_uri": "https://localhost:8080/",
          "height": 501
        },
        "id": "W1nbOcj2LzDp",
        "outputId": "a6932d4c-2bc5-47dd-c22e-e47ff8f9e457"
      },
      "outputs": [
        {
          "name": "stdout",
          "output_type": "stream",
          "text": [
            "Accuracy:  86.13955529549445\n",
            "ROC-AUC:  0.9277740477126437\n",
            "Precision:  0.8444373093594477\n",
            "Recall:  0.850307145166505\n"
          ]
        },
        {
          "data": {
            "image/png": "[encoded data removed]",
            "text/plain": [
              "<Figure size 640x480 with 2 Axes>"
            ]
          },
          "metadata": {},
          "output_type": "display_data"
        }
      ],
      "source": [
        "# Performance metrics computation for the optimum decision threshold probability\n",
        "desired_threshold = 0.55\n",
        "\n",
        "y_pred_prob = ccp_model.predict_proba(X_test_encoded)[:,1] \n",
        "\n",
        "# Classifying observations in the positive class (y = 1) if the predicted probability is greater\n",
        "# than the desired decision threshold probability\n",
        "y_pred = y_pred_prob > desired_threshold\n",
        "y_pred = y_pred.astype(int)\n",
        "\n",
        "#Computing the accuracy\n",
        "print(\"Accuracy: \",accuracy_score(y_pred, y_test)*100)  \n",
        "\n",
        "#Computing the ROC-AUC\n",
        "fpr, tpr, auc_thresholds = roc_curve(y_test, y_pred_prob)\n",
        "print(\"ROC-AUC: \",auc(fpr, tpr))# AUC of ROC\n",
        "\n",
        "#Computing the precision and recall\n",
        "print(\"Precision: \", precision_score(y_test, y_pred))\n",
        "print(\"Recall: \", recall_score(y_test, y_pred))\n",
        "\n",
        "#Confusion matrix\n",
        "cm = pd.DataFrame(confusion_matrix(y_test, y_pred), \n",
        "                  columns=['Predicted 0', 'Predicted 1'], index = ['Actual 0', 'Actual 1'])\n",
        "sns.heatmap(cm, annot=True, cmap='Blues', fmt='g');"
      ]
    },
    {
      "attachments": {},
      "cell_type": "markdown",
      "metadata": {
        "id": "wtOwu9oGFbHy"
      },
      "source": [
        "# Random Forest"
      ]
    },
    {
      "cell_type": "code",
      "execution_count": 116,
      "metadata": {
        "id": "GnOzoJyyF1lI"
      },
      "outputs": [],
      "source": [
        "import pandas as pd\n",
        "import numpy as np\n",
        "import seaborn as sns\n",
        "import matplotlib.pyplot as plt\n",
        "from sklearn.metrics import mean_squared_error\n",
        "from sklearn.model_selection import cross_val_score,train_test_split\n",
        "from sklearn.model_selection import KFold\n",
        "from sklearn.tree import DecisionTreeRegressor,DecisionTreeClassifier\n",
        "from sklearn.model_selection import GridSearchCV, ParameterGrid, RandomizedSearchCV\n",
        "from sklearn.ensemble import BaggingRegressor,BaggingClassifier,RandomForestRegressor,RandomForestClassifier\n",
        "from sklearn.linear_model import LinearRegression,LogisticRegression\n",
        "from sklearn.neighbors import KNeighborsRegressor\n",
        "from sklearn.metrics import roc_curve, precision_recall_curve, auc, make_scorer, recall_score, \\\n",
        "accuracy_score, precision_score, confusion_matrix, mean_squared_error, r2_score\n",
        "\n",
        "import itertools as it\n",
        "import pandas as pd\n",
        "import numpy as np\n",
        "import seaborn as sns\n",
        "import matplotlib.pyplot as plt\n",
        "from sklearn.metrics import mean_squared_error\n",
        "from sklearn.model_selection import cross_val_score,train_test_split\n",
        "from sklearn.model_selection import KFold\n",
        "from sklearn.tree import DecisionTreeRegressor,DecisionTreeClassifier\n",
        "from sklearn.model_selection import GridSearchCV, ParameterGrid\n",
        "from sklearn.ensemble import BaggingRegressor,BaggingClassifier,RandomForestRegressor,RandomForestClassifier\n",
        "from sklearn.linear_model import LinearRegression,LogisticRegression\n",
        "from sklearn.neighbors import KNeighborsRegressor\n",
        "from sklearn.metrics import roc_curve, precision_recall_curve, auc, make_scorer, recall_score, \\\n",
        "accuracy_score, precision_score, confusion_matrix, mean_squared_error, r2_score\n",
        "\n",
        "import itertools as it\n",
        "import time as time"
      ]
    },
    {
      "cell_type": "code",
      "execution_count": 190,
      "metadata": {
        "colab": {
          "base_uri": "https://localhost:8080/"
        },
        "id": "LVtncSxr3vUn",
        "outputId": "406b26f8-59bc-479b-e19f-73ae99869520"
      },
      "outputs": [
        {
          "name": "stdout",
          "output_type": "stream",
          "text": [
            "0.8765359859566998 0.8839314581312642\n"
          ]
        }
      ],
      "source": [
        "# Random Forest Base Model \n",
        "rf_model1 = RandomForestClassifier(random_state=1)\n",
        "rf_model1.fit(X_train_encoded, y_train)\n",
        "y_pred = rf_model1.predict(X_test_encoded)\n",
        "print(accuracy_score(y_test, y_pred), recall_score(y_test, y_pred))"
      ]
    },
    {
      "cell_type": "code",
      "execution_count": 186,
      "metadata": {
        "colab": {
          "base_uri": "https://localhost:8080/"
        },
        "id": "ZVGEQQBo4nro",
        "outputId": "cf4ea01e-55a9-48f9-d3ad-8a13e29b9a44"
      },
      "outputs": [
        {
          "data": {
            "text/html": [
              "<div>\n",
              "<style scoped>\n",
              "    .dataframe tbody tr th:only-of-type {\n",
              "        vertical-align: middle;\n",
              "    }\n",
              "\n",
              "    .dataframe tbody tr th {\n",
              "        vertical-align: top;\n",
              "    }\n",
              "\n",
              "    .dataframe thead th {\n",
              "        text-align: right;\n",
              "    }\n",
              "</style>\n",
              "<table border=\"1\" class=\"dataframe\">\n",
              "  <thead>\n",
              "    <tr style=\"text-align: right;\">\n",
              "      <th></th>\n",
              "      <th>Feature</th>\n",
              "      <th>Importance</th>\n",
              "    </tr>\n",
              "  </thead>\n",
              "  <tbody>\n",
              "    <tr>\n",
              "      <th>0</th>\n",
              "      <td>age</td>\n",
              "      <td>0.080431</td>\n",
              "    </tr>\n",
              "    <tr>\n",
              "      <th>1</th>\n",
              "      <td>wage_hr</td>\n",
              "      <td>0.006333</td>\n",
              "    </tr>\n",
              "    <tr>\n",
              "      <th>2</th>\n",
              "      <td>cap_gain</td>\n",
              "      <td>0.028508</td>\n",
              "    </tr>\n",
              "    <tr>\n",
              "      <th>3</th>\n",
              "      <td>cap_loss</td>\n",
              "      <td>0.008877</td>\n",
              "    </tr>\n",
              "    <tr>\n",
              "      <th>4</th>\n",
              "      <td>dividend</td>\n",
              "      <td>0.058250</td>\n",
              "    </tr>\n",
              "    <tr>\n",
              "      <th>5</th>\n",
              "      <td>inst_weight</td>\n",
              "      <td>0.043712</td>\n",
              "    </tr>\n",
              "    <tr>\n",
              "      <th>6</th>\n",
              "      <td>num_ppl_worked</td>\n",
              "      <td>0.034338</td>\n",
              "    </tr>\n",
              "    <tr>\n",
              "      <th>7</th>\n",
              "      <td>weeks_worked</td>\n",
              "      <td>0.061615</td>\n",
              "    </tr>\n",
              "    <tr>\n",
              "      <th>8</th>\n",
              "      <td>class_ Federal government</td>\n",
              "      <td>0.001915</td>\n",
              "    </tr>\n",
              "    <tr>\n",
              "      <th>9</th>\n",
              "      <td>class_ Local government</td>\n",
              "      <td>0.002234</td>\n",
              "    </tr>\n",
              "  </tbody>\n",
              "</table>\n",
              "</div>"
            ],
            "text/plain": [
              "                     Feature  Importance\n",
              "0                        age    0.080431\n",
              "1                    wage_hr    0.006333\n",
              "2                   cap_gain    0.028508\n",
              "3                   cap_loss    0.008877\n",
              "4                   dividend    0.058250\n",
              "5                inst_weight    0.043712\n",
              "6             num_ppl_worked    0.034338\n",
              "7               weeks_worked    0.061615\n",
              "8  class_ Federal government    0.001915\n",
              "9    class_ Local government    0.002234"
            ]
          },
          "execution_count": 186,
          "metadata": {},
          "output_type": "execute_result"
        }
      ],
      "source": [
        "# Feature Importance \n",
        "feature_importance = rf_model1.feature_importances_\n",
        "feature_importance_df = pd.DataFrame({'Feature': X_train_encoded.columns, 'Importance': feature_importance})\n",
        "feature_importance_df.head(10)"
      ]
    },
    {
      "cell_type": "code",
      "execution_count": 211,
      "metadata": {},
      "outputs": [
        {
          "data": {
            "text/plain": [
              "(27353, 159)"
            ]
          },
          "execution_count": 211,
          "metadata": {},
          "output_type": "execute_result"
        }
      ],
      "source": [
        "# Drop features with importance less than 0.001\n",
        "imp_features = feature_importance_df[feature_importance_df['Importance'] >= 0.001]['Feature']\n",
        "X_train_filtered = X_train_encoded[imp_features]\n",
        "X_test_filtered = X_test_encoded[imp_features]\n",
        "X_train_filtered.shape"
      ]
    },
    {
      "cell_type": "code",
      "execution_count": 220,
      "metadata": {},
      "outputs": [
        {
          "name": "stdout",
          "output_type": "stream",
          "text": [
            "0.8765359859566998 0.8839314581312642\n"
          ]
        }
      ],
      "source": [
        "# Random Forest Base Model with important features\n",
        "rf_model1 = RandomForestClassifier(random_state=1)\n",
        "rf_model1.fit(X_train_encoded, y_train)\n",
        "y_pred = rf_model1.predict(X_test_encoded)\n",
        "print(accuracy_score(y_test, y_pred), recall_score(y_test, y_pred))"
      ]
    },
    {
      "cell_type": "code",
      "execution_count": 230,
      "metadata": {
        "colab": {
          "base_uri": "https://localhost:8080/"
        },
        "id": "H4Gs5eMW1WY6",
        "outputId": "d9049399-4230-42f6-8186-8157d8e291de"
      },
      "outputs": [
        {
          "name": "stdout",
          "output_type": "stream",
          "text": [
            "Fitting 20 folds for each of 10 candidates, totalling 200 fits\n",
            "Best Accuracy: 0.8928916339397732 Best Parameters: {'n_estimators': 400, 'max_samples': 0.5, 'max_leaf_nodes': 3205, 'max_features': 10, 'max_depth': 20}\n"
          ]
        }
      ],
      "source": [
        "#Course Grid\n",
        "parameters = {'max_depth': range(5,51,5),\n",
        "              'max_leaf_nodes': range(5,3400,100),\n",
        "              'max_features': range(10, 180, 10), \n",
        "              'n_estimators': range(100, 501, 100),\n",
        "             'max_samples':[0.25,0.5,0.75]}\n",
        "cv = KFold(n_splits = 20,shuffle=True,random_state=1)\n",
        "rf_model2 = RandomizedSearchCV(RandomForestClassifier(random_state=1, n_jobs=-1), parameters, \n",
        "                     scoring=['accuracy','recall'], refit='recall',\n",
        "                            cv=cv, n_jobs=-1, verbose = True)\n",
        "rf_model2.fit(X_train_encoded, y_train)\n",
        "print(\"Best Accuracy:\", rf_model2.best_score_, \"Best Parameters:\",rf_model2.best_params_)"
      ]
    },
    {
      "cell_type": "code",
      "execution_count": 231,
      "metadata": {},
      "outputs": [
        {
          "name": "stdout",
          "output_type": "stream",
          "text": [
            "Fitting 5 folds for each of 10 candidates, totalling 50 fits\n",
            "Best Accuracy: 0.8951373962868988 Best Parameters: {'max_samples': 0.5, 'max_leaf_nodes': 3203, 'max_features': 9, 'max_depth': 19}\n"
          ]
        }
      ],
      "source": [
        "#Finer Grid \n",
        "# From Course Grid {'n_estimators': 400, 'max_samples': 0.5, 'max_leaf_nodes': 3205, 'max_features': 10, 'max_depth': 20}\n",
        "parameters = {'max_depth':range(18,23),\n",
        "              'max_leaf_nodes':range(3200,3209,3),\n",
        "              'max_features':range(8,12), \n",
        "             'max_samples':[0.45, 0.5, 0.55]}\n",
        "cv = KFold(n_splits = 5,shuffle=True,random_state=1)\n",
        "rf_model2 = RandomizedSearchCV(RandomForestClassifier(random_state=1, n_jobs=-1, n_estimators = 400), parameters, \n",
        "                     scoring=['accuracy','recall'], refit='recall',\n",
        "                            cv=cv, n_jobs=-1, verbose = True)\n",
        "rf_model2.fit(X_train_encoded, y_train)\n",
        "print(\"Best Accuracy:\", rf_model2.best_score_, \"Best Parameters:\",rf_model2.best_params_)#Course Grid"
      ]
    },
    {
      "cell_type": "code",
      "execution_count": 232,
      "metadata": {
        "colab": {
          "base_uri": "https://localhost:8080/",
          "height": 501
        },
        "id": "gEx1uVi_I_jD",
        "outputId": "dca62149-6f91-461f-de57-70d22761e0d8"
      },
      "outputs": [
        {
          "name": "stdout",
          "output_type": "stream",
          "text": [
            "Accuracy:  87.14160327677004\n",
            "ROC-AUC:  0.9462636213959991\n",
            "Precision:  0.8294642857142858\n",
            "Recall:  0.9010669253152279\n"
          ]
        },
        {
          "data": {
            "image/png": "[encoded data removed]",
            "text/plain": [
              "<Figure size 640x480 with 2 Axes>"
            ]
          },
          "metadata": {},
          "output_type": "display_data"
        }
      ],
      "source": [
        "rf_final = rf_model2.best_estimator_\n",
        "\n",
        "# Performance metrics computation \n",
        "#Computing the accuracy\n",
        "y_pred = rf_final.predict(X_test_encoded)\n",
        "print(\"Accuracy: \",accuracy_score(y_pred, y_test)*100)  \n",
        "\n",
        "#Computing the ROC-AUC\n",
        "y_pred_prob = rf_final.predict_proba(X_test_encoded)[:,1]\n",
        "fpr, tpr, auc_thresholds = roc_curve(y_test, y_pred_prob)\n",
        "print(\"ROC-AUC: \",auc(fpr, tpr))# AUC of ROC\n",
        "\n",
        "#Computing the precision and recall\n",
        "print(\"Precision: \", precision_score(y_test, y_pred))\n",
        "print(\"Recall: \", recall_score(y_test, y_pred))\n",
        "\n",
        "#Confusion matrix\n",
        "cm = pd.DataFrame(confusion_matrix(y_test, y_pred), columns=['Predicted 0', 'Predicted 1'], \n",
        "            index = ['Actual 0', 'Actual 1'])\n",
        "sns.heatmap(cm, annot=True, cmap='Blues', fmt='g');"
      ]
    },
    {
      "cell_type": "code",
      "execution_count": 233,
      "metadata": {
        "colab": {
          "base_uri": "https://localhost:8080/",
          "height": 410
        },
        "id": "6x-vVZMKKHWy",
        "outputId": "0b686117-b27b-4e8c-c286-b64315967b51"
      },
      "outputs": [
        {
          "data": {
            "image/png": "[encoded data removed]",
            "text/plain": [
              "<Figure size 400x400 with 1 Axes>"
            ]
          },
          "metadata": {},
          "output_type": "display_data"
        }
      ],
      "source": [
        "#threshold tuning \n",
        "cross_val_ypred = cross_val_predict(rf_final, X_train_encoded, \n",
        "                                              y_train, cv = 5, method = 'predict_proba')\n",
        "\n",
        "p, r, thresholds = precision_recall_curve(y_train, cross_val_ypred[:,1])\n",
        "def plot_precision_recall_vs_threshold(precisions, recalls, thresholds):\n",
        "    plt.figure(figsize=(4, 4))\n",
        "    plt.title(\"Precision and Recall Scores as a function of the decision threshold\")\n",
        "    plt.plot(thresholds, precisions[:-1], \"b--\", label=\"Precision\")\n",
        "    plt.plot(thresholds, recalls[:-1], \"g-\", label=\"Recall\")\n",
        "    plt.plot(thresholds, precisions[:-1], \"o\", color = 'blue')\n",
        "    plt.plot(thresholds, recalls[:-1], \"o\", color = 'green')\n",
        "    plt.ylabel(\"Score\")\n",
        "    plt.xlabel(\"Decision Threshold\")\n",
        "    plt.legend(loc='best')\n",
        "    plt.legend()\n",
        "plot_precision_recall_vs_threshold(p, r, thresholds)"
      ]
    },
    {
      "cell_type": "code",
      "execution_count": 235,
      "metadata": {
        "colab": {
          "base_uri": "https://localhost:8080/",
          "height": 501
        },
        "id": "IAvZz7uGkwUP",
        "outputId": "265019e8-4962-4345-e0e1-aa71d1f46552"
      },
      "outputs": [
        {
          "name": "stdout",
          "output_type": "stream",
          "text": [
            "Accuracy:  92.08496325814353\n",
            "ROC-AUC:  0.9791866331656914\n",
            "Precision:  0.9040575812702681\n",
            "Recall:  0.9231141980293975\n"
          ]
        },
        {
          "data": {
            "image/png": "[encoded data removed]",
            "text/plain": [
              "<Figure size 640x480 with 2 Axes>"
            ]
          },
          "metadata": {},
          "output_type": "display_data"
        }
      ],
      "source": [
        "# train\n",
        "# Performance metrics computation for the optimum decision threshold probability\n",
        "desired_threshold = 0.55\n",
        "\n",
        "y_pred_prob = rf_final.predict_proba(X_train_encoded)[:,1] \n",
        "\n",
        "# Classifying observations in the positive class (y = 1) if the predicted probability is greater\n",
        "# than the desired decision threshold probability\n",
        "y_pred = y_pred_prob > desired_threshold\n",
        "y_pred = y_pred.astype(int)\n",
        "\n",
        "#Computing the accuracy\n",
        "print(\"Accuracy: \",accuracy_score(y_pred, y_train)*100)  \n",
        "\n",
        "#Computing the ROC-AUC\n",
        "fpr, tpr, auc_thresholds = roc_curve(y_train, y_pred_prob)\n",
        "print(\"ROC-AUC: \",auc(fpr, tpr))# AUC of ROC\n",
        "\n",
        "#Computing the precision and recall\n",
        "print(\"Precision: \", precision_score(y_train, y_pred))\n",
        "print(\"Recall: \", recall_score(y_train, y_pred))\n",
        "\n",
        "#Confusion matrix\n",
        "cm = pd.DataFrame(confusion_matrix(y_train, y_pred), \n",
        "                  columns=['Predicted 0', 'Predicted 1'], index = ['Actual 0', 'Actual 1'])\n",
        "sns.heatmap(cm, annot=True, cmap='Blues', fmt='g');"
      ]
    },
    {
      "cell_type": "code",
      "execution_count": 236,
      "metadata": {
        "colab": {
          "base_uri": "https://localhost:8080/",
          "height": 501
        },
        "id": "eYmXnoZeKfod",
        "outputId": "d0b34131-945d-48e0-e6f8-d44cf34a322a"
      },
      "outputs": [
        {
          "name": "stdout",
          "output_type": "stream",
          "text": [
            "Accuracy:  87.19280280866003\n",
            "ROC-AUC:  0.9462636213959991\n",
            "Precision:  0.8524876808138611\n",
            "Recall:  0.8669576462980925\n"
          ]
        },
        {
          "data": {
            "image/png": "[encoded data removed]",
            "text/plain": [
              "<Figure size 640x480 with 2 Axes>"
            ]
          },
          "metadata": {},
          "output_type": "display_data"
        }
      ],
      "source": [
        "#test \n",
        "# Performance metrics computation for the optimum decision threshold probability\n",
        "desired_threshold = 0.55\n",
        "\n",
        "y_pred_prob = rf_final.predict_proba(X_test_encoded)[:,1] \n",
        "\n",
        "# Classifying observations in the positive class (y = 1) if the predicted probability is greater\n",
        "# than the desired decision threshold probability\n",
        "y_pred = y_pred_prob > desired_threshold\n",
        "y_pred = y_pred.astype(int)\n",
        "\n",
        "#Computing the accuracy\n",
        "print(\"Accuracy: \",accuracy_score(y_pred, y_test)*100)  \n",
        "\n",
        "#Computing the ROC-AUC\n",
        "fpr, tpr, auc_thresholds = roc_curve(y_test, y_pred_prob)\n",
        "print(\"ROC-AUC: \",auc(fpr, tpr))# AUC of ROC\n",
        "\n",
        "#Computing the precision and recall\n",
        "print(\"Precision: \", precision_score(y_test, y_pred))\n",
        "print(\"Recall: \", recall_score(y_test, y_pred))\n",
        "\n",
        "#Confusion matrix\n",
        "cm = pd.DataFrame(confusion_matrix(y_test, y_pred), \n",
        "                  columns=['Predicted 0', 'Predicted 1'], index = ['Actual 0', 'Actual 1'])\n",
        "sns.heatmap(cm, annot=True, cmap='Blues', fmt='g');"
      ]
    },
    {
      "cell_type": "code",
      "execution_count": 238,
      "metadata": {
        "colab": {
          "base_uri": "https://localhost:8080/"
        },
        "id": "nCkiTTKMMa-h",
        "outputId": "386d5e10-49c6-4ee6-e3a5-d0b39d92b451"
      },
      "outputs": [
        {
          "data": {
            "text/plain": [
              "weeks_worked                         0.071213\n",
              "dividend                             0.058113\n",
              "age                                  0.056701\n",
              "num_ppl_worked                       0.049640\n",
              "tax_filer_stat_ Nonfiler             0.030873\n",
              "                                       ...   \n",
              "ind_code_det_24                      0.000481\n",
              "occ_code_maj_ Protective services    0.000468\n",
              "ind_code_det_31                      0.000453\n",
              "race_ Other                          0.000434\n",
              "hisp_origin_ Puerto Rican            0.000410\n",
              "Length: 189, dtype: float64"
            ]
          },
          "execution_count": 238,
          "metadata": {},
          "output_type": "execute_result"
        }
      ],
      "source": [
        "# Feature Importance \n",
        "feature_scores = pd.Series(rf_final.feature_importances_, index=X_train_encoded.columns).sort_values(ascending=False)\n",
        "feature_scores"
      ]
    }
  ],
  "metadata": {
    "colab": {
      "provenance": []
    },
    "kernelspec": {
      "display_name": "Python 3",
      "language": "python",
      "name": "python3"
    },
    "language_info": {
      "codemirror_mode": {
        "name": "ipython",
        "version": 3
      },
      "file_extension": ".py",
      "mimetype": "text/x-python",
      "name": "python",
      "nbconvert_exporter": "python",
      "pygments_lexer": "ipython3",
      "version": "3.10.9"
    },
    "orig_nbformat": 4
  },
  "nbformat": 4,
  "nbformat_minor": 0
}
