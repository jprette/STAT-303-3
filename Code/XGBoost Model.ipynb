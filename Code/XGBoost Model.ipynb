{
 "cells": [
  {
   "cell_type": "code",
   "execution_count": 1,
   "id": "649f204f",
   "metadata": {},
   "outputs": [],
   "source": [
    "import pandas as pd\n",
    "import numpy as np\n",
    "import seaborn as sns\n",
    "import matplotlib.pyplot as plt\n",
    "from sklearn.model_selection import cross_val_score,train_test_split, KFold, cross_val_predict\n",
    "from sklearn.metrics import mean_squared_error,r2_score,roc_curve,auc,precision_recall_curve, accuracy_score, \\\n",
    "recall_score, precision_score, confusion_matrix,f1_score\n",
    "from sklearn.tree import DecisionTreeRegressor,DecisionTreeClassifier\n",
    "from sklearn.model_selection import GridSearchCV, ParameterGrid, StratifiedKFold, RandomizedSearchCV\n",
    "from sklearn.ensemble import VotingRegressor, VotingClassifier, StackingRegressor, StackingClassifier, GradientBoostingRegressor,GradientBoostingClassifier, BaggingRegressor,BaggingClassifier,RandomForestRegressor,RandomForestClassifier,AdaBoostRegressor,AdaBoostClassifier\n",
    "from sklearn.linear_model import LogisticRegression\n",
    "from sklearn.neighbors import KNeighborsRegressor\n",
    "from sklearn.preprocessing import LabelEncoder\n",
    "import itertools as it\n",
    "import time as time\n",
    "import xgboost as xgb"
   ]
  },
  {
   "cell_type": "code",
   "execution_count": 123,
   "id": "82bd6679",
   "metadata": {},
   "outputs": [],
   "source": [
    "column_names=[\n",
    "    'age', 'class', 'ind_code_det', 'occ_code_det', 'education', 'wage_hr', 'enroll_edu', 'marital',\n",
    "    'ind_code_maj', 'occ_code_maj', 'race', 'hisp_origin', 'sex', 'lab_union', 'reason_unemp',\n",
    "    'emp_status', 'cap_gain', 'cap_loss', 'dividend', 'tax_filer_stat', 'prev_res_area', 'prev_res_state',\n",
    "    'fam_state', 'fam_state_sum', 'inst_weight', 'migr_change_msa', 'migr_change_reg', 'migr_move_msa', 'lived_1yr',\n",
    "    'migr_sunbelt', 'num_ppl_worked', 'fam_members_u18', 'birth_dad', 'birth_mom', 'birth_self', 'citizenship',\n",
    "    'employed_status', 'veteran_admin', 'veteran_benefit', 'weeks_worked', 'year', 'income']"
   ]
  },
  {
   "cell_type": "code",
   "execution_count": 124,
   "id": "3fa58dd1",
   "metadata": {},
   "outputs": [
    {
     "data": {
      "text/plain": [
       "(199523, 42)"
      ]
     },
     "execution_count": 124,
     "metadata": {},
     "output_type": "execute_result"
    }
   ],
   "source": [
    "data = pd.read_csv('../data/census-income.data', header=None)\n",
    "data = data.replace('?', np.nan)\n",
    "data = data.replace(' ?', np.nan)\n",
    "data.columns=column_names\n",
    "data.shape"
   ]
  },
  {
   "cell_type": "code",
   "execution_count": 125,
   "id": "39a0ae25",
   "metadata": {},
   "outputs": [
    {
     "data": {
      "text/html": [
       "<div>\n",
       "<style scoped>\n",
       "    .dataframe tbody tr th:only-of-type {\n",
       "        vertical-align: middle;\n",
       "    }\n",
       "\n",
       "    .dataframe tbody tr th {\n",
       "        vertical-align: top;\n",
       "    }\n",
       "\n",
       "    .dataframe thead th {\n",
       "        text-align: right;\n",
       "    }\n",
       "</style>\n",
       "<table border=\"1\" class=\"dataframe\">\n",
       "  <thead>\n",
       "    <tr style=\"text-align: right;\">\n",
       "      <th></th>\n",
       "      <th>Count</th>\n",
       "    </tr>\n",
       "  </thead>\n",
       "  <tbody>\n",
       "    <tr>\n",
       "      <th>age</th>\n",
       "      <td>0</td>\n",
       "    </tr>\n",
       "    <tr>\n",
       "      <th>birth_dad</th>\n",
       "      <td>6713</td>\n",
       "    </tr>\n",
       "    <tr>\n",
       "      <th>birth_mom</th>\n",
       "      <td>6119</td>\n",
       "    </tr>\n",
       "    <tr>\n",
       "      <th>birth_self</th>\n",
       "      <td>3393</td>\n",
       "    </tr>\n",
       "    <tr>\n",
       "      <th>cap_gain</th>\n",
       "      <td>0</td>\n",
       "    </tr>\n",
       "    <tr>\n",
       "      <th>cap_loss</th>\n",
       "      <td>0</td>\n",
       "    </tr>\n",
       "    <tr>\n",
       "      <th>citizenship</th>\n",
       "      <td>0</td>\n",
       "    </tr>\n",
       "    <tr>\n",
       "      <th>class</th>\n",
       "      <td>0</td>\n",
       "    </tr>\n",
       "    <tr>\n",
       "      <th>dividend</th>\n",
       "      <td>0</td>\n",
       "    </tr>\n",
       "    <tr>\n",
       "      <th>education</th>\n",
       "      <td>0</td>\n",
       "    </tr>\n",
       "    <tr>\n",
       "      <th>emp_status</th>\n",
       "      <td>0</td>\n",
       "    </tr>\n",
       "    <tr>\n",
       "      <th>employed_status</th>\n",
       "      <td>0</td>\n",
       "    </tr>\n",
       "    <tr>\n",
       "      <th>enroll_edu</th>\n",
       "      <td>0</td>\n",
       "    </tr>\n",
       "    <tr>\n",
       "      <th>fam_members_u18</th>\n",
       "      <td>0</td>\n",
       "    </tr>\n",
       "    <tr>\n",
       "      <th>fam_state</th>\n",
       "      <td>0</td>\n",
       "    </tr>\n",
       "    <tr>\n",
       "      <th>fam_state_sum</th>\n",
       "      <td>0</td>\n",
       "    </tr>\n",
       "    <tr>\n",
       "      <th>hisp_origin</th>\n",
       "      <td>0</td>\n",
       "    </tr>\n",
       "    <tr>\n",
       "      <th>income</th>\n",
       "      <td>0</td>\n",
       "    </tr>\n",
       "    <tr>\n",
       "      <th>ind_code_det</th>\n",
       "      <td>0</td>\n",
       "    </tr>\n",
       "    <tr>\n",
       "      <th>ind_code_maj</th>\n",
       "      <td>0</td>\n",
       "    </tr>\n",
       "    <tr>\n",
       "      <th>inst_weight</th>\n",
       "      <td>0</td>\n",
       "    </tr>\n",
       "    <tr>\n",
       "      <th>lab_union</th>\n",
       "      <td>0</td>\n",
       "    </tr>\n",
       "    <tr>\n",
       "      <th>lived_1yr</th>\n",
       "      <td>0</td>\n",
       "    </tr>\n",
       "    <tr>\n",
       "      <th>marital</th>\n",
       "      <td>0</td>\n",
       "    </tr>\n",
       "    <tr>\n",
       "      <th>migr_change_msa</th>\n",
       "      <td>99696</td>\n",
       "    </tr>\n",
       "    <tr>\n",
       "      <th>migr_change_reg</th>\n",
       "      <td>99696</td>\n",
       "    </tr>\n",
       "    <tr>\n",
       "      <th>migr_move_msa</th>\n",
       "      <td>99696</td>\n",
       "    </tr>\n",
       "    <tr>\n",
       "      <th>migr_sunbelt</th>\n",
       "      <td>99696</td>\n",
       "    </tr>\n",
       "    <tr>\n",
       "      <th>num_ppl_worked</th>\n",
       "      <td>0</td>\n",
       "    </tr>\n",
       "    <tr>\n",
       "      <th>occ_code_det</th>\n",
       "      <td>0</td>\n",
       "    </tr>\n",
       "    <tr>\n",
       "      <th>occ_code_maj</th>\n",
       "      <td>0</td>\n",
       "    </tr>\n",
       "    <tr>\n",
       "      <th>prev_res_area</th>\n",
       "      <td>0</td>\n",
       "    </tr>\n",
       "    <tr>\n",
       "      <th>prev_res_state</th>\n",
       "      <td>708</td>\n",
       "    </tr>\n",
       "    <tr>\n",
       "      <th>race</th>\n",
       "      <td>0</td>\n",
       "    </tr>\n",
       "    <tr>\n",
       "      <th>reason_unemp</th>\n",
       "      <td>0</td>\n",
       "    </tr>\n",
       "    <tr>\n",
       "      <th>sex</th>\n",
       "      <td>0</td>\n",
       "    </tr>\n",
       "    <tr>\n",
       "      <th>tax_filer_stat</th>\n",
       "      <td>0</td>\n",
       "    </tr>\n",
       "    <tr>\n",
       "      <th>veteran_admin</th>\n",
       "      <td>0</td>\n",
       "    </tr>\n",
       "    <tr>\n",
       "      <th>veteran_benefit</th>\n",
       "      <td>0</td>\n",
       "    </tr>\n",
       "    <tr>\n",
       "      <th>wage_hr</th>\n",
       "      <td>0</td>\n",
       "    </tr>\n",
       "    <tr>\n",
       "      <th>weeks_worked</th>\n",
       "      <td>0</td>\n",
       "    </tr>\n",
       "    <tr>\n",
       "      <th>year</th>\n",
       "      <td>0</td>\n",
       "    </tr>\n",
       "  </tbody>\n",
       "</table>\n",
       "</div>"
      ],
      "text/plain": [
       "                 Count\n",
       "age                  0\n",
       "birth_dad         6713\n",
       "birth_mom         6119\n",
       "birth_self        3393\n",
       "cap_gain             0\n",
       "cap_loss             0\n",
       "citizenship          0\n",
       "class                0\n",
       "dividend             0\n",
       "education            0\n",
       "emp_status           0\n",
       "employed_status      0\n",
       "enroll_edu           0\n",
       "fam_members_u18      0\n",
       "fam_state            0\n",
       "fam_state_sum        0\n",
       "hisp_origin          0\n",
       "income               0\n",
       "ind_code_det         0\n",
       "ind_code_maj         0\n",
       "inst_weight          0\n",
       "lab_union            0\n",
       "lived_1yr            0\n",
       "marital              0\n",
       "migr_change_msa  99696\n",
       "migr_change_reg  99696\n",
       "migr_move_msa    99696\n",
       "migr_sunbelt     99696\n",
       "num_ppl_worked       0\n",
       "occ_code_det         0\n",
       "occ_code_maj         0\n",
       "prev_res_area        0\n",
       "prev_res_state     708\n",
       "race                 0\n",
       "reason_unemp         0\n",
       "sex                  0\n",
       "tax_filer_stat       0\n",
       "veteran_admin        0\n",
       "veteran_benefit      0\n",
       "wage_hr              0\n",
       "weeks_worked         0\n",
       "year                 0"
      ]
     },
     "execution_count": 125,
     "metadata": {},
     "output_type": "execute_result"
    }
   ],
   "source": [
    "missing_values = pd.DataFrame({'Count': data.isnull().sum()})\n",
    "missing_values.sort_index(inplace=True)\n",
    "missing_values"
   ]
  },
  {
   "cell_type": "code",
   "execution_count": 126,
   "id": "b5aabd8c",
   "metadata": {},
   "outputs": [],
   "source": [
    "data.drop(['migr_change_msa','migr_change_reg','migr_move_msa','migr_sunbelt'],axis = 1,inplace=True)\n",
    "data.dropna(inplace=True)\n",
    "data.drop('inst_weight', axis=1, inplace=True)"
   ]
  },
  {
   "cell_type": "code",
   "execution_count": 127,
   "id": "dc31953f",
   "metadata": {},
   "outputs": [],
   "source": [
    "train = data.copy()\n",
    "train['income'] = train['income'].apply(lambda x: 1 if x == ' 50000+.' else 0)"
   ]
  },
  {
   "cell_type": "code",
   "execution_count": 128,
   "id": "8ac44bef",
   "metadata": {},
   "outputs": [],
   "source": [
    "categorical_predictors = [\n",
    "    'class', 'ind_code_det', 'occ_code_det', 'education', 'enroll_edu', 'marital',\n",
    "    'ind_code_maj', 'occ_code_maj', 'race', 'hisp_origin', 'sex', 'lab_union', 'reason_unemp',\n",
    "    'emp_status', 'tax_filer_stat', 'prev_res_area', 'prev_res_state',\n",
    "    'fam_state', 'fam_state_sum', 'lived_1yr', 'fam_members_u18', 'birth_dad', 'birth_mom', 'birth_self', 'citizenship',\n",
    "    'employed_status', 'veteran_admin', 'veteran_benefit', 'year']"
   ]
  },
  {
   "cell_type": "raw",
   "id": "a7290965",
   "metadata": {
    "scrolled": true
   },
   "source": [
    "le = LabelEncoder()\n",
    "for pred in categorical_predictors:\n",
    "    train[pred] = le.fit_transform(train[pred].astype(str))\n",
    "train.head(2)"
   ]
  },
  {
   "cell_type": "code",
   "execution_count": 129,
   "id": "d1f14545",
   "metadata": {},
   "outputs": [
    {
     "data": {
      "text/html": [
       "<div>\n",
       "<style scoped>\n",
       "    .dataframe tbody tr th:only-of-type {\n",
       "        vertical-align: middle;\n",
       "    }\n",
       "\n",
       "    .dataframe tbody tr th {\n",
       "        vertical-align: top;\n",
       "    }\n",
       "\n",
       "    .dataframe thead th {\n",
       "        text-align: right;\n",
       "    }\n",
       "</style>\n",
       "<table border=\"1\" class=\"dataframe\">\n",
       "  <thead>\n",
       "    <tr style=\"text-align: right;\">\n",
       "      <th></th>\n",
       "      <th>age</th>\n",
       "      <th>class</th>\n",
       "      <th>ind_code_det</th>\n",
       "      <th>occ_code_det</th>\n",
       "      <th>education</th>\n",
       "      <th>wage_hr</th>\n",
       "      <th>enroll_edu</th>\n",
       "      <th>marital</th>\n",
       "      <th>ind_code_maj</th>\n",
       "      <th>occ_code_maj</th>\n",
       "      <th>...</th>\n",
       "      <th>birth_dad</th>\n",
       "      <th>birth_mom</th>\n",
       "      <th>birth_self</th>\n",
       "      <th>citizenship</th>\n",
       "      <th>employed_status</th>\n",
       "      <th>veteran_admin</th>\n",
       "      <th>veteran_benefit</th>\n",
       "      <th>weeks_worked</th>\n",
       "      <th>year</th>\n",
       "      <th>income</th>\n",
       "    </tr>\n",
       "  </thead>\n",
       "  <tbody>\n",
       "    <tr>\n",
       "      <th>0</th>\n",
       "      <td>73</td>\n",
       "      <td>3</td>\n",
       "      <td>0</td>\n",
       "      <td>0</td>\n",
       "      <td>12</td>\n",
       "      <td>0</td>\n",
       "      <td>2</td>\n",
       "      <td>6</td>\n",
       "      <td>14</td>\n",
       "      <td>6</td>\n",
       "      <td>...</td>\n",
       "      <td>39</td>\n",
       "      <td>39</td>\n",
       "      <td>39</td>\n",
       "      <td>4</td>\n",
       "      <td>0</td>\n",
       "      <td>1</td>\n",
       "      <td>2</td>\n",
       "      <td>0</td>\n",
       "      <td>1</td>\n",
       "      <td>0</td>\n",
       "    </tr>\n",
       "    <tr>\n",
       "      <th>1</th>\n",
       "      <td>58</td>\n",
       "      <td>6</td>\n",
       "      <td>34</td>\n",
       "      <td>28</td>\n",
       "      <td>16</td>\n",
       "      <td>0</td>\n",
       "      <td>2</td>\n",
       "      <td>0</td>\n",
       "      <td>4</td>\n",
       "      <td>8</td>\n",
       "      <td>...</td>\n",
       "      <td>39</td>\n",
       "      <td>39</td>\n",
       "      <td>39</td>\n",
       "      <td>4</td>\n",
       "      <td>0</td>\n",
       "      <td>1</td>\n",
       "      <td>2</td>\n",
       "      <td>52</td>\n",
       "      <td>0</td>\n",
       "      <td>0</td>\n",
       "    </tr>\n",
       "  </tbody>\n",
       "</table>\n",
       "<p>2 rows × 37 columns</p>\n",
       "</div>"
      ],
      "text/plain": [
       "   age class ind_code_det occ_code_det education  wage_hr enroll_edu marital  \\\n",
       "0   73     3            0            0        12        0          2       6   \n",
       "1   58     6           34           28        16        0          2       0   \n",
       "\n",
       "  ind_code_maj occ_code_maj  ... birth_dad birth_mom birth_self citizenship  \\\n",
       "0           14            6  ...        39        39         39           4   \n",
       "1            4            8  ...        39        39         39           4   \n",
       "\n",
       "  employed_status veteran_admin  veteran_benefit  weeks_worked  year income  \n",
       "0               0             1                2             0     1      0  \n",
       "1               0             1                2            52     0      0  \n",
       "\n",
       "[2 rows x 37 columns]"
      ]
     },
     "execution_count": 129,
     "metadata": {},
     "output_type": "execute_result"
    }
   ],
   "source": [
    "from sklearn import preprocessing\n",
    "\n",
    "lbl = preprocessing.LabelEncoder()\n",
    "for pred in categorical_predictors:\n",
    "    train[pred] = lbl.fit_transform(train[pred].astype(str))\n",
    "    train[pred] = train[pred].astype(str)\n",
    "# Convert the columns to 'str' data type\n",
    "\n",
    "train.head(2)"
   ]
  },
  {
   "cell_type": "code",
   "execution_count": 130,
   "id": "e6395f27",
   "metadata": {
    "scrolled": true
   },
   "outputs": [
    {
     "data": {
      "text/plain": [
       "age                 int64\n",
       "class              object\n",
       "ind_code_det       object\n",
       "occ_code_det       object\n",
       "education          object\n",
       "wage_hr             int64\n",
       "enroll_edu         object\n",
       "marital            object\n",
       "ind_code_maj       object\n",
       "occ_code_maj       object\n",
       "race               object\n",
       "hisp_origin        object\n",
       "sex                object\n",
       "lab_union          object\n",
       "reason_unemp       object\n",
       "emp_status         object\n",
       "cap_gain            int64\n",
       "cap_loss            int64\n",
       "dividend            int64\n",
       "tax_filer_stat     object\n",
       "prev_res_area      object\n",
       "prev_res_state     object\n",
       "fam_state          object\n",
       "fam_state_sum      object\n",
       "lived_1yr          object\n",
       "num_ppl_worked      int64\n",
       "fam_members_u18    object\n",
       "birth_dad          object\n",
       "birth_mom          object\n",
       "birth_self         object\n",
       "citizenship        object\n",
       "employed_status    object\n",
       "veteran_admin      object\n",
       "veteran_benefit    object\n",
       "weeks_worked        int64\n",
       "year               object\n",
       "income              int64\n",
       "dtype: object"
      ]
     },
     "execution_count": 130,
     "metadata": {},
     "output_type": "execute_result"
    }
   ],
   "source": [
    "train.dtypes"
   ]
  },
  {
   "cell_type": "code",
   "execution_count": 9,
   "id": "d806efde",
   "metadata": {},
   "outputs": [
    {
     "data": {
      "text/html": [
       "<div>\n",
       "<style scoped>\n",
       "    .dataframe tbody tr th:only-of-type {\n",
       "        vertical-align: middle;\n",
       "    }\n",
       "\n",
       "    .dataframe tbody tr th {\n",
       "        vertical-align: top;\n",
       "    }\n",
       "\n",
       "    .dataframe thead th {\n",
       "        text-align: right;\n",
       "    }\n",
       "</style>\n",
       "<table border=\"1\" class=\"dataframe\">\n",
       "  <thead>\n",
       "    <tr style=\"text-align: right;\">\n",
       "      <th></th>\n",
       "      <th>age</th>\n",
       "      <th>class</th>\n",
       "      <th>ind_code_det</th>\n",
       "      <th>occ_code_det</th>\n",
       "      <th>education</th>\n",
       "      <th>wage_hr</th>\n",
       "      <th>enroll_edu</th>\n",
       "      <th>marital</th>\n",
       "      <th>ind_code_maj</th>\n",
       "      <th>occ_code_maj</th>\n",
       "      <th>...</th>\n",
       "      <th>birth_dad</th>\n",
       "      <th>birth_mom</th>\n",
       "      <th>birth_self</th>\n",
       "      <th>citizenship</th>\n",
       "      <th>employed_status</th>\n",
       "      <th>veteran_admin</th>\n",
       "      <th>veteran_benefit</th>\n",
       "      <th>weeks_worked</th>\n",
       "      <th>year</th>\n",
       "      <th>income</th>\n",
       "    </tr>\n",
       "  </thead>\n",
       "  <tbody>\n",
       "    <tr>\n",
       "      <th>0</th>\n",
       "      <td>38</td>\n",
       "      <td>4</td>\n",
       "      <td>6</td>\n",
       "      <td>36</td>\n",
       "      <td>3</td>\n",
       "      <td>0</td>\n",
       "      <td>2</td>\n",
       "      <td>2</td>\n",
       "      <td>10</td>\n",
       "      <td>5</td>\n",
       "      <td>...</td>\n",
       "      <td>26</td>\n",
       "      <td>26</td>\n",
       "      <td>26</td>\n",
       "      <td>0</td>\n",
       "      <td>0</td>\n",
       "      <td>1</td>\n",
       "      <td>2</td>\n",
       "      <td>12</td>\n",
       "      <td>1</td>\n",
       "      <td>0</td>\n",
       "    </tr>\n",
       "    <tr>\n",
       "      <th>1</th>\n",
       "      <td>44</td>\n",
       "      <td>6</td>\n",
       "      <td>37</td>\n",
       "      <td>12</td>\n",
       "      <td>8</td>\n",
       "      <td>0</td>\n",
       "      <td>2</td>\n",
       "      <td>2</td>\n",
       "      <td>2</td>\n",
       "      <td>10</td>\n",
       "      <td>...</td>\n",
       "      <td>40</td>\n",
       "      <td>40</td>\n",
       "      <td>40</td>\n",
       "      <td>4</td>\n",
       "      <td>0</td>\n",
       "      <td>1</td>\n",
       "      <td>2</td>\n",
       "      <td>26</td>\n",
       "      <td>1</td>\n",
       "      <td>0</td>\n",
       "    </tr>\n",
       "  </tbody>\n",
       "</table>\n",
       "<p>2 rows × 37 columns</p>\n",
       "</div>"
      ],
      "text/plain": [
       "   age  class  ind_code_det  occ_code_det  education  wage_hr  enroll_edu  \\\n",
       "0   38      4             6            36          3        0           2   \n",
       "1   44      6            37            12          8        0           2   \n",
       "\n",
       "   marital  ind_code_maj  occ_code_maj  ...  birth_dad  birth_mom  birth_self  \\\n",
       "0        2            10             5  ...         26         26          26   \n",
       "1        2             2            10  ...         40         40          40   \n",
       "\n",
       "   citizenship  employed_status  veteran_admin  veteran_benefit  weeks_worked  \\\n",
       "0            0                0              1                2            12   \n",
       "1            4                0              1                2            26   \n",
       "\n",
       "   year  income  \n",
       "0     1       0  \n",
       "1     1       0  \n",
       "\n",
       "[2 rows x 37 columns]"
      ]
     },
     "execution_count": 9,
     "metadata": {},
     "output_type": "execute_result"
    }
   ],
   "source": [
    "test = pd.read_csv('../census-income.test',header=None)\n",
    "test.columns=column_names\n",
    "test.drop(['migr_change_msa','migr_change_reg','migr_move_msa','migr_sunbelt'],axis = 1,inplace=True)\n",
    "test.dropna(inplace=True)\n",
    "test.drop('inst_weight', axis=1, inplace=True)\n",
    "\n",
    "test['income'] = test['income'].apply(lambda x: 1 if x == ' 50000+.' else 0)\n",
    "for pred in categorical_predictors:\n",
    "    test[pred] = le.fit_transform(test[pred])\n",
    "test.head(2)"
   ]
  },
  {
   "cell_type": "code",
   "execution_count": 10,
   "id": "b4fb1263",
   "metadata": {
    "scrolled": true
   },
   "outputs": [
    {
     "data": {
      "image/png": "[encoded data removed]",
      "text/plain": [
       "<Figure size 1080x720 with 2 Axes>"
      ]
     },
     "metadata": {
      "needs_background": "light"
     },
     "output_type": "display_data"
    }
   ],
   "source": [
    "correlation_matrix = train.corr()\n",
    "plt.figure(figsize=(15, 10))\n",
    "sns.heatmap(correlation_matrix, cmap=\"YlGnBu\")\n",
    "plt.title(\"Correlation Heat Map\")\n",
    "plt.show()"
   ]
  },
  {
   "cell_type": "markdown",
   "id": "884c94a9",
   "metadata": {},
   "source": [
    "- accuracy + recall"
   ]
  },
  {
   "cell_type": "code",
   "execution_count": 11,
   "id": "7c2c716e",
   "metadata": {
    "scrolled": true
   },
   "outputs": [
    {
     "data": {
      "text/plain": [
       "(190561, 36)"
      ]
     },
     "execution_count": 11,
     "metadata": {},
     "output_type": "execute_result"
    }
   ],
   "source": [
    "X_train = train.drop(['income'],axis = 1)\n",
    "y_train = train.income\n",
    "X_test = test.drop(['income'],axis = 1)\n",
    "y_test = test.income\n",
    "X_train.shape"
   ]
  },
  {
   "cell_type": "code",
   "execution_count": 12,
   "id": "1e803147",
   "metadata": {},
   "outputs": [
    {
     "data": {
      "text/plain": [
       "15.347344942952732"
      ]
     },
     "execution_count": 12,
     "metadata": {},
     "output_type": "execute_result"
    }
   ],
   "source": [
    "#sum(negative instances) / sum(positive instances)\n",
    "(y_train.shape[0]-y_train.sum())/y_train.sum()"
   ]
  },
  {
   "cell_type": "markdown",
   "id": "23a37b1f",
   "metadata": {},
   "source": [
    "- The scale_pos_weight hyperparameter in XGBoost is used to address class imbalance in the training data. It controls the balance of positive and negative weights in the boosting process.\n",
    "- If we increase the value of scale_pos_weight, the model will focus on classifying positives more correctly. This will increase the recall (true positive rate) since the focus is on identifying all positives. However, this will lead to identifying positives aggressively, and observations ‘similar’ to observations of the positive class will also be predicted as positive resulting in an increase in false positives and a decrease in precision. See the trend below as we increase the value of scale_pos_weight.\n",
    "- For our case, this hyperparameter is set to 15"
   ]
  },
  {
   "cell_type": "markdown",
   "id": "21229157",
   "metadata": {},
   "source": [
    "# Hyperparameter Visualizations"
   ]
  },
  {
   "cell_type": "code",
   "execution_count": 13,
   "id": "30e42a3a",
   "metadata": {
    "scrolled": true
   },
   "outputs": [
    {
     "name": "stdout",
     "output_type": "stream",
     "text": [
      ">5 0.952 (0.001)\n",
      ">10 0.953 (0.001)\n",
      ">50 0.958 (0.001)\n",
      ">100 0.958 (0.001)\n",
      ">500 0.957 (0.001)\n",
      ">1000 0.956 (0.001)\n",
      ">2000 0.954 (0.001)\n"
     ]
    },
    {
     "data": {
      "text/plain": [
       "Text(0.5, 0, 'Number of trees')"
      ]
     },
     "execution_count": 13,
     "metadata": {},
     "output_type": "execute_result"
    },
    {
     "data": {
      "image/png": "[encoded data removed]",
      "text/plain": [
       "<Figure size 432x288 with 1 Axes>"
      ]
     },
     "metadata": {
      "needs_background": "light"
     },
     "output_type": "display_data"
    }
   ],
   "source": [
    "def get_models():\n",
    "    models = dict()\n",
    "    n_trees = [5, 10, 50, 100, 500, 1000, 2000]\n",
    "    for n in n_trees:\n",
    "        models[str(n)] = xgb.XGBClassifier(n_estimators=n)\n",
    "    return models\n",
    "\n",
    "def evaluate_model(model, X_train, y_train):\n",
    "    cv = KFold(n_splits=5, shuffle=True)\n",
    "    scores = cross_val_score(model, X_train, y_train, scoring='accuracy', cv=cv, n_jobs=-1)\n",
    "    return scores\n",
    "\n",
    "models = get_models()\n",
    "results, names = list(), list()\n",
    "for name, model in models.items():\n",
    "    scores = evaluate_model(model, X_train, y_train)\n",
    "    results.append(scores)\n",
    "    names.append(name)\n",
    "    print('>%s %.3f (%.3f)' % (name, np.mean(scores), np.std(scores)))\n",
    "\n",
    "plt.boxplot(results, labels=names, showmeans=True)\n",
    "plt.ylabel('Accuracy', fontsize=15)\n",
    "plt.xlabel('Number of trees', fontsize=15)"
   ]
  },
  {
   "cell_type": "code",
   "execution_count": 14,
   "id": "75691205",
   "metadata": {},
   "outputs": [
    {
     "name": "stdout",
     "output_type": "stream",
     "text": [
      ">1 0.952 (0.002)\n",
      ">2 0.955 (0.001)\n",
      ">3 0.957 (0.001)\n",
      ">4 0.958 (0.001)\n",
      ">5 0.958 (0.002)\n",
      ">6 0.958 (0.001)\n",
      ">7 0.958 (0.001)\n",
      ">8 0.958 (0.002)\n",
      ">9 0.957 (0.001)\n",
      ">10 0.957 (0.002)\n",
      ">11 0.957 (0.001)\n",
      ">12 0.957 (0.001)\n",
      ">13 0.956 (0.001)\n",
      ">14 0.956 (0.001)\n",
      ">15 0.956 (0.001)\n",
      ">16 0.956 (0.002)\n",
      ">17 0.956 (0.001)\n",
      ">18 0.956 (0.001)\n",
      ">19 0.956 (0.001)\n",
      ">20 0.955 (0.001)\n"
     ]
    },
    {
     "data": {
      "text/plain": [
       "Text(0.5, 0, 'Depth of each tree')"
      ]
     },
     "execution_count": 14,
     "metadata": {},
     "output_type": "execute_result"
    },
    {
     "data": {
      "image/png": "[encoded data removed]",
      "text/plain": [
       "<Figure size 432x288 with 1 Axes>"
      ]
     },
     "metadata": {
      "needs_background": "light"
     },
     "output_type": "display_data"
    }
   ],
   "source": [
    "def get_models():\n",
    "    models = dict()\n",
    "    for i in range(1, 21):\n",
    "        models[str(i)] = xgb.XGBClassifier(max_depth=i)\n",
    "    return models\n",
    "\n",
    "def evaluate_model(model, X_train, y_train):\n",
    "    cv = KFold(n_splits=10, shuffle=True)\n",
    "    scores = cross_val_score(model, X_train, y_train, scoring='accuracy', cv=cv, n_jobs=-1)\n",
    "    return scores\n",
    "\n",
    "models = get_models()\n",
    "results, names = list(), list()\n",
    "for name, model in models.items():\n",
    "    scores = evaluate_model(model, X_train, y_train)\n",
    "    results.append(scores)\n",
    "    names.append(name)\n",
    "    print('>%s %.3f (%.3f)' % (name, np.mean(scores), np.std(scores)))\n",
    "\n",
    "plt.boxplot(results, labels=names, showmeans=True)\n",
    "plt.ylabel('Accuracy', fontsize=15)\n",
    "plt.xlabel('Depth of each tree', fontsize=15)"
   ]
  },
  {
   "cell_type": "code",
   "execution_count": 15,
   "id": "ce470bab",
   "metadata": {},
   "outputs": [
    {
     "name": "stdout",
     "output_type": "stream",
     "text": [
      ">0.0100 1.0 (0.0)\n",
      ">0.0500 1.0 (0.0)\n",
      ">0.1000 1.0 (0.0)\n",
      ">0.2000 1.0 (0.0)\n",
      ">0.3000 1.0 (0.0)\n",
      ">0.4000 1.0 (0.0)\n",
      ">0.5000 1.0 (0.0)\n",
      ">0.6000 1.0 (0.0)\n",
      ">0.8000 1.0 (0.0)\n",
      ">1.0000 1.0 (0.0)\n"
     ]
    },
    {
     "data": {
      "text/plain": [
       "Text(0.5, 0, 'Learning rate')"
      ]
     },
     "execution_count": 15,
     "metadata": {},
     "output_type": "execute_result"
    },
    {
     "data": {
      "image/png": "[encoded data removed]",
      "text/plain": [
       "<Figure size 504x504 with 1 Axes>"
      ]
     },
     "metadata": {
      "needs_background": "light"
     },
     "output_type": "display_data"
    }
   ],
   "source": [
    "def get_models():\n",
    "    models = dict()\n",
    "    for i in [0.01, 0.05, 0.1, 0.2, 0.3, 0.4, 0.5, 0.6, 0.8, 1.0]:\n",
    "        key = '%.4f' % i\n",
    "        models[key] = xgb.XGBClassifier(learning_rate=i)\n",
    "    return models\n",
    "\n",
    "def evaluate_model(model, X_train, y_train):\n",
    "    cv = KFold(n_splits=10, shuffle=True)\n",
    "    scores = cross_val_score(model, X_train, y_train, scoring='accuracy', cv=cv, n_jobs=-1)\n",
    "    return scores\n",
    "\n",
    "models = get_models()\n",
    "results, names = list(), list()\n",
    "for name, model in models.items():\n",
    "    scores = evaluate_model(model, X_train, y_train)\n",
    "    results.append(scores)\n",
    "    names.append(name)\n",
    "    print('>%s %.1f (%.1f)' % (name, np.mean(scores), np.std(scores)))\n",
    "plt.figure(figsize=(7, 7))\n",
    "plt.boxplot(results, labels=names, showmeans=True)\n",
    "plt.ylabel('Accuracy', fontsize=15)\n",
    "plt.xlabel('Learning rate', fontsize=15)"
   ]
  },
  {
   "cell_type": "code",
   "execution_count": 16,
   "id": "50a4e757",
   "metadata": {
    "scrolled": true
   },
   "outputs": [
    {
     "name": "stdout",
     "output_type": "stream",
     "text": [
      ">0.0000 1.0 (0.0)\n",
      ">0.5000 1.0 (0.0)\n",
      ">1.0000 1.0 (0.0)\n",
      ">1.5000 1.0 (0.0)\n",
      ">2.0000 1.0 (0.0)\n",
      ">10.0000 1.0 (0.0)\n",
      ">100.0000 1.0 (0.0)\n"
     ]
    },
    {
     "data": {
      "text/plain": [
       "Text(0.5, 0, 'reg_lambda')"
      ]
     },
     "execution_count": 16,
     "metadata": {},
     "output_type": "execute_result"
    },
    {
     "data": {
      "image/png": "[encoded data removed]",
      "text/plain": [
       "<Figure size 504x504 with 1 Axes>"
      ]
     },
     "metadata": {
      "needs_background": "light"
     },
     "output_type": "display_data"
    }
   ],
   "source": [
    "def get_models():\n",
    "    models = dict()\n",
    "    for i in [0, 0.5, 1.0, 1.5, 2, 10, 100]:\n",
    "        key = '%.4f' % i\n",
    "        models[key] = xgb.XGBClassifier(reg_lambda=i)\n",
    "    return models\n",
    "\n",
    "def evaluate_model(model, X_train, y_train):\n",
    "    cv = KFold(n_splits=10, shuffle=True)\n",
    "    scores = cross_val_score(model, X_train, y_train, scoring='accuracy', cv=cv, n_jobs=-1)\n",
    "    return scores\n",
    "\n",
    "models = get_models()\n",
    "results, names = list(), list()\n",
    "for name, model in models.items():\n",
    "    scores = evaluate_model(model, X_train, y_train)\n",
    "    results.append(scores)\n",
    "    names.append(name)\n",
    "    print('>%s %.1f (%.1f)' % (name, np.mean(scores), np.std(scores)))\n",
    "plt.figure(figsize=(7, 7))\n",
    "plt.boxplot(results, labels=names, showmeans=True)\n",
    "plt.ylabel('Cross validation error', fontsize=15)\n",
    "plt.xlabel('reg_lambda', fontsize=15)"
   ]
  },
  {
   "cell_type": "code",
   "execution_count": 17,
   "id": "f3d07a41",
   "metadata": {
    "scrolled": false
   },
   "outputs": [
    {
     "name": "stdout",
     "output_type": "stream",
     "text": [
      ">0.0000 1.0 (0.0)\n",
      ">10.0000 1.0 (0.0)\n",
      ">100.0000 1.0 (0.0)\n",
      ">1000.0000 0.9 (0.0)\n",
      ">10000.0000 0.9 (0.0)\n",
      ">100000.0000 0.9 (0.0)\n",
      ">1000000.0000 0.9 (0.0)\n"
     ]
    },
    {
     "data": {
      "text/plain": [
       "Text(0.5, 0, 'gamma')"
      ]
     },
     "execution_count": 17,
     "metadata": {},
     "output_type": "execute_result"
    },
    {
     "data": {
      "image/png": "[encoded data removed]",
      "text/plain": [
       "<Figure size 504x504 with 1 Axes>"
      ]
     },
     "metadata": {
      "needs_background": "light"
     },
     "output_type": "display_data"
    }
   ],
   "source": [
    "def get_models():\n",
    "    models = dict()\n",
    "    for i in [0, 10, 1e2, 1e3, 1e4, 1e5, 1e6]:\n",
    "        key = '%.4f' % i\n",
    "        models[key] = xgb.XGBClassifier(gamma=i)\n",
    "    return models\n",
    "\n",
    "def evaluate_model(model, X_train, y_train):\n",
    "    cv = KFold(n_splits=10, shuffle=True)\n",
    "    scores = cross_val_score(model, X_train, y_train, scoring='accuracy', cv=cv, n_jobs=-1)\n",
    "    return scores\n",
    "\n",
    "models = get_models()\n",
    "results, names = list(), list()\n",
    "for name, model in models.items():\n",
    "    scores = evaluate_model(model, X_train, y_train)\n",
    "    results.append(scores)\n",
    "    names.append(name)\n",
    "    print('>%s %.1f (%.1f)' % (name, np.mean(scores), np.std(scores)))\n",
    "plt.figure(figsize=(7, 7))\n",
    "plt.boxplot(results, labels=names, showmeans=True)\n",
    "plt.ylabel('Cross validation error', fontsize=15)\n",
    "plt.xlabel('gamma', fontsize=15)"
   ]
  },
  {
   "cell_type": "markdown",
   "id": "9ac33c39",
   "metadata": {},
   "source": [
    "# Model Development"
   ]
  },
  {
   "cell_type": "code",
   "execution_count": 198,
   "id": "e7c6c028",
   "metadata": {},
   "outputs": [],
   "source": [
    "def decision_threshold(model):\n",
    "    threshold_hyperparam_vals = np.arange(0, 1.01, 0.01)\n",
    "\n",
    "    predicted_class = cross_val_predict(model, X_train, y_train, cv=5)\n",
    "    predicted_probability = model.predict_proba(X_train)\n",
    "\n",
    "    results = []\n",
    "\n",
    "    for threshold_prob in threshold_hyperparam_vals:\n",
    "        predicted_class = (predicted_probability[:,1] > threshold_prob).astype(int)\n",
    "        accuracy = accuracy_score(y_true=y_train,y_pred=predicted_class)\n",
    "        recall = recall_score(y_true=y_train,y_pred=predicted_class)\n",
    "        results.append({'Threshold': threshold_prob, 'Accuracy': accuracy, 'Recall': recall})\n",
    "    df_results=pd.DataFrame(results)\n",
    "    return df_results\n",
    "\n",
    "def model_performance(model_opt,opt_threshold):\n",
    "    train_predictions = (model_opt.predict_proba(X_train)[:, 1] > opt_threshold).astype(int)\n",
    "    test_predictions = (model_opt.predict_proba(X_test)[:, 1] > opt_threshold).astype(int)\n",
    "\n",
    "    train_accuracy = accuracy_score(y_true=y_train, y_pred=train_predictions)\n",
    "    train_recall = recall_score(y_true=y_train, y_pred=train_predictions)\n",
    "    train_precision = precision_score(y_true=y_train, y_pred=train_predictions)\n",
    "    test_accuracy = accuracy_score(y_true=y_test, y_pred=test_predictions)\n",
    "    test_recall = recall_score(y_true=y_test, y_pred=test_predictions)\n",
    "    test_precision = precision_score(y_true=y_test, y_pred=test_predictions)\n",
    "    \n",
    "\n",
    "    print(\"Training accuracy:\", train_accuracy)\n",
    "    print(\"Training recall:\", train_recall)\n",
    "    print(\"Training precision:\", train_precision)\n",
    "    print(\"Test accuracy:\", test_accuracy)\n",
    "    print(\"Test recall:\", test_recall)\n",
    "    print(\"Test precision:\", test_precision)"
   ]
  },
  {
   "cell_type": "code",
   "execution_count": 133,
   "id": "0d5cd932",
   "metadata": {
    "scrolled": true
   },
   "outputs": [
    {
     "name": "stdout",
     "output_type": "stream",
     "text": [
      "Fitting 2 folds for each of 10 candidates, totalling 20 fits\n",
      "Optimal parameter values = {'subsample': 1, 'scale_pos_weight': 15, 'reg_lambda': 10, 'n_estimators': 100, 'max_depth': 8, 'learning_rate': 0.01, 'gamma': 1, 'colsample_bytree': 1}\n",
      "Optimal cross validation score = 0.8416832439750376\n",
      "Time taken = 2  minutes\n"
     ]
    }
   ],
   "source": [
    "#grid search of model1\n",
    "\n",
    "start_time = time.time()\n",
    "param_grid = {'max_depth': [4,6,8],\n",
    "              'learning_rate': [0.001,0.01],\n",
    "              'reg_lambda': [1,10,100],\n",
    "              'n_estimators': [100],\n",
    "              'gamma': [1,10,100],\n",
    "              'subsample': [1],\n",
    "              'colsample_bytree':[1],\n",
    "              'scale_pos_weight': [15]}\n",
    "\n",
    "cv = KFold(n_splits=2, shuffle=True)\n",
    "optimal_params = RandomizedSearchCV(estimator=xgb.XGBClassifier(objective = 'binary:logistic'),\n",
    "                                    param_distributions=param_grid,\n",
    "                                    verbose=1,\n",
    "                                    n_jobs=-1,\n",
    "                                    scoring='accuracy',\n",
    "                                    cv=cv)\n",
    "optimal_params.fit(X_train, y_train)\n",
    "print(\"Optimal parameter values =\", optimal_params.best_params_)\n",
    "print(\"Optimal cross validation score =\", optimal_params.best_score_) \n",
    "print(\"Time taken =\", round((time.time() - start_time) / 60), \" minutes\")"
   ]
  },
  {
   "cell_type": "code",
   "execution_count": 134,
   "id": "9001f738",
   "metadata": {},
   "outputs": [],
   "source": [
    "model1 = xgb.XGBClassifier(objective='binary:logistic',max_depth = 5, learning_rate = 0.1,n_estimators = 100,\n",
    "                           reg_lambda = 0, gamma = 1, subsample = 1, colsample_bytree=1, scale_pos_weight=15).fit(X_train,y_train)\n",
    "df1 = decision_threshold(model1)"
   ]
  },
  {
   "cell_type": "code",
   "execution_count": 135,
   "id": "0df49f26",
   "metadata": {
    "scrolled": false
   },
   "outputs": [
    {
     "data": {
      "text/html": [
       "<div>\n",
       "<style scoped>\n",
       "    .dataframe tbody tr th:only-of-type {\n",
       "        vertical-align: middle;\n",
       "    }\n",
       "\n",
       "    .dataframe tbody tr th {\n",
       "        vertical-align: top;\n",
       "    }\n",
       "\n",
       "    .dataframe thead th {\n",
       "        text-align: right;\n",
       "    }\n",
       "</style>\n",
       "<table border=\"1\" class=\"dataframe\">\n",
       "  <thead>\n",
       "    <tr style=\"text-align: right;\">\n",
       "      <th></th>\n",
       "      <th>Threshold</th>\n",
       "      <th>Accuracy</th>\n",
       "      <th>Recall</th>\n",
       "    </tr>\n",
       "  </thead>\n",
       "  <tbody>\n",
       "    <tr>\n",
       "      <th>61</th>\n",
       "      <td>0.61</td>\n",
       "      <td>0.901381</td>\n",
       "      <td>0.861886</td>\n",
       "    </tr>\n",
       "    <tr>\n",
       "      <th>62</th>\n",
       "      <td>0.62</td>\n",
       "      <td>0.904083</td>\n",
       "      <td>0.855795</td>\n",
       "    </tr>\n",
       "    <tr>\n",
       "      <th>63</th>\n",
       "      <td>0.63</td>\n",
       "      <td>0.906607</td>\n",
       "      <td>0.850733</td>\n",
       "    </tr>\n",
       "  </tbody>\n",
       "</table>\n",
       "</div>"
      ],
      "text/plain": [
       "    Threshold  Accuracy    Recall\n",
       "61       0.61  0.901381  0.861886\n",
       "62       0.62  0.904083  0.855795\n",
       "63       0.63  0.906607  0.850733"
      ]
     },
     "execution_count": 135,
     "metadata": {},
     "output_type": "execute_result"
    }
   ],
   "source": [
    "filtered_df1 = df1[(df1['Accuracy'] >= 0.9) & (df1['Recall'] >= 0.85)]\n",
    "filtered_df1.sort_values('Recall',ascending=False)"
   ]
  },
  {
   "cell_type": "code",
   "execution_count": 199,
   "id": "3edf0d6b",
   "metadata": {},
   "outputs": [
    {
     "name": "stdout",
     "output_type": "stream",
     "text": [
      "Training accuracy: 0.9013806602610188\n",
      "Training recall: 0.8618855623230677\n",
      "Training precision: 0.3689680499449137\n",
      "Test accuracy: 0.9212926765702372\n",
      "Test recall: 0.7660847074038151\n",
      "Test precision: 0.42525125628140703\n"
     ]
    }
   ],
   "source": [
    "model_performance(model1,0.61)"
   ]
  },
  {
   "cell_type": "code",
   "execution_count": 137,
   "id": "c753c623",
   "metadata": {},
   "outputs": [
    {
     "name": "stdout",
     "output_type": "stream",
     "text": [
      "Fitting 2 folds for each of 10 candidates, totalling 20 fits\n",
      "Optimal parameter values = {'subsample': 0.5, 'scale_pos_weight': 15, 'reg_lambda': 0, 'n_estimators': 700, 'max_depth': 8, 'learning_rate': 0.1, 'gamma': 1, 'colsample_bytree': 0.5}\n",
      "Optimal cross validation score = 0.9354222570952818\n",
      "Time taken = 7  minutes\n"
     ]
    }
   ],
   "source": [
    "start_time = time.time()\n",
    "param_grid = {'max_depth': [8],\n",
    "              'learning_rate': [0.01, 0.1],\n",
    "              'reg_lambda': [0,1],\n",
    "              'n_estimators': [500,700],\n",
    "              'gamma': [0,1],\n",
    "              'subsample': [0.3,0.5],\n",
    "              'colsample_bytree':[0.5],\n",
    "              'scale_pos_weight': [15]}\n",
    "\n",
    "cv = KFold(n_splits=2, shuffle=True)\n",
    "optimal_params = RandomizedSearchCV(estimator=xgb.XGBClassifier(objective = 'binary:logistic'),\n",
    "                                    param_distributions=param_grid,\n",
    "                                    verbose=1,\n",
    "                                    n_jobs=-1,\n",
    "                                    scoring='accuracy',\n",
    "                                    cv=cv)\n",
    "optimal_params.fit(X_train, y_train)\n",
    "print(\"Optimal parameter values =\", optimal_params.best_params_)\n",
    "print(\"Optimal cross validation score =\", optimal_params.best_score_) \n",
    "print(\"Time taken =\", round((time.time() - start_time) / 60), \" minutes\")"
   ]
  },
  {
   "cell_type": "code",
   "execution_count": 138,
   "id": "b64bbf1b",
   "metadata": {},
   "outputs": [],
   "source": [
    "model2 = xgb.XGBClassifier(objective='binary:logistic',max_depth = 8, learning_rate = 0.1,n_estimators = 700,\n",
    "                           reg_lambda = 1, gamma = 1, subsample = 0.5,scale_pos_weight=15).fit(X_train,y_train)\n",
    "df2 = decision_threshold(model2)"
   ]
  },
  {
   "cell_type": "code",
   "execution_count": 139,
   "id": "20c4f0c0",
   "metadata": {
    "scrolled": true
   },
   "outputs": [
    {
     "data": {
      "text/html": [
       "<div>\n",
       "<style scoped>\n",
       "    .dataframe tbody tr th:only-of-type {\n",
       "        vertical-align: middle;\n",
       "    }\n",
       "\n",
       "    .dataframe tbody tr th {\n",
       "        vertical-align: top;\n",
       "    }\n",
       "\n",
       "    .dataframe thead th {\n",
       "        text-align: right;\n",
       "    }\n",
       "</style>\n",
       "<table border=\"1\" class=\"dataframe\">\n",
       "  <thead>\n",
       "    <tr style=\"text-align: right;\">\n",
       "      <th></th>\n",
       "      <th>Threshold</th>\n",
       "      <th>Accuracy</th>\n",
       "      <th>Recall</th>\n",
       "    </tr>\n",
       "  </thead>\n",
       "  <tbody>\n",
       "    <tr>\n",
       "      <th>42</th>\n",
       "      <td>0.42</td>\n",
       "      <td>0.950929</td>\n",
       "      <td>0.998027</td>\n",
       "    </tr>\n",
       "    <tr>\n",
       "      <th>43</th>\n",
       "      <td>0.43</td>\n",
       "      <td>0.952430</td>\n",
       "      <td>0.997855</td>\n",
       "    </tr>\n",
       "    <tr>\n",
       "      <th>44</th>\n",
       "      <td>0.44</td>\n",
       "      <td>0.953605</td>\n",
       "      <td>0.997684</td>\n",
       "    </tr>\n",
       "    <tr>\n",
       "      <th>45</th>\n",
       "      <td>0.45</td>\n",
       "      <td>0.954912</td>\n",
       "      <td>0.997512</td>\n",
       "    </tr>\n",
       "    <tr>\n",
       "      <th>46</th>\n",
       "      <td>0.46</td>\n",
       "      <td>0.956051</td>\n",
       "      <td>0.997083</td>\n",
       "    </tr>\n",
       "    <tr>\n",
       "      <th>47</th>\n",
       "      <td>0.47</td>\n",
       "      <td>0.957058</td>\n",
       "      <td>0.996998</td>\n",
       "    </tr>\n",
       "    <tr>\n",
       "      <th>48</th>\n",
       "      <td>0.48</td>\n",
       "      <td>0.958281</td>\n",
       "      <td>0.996912</td>\n",
       "    </tr>\n",
       "    <tr>\n",
       "      <th>49</th>\n",
       "      <td>0.49</td>\n",
       "      <td>0.959446</td>\n",
       "      <td>0.996654</td>\n",
       "    </tr>\n",
       "    <tr>\n",
       "      <th>50</th>\n",
       "      <td>0.50</td>\n",
       "      <td>0.960543</td>\n",
       "      <td>0.996140</td>\n",
       "    </tr>\n",
       "    <tr>\n",
       "      <th>51</th>\n",
       "      <td>0.51</td>\n",
       "      <td>0.961697</td>\n",
       "      <td>0.995711</td>\n",
       "    </tr>\n",
       "    <tr>\n",
       "      <th>52</th>\n",
       "      <td>0.52</td>\n",
       "      <td>0.962652</td>\n",
       "      <td>0.995196</td>\n",
       "    </tr>\n",
       "    <tr>\n",
       "      <th>53</th>\n",
       "      <td>0.53</td>\n",
       "      <td>0.963639</td>\n",
       "      <td>0.994596</td>\n",
       "    </tr>\n",
       "    <tr>\n",
       "      <th>54</th>\n",
       "      <td>0.54</td>\n",
       "      <td>0.964626</td>\n",
       "      <td>0.994081</td>\n",
       "    </tr>\n",
       "    <tr>\n",
       "      <th>55</th>\n",
       "      <td>0.55</td>\n",
       "      <td>0.965586</td>\n",
       "      <td>0.993309</td>\n",
       "    </tr>\n",
       "    <tr>\n",
       "      <th>56</th>\n",
       "      <td>0.56</td>\n",
       "      <td>0.966667</td>\n",
       "      <td>0.992622</td>\n",
       "    </tr>\n",
       "    <tr>\n",
       "      <th>57</th>\n",
       "      <td>0.57</td>\n",
       "      <td>0.967685</td>\n",
       "      <td>0.992194</td>\n",
       "    </tr>\n",
       "    <tr>\n",
       "      <th>58</th>\n",
       "      <td>0.58</td>\n",
       "      <td>0.968525</td>\n",
       "      <td>0.991336</td>\n",
       "    </tr>\n",
       "    <tr>\n",
       "      <th>59</th>\n",
       "      <td>0.59</td>\n",
       "      <td>0.969385</td>\n",
       "      <td>0.990564</td>\n",
       "    </tr>\n",
       "    <tr>\n",
       "      <th>60</th>\n",
       "      <td>0.60</td>\n",
       "      <td>0.970303</td>\n",
       "      <td>0.989363</td>\n",
       "    </tr>\n",
       "    <tr>\n",
       "      <th>61</th>\n",
       "      <td>0.61</td>\n",
       "      <td>0.971148</td>\n",
       "      <td>0.987904</td>\n",
       "    </tr>\n",
       "    <tr>\n",
       "      <th>62</th>\n",
       "      <td>0.62</td>\n",
       "      <td>0.971888</td>\n",
       "      <td>0.986617</td>\n",
       "    </tr>\n",
       "    <tr>\n",
       "      <th>63</th>\n",
       "      <td>0.63</td>\n",
       "      <td>0.972549</td>\n",
       "      <td>0.985845</td>\n",
       "    </tr>\n",
       "    <tr>\n",
       "      <th>64</th>\n",
       "      <td>0.64</td>\n",
       "      <td>0.973347</td>\n",
       "      <td>0.984730</td>\n",
       "    </tr>\n",
       "    <tr>\n",
       "      <th>65</th>\n",
       "      <td>0.65</td>\n",
       "      <td>0.974082</td>\n",
       "      <td>0.983529</td>\n",
       "    </tr>\n",
       "    <tr>\n",
       "      <th>66</th>\n",
       "      <td>0.66</td>\n",
       "      <td>0.974748</td>\n",
       "      <td>0.981985</td>\n",
       "    </tr>\n",
       "    <tr>\n",
       "      <th>67</th>\n",
       "      <td>0.67</td>\n",
       "      <td>0.975619</td>\n",
       "      <td>0.980441</td>\n",
       "    </tr>\n",
       "    <tr>\n",
       "      <th>68</th>\n",
       "      <td>0.68</td>\n",
       "      <td>0.976380</td>\n",
       "      <td>0.979240</td>\n",
       "    </tr>\n",
       "    <tr>\n",
       "      <th>69</th>\n",
       "      <td>0.69</td>\n",
       "      <td>0.977141</td>\n",
       "      <td>0.977181</td>\n",
       "    </tr>\n",
       "    <tr>\n",
       "      <th>70</th>\n",
       "      <td>0.70</td>\n",
       "      <td>0.977792</td>\n",
       "      <td>0.974436</td>\n",
       "    </tr>\n",
       "    <tr>\n",
       "      <th>71</th>\n",
       "      <td>0.71</td>\n",
       "      <td>0.978537</td>\n",
       "      <td>0.972120</td>\n",
       "    </tr>\n",
       "    <tr>\n",
       "      <th>72</th>\n",
       "      <td>0.72</td>\n",
       "      <td>0.979235</td>\n",
       "      <td>0.970490</td>\n",
       "    </tr>\n",
       "    <tr>\n",
       "      <th>73</th>\n",
       "      <td>0.73</td>\n",
       "      <td>0.979907</td>\n",
       "      <td>0.967830</td>\n",
       "    </tr>\n",
       "    <tr>\n",
       "      <th>74</th>\n",
       "      <td>0.74</td>\n",
       "      <td>0.980584</td>\n",
       "      <td>0.964656</td>\n",
       "    </tr>\n",
       "    <tr>\n",
       "      <th>75</th>\n",
       "      <td>0.75</td>\n",
       "      <td>0.981082</td>\n",
       "      <td>0.960281</td>\n",
       "    </tr>\n",
       "    <tr>\n",
       "      <th>76</th>\n",
       "      <td>0.76</td>\n",
       "      <td>0.981507</td>\n",
       "      <td>0.954705</td>\n",
       "    </tr>\n",
       "    <tr>\n",
       "      <th>77</th>\n",
       "      <td>0.77</td>\n",
       "      <td>0.981959</td>\n",
       "      <td>0.950073</td>\n",
       "    </tr>\n",
       "    <tr>\n",
       "      <th>78</th>\n",
       "      <td>0.78</td>\n",
       "      <td>0.982420</td>\n",
       "      <td>0.945526</td>\n",
       "    </tr>\n",
       "    <tr>\n",
       "      <th>79</th>\n",
       "      <td>0.79</td>\n",
       "      <td>0.982840</td>\n",
       "      <td>0.940208</td>\n",
       "    </tr>\n",
       "    <tr>\n",
       "      <th>80</th>\n",
       "      <td>0.80</td>\n",
       "      <td>0.983103</td>\n",
       "      <td>0.932230</td>\n",
       "    </tr>\n",
       "    <tr>\n",
       "      <th>81</th>\n",
       "      <td>0.81</td>\n",
       "      <td>0.983438</td>\n",
       "      <td>0.924252</td>\n",
       "    </tr>\n",
       "    <tr>\n",
       "      <th>82</th>\n",
       "      <td>0.82</td>\n",
       "      <td>0.983874</td>\n",
       "      <td>0.916273</td>\n",
       "    </tr>\n",
       "    <tr>\n",
       "      <th>83</th>\n",
       "      <td>0.83</td>\n",
       "      <td>0.983900</td>\n",
       "      <td>0.906237</td>\n",
       "    </tr>\n",
       "    <tr>\n",
       "      <th>84</th>\n",
       "      <td>0.84</td>\n",
       "      <td>0.984021</td>\n",
       "      <td>0.895685</td>\n",
       "    </tr>\n",
       "    <tr>\n",
       "      <th>85</th>\n",
       "      <td>0.85</td>\n",
       "      <td>0.983979</td>\n",
       "      <td>0.883589</td>\n",
       "    </tr>\n",
       "    <tr>\n",
       "      <th>86</th>\n",
       "      <td>0.86</td>\n",
       "      <td>0.983926</td>\n",
       "      <td>0.870550</td>\n",
       "    </tr>\n",
       "    <tr>\n",
       "      <th>87</th>\n",
       "      <td>0.87</td>\n",
       "      <td>0.983564</td>\n",
       "      <td>0.853650</td>\n",
       "    </tr>\n",
       "    <tr>\n",
       "      <th>88</th>\n",
       "      <td>0.88</td>\n",
       "      <td>0.983197</td>\n",
       "      <td>0.837523</td>\n",
       "    </tr>\n",
       "    <tr>\n",
       "      <th>89</th>\n",
       "      <td>0.89</td>\n",
       "      <td>0.982704</td>\n",
       "      <td>0.815819</td>\n",
       "    </tr>\n",
       "  </tbody>\n",
       "</table>\n",
       "</div>"
      ],
      "text/plain": [
       "    Threshold  Accuracy    Recall\n",
       "42       0.42  0.950929  0.998027\n",
       "43       0.43  0.952430  0.997855\n",
       "44       0.44  0.953605  0.997684\n",
       "45       0.45  0.954912  0.997512\n",
       "46       0.46  0.956051  0.997083\n",
       "47       0.47  0.957058  0.996998\n",
       "48       0.48  0.958281  0.996912\n",
       "49       0.49  0.959446  0.996654\n",
       "50       0.50  0.960543  0.996140\n",
       "51       0.51  0.961697  0.995711\n",
       "52       0.52  0.962652  0.995196\n",
       "53       0.53  0.963639  0.994596\n",
       "54       0.54  0.964626  0.994081\n",
       "55       0.55  0.965586  0.993309\n",
       "56       0.56  0.966667  0.992622\n",
       "57       0.57  0.967685  0.992194\n",
       "58       0.58  0.968525  0.991336\n",
       "59       0.59  0.969385  0.990564\n",
       "60       0.60  0.970303  0.989363\n",
       "61       0.61  0.971148  0.987904\n",
       "62       0.62  0.971888  0.986617\n",
       "63       0.63  0.972549  0.985845\n",
       "64       0.64  0.973347  0.984730\n",
       "65       0.65  0.974082  0.983529\n",
       "66       0.66  0.974748  0.981985\n",
       "67       0.67  0.975619  0.980441\n",
       "68       0.68  0.976380  0.979240\n",
       "69       0.69  0.977141  0.977181\n",
       "70       0.70  0.977792  0.974436\n",
       "71       0.71  0.978537  0.972120\n",
       "72       0.72  0.979235  0.970490\n",
       "73       0.73  0.979907  0.967830\n",
       "74       0.74  0.980584  0.964656\n",
       "75       0.75  0.981082  0.960281\n",
       "76       0.76  0.981507  0.954705\n",
       "77       0.77  0.981959  0.950073\n",
       "78       0.78  0.982420  0.945526\n",
       "79       0.79  0.982840  0.940208\n",
       "80       0.80  0.983103  0.932230\n",
       "81       0.81  0.983438  0.924252\n",
       "82       0.82  0.983874  0.916273\n",
       "83       0.83  0.983900  0.906237\n",
       "84       0.84  0.984021  0.895685\n",
       "85       0.85  0.983979  0.883589\n",
       "86       0.86  0.983926  0.870550\n",
       "87       0.87  0.983564  0.853650\n",
       "88       0.88  0.983197  0.837523\n",
       "89       0.89  0.982704  0.815819"
      ]
     },
     "execution_count": 139,
     "metadata": {},
     "output_type": "execute_result"
    }
   ],
   "source": [
    "filtered_df2 = df2[(df2['Accuracy'] >= 0.95) & (df2['Recall'] >= 0.80)]\n",
    "filtered_df2"
   ]
  },
  {
   "cell_type": "code",
   "execution_count": 200,
   "id": "feeb8ba7",
   "metadata": {
    "scrolled": true
   },
   "outputs": [
    {
     "name": "stdout",
     "output_type": "stream",
     "text": [
      "Training accuracy: 0.950929098818751\n",
      "Training recall: 0.9980269366046153\n",
      "Training precision: 0.5550042934834463\n",
      "Test accuracy: 0.9479360878891763\n",
      "Test recall: 0.6081474296799224\n",
      "Test precision: 0.5759338640538886\n"
     ]
    }
   ],
   "source": [
    "model_performance(model2,0.42)"
   ]
  },
  {
   "cell_type": "code",
   "execution_count": 148,
   "id": "0a452c5a",
   "metadata": {},
   "outputs": [],
   "source": [
    "model3 = xgb.XGBClassifier(objective='binary:logistic',max_depth = 10, learning_rate = 0.01,n_estimators = 700,\n",
    "                           reg_lambda = 1, gamma = 1, subsample = 0.3,scale_pos_weight=15).fit(X_train,y_train)\n",
    "df3 = decision_threshold(model3)"
   ]
  },
  {
   "cell_type": "code",
   "execution_count": 149,
   "id": "cc505dc1",
   "metadata": {
    "scrolled": true
   },
   "outputs": [
    {
     "data": {
      "text/html": [
       "<div>\n",
       "<style scoped>\n",
       "    .dataframe tbody tr th:only-of-type {\n",
       "        vertical-align: middle;\n",
       "    }\n",
       "\n",
       "    .dataframe tbody tr th {\n",
       "        vertical-align: top;\n",
       "    }\n",
       "\n",
       "    .dataframe thead th {\n",
       "        text-align: right;\n",
       "    }\n",
       "</style>\n",
       "<table border=\"1\" class=\"dataframe\">\n",
       "  <thead>\n",
       "    <tr style=\"text-align: right;\">\n",
       "      <th></th>\n",
       "      <th>Threshold</th>\n",
       "      <th>Accuracy</th>\n",
       "      <th>Recall</th>\n",
       "    </tr>\n",
       "  </thead>\n",
       "  <tbody>\n",
       "    <tr>\n",
       "      <th>50</th>\n",
       "      <td>0.50</td>\n",
       "      <td>0.901412</td>\n",
       "      <td>0.926997</td>\n",
       "    </tr>\n",
       "    <tr>\n",
       "      <th>51</th>\n",
       "      <td>0.51</td>\n",
       "      <td>0.903432</td>\n",
       "      <td>0.922536</td>\n",
       "    </tr>\n",
       "    <tr>\n",
       "      <th>52</th>\n",
       "      <td>0.52</td>\n",
       "      <td>0.905736</td>\n",
       "      <td>0.917818</td>\n",
       "    </tr>\n",
       "    <tr>\n",
       "      <th>53</th>\n",
       "      <td>0.53</td>\n",
       "      <td>0.907883</td>\n",
       "      <td>0.913614</td>\n",
       "    </tr>\n",
       "    <tr>\n",
       "      <th>54</th>\n",
       "      <td>0.54</td>\n",
       "      <td>0.909908</td>\n",
       "      <td>0.909582</td>\n",
       "    </tr>\n",
       "    <tr>\n",
       "      <th>55</th>\n",
       "      <td>0.55</td>\n",
       "      <td>0.911923</td>\n",
       "      <td>0.905207</td>\n",
       "    </tr>\n",
       "    <tr>\n",
       "      <th>56</th>\n",
       "      <td>0.56</td>\n",
       "      <td>0.913592</td>\n",
       "      <td>0.900232</td>\n",
       "    </tr>\n",
       "    <tr>\n",
       "      <th>57</th>\n",
       "      <td>0.57</td>\n",
       "      <td>0.915528</td>\n",
       "      <td>0.896714</td>\n",
       "    </tr>\n",
       "    <tr>\n",
       "      <th>58</th>\n",
       "      <td>0.58</td>\n",
       "      <td>0.917423</td>\n",
       "      <td>0.892254</td>\n",
       "    </tr>\n",
       "    <tr>\n",
       "      <th>59</th>\n",
       "      <td>0.59</td>\n",
       "      <td>0.919286</td>\n",
       "      <td>0.888307</td>\n",
       "    </tr>\n",
       "    <tr>\n",
       "      <th>60</th>\n",
       "      <td>0.60</td>\n",
       "      <td>0.921002</td>\n",
       "      <td>0.882560</td>\n",
       "    </tr>\n",
       "    <tr>\n",
       "      <th>61</th>\n",
       "      <td>0.61</td>\n",
       "      <td>0.922628</td>\n",
       "      <td>0.877756</td>\n",
       "    </tr>\n",
       "    <tr>\n",
       "      <th>62</th>\n",
       "      <td>0.62</td>\n",
       "      <td>0.924544</td>\n",
       "      <td>0.872695</td>\n",
       "    </tr>\n",
       "    <tr>\n",
       "      <th>63</th>\n",
       "      <td>0.63</td>\n",
       "      <td>0.926234</td>\n",
       "      <td>0.867976</td>\n",
       "    </tr>\n",
       "    <tr>\n",
       "      <th>64</th>\n",
       "      <td>0.64</td>\n",
       "      <td>0.928055</td>\n",
       "      <td>0.863258</td>\n",
       "    </tr>\n",
       "    <tr>\n",
       "      <th>65</th>\n",
       "      <td>0.65</td>\n",
       "      <td>0.929571</td>\n",
       "      <td>0.857511</td>\n",
       "    </tr>\n",
       "    <tr>\n",
       "      <th>66</th>\n",
       "      <td>0.66</td>\n",
       "      <td>0.931214</td>\n",
       "      <td>0.851763</td>\n",
       "    </tr>\n",
       "  </tbody>\n",
       "</table>\n",
       "</div>"
      ],
      "text/plain": [
       "    Threshold  Accuracy    Recall\n",
       "50       0.50  0.901412  0.926997\n",
       "51       0.51  0.903432  0.922536\n",
       "52       0.52  0.905736  0.917818\n",
       "53       0.53  0.907883  0.913614\n",
       "54       0.54  0.909908  0.909582\n",
       "55       0.55  0.911923  0.905207\n",
       "56       0.56  0.913592  0.900232\n",
       "57       0.57  0.915528  0.896714\n",
       "58       0.58  0.917423  0.892254\n",
       "59       0.59  0.919286  0.888307\n",
       "60       0.60  0.921002  0.882560\n",
       "61       0.61  0.922628  0.877756\n",
       "62       0.62  0.924544  0.872695\n",
       "63       0.63  0.926234  0.867976\n",
       "64       0.64  0.928055  0.863258\n",
       "65       0.65  0.929571  0.857511\n",
       "66       0.66  0.931214  0.851763"
      ]
     },
     "execution_count": 149,
     "metadata": {},
     "output_type": "execute_result"
    }
   ],
   "source": [
    "filtered_df3 = df3[(df3['Accuracy'] >= 0.9) & (df3['Recall'] >= 0.85)]\n",
    "filtered_df3.sort_values('Recall',ascending=False)"
   ]
  },
  {
   "cell_type": "code",
   "execution_count": 201,
   "id": "aaa2bfea",
   "metadata": {},
   "outputs": [
    {
     "name": "stdout",
     "output_type": "stream",
     "text": [
      "Training accuracy: 0.9014121462418858\n",
      "Training recall: 0.9269966543707644\n",
      "Training precision: 0.3759654860482917\n",
      "Test accuracy: 0.9080110663378842\n",
      "Test recall: 0.8326867119301649\n",
      "Test precision: 0.38749717896637326\n"
     ]
    }
   ],
   "source": [
    "model_performance(model3,0.5)"
   ]
  },
  {
   "cell_type": "code",
   "execution_count": 151,
   "id": "609a9cc6",
   "metadata": {
    "scrolled": true
   },
   "outputs": [
    {
     "name": "stdout",
     "output_type": "stream",
     "text": [
      "Fitting 2 folds for each of 8 candidates, totalling 16 fits\n"
     ]
    },
    {
     "name": "stderr",
     "output_type": "stream",
     "text": [
      "/Users/lucyhan/opt/anaconda3/lib/python3.9/site-packages/sklearn/model_selection/_search.py:292: UserWarning: The total space of parameters 8 is smaller than n_iter=10. Running 8 iterations. For exhaustive searches, use GridSearchCV.\n",
      "  warnings.warn(\n"
     ]
    },
    {
     "name": "stdout",
     "output_type": "stream",
     "text": [
      "Optimal parameter values = {'subsample': 0.5, 'scale_pos_weight': 15, 'reg_lambda': 1, 'n_estimators': 1000, 'max_depth': 8, 'learning_rate': 0.1, 'gamma': 1, 'colsample_bytree': 0.5}\n",
      "Optimal cross validation score = 0.939079875097188\n",
      "Time taken = 10  minutes\n"
     ]
    }
   ],
   "source": [
    "#grid search of model 8x\n",
    "\n",
    "start_time = time.time()\n",
    "param_grid = {'max_depth': [8],\n",
    "              'learning_rate': [0.01,0.1],\n",
    "              'reg_lambda': [1,10],\n",
    "              'n_estimators': [1000],\n",
    "              'gamma': [1,10],\n",
    "              'subsample': [0.5],\n",
    "              'colsample_bytree':[0.5],\n",
    "              'scale_pos_weight': [15]}\n",
    "\n",
    "cv = KFold(n_splits=2, shuffle=True)\n",
    "optimal_params = RandomizedSearchCV(estimator=xgb.XGBClassifier(objective = 'binary:logistic'),\n",
    "                                    param_distributions=param_grid,\n",
    "                                    verbose=1,\n",
    "                                    n_jobs=-1,\n",
    "                                    scoring='accuracy',\n",
    "                                    cv=cv)\n",
    "optimal_params.fit(X_train, y_train)\n",
    "print(\"Optimal parameter values =\", optimal_params.best_params_)\n",
    "print(\"Optimal cross validation score =\", optimal_params.best_score_) \n",
    "print(\"Time taken =\", round((time.time() - start_time) / 60), \" minutes\")"
   ]
  },
  {
   "cell_type": "code",
   "execution_count": 259,
   "id": "0b4a267a",
   "metadata": {},
   "outputs": [],
   "source": [
    "model8x = xgb.XGBClassifier(objective='binary:logistic',max_depth = 6, learning_rate = 0.03,n_estimators = 1000,\n",
    "                           reg_lambda = 5, gamma = 5, subsample = 0.5, colsample_bytree=0.5, scale_pos_weight=15).fit(X_train,y_train)\n",
    "df8x = decision_threshold(model8x)"
   ]
  },
  {
   "cell_type": "code",
   "execution_count": 261,
   "id": "e0be7e72",
   "metadata": {},
   "outputs": [
    {
     "data": {
      "text/html": [
       "<div>\n",
       "<style scoped>\n",
       "    .dataframe tbody tr th:only-of-type {\n",
       "        vertical-align: middle;\n",
       "    }\n",
       "\n",
       "    .dataframe tbody tr th {\n",
       "        vertical-align: top;\n",
       "    }\n",
       "\n",
       "    .dataframe thead th {\n",
       "        text-align: right;\n",
       "    }\n",
       "</style>\n",
       "<table border=\"1\" class=\"dataframe\">\n",
       "  <thead>\n",
       "    <tr style=\"text-align: right;\">\n",
       "      <th></th>\n",
       "      <th>Threshold</th>\n",
       "      <th>Accuracy</th>\n",
       "      <th>Recall</th>\n",
       "    </tr>\n",
       "  </thead>\n",
       "  <tbody>\n",
       "    <tr>\n",
       "      <th>53</th>\n",
       "      <td>0.53</td>\n",
       "      <td>0.902399</td>\n",
       "      <td>0.926825</td>\n",
       "    </tr>\n",
       "    <tr>\n",
       "      <th>54</th>\n",
       "      <td>0.54</td>\n",
       "      <td>0.904844</td>\n",
       "      <td>0.923823</td>\n",
       "    </tr>\n",
       "    <tr>\n",
       "      <th>55</th>\n",
       "      <td>0.55</td>\n",
       "      <td>0.906996</td>\n",
       "      <td>0.919791</td>\n",
       "    </tr>\n",
       "    <tr>\n",
       "      <th>56</th>\n",
       "      <td>0.56</td>\n",
       "      <td>0.909021</td>\n",
       "      <td>0.915930</td>\n",
       "    </tr>\n",
       "    <tr>\n",
       "      <th>57</th>\n",
       "      <td>0.57</td>\n",
       "      <td>0.910832</td>\n",
       "      <td>0.911470</td>\n",
       "    </tr>\n",
       "    <tr>\n",
       "      <th>58</th>\n",
       "      <td>0.58</td>\n",
       "      <td>0.912941</td>\n",
       "      <td>0.907352</td>\n",
       "    </tr>\n",
       "    <tr>\n",
       "      <th>59</th>\n",
       "      <td>0.59</td>\n",
       "      <td>0.914893</td>\n",
       "      <td>0.903148</td>\n",
       "    </tr>\n",
       "  </tbody>\n",
       "</table>\n",
       "</div>"
      ],
      "text/plain": [
       "    Threshold  Accuracy    Recall\n",
       "53       0.53  0.902399  0.926825\n",
       "54       0.54  0.904844  0.923823\n",
       "55       0.55  0.906996  0.919791\n",
       "56       0.56  0.909021  0.915930\n",
       "57       0.57  0.910832  0.911470\n",
       "58       0.58  0.912941  0.907352\n",
       "59       0.59  0.914893  0.903148"
      ]
     },
     "execution_count": 261,
     "metadata": {},
     "output_type": "execute_result"
    }
   ],
   "source": [
    "filtered_df8x = df8x[(df8x['Accuracy'] >= 0.9) & (df8x['Recall'] >= 0.9)]\n",
    "filtered_df8x.sort_values('Recall',ascending=False)"
   ]
  },
  {
   "cell_type": "code",
   "execution_count": 286,
   "id": "a9f09408",
   "metadata": {
    "scrolled": true
   },
   "outputs": [
    {
     "name": "stdout",
     "output_type": "stream",
     "text": [
      "Training accuracy: 0.8711541186286805\n",
      "Training recall: 0.9634554345028739\n",
      "Training precision: 0.3176367441597375\n",
      "Test accuracy: 0.9049938854473647\n",
      "Test recall: 0.847397348852247\n",
      "Test precision: 0.38051684088269455\n"
     ]
    }
   ],
   "source": [
    "model_performance(model8x,0.41)"
   ]
  },
  {
   "cell_type": "code",
   "execution_count": 272,
   "id": "43ad4027",
   "metadata": {},
   "outputs": [
    {
     "data": {
      "text/plain": [
       "<AxesSubplot:>"
      ]
     },
     "execution_count": 272,
     "metadata": {},
     "output_type": "execute_result"
    },
    {
     "data": {
      "image/png": "[encoded data removed]",
      "text/plain": [
       "<Figure size 432x288 with 2 Axes>"
      ]
     },
     "metadata": {
      "needs_background": "light"
     },
     "output_type": "display_data"
    }
   ],
   "source": [
    "y_pred8x = model8x.predict(X_test)\n",
    "cm = pd.DataFrame(confusion_matrix(y_test, y_pred8x), columns=['Predicted 0', 'Predicted 1'], \n",
    "            index = ['Actual 0', 'Actual 1'])\n",
    "sns.heatmap(cm, annot=True, cmap='Blues', fmt='g')\n",
    "#the model is severely overfitting the training model. \n",
    "#The learning rate of 0.1 is too high, and gamma & reg_lambda too low"
   ]
  },
  {
   "cell_type": "code",
   "execution_count": 155,
   "id": "30eabddd",
   "metadata": {},
   "outputs": [],
   "source": [
    "model8 = xgb.XGBClassifier(objective='binary:logistic',max_depth = 8, learning_rate = 0.01,n_estimators = 1000,\n",
    "                           reg_lambda = 10, gamma = 10, subsample = 0.5, colsample_bytree=0.5, scale_pos_weight=15).fit(X_train,y_train)\n",
    "df8 = decision_threshold(model8)"
   ]
  },
  {
   "cell_type": "code",
   "execution_count": 210,
   "id": "8f95174f",
   "metadata": {
    "scrolled": true
   },
   "outputs": [
    {
     "data": {
      "text/html": [
       "<div>\n",
       "<style scoped>\n",
       "    .dataframe tbody tr th:only-of-type {\n",
       "        vertical-align: middle;\n",
       "    }\n",
       "\n",
       "    .dataframe tbody tr th {\n",
       "        vertical-align: top;\n",
       "    }\n",
       "\n",
       "    .dataframe thead th {\n",
       "        text-align: right;\n",
       "    }\n",
       "</style>\n",
       "<table border=\"1\" class=\"dataframe\">\n",
       "  <thead>\n",
       "    <tr style=\"text-align: right;\">\n",
       "      <th></th>\n",
       "      <th>Threshold</th>\n",
       "      <th>Accuracy</th>\n",
       "      <th>Recall</th>\n",
       "    </tr>\n",
       "  </thead>\n",
       "  <tbody>\n",
       "    <tr>\n",
       "      <th>56</th>\n",
       "      <td>0.56</td>\n",
       "      <td>0.900415</td>\n",
       "      <td>0.899631</td>\n",
       "    </tr>\n",
       "    <tr>\n",
       "      <th>57</th>\n",
       "      <td>0.57</td>\n",
       "      <td>0.902572</td>\n",
       "      <td>0.896028</td>\n",
       "    </tr>\n",
       "    <tr>\n",
       "      <th>58</th>\n",
       "      <td>0.58</td>\n",
       "      <td>0.904891</td>\n",
       "      <td>0.891053</td>\n",
       "    </tr>\n",
       "    <tr>\n",
       "      <th>59</th>\n",
       "      <td>0.59</td>\n",
       "      <td>0.907090</td>\n",
       "      <td>0.886077</td>\n",
       "    </tr>\n",
       "    <tr>\n",
       "      <th>60</th>\n",
       "      <td>0.60</td>\n",
       "      <td>0.909252</td>\n",
       "      <td>0.881959</td>\n",
       "    </tr>\n",
       "    <tr>\n",
       "      <th>61</th>\n",
       "      <td>0.61</td>\n",
       "      <td>0.911367</td>\n",
       "      <td>0.877584</td>\n",
       "    </tr>\n",
       "    <tr>\n",
       "      <th>62</th>\n",
       "      <td>0.62</td>\n",
       "      <td>0.913676</td>\n",
       "      <td>0.871837</td>\n",
       "    </tr>\n",
       "    <tr>\n",
       "      <th>63</th>\n",
       "      <td>0.63</td>\n",
       "      <td>0.915392</td>\n",
       "      <td>0.865660</td>\n",
       "    </tr>\n",
       "    <tr>\n",
       "      <th>64</th>\n",
       "      <td>0.64</td>\n",
       "      <td>0.917475</td>\n",
       "      <td>0.860599</td>\n",
       "    </tr>\n",
       "    <tr>\n",
       "      <th>65</th>\n",
       "      <td>0.65</td>\n",
       "      <td>0.919784</td>\n",
       "      <td>0.855966</td>\n",
       "    </tr>\n",
       "    <tr>\n",
       "      <th>66</th>\n",
       "      <td>0.66</td>\n",
       "      <td>0.922056</td>\n",
       "      <td>0.850991</td>\n",
       "    </tr>\n",
       "    <tr>\n",
       "      <th>67</th>\n",
       "      <td>0.67</td>\n",
       "      <td>0.924003</td>\n",
       "      <td>0.844214</td>\n",
       "    </tr>\n",
       "    <tr>\n",
       "      <th>68</th>\n",
       "      <td>0.68</td>\n",
       "      <td>0.926150</td>\n",
       "      <td>0.837694</td>\n",
       "    </tr>\n",
       "    <tr>\n",
       "      <th>69</th>\n",
       "      <td>0.69</td>\n",
       "      <td>0.928076</td>\n",
       "      <td>0.830574</td>\n",
       "    </tr>\n",
       "    <tr>\n",
       "      <th>70</th>\n",
       "      <td>0.70</td>\n",
       "      <td>0.929860</td>\n",
       "      <td>0.823540</td>\n",
       "    </tr>\n",
       "    <tr>\n",
       "      <th>71</th>\n",
       "      <td>0.71</td>\n",
       "      <td>0.931749</td>\n",
       "      <td>0.816677</td>\n",
       "    </tr>\n",
       "    <tr>\n",
       "      <th>72</th>\n",
       "      <td>0.72</td>\n",
       "      <td>0.933743</td>\n",
       "      <td>0.809128</td>\n",
       "    </tr>\n",
       "    <tr>\n",
       "      <th>73</th>\n",
       "      <td>0.73</td>\n",
       "      <td>0.935685</td>\n",
       "      <td>0.801150</td>\n",
       "    </tr>\n",
       "  </tbody>\n",
       "</table>\n",
       "</div>"
      ],
      "text/plain": [
       "    Threshold  Accuracy    Recall\n",
       "56       0.56  0.900415  0.899631\n",
       "57       0.57  0.902572  0.896028\n",
       "58       0.58  0.904891  0.891053\n",
       "59       0.59  0.907090  0.886077\n",
       "60       0.60  0.909252  0.881959\n",
       "61       0.61  0.911367  0.877584\n",
       "62       0.62  0.913676  0.871837\n",
       "63       0.63  0.915392  0.865660\n",
       "64       0.64  0.917475  0.860599\n",
       "65       0.65  0.919784  0.855966\n",
       "66       0.66  0.922056  0.850991\n",
       "67       0.67  0.924003  0.844214\n",
       "68       0.68  0.926150  0.837694\n",
       "69       0.69  0.928076  0.830574\n",
       "70       0.70  0.929860  0.823540\n",
       "71       0.71  0.931749  0.816677\n",
       "72       0.72  0.933743  0.809128\n",
       "73       0.73  0.935685  0.801150"
      ]
     },
     "execution_count": 210,
     "metadata": {},
     "output_type": "execute_result"
    }
   ],
   "source": [
    "filtered_df8 = df8[(df8['Accuracy'] >= 0.9) & (df8['Recall'] >= 0.80)]\n",
    "filtered_df8.sort_values('Recall',ascending=False)"
   ]
  },
  {
   "cell_type": "code",
   "execution_count": 278,
   "id": "1e739d5b",
   "metadata": {
    "scrolled": false
   },
   "outputs": [
    {
     "name": "stdout",
     "output_type": "stream",
     "text": [
      "Training accuracy: 0.8862516464544161\n",
      "Training recall: 0.9046066741013983\n",
      "Training precision: 0.3389694300684689\n",
      "Test accuracy: 0.9020568954110784\n",
      "Test recall: 0.853055286129971\n",
      "Test precision: 0.3732230002121791\n"
     ]
    }
   ],
   "source": [
    "model_performance(model8,0.53)"
   ]
  },
  {
   "cell_type": "code",
   "execution_count": 279,
   "id": "87c1e14b",
   "metadata": {
    "scrolled": true
   },
   "outputs": [
    {
     "data": {
      "text/plain": [
       "<matplotlib.legend.Legend at 0x7fbdb291deb0>"
      ]
     },
     "execution_count": 279,
     "metadata": {},
     "output_type": "execute_result"
    },
    {
     "data": {
      "image/png": "[encoded data removed]",
      "text/plain": [
       "<Figure size 640x480 with 1 Axes>"
      ]
     },
     "metadata": {
      "needs_background": "light"
     },
     "output_type": "display_data"
    }
   ],
   "source": [
    "plt.figure(figsize=(8,6),dpi=80)\n",
    "plt.plot(df8['Threshold'],df8['Accuracy'],label='Accuracy')\n",
    "plt.plot(df8['Threshold'],df8['Accuracy'],'o',color='blue')\n",
    "plt.plot(df8['Threshold'],df8['Recall'],label='Recall',color='green')\n",
    "plt.plot(df8['Threshold'],df8['Recall'],'o',color='green')\n",
    "\n",
    "plt.xlabel('Threshold')\n",
    "plt.ylabel('Score')\n",
    "plt.legend()"
   ]
  },
  {
   "cell_type": "code",
   "execution_count": 280,
   "id": "b49a4759",
   "metadata": {
    "scrolled": true
   },
   "outputs": [
    {
     "data": {
      "text/html": [
       "<div>\n",
       "<style scoped>\n",
       "    .dataframe tbody tr th:only-of-type {\n",
       "        vertical-align: middle;\n",
       "    }\n",
       "\n",
       "    .dataframe tbody tr th {\n",
       "        vertical-align: top;\n",
       "    }\n",
       "\n",
       "    .dataframe thead th {\n",
       "        text-align: right;\n",
       "    }\n",
       "</style>\n",
       "<table border=\"1\" class=\"dataframe\">\n",
       "  <thead>\n",
       "    <tr style=\"text-align: right;\">\n",
       "      <th></th>\n",
       "      <th>Feature Name</th>\n",
       "      <th>Feature Importance</th>\n",
       "    </tr>\n",
       "  </thead>\n",
       "  <tbody>\n",
       "    <tr>\n",
       "      <th>34</th>\n",
       "      <td>weeks_worked</td>\n",
       "      <td>0.175682</td>\n",
       "    </tr>\n",
       "    <tr>\n",
       "      <th>12</th>\n",
       "      <td>sex</td>\n",
       "      <td>0.120443</td>\n",
       "    </tr>\n",
       "    <tr>\n",
       "      <th>25</th>\n",
       "      <td>num_ppl_worked</td>\n",
       "      <td>0.097985</td>\n",
       "    </tr>\n",
       "    <tr>\n",
       "      <th>26</th>\n",
       "      <td>fam_members_u18</td>\n",
       "      <td>0.075303</td>\n",
       "    </tr>\n",
       "    <tr>\n",
       "      <th>3</th>\n",
       "      <td>occ_code_det</td>\n",
       "      <td>0.050947</td>\n",
       "    </tr>\n",
       "    <tr>\n",
       "      <th>18</th>\n",
       "      <td>dividend</td>\n",
       "      <td>0.046812</td>\n",
       "    </tr>\n",
       "    <tr>\n",
       "      <th>0</th>\n",
       "      <td>age</td>\n",
       "      <td>0.042248</td>\n",
       "    </tr>\n",
       "    <tr>\n",
       "      <th>16</th>\n",
       "      <td>cap_gain</td>\n",
       "      <td>0.041592</td>\n",
       "    </tr>\n",
       "    <tr>\n",
       "      <th>22</th>\n",
       "      <td>fam_state</td>\n",
       "      <td>0.037562</td>\n",
       "    </tr>\n",
       "    <tr>\n",
       "      <th>9</th>\n",
       "      <td>occ_code_maj</td>\n",
       "      <td>0.029683</td>\n",
       "    </tr>\n",
       "  </tbody>\n",
       "</table>\n",
       "</div>"
      ],
      "text/plain": [
       "       Feature Name  Feature Importance\n",
       "34     weeks_worked            0.175682\n",
       "12              sex            0.120443\n",
       "25   num_ppl_worked            0.097985\n",
       "26  fam_members_u18            0.075303\n",
       "3      occ_code_det            0.050947\n",
       "18         dividend            0.046812\n",
       "0               age            0.042248\n",
       "16         cap_gain            0.041592\n",
       "22        fam_state            0.037562\n",
       "9      occ_code_maj            0.029683"
      ]
     },
     "execution_count": 280,
     "metadata": {},
     "output_type": "execute_result"
    }
   ],
   "source": [
    "importance = list(model8.feature_importances_)\n",
    "name = list(model8.feature_names_in_)\n",
    "df = pd.DataFrame()\n",
    "df['Feature Name'] = name\n",
    "df['Feature Importance'] = importance\n",
    "df.sort_values(by='Feature Importance', ascending=False).head(10)"
   ]
  },
  {
   "cell_type": "markdown",
   "id": "f6d26f4e",
   "metadata": {},
   "source": [
    "\n",
    "- An accuracy score of 91 means that the model correctly predicted 91% of all instances (both positive and negative) in the dataset.\n",
    "- A recall score of 83 means that the model correctly identified 83% of the positive instances (true positives) out of all the actual positive instances in the dataset."
   ]
  },
  {
   "cell_type": "code",
   "execution_count": 281,
   "id": "fd1d3000",
   "metadata": {
    "scrolled": true
   },
   "outputs": [
    {
     "data": {
      "image/png": "[encoded data removed]",
      "text/plain": [
       "<Figure size 432x288 with 2 Axes>"
      ]
     },
     "metadata": {
      "needs_background": "light"
     },
     "output_type": "display_data"
    }
   ],
   "source": [
    "y_pred8 = model8.predict(X_test)\n",
    "cm = pd.DataFrame(confusion_matrix(y_test, y_pred8), columns=['Predicted 0', 'Predicted 1'], \n",
    "            index = ['Actual 0', 'Actual 1'])\n",
    "sns.heatmap(cm, annot=True, cmap='Blues', fmt='g');"
   ]
  },
  {
   "cell_type": "code",
   "execution_count": 165,
   "id": "6fcf1e7b",
   "metadata": {
    "scrolled": true
   },
   "outputs": [
    {
     "name": "stdout",
     "output_type": "stream",
     "text": [
      "Fitting 2 folds for each of 10 candidates, totalling 20 fits\n",
      "Optimal parameter values = {'subsample': 0.7, 'scale_pos_weight': 15, 'reg_lambda': 5, 'n_estimators': 1000, 'max_depth': 6, 'learning_rate': 0.05, 'gamma': 5, 'colsample_bytree': 1}\n",
      "Optimal cross validation score = 0.9090055216806189\n",
      "Time taken = 12  minutes\n"
     ]
    }
   ],
   "source": [
    "#grid search of model 10\n",
    "\n",
    "start_time = time.time()\n",
    "param_grid = {'max_depth': [6],\n",
    "              'learning_rate': [0.01,0.05,0.1],\n",
    "              'reg_lambda': [1,5,10],\n",
    "              'n_estimators': [500,700,1000],\n",
    "              'gamma': [1,5,10],\n",
    "              'subsample': [0.7,1],\n",
    "              'colsample_bytree':[0.7,1],\n",
    "              'scale_pos_weight': [15]}\n",
    "\n",
    "cv = KFold(n_splits=2, shuffle=True)\n",
    "optimal_params = RandomizedSearchCV(estimator=xgb.XGBClassifier(objective = 'binary:logistic'),\n",
    "                                    param_distributions=param_grid,\n",
    "                                    verbose=1,\n",
    "                                    n_jobs=-1,\n",
    "                                    scoring='accuracy',\n",
    "                                    cv=cv)\n",
    "optimal_params.fit(X_train, y_train)\n",
    "print(\"Optimal parameter values =\", optimal_params.best_params_)\n",
    "print(\"Optimal cross validation score =\", optimal_params.best_score_) \n",
    "print(\"Time taken =\", round((time.time() - start_time) / 60), \" minutes\")"
   ]
  },
  {
   "cell_type": "code",
   "execution_count": 186,
   "id": "a8488f94",
   "metadata": {},
   "outputs": [],
   "source": [
    "model10= xgb.XGBClassifier(objective='binary:logistic',max_depth = 6, learning_rate = 0.05,n_estimators = 1000,\n",
    "                           reg_lambda = 5, gamma = 5, subsample = 0.7, colsample_bytree=0.7, scale_pos_weight=15).fit(X_train,y_train)\n",
    "df10 = decision_threshold(model10)"
   ]
  },
  {
   "cell_type": "code",
   "execution_count": 187,
   "id": "a9bd6dd3",
   "metadata": {},
   "outputs": [
    {
     "data": {
      "text/html": [
       "<div>\n",
       "<style scoped>\n",
       "    .dataframe tbody tr th:only-of-type {\n",
       "        vertical-align: middle;\n",
       "    }\n",
       "\n",
       "    .dataframe tbody tr th {\n",
       "        vertical-align: top;\n",
       "    }\n",
       "\n",
       "    .dataframe thead th {\n",
       "        text-align: right;\n",
       "    }\n",
       "</style>\n",
       "<table border=\"1\" class=\"dataframe\">\n",
       "  <thead>\n",
       "    <tr style=\"text-align: right;\">\n",
       "      <th></th>\n",
       "      <th>Threshold</th>\n",
       "      <th>Accuracy</th>\n",
       "      <th>Recall</th>\n",
       "    </tr>\n",
       "  </thead>\n",
       "  <tbody>\n",
       "    <tr>\n",
       "      <th>47</th>\n",
       "      <td>0.47</td>\n",
       "      <td>0.902168</td>\n",
       "      <td>0.967230</td>\n",
       "    </tr>\n",
       "    <tr>\n",
       "      <th>48</th>\n",
       "      <td>0.48</td>\n",
       "      <td>0.904398</td>\n",
       "      <td>0.965000</td>\n",
       "    </tr>\n",
       "    <tr>\n",
       "      <th>49</th>\n",
       "      <td>0.49</td>\n",
       "      <td>0.906718</td>\n",
       "      <td>0.962855</td>\n",
       "    </tr>\n",
       "    <tr>\n",
       "      <th>50</th>\n",
       "      <td>0.50</td>\n",
       "      <td>0.908885</td>\n",
       "      <td>0.960281</td>\n",
       "    </tr>\n",
       "    <tr>\n",
       "      <th>51</th>\n",
       "      <td>0.51</td>\n",
       "      <td>0.911000</td>\n",
       "      <td>0.957279</td>\n",
       "    </tr>\n",
       "    <tr>\n",
       "      <th>52</th>\n",
       "      <td>0.52</td>\n",
       "      <td>0.913004</td>\n",
       "      <td>0.954963</td>\n",
       "    </tr>\n",
       "    <tr>\n",
       "      <th>53</th>\n",
       "      <td>0.53</td>\n",
       "      <td>0.915067</td>\n",
       "      <td>0.952475</td>\n",
       "    </tr>\n",
       "    <tr>\n",
       "      <th>54</th>\n",
       "      <td>0.54</td>\n",
       "      <td>0.917003</td>\n",
       "      <td>0.949644</td>\n",
       "    </tr>\n",
       "    <tr>\n",
       "      <th>55</th>\n",
       "      <td>0.55</td>\n",
       "      <td>0.919128</td>\n",
       "      <td>0.946642</td>\n",
       "    </tr>\n",
       "    <tr>\n",
       "      <th>56</th>\n",
       "      <td>0.56</td>\n",
       "      <td>0.921075</td>\n",
       "      <td>0.942695</td>\n",
       "    </tr>\n",
       "    <tr>\n",
       "      <th>57</th>\n",
       "      <td>0.57</td>\n",
       "      <td>0.922880</td>\n",
       "      <td>0.938749</td>\n",
       "    </tr>\n",
       "    <tr>\n",
       "      <th>58</th>\n",
       "      <td>0.58</td>\n",
       "      <td>0.924822</td>\n",
       "      <td>0.934975</td>\n",
       "    </tr>\n",
       "    <tr>\n",
       "      <th>59</th>\n",
       "      <td>0.59</td>\n",
       "      <td>0.926396</td>\n",
       "      <td>0.930943</td>\n",
       "    </tr>\n",
       "    <tr>\n",
       "      <th>60</th>\n",
       "      <td>0.60</td>\n",
       "      <td>0.928128</td>\n",
       "      <td>0.925624</td>\n",
       "    </tr>\n",
       "    <tr>\n",
       "      <th>61</th>\n",
       "      <td>0.61</td>\n",
       "      <td>0.929996</td>\n",
       "      <td>0.922193</td>\n",
       "    </tr>\n",
       "    <tr>\n",
       "      <th>62</th>\n",
       "      <td>0.62</td>\n",
       "      <td>0.931759</td>\n",
       "      <td>0.917217</td>\n",
       "    </tr>\n",
       "    <tr>\n",
       "      <th>63</th>\n",
       "      <td>0.63</td>\n",
       "      <td>0.933328</td>\n",
       "      <td>0.912327</td>\n",
       "    </tr>\n",
       "    <tr>\n",
       "      <th>64</th>\n",
       "      <td>0.64</td>\n",
       "      <td>0.935013</td>\n",
       "      <td>0.907180</td>\n",
       "    </tr>\n",
       "    <tr>\n",
       "      <th>65</th>\n",
       "      <td>0.65</td>\n",
       "      <td>0.936509</td>\n",
       "      <td>0.902119</td>\n",
       "    </tr>\n",
       "    <tr>\n",
       "      <th>66</th>\n",
       "      <td>0.66</td>\n",
       "      <td>0.938135</td>\n",
       "      <td>0.896371</td>\n",
       "    </tr>\n",
       "    <tr>\n",
       "      <th>67</th>\n",
       "      <td>0.67</td>\n",
       "      <td>0.939741</td>\n",
       "      <td>0.890709</td>\n",
       "    </tr>\n",
       "    <tr>\n",
       "      <th>68</th>\n",
       "      <td>0.68</td>\n",
       "      <td>0.941279</td>\n",
       "      <td>0.884276</td>\n",
       "    </tr>\n",
       "    <tr>\n",
       "      <th>69</th>\n",
       "      <td>0.69</td>\n",
       "      <td>0.942790</td>\n",
       "      <td>0.877756</td>\n",
       "    </tr>\n",
       "    <tr>\n",
       "      <th>70</th>\n",
       "      <td>0.70</td>\n",
       "      <td>0.944244</td>\n",
       "      <td>0.871065</td>\n",
       "    </tr>\n",
       "    <tr>\n",
       "      <th>71</th>\n",
       "      <td>0.71</td>\n",
       "      <td>0.945723</td>\n",
       "      <td>0.864202</td>\n",
       "    </tr>\n",
       "    <tr>\n",
       "      <th>72</th>\n",
       "      <td>0.72</td>\n",
       "      <td>0.947104</td>\n",
       "      <td>0.856653</td>\n",
       "    </tr>\n",
       "  </tbody>\n",
       "</table>\n",
       "</div>"
      ],
      "text/plain": [
       "    Threshold  Accuracy    Recall\n",
       "47       0.47  0.902168  0.967230\n",
       "48       0.48  0.904398  0.965000\n",
       "49       0.49  0.906718  0.962855\n",
       "50       0.50  0.908885  0.960281\n",
       "51       0.51  0.911000  0.957279\n",
       "52       0.52  0.913004  0.954963\n",
       "53       0.53  0.915067  0.952475\n",
       "54       0.54  0.917003  0.949644\n",
       "55       0.55  0.919128  0.946642\n",
       "56       0.56  0.921075  0.942695\n",
       "57       0.57  0.922880  0.938749\n",
       "58       0.58  0.924822  0.934975\n",
       "59       0.59  0.926396  0.930943\n",
       "60       0.60  0.928128  0.925624\n",
       "61       0.61  0.929996  0.922193\n",
       "62       0.62  0.931759  0.917217\n",
       "63       0.63  0.933328  0.912327\n",
       "64       0.64  0.935013  0.907180\n",
       "65       0.65  0.936509  0.902119\n",
       "66       0.66  0.938135  0.896371\n",
       "67       0.67  0.939741  0.890709\n",
       "68       0.68  0.941279  0.884276\n",
       "69       0.69  0.942790  0.877756\n",
       "70       0.70  0.944244  0.871065\n",
       "71       0.71  0.945723  0.864202\n",
       "72       0.72  0.947104  0.856653"
      ]
     },
     "execution_count": 187,
     "metadata": {},
     "output_type": "execute_result"
    }
   ],
   "source": [
    "filtered_df10 = df10[(df10['Accuracy'] >= 0.9) & (df10['Recall'] >= 0.85)]\n",
    "filtered_df10.sort_values('Recall',ascending=False)"
   ]
  },
  {
   "cell_type": "code",
   "execution_count": 297,
   "id": "5df77953",
   "metadata": {
    "scrolled": true
   },
   "outputs": [
    {
     "name": "stdout",
     "output_type": "stream",
     "text": [
      "Training accuracy: 0.8491349226756787\n",
      "Training recall: 0.9909925366732435\n",
      "Training precision: 0.2873917802766444\n",
      "Test accuracy: 0.9030492572322126\n",
      "Test recall: 0.8464274167474943\n",
      "Test precision: 0.37512537612838515\n"
     ]
    }
   ],
   "source": [
    "model_performance(model10,0.28)"
   ]
  },
  {
   "cell_type": "code",
   "execution_count": 188,
   "id": "899c84f9",
   "metadata": {
    "scrolled": true
   },
   "outputs": [
    {
     "name": "stdout",
     "output_type": "stream",
     "text": [
      "Fitting 2 folds for each of 10 candidates, totalling 20 fits\n",
      "Optimal parameter values = {'subsample': 0.5, 'scale_pos_weight': 15, 'reg_lambda': 5, 'n_estimators': 700, 'max_depth': 8, 'learning_rate': 0.15, 'gamma': 1, 'colsample_bytree': 0.7}\n",
      "Optimal cross validation score = 0.9365085183957751\n",
      "Time taken = 11  minutes\n"
     ]
    }
   ],
   "source": [
    "#finer search of model 10\n",
    "\n",
    "start_time = time.time()\n",
    "param_grid = {'max_depth': [4,6,8],\n",
    "              'learning_rate': [0.05,0.1,0.15],\n",
    "              'reg_lambda': [1,5,10],\n",
    "              'n_estimators': [700,900,1100],\n",
    "              'gamma': [1,5,10],\n",
    "              'subsample': [0.5,0.7,1],\n",
    "              'colsample_bytree':[0.5,0.7,1],\n",
    "              'scale_pos_weight': [15]}\n",
    "\n",
    "cv = KFold(n_splits=2, shuffle=True)\n",
    "optimal_params = RandomizedSearchCV(estimator=xgb.XGBClassifier(objective = 'binary:logistic'),\n",
    "                                    param_distributions=param_grid,\n",
    "                                    verbose=1,\n",
    "                                    n_jobs=-1,\n",
    "                                    scoring='accuracy',\n",
    "                                    cv=cv)\n",
    "optimal_params.fit(X_train, y_train)\n",
    "print(\"Optimal parameter values =\", optimal_params.best_params_)\n",
    "print(\"Optimal cross validation score =\", optimal_params.best_score_) \n",
    "print(\"Time taken =\", round((time.time() - start_time) / 60), \" minutes\")"
   ]
  },
  {
   "cell_type": "code",
   "execution_count": 192,
   "id": "f1a43b5c",
   "metadata": {},
   "outputs": [],
   "source": [
    "model11= xgb.XGBClassifier(objective='binary:logistic',max_depth = 8, learning_rate = 0.15,n_estimators = 700,\n",
    "                           reg_lambda = 5, gamma = 1, subsample = 0.5, colsample_bytree=0.7, scale_pos_weight=15).fit(X_train,y_train)\n",
    "df11 = decision_threshold(model11)"
   ]
  },
  {
   "cell_type": "code",
   "execution_count": 193,
   "id": "da2dfb6c",
   "metadata": {
    "scrolled": false
   },
   "outputs": [
    {
     "data": {
      "text/html": [
       "<div>\n",
       "<style scoped>\n",
       "    .dataframe tbody tr th:only-of-type {\n",
       "        vertical-align: middle;\n",
       "    }\n",
       "\n",
       "    .dataframe tbody tr th {\n",
       "        vertical-align: top;\n",
       "    }\n",
       "\n",
       "    .dataframe thead th {\n",
       "        text-align: right;\n",
       "    }\n",
       "</style>\n",
       "<table border=\"1\" class=\"dataframe\">\n",
       "  <thead>\n",
       "    <tr style=\"text-align: right;\">\n",
       "      <th></th>\n",
       "      <th>Threshold</th>\n",
       "      <th>Accuracy</th>\n",
       "      <th>Recall</th>\n",
       "    </tr>\n",
       "  </thead>\n",
       "  <tbody>\n",
       "    <tr>\n",
       "      <th>16</th>\n",
       "      <td>0.16</td>\n",
       "      <td>0.902152</td>\n",
       "      <td>0.999914</td>\n",
       "    </tr>\n",
       "    <tr>\n",
       "      <th>17</th>\n",
       "      <td>0.17</td>\n",
       "      <td>0.905164</td>\n",
       "      <td>0.999914</td>\n",
       "    </tr>\n",
       "    <tr>\n",
       "      <th>18</th>\n",
       "      <td>0.18</td>\n",
       "      <td>0.908229</td>\n",
       "      <td>0.999828</td>\n",
       "    </tr>\n",
       "    <tr>\n",
       "      <th>19</th>\n",
       "      <td>0.19</td>\n",
       "      <td>0.911262</td>\n",
       "      <td>0.999828</td>\n",
       "    </tr>\n",
       "    <tr>\n",
       "      <th>20</th>\n",
       "      <td>0.20</td>\n",
       "      <td>0.914484</td>\n",
       "      <td>0.999743</td>\n",
       "    </tr>\n",
       "    <tr>\n",
       "      <th>...</th>\n",
       "      <td>...</td>\n",
       "      <td>...</td>\n",
       "      <td>...</td>\n",
       "    </tr>\n",
       "    <tr>\n",
       "      <th>86</th>\n",
       "      <td>0.86</td>\n",
       "      <td>0.985443</td>\n",
       "      <td>0.888479</td>\n",
       "    </tr>\n",
       "    <tr>\n",
       "      <th>87</th>\n",
       "      <td>0.87</td>\n",
       "      <td>0.985144</td>\n",
       "      <td>0.873123</td>\n",
       "    </tr>\n",
       "    <tr>\n",
       "      <th>88</th>\n",
       "      <td>0.88</td>\n",
       "      <td>0.984693</td>\n",
       "      <td>0.855366</td>\n",
       "    </tr>\n",
       "    <tr>\n",
       "      <th>89</th>\n",
       "      <td>0.89</td>\n",
       "      <td>0.984079</td>\n",
       "      <td>0.834434</td>\n",
       "    </tr>\n",
       "    <tr>\n",
       "      <th>90</th>\n",
       "      <td>0.90</td>\n",
       "      <td>0.983213</td>\n",
       "      <td>0.811186</td>\n",
       "    </tr>\n",
       "  </tbody>\n",
       "</table>\n",
       "<p>75 rows × 3 columns</p>\n",
       "</div>"
      ],
      "text/plain": [
       "    Threshold  Accuracy    Recall\n",
       "16       0.16  0.902152  0.999914\n",
       "17       0.17  0.905164  0.999914\n",
       "18       0.18  0.908229  0.999828\n",
       "19       0.19  0.911262  0.999828\n",
       "20       0.20  0.914484  0.999743\n",
       "..        ...       ...       ...\n",
       "86       0.86  0.985443  0.888479\n",
       "87       0.87  0.985144  0.873123\n",
       "88       0.88  0.984693  0.855366\n",
       "89       0.89  0.984079  0.834434\n",
       "90       0.90  0.983213  0.811186\n",
       "\n",
       "[75 rows x 3 columns]"
      ]
     },
     "execution_count": 193,
     "metadata": {},
     "output_type": "execute_result"
    }
   ],
   "source": [
    "filtered_df11 = df11[(df11['Accuracy'] >= 0.9) & (df11['Recall'] >= 0.80)]\n",
    "filtered_df11.sort_values('Recall',ascending=False)"
   ]
  },
  {
   "cell_type": "code",
   "execution_count": 214,
   "id": "dbf4d819",
   "metadata": {
    "scrolled": true
   },
   "outputs": [
    {
     "name": "stdout",
     "output_type": "stream",
     "text": [
      "Fitting 2 folds for each of 10 candidates, totalling 20 fits\n",
      "Optimal parameter values = {'subsample': 0.7, 'scale_pos_weight': 15, 'reg_lambda': 5, 'n_estimators': 700, 'max_depth': 4, 'learning_rate': 0.05, 'gamma': 1, 'colsample_bytree': 0.7}\n",
      "Optimal cross validation score = 0.8770124468991081\n",
      "Time taken = 9  minutes\n"
     ]
    }
   ],
   "source": [
    "#fit based on recall\n",
    "start_time = time.time()\n",
    "param_grid = {'max_depth': [4,6,8],\n",
    "              'learning_rate': [0.05,0.1,0.15],\n",
    "              'reg_lambda': [1,5,10],\n",
    "              'n_estimators': [700,900,1100],\n",
    "              'gamma': [1,5,10],\n",
    "              'subsample': [0.5,0.7,1],\n",
    "              'colsample_bytree':[0.5,0.7,1],\n",
    "              'scale_pos_weight': [15]}\n",
    "\n",
    "cv = KFold(n_splits=2, shuffle=True)\n",
    "optimal_params = RandomizedSearchCV(estimator=xgb.XGBClassifier(objective = 'binary:logistic'),\n",
    "                                    param_distributions=param_grid,\n",
    "                                    verbose=1,\n",
    "                                    n_jobs=-1,\n",
    "                                    scoring='recall',\n",
    "                                    cv=cv)\n",
    "optimal_params.fit(X_train, y_train)\n",
    "print(\"Optimal parameter values =\", optimal_params.best_params_)\n",
    "print(\"Optimal cross validation score =\", optimal_params.best_score_) \n",
    "print(\"Time taken =\", round((time.time() - start_time) / 60), \" minutes\")"
   ]
  },
  {
   "cell_type": "code",
   "execution_count": 215,
   "id": "bee78ae2",
   "metadata": {},
   "outputs": [],
   "source": [
    "model12= xgb.XGBClassifier(objective='binary:logistic',max_depth = 4, learning_rate = 0.05,n_estimators = 700,\n",
    "                           reg_lambda = 5, gamma = 1, subsample = 0.7, colsample_bytree=0.7, scale_pos_weight=15).fit(X_train,y_train)\n",
    "df12 = decision_threshold(model12)"
   ]
  },
  {
   "cell_type": "code",
   "execution_count": 218,
   "id": "816537ed",
   "metadata": {
    "scrolled": true
   },
   "outputs": [
    {
     "data": {
      "text/html": [
       "<div>\n",
       "<style scoped>\n",
       "    .dataframe tbody tr th:only-of-type {\n",
       "        vertical-align: middle;\n",
       "    }\n",
       "\n",
       "    .dataframe tbody tr th {\n",
       "        vertical-align: top;\n",
       "    }\n",
       "\n",
       "    .dataframe thead th {\n",
       "        text-align: right;\n",
       "    }\n",
       "</style>\n",
       "<table border=\"1\" class=\"dataframe\">\n",
       "  <thead>\n",
       "    <tr style=\"text-align: right;\">\n",
       "      <th></th>\n",
       "      <th>Threshold</th>\n",
       "      <th>Accuracy</th>\n",
       "      <th>Recall</th>\n",
       "    </tr>\n",
       "  </thead>\n",
       "  <tbody>\n",
       "    <tr>\n",
       "      <th>58</th>\n",
       "      <td>0.58</td>\n",
       "      <td>0.901171</td>\n",
       "      <td>0.885905</td>\n",
       "    </tr>\n",
       "    <tr>\n",
       "      <th>59</th>\n",
       "      <td>0.59</td>\n",
       "      <td>0.903558</td>\n",
       "      <td>0.881016</td>\n",
       "    </tr>\n",
       "    <tr>\n",
       "      <th>60</th>\n",
       "      <td>0.60</td>\n",
       "      <td>0.905915</td>\n",
       "      <td>0.876984</td>\n",
       "    </tr>\n",
       "    <tr>\n",
       "      <th>61</th>\n",
       "      <td>0.61</td>\n",
       "      <td>0.908124</td>\n",
       "      <td>0.872952</td>\n",
       "    </tr>\n",
       "    <tr>\n",
       "      <th>62</th>\n",
       "      <td>0.62</td>\n",
       "      <td>0.910438</td>\n",
       "      <td>0.867976</td>\n",
       "    </tr>\n",
       "    <tr>\n",
       "      <th>63</th>\n",
       "      <td>0.63</td>\n",
       "      <td>0.912479</td>\n",
       "      <td>0.860942</td>\n",
       "    </tr>\n",
       "    <tr>\n",
       "      <th>64</th>\n",
       "      <td>0.64</td>\n",
       "      <td>0.914652</td>\n",
       "      <td>0.855452</td>\n",
       "    </tr>\n",
       "  </tbody>\n",
       "</table>\n",
       "</div>"
      ],
      "text/plain": [
       "    Threshold  Accuracy    Recall\n",
       "58       0.58  0.901171  0.885905\n",
       "59       0.59  0.903558  0.881016\n",
       "60       0.60  0.905915  0.876984\n",
       "61       0.61  0.908124  0.872952\n",
       "62       0.62  0.910438  0.867976\n",
       "63       0.63  0.912479  0.860942\n",
       "64       0.64  0.914652  0.855452"
      ]
     },
     "execution_count": 218,
     "metadata": {},
     "output_type": "execute_result"
    }
   ],
   "source": [
    "filtered_df12 = df12[(df12['Accuracy'] >= 0.9) & (df12['Recall'] >= 0.85)]\n",
    "filtered_df12.sort_values('Recall',ascending=False)"
   ]
  },
  {
   "cell_type": "code",
   "execution_count": 299,
   "id": "bf1f199a",
   "metadata": {
    "scrolled": false
   },
   "outputs": [
    {
     "name": "stdout",
     "output_type": "stream",
     "text": [
      "Training accuracy: 0.8649618757248335\n",
      "Training recall: 0.9332589860169855\n",
      "Training precision: 0.30359435173299104\n",
      "Test accuracy: 0.9073695395040196\n",
      "Test recall: 0.8402845134173941\n",
      "Test precision: 0.38643966991301765\n"
     ]
    }
   ],
   "source": [
    "model_performance(model12,0.45)"
   ]
  },
  {
   "cell_type": "code",
   "execution_count": 229,
   "id": "f99800be",
   "metadata": {},
   "outputs": [
    {
     "name": "stdout",
     "output_type": "stream",
     "text": [
      "Fitting 5 folds for each of 10 candidates, totalling 50 fits\n",
      "Optimal parameter values = {'subsample': 0.3, 'scale_pos_weight': 15, 'reg_lambda': 4, 'n_estimators': 500, 'max_depth': 4, 'learning_rate': 0.01, 'gamma': 7, 'colsample_bytree': 0.6}\n",
      "Optimal cross validation score = 0.9047378211066913\n",
      "Time taken = 22  minutes\n"
     ]
    }
   ],
   "source": [
    "#Gridsearch cv fit based on recall\n",
    "start_time = time.time()\n",
    "param_grid = {'max_depth': range(4,11,2),\n",
    "              'learning_rate': [0.01,0.03,0.05,0.1],\n",
    "              'reg_lambda': range(1,10,3),\n",
    "              'n_estimators': range(500,1000,200),\n",
    "              'gamma': range(1,10,3),\n",
    "              'subsample': [0.3,0.6,0.9],\n",
    "              'colsample_bytree':[0.3,0.6,0.9],\n",
    "              'scale_pos_weight': [15]}\n",
    "\n",
    "cv = KFold(n_splits=5, shuffle=True)\n",
    "optimal_params = RandomizedSearchCV(estimator=xgb.XGBClassifier(objective = 'binary:logistic'),\n",
    "                                    param_distributions=param_grid,\n",
    "                                    verbose=1,\n",
    "                                    n_jobs=-1,\n",
    "                                    scoring='recall',\n",
    "                                    cv=cv)\n",
    "optimal_params.fit(X_train, y_train)\n",
    "print(\"Optimal parameter values =\", optimal_params.best_params_)\n",
    "print(\"Optimal cross validation score =\", optimal_params.best_score_) \n",
    "print(\"Time taken =\", round((time.time() - start_time) / 60), \" minutes\")"
   ]
  },
  {
   "cell_type": "code",
   "execution_count": 230,
   "id": "0b045ae2",
   "metadata": {},
   "outputs": [],
   "source": [
    "model13 = xgb.XGBClassifier(objective='binary:logistic',max_depth = 4, learning_rate = 0.01,n_estimators = 500,\n",
    "                           reg_lambda = 4, gamma = 7, subsample = 0.3, colsample_bytree=0.6, scale_pos_weight=15).fit(X_train,y_train)\n",
    "df13 = decision_threshold(model13)"
   ]
  },
  {
   "cell_type": "code",
   "execution_count": 232,
   "id": "976b6873",
   "metadata": {
    "scrolled": true
   },
   "outputs": [
    {
     "data": {
      "text/html": [
       "<div>\n",
       "<style scoped>\n",
       "    .dataframe tbody tr th:only-of-type {\n",
       "        vertical-align: middle;\n",
       "    }\n",
       "\n",
       "    .dataframe tbody tr th {\n",
       "        vertical-align: top;\n",
       "    }\n",
       "\n",
       "    .dataframe thead th {\n",
       "        text-align: right;\n",
       "    }\n",
       "</style>\n",
       "<table border=\"1\" class=\"dataframe\">\n",
       "  <thead>\n",
       "    <tr style=\"text-align: right;\">\n",
       "      <th></th>\n",
       "      <th>Threshold</th>\n",
       "      <th>Accuracy</th>\n",
       "      <th>Recall</th>\n",
       "    </tr>\n",
       "  </thead>\n",
       "  <tbody>\n",
       "    <tr>\n",
       "      <th>64</th>\n",
       "      <td>0.64</td>\n",
       "      <td>0.900893</td>\n",
       "      <td>0.818564</td>\n",
       "    </tr>\n",
       "    <tr>\n",
       "      <th>65</th>\n",
       "      <td>0.65</td>\n",
       "      <td>0.904697</td>\n",
       "      <td>0.808441</td>\n",
       "    </tr>\n",
       "  </tbody>\n",
       "</table>\n",
       "</div>"
      ],
      "text/plain": [
       "    Threshold  Accuracy    Recall\n",
       "64       0.64  0.900893  0.818564\n",
       "65       0.65  0.904697  0.808441"
      ]
     },
     "execution_count": 232,
     "metadata": {},
     "output_type": "execute_result"
    }
   ],
   "source": [
    "filtered_df13 = df13[(df13['Accuracy'] >= 0.9) & (df13['Recall'] >= 0.8)]\n",
    "filtered_df13.sort_values('Recall',ascending=False)"
   ]
  },
  {
   "cell_type": "code",
   "execution_count": 233,
   "id": "ffc2ae04",
   "metadata": {
    "scrolled": false
   },
   "outputs": [
    {
     "name": "stdout",
     "output_type": "stream",
     "text": [
      "Training accuracy: 0.90089262755758\n",
      "Training recall: 0.8185639529896199\n",
      "Training precision: 0.36263443925056055\n",
      "Test accuracy: 0.915538982779014\n",
      "Test recall: 0.7678629162625283\n",
      "Test precision: 0.4045996592844974\n"
     ]
    }
   ],
   "source": [
    "model_performance(model13,0.64)"
   ]
  },
  {
   "cell_type": "markdown",
   "id": "917a3f97",
   "metadata": {},
   "source": [
    "# Naive Model (without any tuning)"
   ]
  },
  {
   "cell_type": "code",
   "execution_count": 170,
   "id": "56fa0017",
   "metadata": {},
   "outputs": [],
   "source": [
    "model_naive = xgb.XGBClassifier(objective='binary:logistic').fit(X_train,y_train)\n",
    "df_naive = decision_threshold(model_naive)"
   ]
  },
  {
   "cell_type": "code",
   "execution_count": 176,
   "id": "5dd64545",
   "metadata": {},
   "outputs": [
    {
     "data": {
      "text/html": [
       "<div>\n",
       "<style scoped>\n",
       "    .dataframe tbody tr th:only-of-type {\n",
       "        vertical-align: middle;\n",
       "    }\n",
       "\n",
       "    .dataframe tbody tr th {\n",
       "        vertical-align: top;\n",
       "    }\n",
       "\n",
       "    .dataframe thead th {\n",
       "        text-align: right;\n",
       "    }\n",
       "</style>\n",
       "<table border=\"1\" class=\"dataframe\">\n",
       "  <thead>\n",
       "    <tr style=\"text-align: right;\">\n",
       "      <th></th>\n",
       "      <th>Threshold</th>\n",
       "      <th>Accuracy</th>\n",
       "      <th>Recall</th>\n",
       "    </tr>\n",
       "  </thead>\n",
       "  <tbody>\n",
       "    <tr>\n",
       "      <th>8</th>\n",
       "      <td>0.08</td>\n",
       "      <td>0.901874</td>\n",
       "      <td>0.912242</td>\n",
       "    </tr>\n",
       "    <tr>\n",
       "      <th>9</th>\n",
       "      <td>0.09</td>\n",
       "      <td>0.909047</td>\n",
       "      <td>0.900232</td>\n",
       "    </tr>\n",
       "    <tr>\n",
       "      <th>10</th>\n",
       "      <td>0.10</td>\n",
       "      <td>0.915518</td>\n",
       "      <td>0.889508</td>\n",
       "    </tr>\n",
       "    <tr>\n",
       "      <th>11</th>\n",
       "      <td>0.11</td>\n",
       "      <td>0.921180</td>\n",
       "      <td>0.879043</td>\n",
       "    </tr>\n",
       "    <tr>\n",
       "      <th>12</th>\n",
       "      <td>0.12</td>\n",
       "      <td>0.925656</td>\n",
       "      <td>0.867805</td>\n",
       "    </tr>\n",
       "    <tr>\n",
       "      <th>13</th>\n",
       "      <td>0.13</td>\n",
       "      <td>0.930280</td>\n",
       "      <td>0.858712</td>\n",
       "    </tr>\n",
       "  </tbody>\n",
       "</table>\n",
       "</div>"
      ],
      "text/plain": [
       "    Threshold  Accuracy    Recall\n",
       "8        0.08  0.901874  0.912242\n",
       "9        0.09  0.909047  0.900232\n",
       "10       0.10  0.915518  0.889508\n",
       "11       0.11  0.921180  0.879043\n",
       "12       0.12  0.925656  0.867805\n",
       "13       0.13  0.930280  0.858712"
      ]
     },
     "execution_count": 176,
     "metadata": {},
     "output_type": "execute_result"
    }
   ],
   "source": [
    "filtered_df_naive = df_naive[(df_naive['Accuracy'] >= 0.9) & (df_naive['Recall'] >= 0.85)]\n",
    "filtered_df_naive.sort_values('Recall',ascending=False)"
   ]
  },
  {
   "cell_type": "code",
   "execution_count": 172,
   "id": "6c291838",
   "metadata": {},
   "outputs": [
    {
     "name": "stdout",
     "output_type": "stream",
     "text": [
      "Training accuracy: 0.9018739406279355\n",
      "Training recall: 0.9122415715878871\n",
      "Test accuracy: 0.9187566408051162\n",
      "Test recall: 0.7929194956353055\n"
     ]
    }
   ],
   "source": [
    "model_performance(model_naive,0.08)"
   ]
  },
  {
   "cell_type": "markdown",
   "id": "17b11df9",
   "metadata": {},
   "source": [
    "- Without scaling and the threshold being 0.08, the naive model is classifying most observations as 0s. \n",
    "- This is the reason why we want higher recall, because we prioritize greater opportunities for individuals to achieve wealth, even if some factors may be uncertain or doubtful."
   ]
  },
  {
   "cell_type": "code",
   "execution_count": 307,
   "id": "8889fca7",
   "metadata": {},
   "outputs": [
    {
     "data": {
      "image/png": "[encoded data removed]",
      "text/plain": [
       "<Figure size 432x288 with 2 Axes>"
      ]
     },
     "metadata": {
      "needs_background": "light"
     },
     "output_type": "display_data"
    }
   ],
   "source": [
    "y_pred_naivetrain = model_naive.predict(X_train)\n",
    "cm = pd.DataFrame(confusion_matrix(y_train, y_pred_naivetrain), columns=['Predicted 0', 'Predicted 1'], \n",
    "            index = ['Actual 0', 'Actual 1'])\n",
    "sns.heatmap(cm, annot=True, cmap='Blues', fmt='g');"
   ]
  },
  {
   "cell_type": "code",
   "execution_count": 173,
   "id": "63f03c42",
   "metadata": {
    "scrolled": true
   },
   "outputs": [
    {
     "data": {
      "image/png": "[encoded data removed]",
      "text/plain": [
       "<Figure size 432x288 with 2 Axes>"
      ]
     },
     "metadata": {
      "needs_background": "light"
     },
     "output_type": "display_data"
    }
   ],
   "source": [
    "y_pred_naive = model_naive.predict(X_test)\n",
    "cm = pd.DataFrame(confusion_matrix(y_test, y_pred_naive), columns=['Predicted 0', 'Predicted 1'], \n",
    "            index = ['Actual 0', 'Actual 1'])\n",
    "sns.heatmap(cm, annot=True, cmap='Blues', fmt='g');"
   ]
  },
  {
   "cell_type": "code",
   "execution_count": 305,
   "id": "39573f3b",
   "metadata": {},
   "outputs": [
    {
     "data": {
      "text/html": [
       "<div>\n",
       "<style scoped>\n",
       "    .dataframe tbody tr th:only-of-type {\n",
       "        vertical-align: middle;\n",
       "    }\n",
       "\n",
       "    .dataframe tbody tr th {\n",
       "        vertical-align: top;\n",
       "    }\n",
       "\n",
       "    .dataframe thead th {\n",
       "        text-align: right;\n",
       "    }\n",
       "</style>\n",
       "<table border=\"1\" class=\"dataframe\">\n",
       "  <thead>\n",
       "    <tr style=\"text-align: right;\">\n",
       "      <th></th>\n",
       "      <th>Feature Name</th>\n",
       "      <th>Feature Importance</th>\n",
       "    </tr>\n",
       "  </thead>\n",
       "  <tbody>\n",
       "    <tr>\n",
       "      <th>34</th>\n",
       "      <td>weeks_worked</td>\n",
       "      <td>0.215438</td>\n",
       "    </tr>\n",
       "    <tr>\n",
       "      <th>12</th>\n",
       "      <td>sex</td>\n",
       "      <td>0.108146</td>\n",
       "    </tr>\n",
       "    <tr>\n",
       "      <th>16</th>\n",
       "      <td>cap_gain</td>\n",
       "      <td>0.095704</td>\n",
       "    </tr>\n",
       "    <tr>\n",
       "      <th>3</th>\n",
       "      <td>occ_code_det</td>\n",
       "      <td>0.074314</td>\n",
       "    </tr>\n",
       "    <tr>\n",
       "      <th>18</th>\n",
       "      <td>dividend</td>\n",
       "      <td>0.051294</td>\n",
       "    </tr>\n",
       "    <tr>\n",
       "      <th>22</th>\n",
       "      <td>fam_state</td>\n",
       "      <td>0.046787</td>\n",
       "    </tr>\n",
       "    <tr>\n",
       "      <th>4</th>\n",
       "      <td>education</td>\n",
       "      <td>0.042944</td>\n",
       "    </tr>\n",
       "    <tr>\n",
       "      <th>0</th>\n",
       "      <td>age</td>\n",
       "      <td>0.034592</td>\n",
       "    </tr>\n",
       "    <tr>\n",
       "      <th>17</th>\n",
       "      <td>cap_loss</td>\n",
       "      <td>0.029553</td>\n",
       "    </tr>\n",
       "    <tr>\n",
       "      <th>25</th>\n",
       "      <td>num_ppl_worked</td>\n",
       "      <td>0.023237</td>\n",
       "    </tr>\n",
       "  </tbody>\n",
       "</table>\n",
       "</div>"
      ],
      "text/plain": [
       "      Feature Name  Feature Importance\n",
       "34    weeks_worked            0.215438\n",
       "12             sex            0.108146\n",
       "16        cap_gain            0.095704\n",
       "3     occ_code_det            0.074314\n",
       "18        dividend            0.051294\n",
       "22       fam_state            0.046787\n",
       "4        education            0.042944\n",
       "0              age            0.034592\n",
       "17        cap_loss            0.029553\n",
       "25  num_ppl_worked            0.023237"
      ]
     },
     "execution_count": 305,
     "metadata": {},
     "output_type": "execute_result"
    }
   ],
   "source": [
    "importance = list(model_naive.feature_importances_)\n",
    "name = list(model_naive.feature_names_in_)\n",
    "df = pd.DataFrame()\n",
    "df['Feature Name'] = name\n",
    "df['Feature Importance'] = importance\n",
    "df.sort_values(by='Feature Importance', ascending=False).head(10)"
   ]
  },
  {
   "cell_type": "markdown",
   "id": "426f2db1",
   "metadata": {},
   "source": [
    "# Final Model"
   ]
  },
  {
   "cell_type": "code",
   "execution_count": 300,
   "id": "7f28cc01",
   "metadata": {},
   "outputs": [],
   "source": [
    "model8 = xgb.XGBClassifier(objective='binary:logistic',max_depth = 8, learning_rate = 0.01,n_estimators = 1000,\n",
    "                           reg_lambda = 10, gamma = 10, subsample = 0.5, colsample_bytree=0.5, scale_pos_weight=15).fit(X_train,y_train)\n",
    "df8 = decision_threshold(model8)"
   ]
  },
  {
   "cell_type": "code",
   "execution_count": 301,
   "id": "ea930ad4",
   "metadata": {},
   "outputs": [
    {
     "data": {
      "text/html": [
       "<div>\n",
       "<style scoped>\n",
       "    .dataframe tbody tr th:only-of-type {\n",
       "        vertical-align: middle;\n",
       "    }\n",
       "\n",
       "    .dataframe tbody tr th {\n",
       "        vertical-align: top;\n",
       "    }\n",
       "\n",
       "    .dataframe thead th {\n",
       "        text-align: right;\n",
       "    }\n",
       "</style>\n",
       "<table border=\"1\" class=\"dataframe\">\n",
       "  <thead>\n",
       "    <tr style=\"text-align: right;\">\n",
       "      <th></th>\n",
       "      <th>Threshold</th>\n",
       "      <th>Accuracy</th>\n",
       "      <th>Recall</th>\n",
       "    </tr>\n",
       "  </thead>\n",
       "  <tbody>\n",
       "    <tr>\n",
       "      <th>56</th>\n",
       "      <td>0.56</td>\n",
       "      <td>0.900415</td>\n",
       "      <td>0.899631</td>\n",
       "    </tr>\n",
       "    <tr>\n",
       "      <th>57</th>\n",
       "      <td>0.57</td>\n",
       "      <td>0.902572</td>\n",
       "      <td>0.896028</td>\n",
       "    </tr>\n",
       "    <tr>\n",
       "      <th>58</th>\n",
       "      <td>0.58</td>\n",
       "      <td>0.904891</td>\n",
       "      <td>0.891053</td>\n",
       "    </tr>\n",
       "    <tr>\n",
       "      <th>59</th>\n",
       "      <td>0.59</td>\n",
       "      <td>0.907090</td>\n",
       "      <td>0.886077</td>\n",
       "    </tr>\n",
       "    <tr>\n",
       "      <th>60</th>\n",
       "      <td>0.60</td>\n",
       "      <td>0.909252</td>\n",
       "      <td>0.881959</td>\n",
       "    </tr>\n",
       "    <tr>\n",
       "      <th>61</th>\n",
       "      <td>0.61</td>\n",
       "      <td>0.911367</td>\n",
       "      <td>0.877584</td>\n",
       "    </tr>\n",
       "    <tr>\n",
       "      <th>62</th>\n",
       "      <td>0.62</td>\n",
       "      <td>0.913676</td>\n",
       "      <td>0.871837</td>\n",
       "    </tr>\n",
       "    <tr>\n",
       "      <th>63</th>\n",
       "      <td>0.63</td>\n",
       "      <td>0.915392</td>\n",
       "      <td>0.865660</td>\n",
       "    </tr>\n",
       "    <tr>\n",
       "      <th>64</th>\n",
       "      <td>0.64</td>\n",
       "      <td>0.917475</td>\n",
       "      <td>0.860599</td>\n",
       "    </tr>\n",
       "    <tr>\n",
       "      <th>65</th>\n",
       "      <td>0.65</td>\n",
       "      <td>0.919784</td>\n",
       "      <td>0.855966</td>\n",
       "    </tr>\n",
       "    <tr>\n",
       "      <th>66</th>\n",
       "      <td>0.66</td>\n",
       "      <td>0.922056</td>\n",
       "      <td>0.850991</td>\n",
       "    </tr>\n",
       "    <tr>\n",
       "      <th>67</th>\n",
       "      <td>0.67</td>\n",
       "      <td>0.924003</td>\n",
       "      <td>0.844214</td>\n",
       "    </tr>\n",
       "    <tr>\n",
       "      <th>68</th>\n",
       "      <td>0.68</td>\n",
       "      <td>0.926150</td>\n",
       "      <td>0.837694</td>\n",
       "    </tr>\n",
       "    <tr>\n",
       "      <th>69</th>\n",
       "      <td>0.69</td>\n",
       "      <td>0.928076</td>\n",
       "      <td>0.830574</td>\n",
       "    </tr>\n",
       "    <tr>\n",
       "      <th>70</th>\n",
       "      <td>0.70</td>\n",
       "      <td>0.929860</td>\n",
       "      <td>0.823540</td>\n",
       "    </tr>\n",
       "    <tr>\n",
       "      <th>71</th>\n",
       "      <td>0.71</td>\n",
       "      <td>0.931749</td>\n",
       "      <td>0.816677</td>\n",
       "    </tr>\n",
       "    <tr>\n",
       "      <th>72</th>\n",
       "      <td>0.72</td>\n",
       "      <td>0.933743</td>\n",
       "      <td>0.809128</td>\n",
       "    </tr>\n",
       "    <tr>\n",
       "      <th>73</th>\n",
       "      <td>0.73</td>\n",
       "      <td>0.935685</td>\n",
       "      <td>0.801150</td>\n",
       "    </tr>\n",
       "  </tbody>\n",
       "</table>\n",
       "</div>"
      ],
      "text/plain": [
       "    Threshold  Accuracy    Recall\n",
       "56       0.56  0.900415  0.899631\n",
       "57       0.57  0.902572  0.896028\n",
       "58       0.58  0.904891  0.891053\n",
       "59       0.59  0.907090  0.886077\n",
       "60       0.60  0.909252  0.881959\n",
       "61       0.61  0.911367  0.877584\n",
       "62       0.62  0.913676  0.871837\n",
       "63       0.63  0.915392  0.865660\n",
       "64       0.64  0.917475  0.860599\n",
       "65       0.65  0.919784  0.855966\n",
       "66       0.66  0.922056  0.850991\n",
       "67       0.67  0.924003  0.844214\n",
       "68       0.68  0.926150  0.837694\n",
       "69       0.69  0.928076  0.830574\n",
       "70       0.70  0.929860  0.823540\n",
       "71       0.71  0.931749  0.816677\n",
       "72       0.72  0.933743  0.809128\n",
       "73       0.73  0.935685  0.801150"
      ]
     },
     "execution_count": 301,
     "metadata": {},
     "output_type": "execute_result"
    }
   ],
   "source": [
    "filtered_df8 = df8[(df8['Accuracy'] >= 0.9) & (df8['Recall'] >= 0.80)]\n",
    "filtered_df8.sort_values('Recall',ascending=False)"
   ]
  },
  {
   "cell_type": "code",
   "execution_count": 302,
   "id": "c6150677",
   "metadata": {
    "scrolled": true
   },
   "outputs": [
    {
     "name": "stdout",
     "output_type": "stream",
     "text": [
      "Training accuracy: 0.8926433005704211\n",
      "Training recall: 0.9111263618426696\n",
      "Training precision: 0.35352661185633927\n",
      "Test accuracy: 0.9065977025320262\n",
      "Test recall: 0.8507921112188813\n",
      "Test precision: 0.38534192414702007\n"
     ]
    }
   ],
   "source": [
    "model_performance(model8,0.53)"
   ]
  },
  {
   "cell_type": "code",
   "execution_count": 306,
   "id": "6db09bba",
   "metadata": {},
   "outputs": [
    {
     "data": {
      "image/png": "[encoded data removed]",
      "text/plain": [
       "<Figure size 432x288 with 2 Axes>"
      ]
     },
     "metadata": {
      "needs_background": "light"
     },
     "output_type": "display_data"
    }
   ],
   "source": [
    "#training cm\n",
    "y_pred8train = model8.predict(X_train)\n",
    "cm = pd.DataFrame(confusion_matrix(y_train, y_pred8train), columns=['Predicted 0', 'Predicted 1'], \n",
    "            index = ['Actual 0', 'Actual 1'])\n",
    "sns.heatmap(cm, annot=True, cmap='Blues', fmt='g');"
   ]
  },
  {
   "cell_type": "code",
   "execution_count": 303,
   "id": "44827427",
   "metadata": {
    "scrolled": true
   },
   "outputs": [
    {
     "data": {
      "image/png": "[encoded data removed]",
      "text/plain": [
       "<Figure size 432x288 with 2 Axes>"
      ]
     },
     "metadata": {
      "needs_background": "light"
     },
     "output_type": "display_data"
    }
   ],
   "source": [
    "y_pred8 = model8.predict(X_test)\n",
    "cm = pd.DataFrame(confusion_matrix(y_test, y_pred8), columns=['Predicted 0', 'Predicted 1'], \n",
    "            index = ['Actual 0', 'Actual 1'])\n",
    "sns.heatmap(cm, annot=True, cmap='Blues', fmt='g');"
   ]
  },
  {
   "cell_type": "code",
   "execution_count": 304,
   "id": "a446899c",
   "metadata": {},
   "outputs": [
    {
     "data": {
      "text/html": [
       "<div>\n",
       "<style scoped>\n",
       "    .dataframe tbody tr th:only-of-type {\n",
       "        vertical-align: middle;\n",
       "    }\n",
       "\n",
       "    .dataframe tbody tr th {\n",
       "        vertical-align: top;\n",
       "    }\n",
       "\n",
       "    .dataframe thead th {\n",
       "        text-align: right;\n",
       "    }\n",
       "</style>\n",
       "<table border=\"1\" class=\"dataframe\">\n",
       "  <thead>\n",
       "    <tr style=\"text-align: right;\">\n",
       "      <th></th>\n",
       "      <th>Feature Name</th>\n",
       "      <th>Feature Importance</th>\n",
       "    </tr>\n",
       "  </thead>\n",
       "  <tbody>\n",
       "    <tr>\n",
       "      <th>34</th>\n",
       "      <td>weeks_worked</td>\n",
       "      <td>0.161493</td>\n",
       "    </tr>\n",
       "    <tr>\n",
       "      <th>12</th>\n",
       "      <td>sex</td>\n",
       "      <td>0.115426</td>\n",
       "    </tr>\n",
       "    <tr>\n",
       "      <th>25</th>\n",
       "      <td>num_ppl_worked</td>\n",
       "      <td>0.089569</td>\n",
       "    </tr>\n",
       "    <tr>\n",
       "      <th>26</th>\n",
       "      <td>fam_members_u18</td>\n",
       "      <td>0.085098</td>\n",
       "    </tr>\n",
       "    <tr>\n",
       "      <th>3</th>\n",
       "      <td>occ_code_det</td>\n",
       "      <td>0.048995</td>\n",
       "    </tr>\n",
       "    <tr>\n",
       "      <th>18</th>\n",
       "      <td>dividend</td>\n",
       "      <td>0.046808</td>\n",
       "    </tr>\n",
       "    <tr>\n",
       "      <th>16</th>\n",
       "      <td>cap_gain</td>\n",
       "      <td>0.045381</td>\n",
       "    </tr>\n",
       "    <tr>\n",
       "      <th>0</th>\n",
       "      <td>age</td>\n",
       "      <td>0.038161</td>\n",
       "    </tr>\n",
       "    <tr>\n",
       "      <th>22</th>\n",
       "      <td>fam_state</td>\n",
       "      <td>0.036734</td>\n",
       "    </tr>\n",
       "    <tr>\n",
       "      <th>23</th>\n",
       "      <td>fam_state_sum</td>\n",
       "      <td>0.029409</td>\n",
       "    </tr>\n",
       "  </tbody>\n",
       "</table>\n",
       "</div>"
      ],
      "text/plain": [
       "       Feature Name  Feature Importance\n",
       "34     weeks_worked            0.161493\n",
       "12              sex            0.115426\n",
       "25   num_ppl_worked            0.089569\n",
       "26  fam_members_u18            0.085098\n",
       "3      occ_code_det            0.048995\n",
       "18         dividend            0.046808\n",
       "16         cap_gain            0.045381\n",
       "0               age            0.038161\n",
       "22        fam_state            0.036734\n",
       "23    fam_state_sum            0.029409"
      ]
     },
     "execution_count": 304,
     "metadata": {},
     "output_type": "execute_result"
    }
   ],
   "source": [
    "importance = list(model8.feature_importances_)\n",
    "name = list(model8.feature_names_in_)\n",
    "df = pd.DataFrame()\n",
    "df['Feature Name'] = name\n",
    "df['Feature Importance'] = importance\n",
    "df.sort_values(by='Feature Importance', ascending=False).head(10)"
   ]
  }
 ],
 "metadata": {
  "kernelspec": {
   "display_name": "Python 3 (ipykernel)",
   "language": "python",
   "name": "python3"
  },
  "language_info": {
   "codemirror_mode": {
    "name": "ipython",
    "version": 3
   },
   "file_extension": ".py",
   "mimetype": "text/x-python",
   "name": "python",
   "nbconvert_exporter": "python",
   "pygments_lexer": "ipython3",
   "version": "3.9.12"
  }
 },
 "nbformat": 4,
 "nbformat_minor": 5
}
