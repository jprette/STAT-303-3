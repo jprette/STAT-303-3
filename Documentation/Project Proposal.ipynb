{
 "cells": [
  {
   "cell_type": "code",
   "execution_count": null,
   "id": "33dd6c4c",
   "metadata": {
    "vscode": {
     "languageId": "json"
    }
   },
   "outputs": [],
   "source": [
    "---\n",
    "title: \"Project proposal\"\n",
    "format: \n",
    "  html:\n",
    "    toc: true\n",
    "    toc-title: Contents\n",
    "    code-fold: show\n",
    "    self-contained: true\n",
    "jupyter: python3\n",
    "---"
   ]
  },
  {
   "cell_type": "markdown",
   "id": "0116f49b",
   "metadata": {},
   "source": [
    "## Instructions {-}\n",
    "\n",
    "1. Please answer the following questions as part of your project proposal.\n",
    "\n",
    "2. Write your answers in the *Markdown* cells of the Jupyter notebook. You don't need to write any code, but if you want to, you may use the *Code* cells.\n",
    "\n",
    "3. Use [Quarto](https://quarto.org/docs/output-formats/html-basics.html) to print the *.ipynb* file as HTML. You will need to open the command prompt, navigate to the directory containing the file, and use the command: `quarto render filename.ipynb --to html`. Submit the HTML file.\n",
    "\n",
    "4. The project proposal is worth 8 points, and is due on **18th April 2023 at 11:59 pm**. \n",
    "\n",
    "5. You must make one submission as a group, and not individually.\n",
    "\n",
    "6. Maintaining a GitHub repository is optional, though encouraged for the project.\n",
    "\n",
    "7. Share the link of your project's GitHub repository [here](https://docs.google.com/spreadsheets/d/1khao3unpj_vsx4kOSg_Zzo77YK1UWL2w73Oa0aAirOo/edit#gid=0) (optional)."
   ]
  },
  {
   "cell_type": "markdown",
   "id": "fe7ea9bb",
   "metadata": {},
   "source": [
    "# 1) Team name\n",
    "Mention your team name.\n",
    "\n",
    "*(0 points)*"
   ]
  },
  {
   "cell_type": "markdown",
   "id": "b4139562",
   "metadata": {},
   "source": [
    "**Richie**"
   ]
  },
  {
   "cell_type": "markdown",
   "id": "16fccc9b",
   "metadata": {},
   "source": [
    "# 2) Member names\n",
    "Mention the names of your team members.\n",
    "\n",
    "*(0 points)*"
   ]
  },
  {
   "cell_type": "markdown",
   "id": "6b4f48aa",
   "metadata": {},
   "source": [
    "**Jackson Bremen, Lucy Han, Joseph Prette, Chanel Sun**"
   ]
  },
  {
   "cell_type": "markdown",
   "id": "220a6528",
   "metadata": {},
   "source": [
    "# 3) Link to the GitHub repository (optional)\n",
    "Share the link of the team's project repository on GitHub.\n",
    "\n",
    "Also, put the link of your project's GitHub repository [here](https://docs.google.com/spreadsheets/d/1khao3unpj_vsx4kOSg_Zzo77YK1UWL2w73Oa0aAirOo/edit#gid=0).\n",
    "\n",
    "We believe there is no harm in having other teams view your GitHub repository. However, if you don't want anyone to see your team's work, you may make the repository *Private* and add your instructor and graduate TA as *Colloborators* in it.\n",
    "\n",
    "*(0 points)*"
   ]
  },
  {
   "cell_type": "markdown",
   "id": "d19f0056",
   "metadata": {},
   "source": [
    "**https://github.com/jprette/STAT-303-3**"
   ]
  },
  {
   "cell_type": "markdown",
   "id": "16c1a490",
   "metadata": {},
   "source": [
    "# 4) Topic\n",
    "Mention the topic of your course project.\n",
    "\n",
    "*(0 points)*"
   ]
  },
  {
   "cell_type": "markdown",
   "id": "d682f5c6",
   "metadata": {},
   "source": [
    "**Individual Income Prediction**"
   ]
  },
  {
   "cell_type": "markdown",
   "id": "9403cdfb",
   "metadata": {},
   "source": [
    "# 5) Problem statement\n",
    "\n",
    "*(4 points)*\n",
    "\n",
    "Explain the problem statement. The problem statement must include:\n",
    "\n",
    "## 5a) The problem"
   ]
  },
  {
   "cell_type": "markdown",
   "id": "840de691",
   "metadata": {},
   "source": [
    "**You've just invented time travel and are heading back to the year 1994 to make yourself rich! When you get there, what decisions can you make to increase your odds of being sucessful (making >=50k/yr which is approx >=100k/yr today!)**"
   ]
  },
  {
   "cell_type": "markdown",
   "id": "9a0dee45",
   "metadata": {},
   "source": [
    "## 5b) Type of response\n",
    "Is it about predicting a continuous response or a binary response or a combination of both?"
   ]
  },
  {
   "cell_type": "markdown",
   "id": "cc851d69",
   "metadata": {},
   "source": [
    "**Our response variable will be categorical, either >=50k or <50k**"
   ]
  },
  {
   "cell_type": "markdown",
   "id": "2c8cb75b",
   "metadata": {},
   "source": [
    "## 5c) Performance metric\n",
    "How will you assess model accuracy?\n",
    "\n",
    "  - If it is a classification problem, then which measure(s) will you optimize for your model – precision, recall, false negative rate (FNR), accuracy, ROC-AUC etc., and why?\n",
    "  - If it is a regression problem, then which measure(s) will you optimize for your model – RMSE (Root mean squared error), MAE (mean absolute error), maximum absolute error etc., and why?"
   ]
  },
  {
   "cell_type": "markdown",
   "id": "e3acb6e9",
   "metadata": {},
   "source": [
    "**Our primary goal will be to optimize our classification model for accuracy since we want to give the most 'proper' responses so people will be confident in our model's ability to make them rich.**"
   ]
  },
  {
   "cell_type": "markdown",
   "id": "57701e9e",
   "metadata": {},
   "source": [
    "## 5d) Naive model accuracy\n",
    "What is the accuracy of the naive model (Standard deviation of response in case of continuous response / proportion of the majority class in case of classification model)"
   ]
  },
  {
   "cell_type": "markdown",
   "id": "cbf73b74",
   "metadata": {},
   "source": [
    "**The base model accuracy would be 76% as 76% of the entries in the dataset are below 50k. Therefore, we would be able to predict all people to be below 50k with 76% accuracy.**"
   ]
  },
  {
   "cell_type": "markdown",
   "id": "3eb2d4f2",
   "metadata": {},
   "source": [
    "# 6) Data\n",
    "\n",
    "## 6a) Source\n",
    "What data sources will you use, and how will the data help solve the problem? Explain.\n",
    "If the data is open source, share the link of the data.\n",
    "\n",
    "*(0.5 point)*"
   ]
  },
  {
   "cell_type": "markdown",
   "id": "e3b445b5",
   "metadata": {},
   "source": [
    "**https://archive.ics.uci.edu/ml/datasets/Census-Income+%28KDD%29**\n",
    "\n",
    "**We retrieved Census-Income (KDD) Data Set from UCI Machine Learning Repositary. This data set contains weighted census data extracted from the 1994 and 1995 Current Population Surveys conducted by the U.S. Census Bureau.**"
   ]
  },
  {
   "cell_type": "markdown",
   "id": "87bee818",
   "metadata": {},
   "source": [
    "## 6b) Response & predictors\n",
    "What is the response, and mention some of the predictors.\n",
    "\n",
    "*(0.5 point)*"
   ]
  },
  {
   "cell_type": "markdown",
   "id": "b1014dd1",
   "metadata": {},
   "source": [
    "**The response is total person income, where incomes have been binned at the $50K level to present a binary classification problem. Some predictors include education, marital status, own business or self employed, major industry, and major occupation code.**"
   ]
  },
  {
   "cell_type": "markdown",
   "id": "8eb561c3",
   "metadata": {},
   "source": [
    "## 6c) Size\n",
    "What is the number of continuous predictors, categorical predictors, and observations in your dataset(s). If you are using multiple datasets, please provide the information for each dataset. When counting predictors, count only those that have sufficient non-missing values, and will be useful.\n",
    "\n",
    "*(1 point)*"
   ]
  },
  {
   "cell_type": "markdown",
   "id": "af03bdab",
   "metadata": {},
   "source": [
    "**Number of observations in data = 199523**\n",
    "\n",
    "**Number of observations in test = 99762**\n",
    "\n",
    "**Number of predictors = 40 (continuous : 7 categorical : 33)**"
   ]
  },
  {
   "cell_type": "markdown",
   "id": "0450286f",
   "metadata": {},
   "source": [
    "# 7) Exisiting solutions\n",
    "Are there existing solutions of your problem? Almost all Kaggle datasets have exisiting solutions. If yes, then how do you plan to build up on those solutions? **What is the highest model accuracy / performance achieved in the existing solutions?**\n",
    "\n",
    "*(1 point)*"
   ]
  },
  {
   "cell_type": "markdown",
   "id": "6474b5fd",
   "metadata": {},
   "source": [
    "**No. There are no existing solutions thus far.**"
   ]
  },
  {
   "cell_type": "markdown",
   "id": "cb8a845f",
   "metadata": {},
   "source": [
    "# 8) Stakeholders"
   ]
  },
  {
   "cell_type": "markdown",
   "id": "d39c782c",
   "metadata": {},
   "source": [
    "Who are the stakeholders, and how will your project benefit them? Explain.\n",
    "\n",
    "*(1 point)*"
   ]
  },
  {
   "attachments": {},
   "cell_type": "markdown",
   "id": "148097e7",
   "metadata": {},
   "source": [
    "There are potentially two groups of stakeholders for our model predicting income in 1994/1995. While this data is not immediately useful for us today in 2023, it is useful for the government today to understand the factors that contribute to income. This can help them make decisions on how to allocate resources to improve the economy. For example, if the government finds that education is a strong predictor of income, they can invest more in education. While economic trends and demographic trends have changed since 1994/1995, many trends are cyclical and will likely repeat themselves.\n",
    "\n",
    "Additionally, if we were accidentally sent back in time to the late 1980s or 1990s with a computer capable of running our model, we could use our model to inform our decisions and set ourselves up to succeed back then. For example, if we found that education was a strong predictor of income, we could invest more in education to increase our income. We could also give the model to the government, to help them make decisions on how to allocate resources to improve the economy and national income."
   ]
  },
  {
   "cell_type": "markdown",
   "id": "0c874b4f",
   "metadata": {},
   "source": [
    "# 9) Work-split\n",
    "*(This question is answered for you)*\n",
    "\n",
    "How do you plan to split the project work amongst individual team members?\n",
    "\n",
    "We will learn to develop and tune the following models in the STAT303 sequence:\n",
    "\n",
    "1. MARS\n",
    "\n",
    "2. Decision trees with cost-complexity pruning\n",
    "\n",
    "3. Bagging (Bagging MARS / decision trees)\n",
    "\n",
    "4. Random Forests\n",
    "\n",
    "5. AdaBoost\n",
    "\n",
    "6. Gradient boosting\n",
    "\n",
    "7. XGBoost\n",
    "\n",
    "8. Lasso / Ridge / Stepwise selection \n",
    "\n",
    "Each team member is required to develop and tune at least one of the above models. In the end, the team will combine all the developed models to create a model more accurate than each of the individual models.\n",
    "\n",
    "*(0 points)*\n",
    "\n",
    "**WHO IS DOING EACH MODEL REMAINS TO BE DETERMINED**"
   ]
  }
 ],
 "metadata": {
  "kernelspec": {
   "display_name": "Python 3.11.0 64-bit",
   "language": "python",
   "name": "python3"
  },
  "language_info": {
   "codemirror_mode": {
    "name": "ipython",
    "version": 3
   },
   "file_extension": ".py",
   "mimetype": "text/x-python",
   "name": "python",
   "nbconvert_exporter": "python",
   "pygments_lexer": "ipython3",
   "version": "3.11.0"
  },
  "vscode": {
   "interpreter": {
    "hash": "1a1af0ee75eeea9e2e1ee996c87e7a2b11a0bebd85af04bb136d915cefc0abce"
   }
  }
 },
 "nbformat": 4,
 "nbformat_minor": 5
}
