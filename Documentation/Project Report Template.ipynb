{
 "cells": [
  {
   "cell_type": "raw",
   "id": "33dd6c4c",
   "metadata": {},
   "source": [
    "---\n",
    "title: \"Project Report\"\n",
    "subtitle: Team name\n",
    "author: Author 1, Author 2, Author 3, and Author 4 \n",
    "date: 05/23/2023\n",
    "number-sections: true\n",
    "abstract: _The ABSTRACT is to be in fully-justified italicized text at the top of the report, below the author information. The abstract section must summarise the problem statement, the developed model(s), the metric(s) optimized and the recommendations to the stakeholders based on the model (if any). You may also briefly mention any major EDA-based insights that helped develop the model or directly translated into recommendations to the stakeholders. However, the abstract must not be more than 200 words in length_.\n",
    "format: \n",
    "  html:\n",
    "    toc: true\n",
    "    toc-title: Contents\n",
    "    self-contained: true\n",
    "    font-size: 100%\n",
    "    toc-depth: 4\n",
    "    mainfont: serif\n",
    "jupyter: python3\n",
    "---"
   ]
  },
  {
   "attachments": {},
   "cell_type": "markdown",
   "id": "aba5ee91",
   "metadata": {},
   "source": [
    "## Length of the report {-}\n",
    "The length of the report must be no more than 15 pages, when printed as PDF. However, there is no requirement on the minimum number of pages.\n",
    "\n",
    "You may put additional stuff as Appendix. You may refer to the Appendix in the main report to support your arguments. However, your appendix is unlikely to be checked while grading, unless the grader deems it necessary. The appendix and references will not be included in the page count, and there is no limit on the length of the appendix.\n",
    "\n",
    "**Delete this section from the report, when using this template.** "
   ]
  },
  {
   "attachments": {},
   "cell_type": "markdown",
   "id": "93d3d9ed",
   "metadata": {},
   "source": [
    "## Code should be put separately in the code template {-}\n",
    "Your report should be in a research-paper like style. If there is something that can only be explained by showing the code, then you may put it, otherwise do not put the code in the report. We will check your code in the code template. \n",
    "\n",
    "However, feel free to write code that prints output and then hide the code using the *yaml* setting as shown in an example below *(in the EDA section)*\n",
    "\n",
    "**Delete this section from the report, when using this template.** "
   ]
  },
  {
   "attachments": {},
   "cell_type": "markdown",
   "id": "0116f49b",
   "metadata": {},
   "source": [
    "## Background / Motivation\n",
    "\n",
    "What motivated you to work on this problem?\n",
    "\n",
    "Mention any background about the problem, if it is required to understand your analysis later on."
   ]
  },
  {
   "attachments": {},
   "cell_type": "markdown",
   "id": "84ff1421",
   "metadata": {},
   "source": [
    "## Problem statement \n",
    "\n",
    "Describe your problem statement. Articulate your objectives using absolutely no jargon. "
   ]
  },
  {
   "attachments": {},
   "cell_type": "markdown",
   "id": "798dabaa",
   "metadata": {},
   "source": [
    "- We aim to predict the income of individuals in 1994-1995. Our objective is to build a model that correctly classifies people as being rich (i.e. having annual income greater or equal to 50k, or 100k today adjusted for inflation) without aggressivley classifying everyone as 0s (annual income less than 50k)."
   ]
  },
  {
   "attachments": {},
   "cell_type": "markdown",
   "id": "38c7b95f",
   "metadata": {},
   "source": [
    "## Data sources\n",
    "What data did you use? Provide details about your data. Include links to data if you are using open-access data."
   ]
  },
  {
   "attachments": {},
   "cell_type": "markdown",
   "id": "c73c54e3",
   "metadata": {},
   "source": [
    "- https://archive.ics.uci.edu/ml/datasets/Census-Income+%28KDD%29\n",
    "- We retrieved Census-Income (KDD) Data Set from UCI Machine Learning Repositary. This data set contains weighted census data extracted from the 1994 and 1995 Current Population Surveys conducted by the U.S. Census Bureau."
   ]
  },
  {
   "attachments": {},
   "cell_type": "markdown",
   "id": "8c255035",
   "metadata": {},
   "source": [
    "## Stakeholders\n",
    "Who cares? If you are successful, what difference will it make to them?"
   ]
  },
  {
   "attachments": {},
   "cell_type": "markdown",
   "id": "9f377c0d",
   "metadata": {},
   "source": [
    "- **Economic policymakers** will be among our stakeholders, recognizing the valuable insights that history provides for shaping the future. By accurately classifying affluent and impoverished populations and identifying key predictors underlying wealth disparities, our model contributes to future economic policymaking. Specifically, it assists in pinpointing underlying societal inequalities and devising effective policies to address income gaps between various social classes prevalent in contemporary societies.\n",
    "- In the near future, when time machines or metaverse applications for time travel become available, another important group of stakeholders will emerge—**time travelers** aiming to maximize their chances of success by journeying back to either 1994 or 1995. Our model can play a significant role in guiding these individuals on their quest to accumulate wealth in the past."
   ]
  },
  {
   "attachments": {},
   "cell_type": "markdown",
   "id": "fe7ea9bb",
   "metadata": {},
   "source": [
    "## Data quality check / cleaning / preparation \n",
    "\n",
    "Show the distribution of the response here. Report the standard deviation and mean in case of a regression problem, and proportion of 0s and 1s in case of classification.\n",
    "\n",
    "For all other content, as mentioned below, just provide the highlights *(if any)* and put the details in the appendix.\n",
    "\n",
    "In a tabular form, show the distribution of values of each variable used in the analysis - for both categorical and continuous variables. Distribution of a categorical variable must include the number of missing values, the number of unique values, the frequency of all its levels. If a categorical variable has too many levels, you may just include the counts of the top 3-5 levels. \n",
    "\n",
    "Mention any useful insights you obtained from the data quality check that helped you develop the model or helped you realize the necessary data cleaning / preparation. Its ok if there were none.\n",
    "\n",
    "Were there any potentially incorrect values of variables that required cleaning? If yes, how did you clean them? Were there missing values? How did you handle them? Its ok if the data was already clean.\n",
    "\n",
    "Did you do any data wrangling or data preparation before the data was ready to use for model development? Did you create any new predictors from exisiting predictors? For example, if you have number of transactions and spend in a credit card dataset, you may create spend per transaction for predicting if a customer pays their credit card bill. Mention the steps at a broad level, you may put minor details in the appendix. Only mention the steps that ended up being useful towards developing your model(s)."
   ]
  },
  {
   "cell_type": "code",
   "execution_count": 22,
   "id": "6654a38b",
   "metadata": {},
   "outputs": [],
   "source": [
    "#| echo: false\n",
    "import pandas as pd\n",
    "import numpy as np\n",
    "import matplotlib.pyplot as plt\n",
    "import seaborn as sns\n",
    "df = pd.read_csv('../data/census-income.data', header=None)\n",
    "column_names=[\n",
    "    'age', 'class', 'ind_code_det', 'occ_code_det', 'education', 'wage_hr', 'enroll_edu', 'marital',\n",
    "    'ind_code_maj', 'occ_code_maj', 'race', 'hisp_origin', 'sex', 'lab_union', 'reason_unemp',\n",
    "    'emp_status', 'cap_gain', 'cap_loss', 'dividend', 'tax_filer_stat', 'prev_res_area', 'prev_res_state',\n",
    "    'fam_state', 'fam_state_sum', 'inst_weight', 'migr_change_msa', 'migr_change_reg', 'migr_move_msa', 'lived_1yr',\n",
    "    'migr_sunbelt', 'num_ppl_worked', 'fam_members_u18', 'birth_dad', 'birth_mom', 'birth_self', 'citizenship',\n",
    "    'employed_status', 'veteran_admin', 'veteran_benefit', 'weeks_worked', 'year', 'income']\n",
    "categorical_predictors = ['sex','occ_code_det','race','education']\n",
    "\n",
    "data = pd.read_csv('../census-income.data',header=None)\n",
    "data.columns=column_names\n",
    "data['income'] = data['income'].apply(lambda x: 1 if x == ' 50000+.' else 0)"
   ]
  },
  {
   "cell_type": "code",
   "execution_count": 25,
   "id": "136b3103",
   "metadata": {},
   "outputs": [],
   "source": [
    "#| echo: false\n",
    "target_count = data['income'].value_counts()\n",
    "target_count = pd.DataFrame({'Income': target_count.index,'Count': target_count.values})\n",
    "target_count = target_count.set_index('Income')\n",
    "target_count['Percentage'] = 100*target_count['Count']/target_count['Count'].sum()"
   ]
  },
  {
   "cell_type": "code",
   "execution_count": 26,
   "id": "2df100c5",
   "metadata": {
    "scrolled": false
   },
   "outputs": [
    {
     "data": {
      "text/html": [
       "<div>\n",
       "<style scoped>\n",
       "    .dataframe tbody tr th:only-of-type {\n",
       "        vertical-align: middle;\n",
       "    }\n",
       "\n",
       "    .dataframe tbody tr th {\n",
       "        vertical-align: top;\n",
       "    }\n",
       "\n",
       "    .dataframe thead th {\n",
       "        text-align: right;\n",
       "    }\n",
       "</style>\n",
       "<table border=\"1\" class=\"dataframe\">\n",
       "  <thead>\n",
       "    <tr style=\"text-align: right;\">\n",
       "      <th></th>\n",
       "      <th>Count</th>\n",
       "      <th>Percentage</th>\n",
       "    </tr>\n",
       "    <tr>\n",
       "      <th>Income</th>\n",
       "      <th></th>\n",
       "      <th></th>\n",
       "    </tr>\n",
       "  </thead>\n",
       "  <tbody>\n",
       "    <tr>\n",
       "      <th>0</th>\n",
       "      <td>187141</td>\n",
       "      <td>93.794199</td>\n",
       "    </tr>\n",
       "    <tr>\n",
       "      <th>1</th>\n",
       "      <td>12382</td>\n",
       "      <td>6.205801</td>\n",
       "    </tr>\n",
       "  </tbody>\n",
       "</table>\n",
       "</div>"
      ],
      "text/plain": [
       "         Count  Percentage\n",
       "Income                    \n",
       "0       187141   93.794199\n",
       "1        12382    6.205801"
      ]
     },
     "execution_count": 26,
     "metadata": {},
     "output_type": "execute_result"
    }
   ],
   "source": [
    "target_count"
   ]
  },
  {
   "cell_type": "code",
   "execution_count": null,
   "id": "6de15c47",
   "metadata": {},
   "outputs": [],
   "source": [
    "#other data prep..."
   ]
  },
  {
   "attachments": {},
   "cell_type": "markdown",
   "id": "fbb11c9b",
   "metadata": {},
   "source": [
    "## Exploratory data analysis"
   ]
  },
  {
   "attachments": {},
   "cell_type": "markdown",
   "id": "e4bd74a9",
   "metadata": {},
   "source": [
    "If there is any EDA that helped with model development, put it here. If EDA didn't help then mention that, and you may show your EDA effort *(if any)* in the appendix.\n",
    "\n",
    "List the insights (as bullet points), if any, you got from EDA  that ended up being useful towards developing your final model. \n",
    "\n",
    "If there are too many plots / tables, you may put them into appendix, and just mention the insights you got from them."
   ]
  },
  {
   "attachments": {},
   "cell_type": "markdown",
   "id": "d1f12d5d",
   "metadata": {},
   "source": [
    "Note that you can write code to publish the results of the code, but hide the code using the yaml setting `#|echo: false`. For example, the code below makes a plot, but the code itself is not published with Quarto in the report."
   ]
  },
  {
   "cell_type": "code",
   "execution_count": 17,
   "id": "fc77d1d7",
   "metadata": {},
   "outputs": [
    {
     "data": {
      "image/png": "[encoded data removed]",
      "text/plain": [
       "<Figure size 720x720 with 4 Axes>"
      ]
     },
     "metadata": {
      "needs_background": "light"
     },
     "output_type": "display_data"
    }
   ],
   "source": [
    "#| echo: false\n",
    "n_rows = 2\n",
    "n_cols = 2\n",
    "fig, axs = plt.subplots(n_rows, n_cols, figsize=(10, 10))\n",
    "\n",
    "for i, predictor in enumerate(categorical_predictors):\n",
    "    ax = axs[i // n_cols, i % n_cols]\n",
    "    grouped_data = data.groupby([predictor, 'income'])['income'].count().unstack()\n",
    "    totals = grouped_data.sum(axis=1)\n",
    "    percent_data = grouped_data.div(totals, axis=0) * 100\n",
    "    sorted_percent_data = percent_data.sort_values(by=1, ascending=True)  # Sort by the value 1 (orange portion)\n",
    "    sorted_percent_data.plot.bar(stacked=True, ax=ax)\n",
    "    ax.set_xlabel('')\n",
    "    ax.set_ylabel('Income (%)')\n",
    "    ax.set_title(predictor)\n",
    "    ax.legend(title='Income', loc='upper right', bbox_to_anchor=(1.05, 1))\n",
    "    ax.tick_params(axis='both')\n",
    "plt.show()"
   ]
  },
  {
   "cell_type": "code",
   "execution_count": 20,
   "id": "5b998ffc",
   "metadata": {},
   "outputs": [
    {
     "data": {
      "image/png": "[encoded data removed]",
      "text/plain": [
       "<Figure size 864x720 with 6 Axes>"
      ]
     },
     "metadata": {
      "needs_background": "light"
     },
     "output_type": "display_data"
    }
   ],
   "source": [
    "#| echo: false\n",
    "from matplotlib.lines import Line2D\n",
    "continuous_predictors = ['age','wage_hr','cap_gain', 'cap_loss','num_ppl_worked', 'weeks_worked']\n",
    "\n",
    "n_rows = 3\n",
    "n_cols = 3\n",
    "fig, axs = plt.subplots(n_rows, n_cols, figsize=(12, 10))\n",
    "\n",
    "for j, predictor in enumerate(continuous_predictors):\n",
    "    ax = axs[j // n_cols, j % n_cols]\n",
    "    sns.kdeplot(data=data, x=predictor, hue='income', ax=ax, fill=True, common_norm=False)\n",
    "    ax.set_xlabel(predictor)\n",
    "    ax.set_ylabel('Density')\n",
    "    legend_entries = []\n",
    "    for income_value in data['income'].unique():\n",
    "        legend_entry = Line2D([0],[0], color=sns.color_palette()[income_value], lw=2, label=income_value)\n",
    "        legend_entries.append(legend_entry)\n",
    "    ax.legend(handles=legend_entries, title='Income', loc='upper right')\n",
    "for i in range(len(continuous_predictors), n_rows * n_cols):\n",
    "    if isinstance(axs, np.ndarray):\n",
    "        fig.delaxes(axs.flatten()[i])\n",
    "    else:\n",
    "        fig.delaxes(axs[i // n_cols, i % n_cols])\n",
    "fig.tight_layout()\n",
    "plt.show()"
   ]
  },
  {
   "attachments": {},
   "cell_type": "markdown",
   "id": "3b57720b",
   "metadata": {},
   "source": [
    "Insights from categorical variables:\n",
    "- Male are on average richer compared to female\n",
    "- There are racial disparities in income distribution\n",
    "- The higher the educational level, the higher the annual income\n",
    "- some industries are much more lucrative than others\n",
    "\n",
    "Insights from continuous variables:\n",
    "- age matters and the middle-aged population seems to be more productive and thus are more rich.\n",
    "- financial investments might play a role, but both rich and poor people engage in investments. Need further investigation on this predictor.\n",
    "- the more weeks you work, the more income you tend to get"
   ]
  },
  {
   "attachments": {},
   "cell_type": "markdown",
   "id": "d39c782c",
   "metadata": {},
   "source": [
    "## Approach\n",
    "\n",
    "What kind of a models did you use? What performance metric(s) did you optimize and why?\n",
    "\n",
    "Is there anything unorthodox / new in your approach? \n",
    "\n",
    "What problems did you anticipate? What problems did you encounter? \n",
    "\n",
    "Did your problem already have solution(s) (posted on Kaggle or elsewhere). If yes, then how did you build upon those solutions, what did you do differently? Is your model better as compared to those solutions in terms of prediction accuracy or your chosen metric?\n",
    "\n",
    "**Important: Mention any code repositories (with citations) or other sources that you used, and specifically what changes you made to them for your project.**"
   ]
  },
  {
   "attachments": {},
   "cell_type": "markdown",
   "id": "acab331a",
   "metadata": {},
   "source": [
    "## Developing the model: Hyperparameter tuning"
   ]
  },
  {
   "attachments": {},
   "cell_type": "markdown",
   "id": "ae5ec4c9",
   "metadata": {},
   "source": [
    "Every person must describe their hyperparameter tuning procedure. Show the grid of hyperparameter values over which the initial search was done *(you may paste your grid search / random search / any other search code)*, and the optimal hyperparameter values obtained. After getting the initial search results, how did you make decisions *(if any)* to further fine-tune your model. Did you do another grid / random search or did you tune hyperparameters sequentially? If you think you didn't need any fine tuning after the initial results, then mention that and explain why.\n",
    "\n",
    "Put each model in a section of its name and mention the name of the team-member tuning the model. Below is an example:"
   ]
  },
  {
   "attachments": {},
   "cell_type": "markdown",
   "id": "ea422beb",
   "metadata": {},
   "source": [
    "### MARS\n",
    "*By Joseph Prette*"
   ]
  },
  {
   "attachments": {},
   "cell_type": "markdown",
   "id": "b78fbd0e",
   "metadata": {},
   "source": [
    "### Decision Trees with CCP & Random Forest\n",
    "*By Chanel Sun*"
   ]
  },
  {
   "attachments": {},
   "cell_type": "markdown",
   "id": "827f1566",
   "metadata": {},
   "source": [
    "Both the training set and test set exhibit severe data imbalance in the target variable \">50K.\" In the training set, there are 187,141 instances where the target is 0 and only 12,382 instances where the target is 1. Since tree-based models lack built-in mechanisms to handle imbalanced data, I employed the resample function from the sklearn library to randomly sample 8% of the data where the target variable is 0. I then combined this sampled data with the existing data that already had a target variable of 0. This approach helps to address the data imbalance and ensure a more representative training dataset for the tree-based models."
   ]
  },
  {
   "cell_type": "code",
   "execution_count": null,
   "id": "1c1e42fc",
   "metadata": {},
   "outputs": [],
   "source": [
    "# balance training data\n",
    "from sklearn.utils import resample\n",
    "train_0 = train[train['>50K'] == 0]\n",
    "train_1 = train[train['>50K'] == 1]\n",
    "sampled_train_0 = resample(train_0, n_samples=int(0.08 * len(train_0)), random_state=1)\n",
    "train = pd.concat([sampled_train_0, train_1])"
   ]
  },
  {
   "attachments": {},
   "cell_type": "markdown",
   "id": "bcdc81e2",
   "metadata": {},
   "source": [
    "For feature engineering, I applied one-hot encoding to the categorical features and removed quasi-constant features that had 99% of the same value. These features tend to provide minimal useful information and can hinder the model's ability to generalize well. By eliminating them, I aimed to prevent overfitting, reduce model complexity, and improve computational efficiency. 284 features were removed from the dataset, while 189 features were retained for further analysis."
   ]
  },
  {
   "attachments": {},
   "cell_type": "markdown",
   "id": "8b5f8939",
   "metadata": {},
   "source": [
    "Next, I employed a decision tree model in two different ways. Next, I utilized a decision tree model in two different ways to address the issue of overfitting. Initially, I focused on tuning the hyperparameters, which included the number of leaf nodes, features, and depth of the tree. To identify the optimal parameter values, I performed two rounds of randomized search cross-validation. The decision tree model demonstrated promising performance on the training data, achieving an accuracy of 92.7% and a recall of 92.3%. However, the model did not generalize well to testing data, achieving an accuracy of 85.5% and a recall of 84.7% after threshold tuning. I tried including more hyperparameters like min_sample_splits after the initial grid search but that wasn’t able to resolve the issue. "
   ]
  },
  {
   "cell_type": "code",
   "execution_count": null,
   "id": "15f46180",
   "metadata": {},
   "outputs": [],
   "source": [
    "# Course Grid \n",
    "param_grid = {    \n",
    "    'max_depth': range(5,51,5),\n",
    "    'max_leaf_nodes': range(5,3400,100),\n",
    "    'max_features': range(10, 180, 10)\n",
    "}\n",
    "#  {'max_leaf_nodes': 905, 'max_features': 170, 'max_depth': 40}\n",
    "#Finer Grid \n",
    "param_grid = {    \n",
    "    'max_depth': range(38, 45,2),\n",
    "    'max_leaf_nodes': range(900,910,2),\n",
    "    'max_features': range(165, 175, 2)\n",
    "}\n",
    "# {'max_leaf_nodes': 908, 'max_features': 167, 'max_depth': 38}"
   ]
  },
  {
   "attachments": {},
   "cell_type": "markdown",
   "id": "6f7a23a5",
   "metadata": {},
   "source": [
    "To mitigate the overfitting issue, I decided to experiment with cost-complexity pruning (ccp) tuning. By adjusting the ccp parameter, I aimed to find the optimal trade-off between model complexity and performance. However, the model's generalization ability did not significantly improve. The model still suffers from a trade-off between variance and bias. On one hand, the decision tree model with ccp achieved a relatively lower training accuracy of 88.3% and a recall of 87.3%, indicating a reduction in overfitting but a higher bias compared to the initial model. On the other hand, the test accuracy of 86.4% and recall of 85% indicate that the model's ability to generalize to new data is still limited. This suggests that the model may not capture the underlying patterns and relationships in the data effectively. I tried decreasing the ccp value to reduce bias but the outcome was still not satisfactory. "
   ]
  },
  {
   "attachments": {},
   "cell_type": "markdown",
   "id": "99750132",
   "metadata": {},
   "source": [
    "To further enhance the model's generalization ability and mitigate both variance and bias, I implemented random forests, again, through two rounds of randomized search cross-validation. I first removed the features with an importance less than 0.001. I tuned max_depth, max_leaf_nodes, max_features, and max_samples. I decreased n_estimators in finer grid search to reduce overfitting.  The model improved slightly in terms of both test and train accuracy, achieving 92.1% accuracy and 91.6% recall on training set and 87.8% accuracy and 85.9% recall on testing set. "
   ]
  },
  {
   "cell_type": "code",
   "execution_count": null,
   "id": "dba77fdc",
   "metadata": {},
   "outputs": [],
   "source": [
    "#Course Grid\n",
    "parameters = {'max_depth': range(5,51,5),\n",
    "              'max_leaf_nodes': range(5,3400,100),\n",
    "              'max_features': range(10, 180, 10), \n",
    "              'n_estimators': range(100, 501, 100),\n",
    "             'max_samples':[0.25,0.5,0.75]}\n",
    "# {'n_estimators': 400, 'max_samples': 0.5, 'max_leaf_nodes': 3205, 'max_features': 10, 'max_depth': 20}\n",
    "# Finer Grid using n_estimators = 300\n",
    "parameters = {'max_depth':range(18,23),\n",
    "              'max_leaf_nodes':range(3200,3209,3),\n",
    "              'max_features':range(8,12), \n",
    "             'max_samples':[0.45, 0.5, 0.55]}\n",
    "# {'max_samples': 0.55, 'max_leaf_nodes': 3203, 'max_features': 8, 'max_depth': 19}"
   ]
  },
  {
   "attachments": {},
   "cell_type": "markdown",
   "id": "2916849c",
   "metadata": {},
   "source": [
    "### AdaBoost\n",
    "*By Jackson Bremen*"
   ]
  },
  {
   "attachments": {},
   "cell_type": "markdown",
   "id": "37f552ef",
   "metadata": {},
   "source": [
    "### XGBoost\n",
    "*By Lucy Han*"
   ]
  },
  {
   "attachments": {},
   "cell_type": "markdown",
   "id": "a7cd6a18",
   "metadata": {},
   "source": [
    "- Before hyperparameter tuning, I developed a naive model used to compare performance before and after hyperparameter tuning."
   ]
  },
  {
   "cell_type": "code",
   "execution_count": null,
   "id": "94642a74",
   "metadata": {},
   "outputs": [],
   "source": [
    "#First grid for RandomizedSearchCV\n",
    "param_grid = {'max_depth': [4,6,8],\n",
    "              'learning_rate': [0.001,0.01],\n",
    "              'reg_lambda': [1,10,100],\n",
    "              'n_estimators': [100],\n",
    "              'gamma': [1,10,100],\n",
    "              'subsample': [0.5,0.7,1],\n",
    "              'colsample_bytree':[1],\n",
    "              'scale_pos_weight': [15]}\n",
    "Optimal parameter values = {'subsample': 1, 'scale_pos_weight': 15, 'reg_lambda': 10, 'n_estimators': 100, 'max_depth': 8, 'learning_rate': 0.01, 'gamma': 1, 'colsample_bytree': 1}"
   ]
  },
  {
   "attachments": {},
   "cell_type": "markdown",
   "id": "e950731b",
   "metadata": {},
   "source": [
    "- After getting the initial search results, I discovered that although the model returned decent results on the training dataset, it did poorly on the testing set, especially on recall. This is because the model is aggressively classifying most samples as 0s. Although the recall is much higher than the initial base model with the hyperparameter scale_pos_weight used to treat imbalanced data, more hyperparameters need to be tuned to achieve desirable results.\n",
    "    - scale_pos_weight = (y_train.shape[0]-y_train.sum())/y_train.sum()\n",
    "- I performed a finer grid search and decided to increase n_estimators since last model is underfitting. Then, I reduced parameter grid range to reduce running time. \n",
    "- I later tuned the decision threshold that optimizes training and testing performances."
   ]
  },
  {
   "cell_type": "code",
   "execution_count": null,
   "id": "606100fb",
   "metadata": {},
   "outputs": [],
   "source": [
    "#Second grid for RandomizedSearchCV\n",
    "param_grid = {'max_depth': [8],\n",
    "              'learning_rate': [0.01,0.1],\n",
    "              'reg_lambda': [1,10],\n",
    "              'n_estimators': [500,800,1000],\n",
    "              'gamma': [1,10],\n",
    "              'subsample': [0.5],\n",
    "              'colsample_bytree':[0.5],\n",
    "              'scale_pos_weight': [15]}\n",
    "Optimal parameter values = {'subsample': 0.5, 'scale_pos_weight': 15, 'reg_lambda': 10, 'n_estimators': 1000, 'max_depth': 8, 'learning_rate': 0.01, 'gamma': 10, 'colsample_bytree': 0.5}"
   ]
  },
  {
   "attachments": {},
   "cell_type": "markdown",
   "id": "bcfdbd20",
   "metadata": {},
   "source": [
    "- Without heavy data preparation and feature selection, XGBoost is able to achieve a great result that balances bias and variance, achieving much higher recall than the base model (using logistic regression) and naive model (using XGBoost without hyperparameter tuning)."
   ]
  },
  {
   "attachments": {},
   "cell_type": "markdown",
   "id": "be2594f1",
   "metadata": {},
   "source": [
    "## Model Ensemble "
   ]
  },
  {
   "attachments": {},
   "cell_type": "markdown",
   "id": "fa68b0a5",
   "metadata": {},
   "source": [
    "Put the results of enembling individual models. Feel free to add subsections in this section to add more innovative ensembling methods."
   ]
  },
  {
   "attachments": {},
   "cell_type": "markdown",
   "id": "66c5924a",
   "metadata": {},
   "source": [
    "### Voting ensemble"
   ]
  },
  {
   "attachments": {},
   "cell_type": "markdown",
   "id": "78a31cb2",
   "metadata": {},
   "source": [
    "The simplest voting ensemble will be the model where all models have equal weights.\n",
    "\n",
    "You may come up with innovative methods of estimating weights of the individual models, such as based on their cross-val error. Sometimes, these methods may work better than stacking ensembles, as stacking ensembles tend to overfit."
   ]
  },
  {
   "attachments": {},
   "cell_type": "markdown",
   "id": "bcff4cda",
   "metadata": {},
   "source": [
    "### Stacking ensemble\n",
    "Try out different models as the metamodel. You may split work as follows. The person who worked on certain types of models *(say AdaBoost and MARS)* also uses those models as a metamodel in the stacking ensemble."
   ]
  },
  {
   "attachments": {},
   "cell_type": "markdown",
   "id": "2b22a5f3",
   "metadata": {},
   "source": [
    "### Ensemble of ensembled models\n",
    "\n",
    "If you are creating multiple stacking ensembles *(based on different metamodels)*, you may ensemble them."
   ]
  },
  {
   "attachments": {},
   "cell_type": "markdown",
   "id": "36fe5f5f",
   "metadata": {},
   "source": [
    "### Innovative ensembling methods\n",
    "*(Optional)*\n",
    "\n",
    "Some models may do better on certain subsets of the predictor space. You may find that out, and given a data point, choose the model(s) that will best predict for that data point. This is similar to the idea of developing a decision tree metamodel. However, decision tree is prone to overfitting.\n",
    "\n",
    "Another idea may be to correct the individual models with the intercept and slope *(note the tree-based models don't have an intercept and may suffer from a constant bias)*, and then ensemble them. This is equivalent to having a simple linear regression meta-model for each of the individual models, and then ensembling the meta-models with a meta-metamodel or a voting ensemble."
   ]
  },
  {
   "attachments": {},
   "cell_type": "markdown",
   "id": "1b46343d",
   "metadata": {},
   "source": [
    "## Limitations of the model with regard to prediction"
   ]
  },
  {
   "attachments": {},
   "cell_type": "markdown",
   "id": "c85ead90",
   "metadata": {},
   "source": [
    "Are you confident that you found the optimal hyperparameter values for each of your individual models, and that your individual models cannot be better tuned? Or, are there any models that could be better tuned if you had more time / resources, but you are limited by the amount of time you can spend on the course project *(equivalent to one assignment)*? If yes, then which models could be better tuned and how?\n",
    "\n",
    "Will it be possible / convenient / expensive for the stakeholders to collect the data relating to the predictors in the model. Using your model, how soon will the stakeholder be able to predict the outcome before the outcome occurs. For example, if the model predicts the number of bikes people will rent in Evanston on a certain day, then how many days before that day will your model be able to make the prediction. This will depend on how soon the data that your model uses becomes available. If you are predicting election results, how many days / weeks / months / years before the election can you predict the results. \n",
    "\n",
    "When will your model become too obsolete to be useful?"
   ]
  },
  {
   "attachments": {},
   "cell_type": "markdown",
   "id": "f6026cb7",
   "metadata": {},
   "source": [
    "## Other sections *(optional)*\n",
    "\n",
    "You are welcome to introduce additional sections or subsections, if required, to address any specific aspects of your project in detail. For example, you may briefly discuss potential future work that the research community could focus on to make further progress in the direction of your project's topic."
   ]
  },
  {
   "attachments": {},
   "cell_type": "markdown",
   "id": "62a185cb",
   "metadata": {},
   "source": [
    "## Conclusions and Recommendations to stakeholder(s)\n",
    "\n",
    "What conclusions do you draw based on your model? You may draw conclusions based on prediction accuracy, or other performance metrics.\n",
    "\n",
    "How do you use those conclusions to come up with meaningful recommendations for stakeholders? The recommendations must be action-items for stakeholders that they can directly implement without any further analysis. Be as precise as possible. The stakeholder(s) are depending on you to come up with practically implementable recommendations, instead of having to think for themselves.\n",
    "\n",
    "If your recommendations are not practically implementable by stakeholders, how will they help them? Is there some additional data / analysis / domain expertise you need to do to make the recommendations implementable? \n",
    "\n",
    "Do the stakeholder(s) need to be aware about some limitations of your model? Is your model only good for one-time use, or is it possible to update your model at a certain frequency (based on recent data) to keep using it in the future? If it can be used in the future, then for how far into the future?"
   ]
  },
  {
   "attachments": {},
   "cell_type": "markdown",
   "id": "0ca45613",
   "metadata": {},
   "source": [
    "Add details of each team member's contribution, other than the models contributed, in the table below."
   ]
  },
  {
   "attachments": {},
   "cell_type": "markdown",
   "id": "5505da5c",
   "metadata": {},
   "source": [
    "<html>\n",
    "<style>\n",
    "table, td, th {\n",
    "  border: 1px solid black;\n",
    "}\n",
    "\n",
    "table {\n",
    "  border-collapse: collapse;\n",
    "  width: 100%;\n",
    "}\n",
    "\n",
    "th {\n",
    "  text-align: left;\n",
    "}\n",
    "    \n",
    "\n",
    "</style>\n",
    "<body>\n",
    "\n",
    "<h2>Individual contribution</h2>\n",
    "\n",
    "<table style=\"width:100%\">\n",
    "     <colgroup>\n",
    "       <col span=\"1\" style=\"width: 15%;\">\n",
    "       <col span=\"1\" style=\"width: 20%;\">\n",
    "       <col span=\"1\" style=\"width: 25%;\">\n",
    "       <col span=\"1\" style=\"width: 40%;\">\n",
    "    </colgroup>\n",
    "  <tr>\n",
    "    <th>Team member</th>\n",
    "    <th>Individual Model</th>\n",
    "    <th>Work other than individual model</th>    \n",
    "    <th>Details of work other than individual model</th>\n",
    "  </tr>\n",
    "  <tr>\n",
    "    <td>Joseph Prette</td>\n",
    "    <td>MARS</td>\n",
    "    <td>123</td>    \n",
    "    <td>123</td>\n",
    "  </tr>\n",
    "  <tr>\n",
    "    <td>Chanel Sun</td>\n",
    "    <td>Decision Tree with CCP & Random Forest</td>\n",
    "    <td>Data Balancing  & Feature Engineering</td>    \n",
    "    <td>Resampled data with target variable = 0; removed quasi-constant features with 99% of the same value</td>\n",
    "  </tr>\n",
    "    <tr>\n",
    "    <td>Jackson Bremen</td>\n",
    "    <td>AdaBoost</td>\n",
    "    <td>123</td>    \n",
    "    <td>123</td>\n",
    "  </tr>\n",
    "    <tr>\n",
    "    <td>Lucy Han</td>\n",
    "    <td>XGBoost</td>\n",
    "    <td>Data cleaning & EDA</td>    \n",
    "    <td>Cleaned and removed predictors with over 50% missing values; visualized predictor distribution against response for both categorical & continuous predictors</td> \n",
    "  </tr>\n",
    "</table>"
   ]
  },
  {
   "attachments": {},
   "cell_type": "markdown",
   "id": "00b1cafe",
   "metadata": {},
   "source": [
    "## References {-}"
   ]
  },
  {
   "attachments": {},
   "cell_type": "markdown",
   "id": "ebdb1aad",
   "metadata": {},
   "source": [
    "List and number all bibliographical references. When referenced in the text, enclose the citation number in square brackets, for example [1].\n",
    "\n",
    "[1] Authors. The frobnicatable foo filter, 2014. Face and Gesture submission ID 324. Supplied as additional material\n",
    "fg324.pdf. 3\n"
   ]
  },
  {
   "attachments": {},
   "cell_type": "markdown",
   "id": "5831751c",
   "metadata": {},
   "source": [
    "## Appendix {-}"
   ]
  },
  {
   "attachments": {},
   "cell_type": "markdown",
   "id": "d13d374d",
   "metadata": {},
   "source": [
    "You may put additional stuff here as Appendix. You may refer to the Appendix in the main report to support your arguments. However, the appendix section is unlikely to be checked while grading, unless the grader deems it necessary."
   ]
  }
 ],
 "metadata": {
  "kernelspec": {
   "display_name": "Python 3 (ipykernel)",
   "language": "python",
   "name": "python3"
  },
  "language_info": {
   "codemirror_mode": {
    "name": "ipython",
    "version": 3
   },
   "file_extension": ".py",
   "mimetype": "text/x-python",
   "name": "python",
   "nbconvert_exporter": "python",
   "pygments_lexer": "ipython3",
   "version": "3.9.12"
  }
 },
 "nbformat": 4,
 "nbformat_minor": 5
}
